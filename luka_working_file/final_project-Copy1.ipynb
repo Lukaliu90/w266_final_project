{
 "cells": [
  {
   "cell_type": "markdown",
   "id": "d5515337-7309-4590-bfcd-85fc829e061c",
   "metadata": {},
   "source": []
  },
  {
   "cell_type": "markdown",
   "id": "0e618b09",
   "metadata": {},
   "source": [
    "# Testing out Centrum model\n",
    "\n",
    "- This notebook tests out the performance of the Multi-Document Summarization with Centroid-Based Pretraining [2022]\n",
    "- Remarks: Centrum model\n",
    "- Link: https://arxiv.org/abs/2208.01006 \n"
   ]
  },
  {
   "cell_type": "markdown",
   "id": "70acb47d",
   "metadata": {
    "tags": []
   },
   "source": [
    "## Test pipeline"
   ]
  },
  {
   "cell_type": "code",
   "execution_count": 9,
   "id": "baca8554-865d-4eb7-89b8-5666f9ffa51c",
   "metadata": {},
   "outputs": [],
   "source": [
    "from transformers import pipeline"
   ]
  },
  {
   "cell_type": "code",
   "execution_count": 10,
   "id": "3be234b6-967b-4231-b311-ee0783f6cd83",
   "metadata": {},
   "outputs": [
    {
     "data": {
      "text/plain": [
       "[{'generated_text': 'The unemployment rate fell to 8.2 percent, the lowest since January 2009. The official unemployment tally only includes those seeking work. Here at MarketBeat HQ, we’ll be offering color commentary before and after the data crosses the wires. Feel free to weigh-in yourself, via the comments section. And while you�”re here, why don�t you sign up'}]"
      ]
     },
     "execution_count": 10,
     "metadata": {},
     "output_type": "execute_result"
    }
   ],
   "source": [
    "summarizer = pipeline(\"text2text-generation\", model=\"ratishsp/Centrum\", max_length=80, no_repeat_ngram_size = 2)\n",
    "summarizer(\n",
    "    \"\"\"National Archives \\n \\n Yes, it’s that time again, folks. It’s the first Friday of the month, when for one ever-so-brief moment the interests of Wall Street, Washington and Main Street are all aligned on one thing: Jobs. \\n \\n A fresh update on the U.S. employment situation for January hits the wires at 8:30 a.m. New York time offering one of the most important snapshots on how the economy fared during the previous month. Expectations are for 203,000 new jobs to be created, according to economists polled by Dow Jones Newswires, compared to 227,000 jobs added in February. The unemployment rate is expected to hold steady at 8.3%. \\n \\n Here at MarketBeat HQ, we’ll be offering color commentary before and after the data crosses the wires. Feel free to weigh-in yourself, via the comments section. And while you’re here, why don’t you sign up to follow us on Twitter. \\n \\n Enjoy the show. ||||| Employers pulled back sharply on hiring last month, a reminder that the U.S. economy may not be growing fast enough to sustain robust job growth. The unemployment rate dipped, but mostly because more Americans stopped looking for work. \\n \\n The Labor Department says the economy added 120,000 jobs in March, down from more than 200,000 in each of the previous three months. \\n \\n The unemployment rate fell to 8.2 percent, the lowest since January 2009. The rate dropped because fewer people searched for jobs. The official unemployment tally only includes those seeking work. \\n \\n The economy has added 858,000 jobs since December _ the best four months of hiring in two years. But Federal Reserve Chairman Ben Bernanke has cautioned that the current hiring pace is unlikely to continue without more consumer spending.\n",
    "\"\"\"\n",
    ")"
   ]
  },
  {
   "cell_type": "code",
   "execution_count": 11,
   "id": "5e06ea81-137e-4065-979a-4d01495ef1d6",
   "metadata": {},
   "outputs": [],
   "source": [
    "from transformers import AutoTokenizer\n",
    "\n",
    "checkpoint = \"ratishsp/Centrum\"\n",
    "tokenizer = AutoTokenizer.from_pretrained(checkpoint)"
   ]
  },
  {
   "cell_type": "code",
   "execution_count": 12,
   "id": "9e31be34-f113-4b2d-a2e8-cee249e4d064",
   "metadata": {},
   "outputs": [
    {
     "name": "stdout",
     "output_type": "stream",
     "text": [
      "{'input_ids': tensor([[    0, 18285, 26844,  1437, 50118,  1437, 50118,  3216,     6,    24,\n",
      "            17,    27,    29,    14,    86,   456,     6,  5450,     4,    85,\n",
      "            17,    27,    29,     5,    78,   273,     9,     5,   353,     6,\n",
      "            77,    13,    65,   655,    12,  2527,    12,   428, 24062,  1151,\n",
      "             5,  3168,     9,  2298,   852,     6,   663,     8,  4326,   852,\n",
      "            32,    70, 14485,    15,    65,   631,    35, 13499,     4,  1437,\n",
      "         50118,  1437, 50118,    83,  2310,  2935,    15,     5,   121,     4,\n",
      "           104,     4,  4042,  1068,    13,   644,  2323,     5, 22893,    23,\n",
      "           290,    35,   541,    10,     4,   119,     4,   188,   469,    86,\n",
      "          1839,    65,     9,     5,   144,   505, 40617,    15,   141,     5,\n",
      "           866, 24779,   148,     5,   986,   353,     4, 12809,  1635,    32,\n",
      "            13, 23041,     6,   151,    92,  1315,     7,    28,  1412,     6,\n",
      "           309,     7,  9019, 13829,    30,  4614,  1454,   188,  4184,  7948,\n",
      "             6,  1118,     7, 30398,     6,   151,  1315,   355,    11,   902,\n",
      "             4,    20,  5755,   731,    16,   421,     7,   946,  5204,    23,\n",
      "           290,     4,   246,  2153,  1437, 50118,  1437, 50118,  1398,    23,\n",
      "          1018,  5522, 21956,     6,    52,    17,    27,   890,    28,  1839,\n",
      "          3195,  9765,   137,     8,    71,     5,   414, 20238,     5, 22893,\n",
      "             4, 22079,   481,     7,  9832,    12,   179,  2512,     6,  1241,\n",
      "             5,  1450,  2810,     4,   178,   150,    47,    17,    27,   241,\n",
      "           259,     6,   596,   218,    17,    27,    90,    47,  1203,    62,\n",
      "             7,  1407,   201,    15,   599,     4,  1437, 50118,  1437, 50118,\n",
      "         16013,     5,   311,     4, 45056, 49085, 15483, 23564,   268,  2468,\n",
      "           124,  8104,    15,  5947,    94,   353,     6,    10,  8306,    14,\n",
      "             5,   121,     4,   104,     4,   866,   189,    45,    28,  1197,\n",
      "          1769,   615,     7,  9844,  6295,   633,   434,     4,    20,  5755,\n",
      "           731, 13809,     6,    53,  2260,   142,    55,  1791,  2294,   546,\n",
      "            13,   173,     4,  1437, 50118,  1437, 50118,    20,  6338,   641,\n",
      "           161,     5,   866,   355,  5962,     6,   151,  1315,    11,   494,\n",
      "             6,   159,    31,    55,    87,  1878,     6,   151,    11,   349,\n",
      "             9,     5,   986,   130,   377,     4,  1437, 50118,  1437, 50118,\n",
      "            20,  5755,   731,  1064,     7,   290,     4,   176,   135,     6,\n",
      "             5,  3912,   187,   644,  2338,     4,    20,   731,  1882,   142,\n",
      "          4163,    82, 10593,    13,  1315,     4,    20,   781,  5755, 11154,\n",
      "           129,  1171,   167,  1818,   173,     4,  1437, 50118,  1437, 50118,\n",
      "            20,   866,    34,   355,   290,  4432,     6,   151,  1315,   187,\n",
      "           719, 18134,     5,   275,   237,   377,     9,  5947,    11,    80,\n",
      "           107,     4,   125,  1853,  3965,  3356,  1664,  6552, 23578,    34,\n",
      "         13335,    14,     5,   595,  5947,  2877,    16,  3752,     7,   535,\n",
      "           396,    55,  2267,  1408,     4, 50118,  1437,  1437,  1437,  1437,\n",
      "             2]]), 'attention_mask': tensor([[1, 1, 1, 1, 1, 1, 1, 1, 1, 1, 1, 1, 1, 1, 1, 1, 1, 1, 1, 1, 1, 1, 1, 1,\n",
      "         1, 1, 1, 1, 1, 1, 1, 1, 1, 1, 1, 1, 1, 1, 1, 1, 1, 1, 1, 1, 1, 1, 1, 1,\n",
      "         1, 1, 1, 1, 1, 1, 1, 1, 1, 1, 1, 1, 1, 1, 1, 1, 1, 1, 1, 1, 1, 1, 1, 1,\n",
      "         1, 1, 1, 1, 1, 1, 1, 1, 1, 1, 1, 1, 1, 1, 1, 1, 1, 1, 1, 1, 1, 1, 1, 1,\n",
      "         1, 1, 1, 1, 1, 1, 1, 1, 1, 1, 1, 1, 1, 1, 1, 1, 1, 1, 1, 1, 1, 1, 1, 1,\n",
      "         1, 1, 1, 1, 1, 1, 1, 1, 1, 1, 1, 1, 1, 1, 1, 1, 1, 1, 1, 1, 1, 1, 1, 1,\n",
      "         1, 1, 1, 1, 1, 1, 1, 1, 1, 1, 1, 1, 1, 1, 1, 1, 1, 1, 1, 1, 1, 1, 1, 1,\n",
      "         1, 1, 1, 1, 1, 1, 1, 1, 1, 1, 1, 1, 1, 1, 1, 1, 1, 1, 1, 1, 1, 1, 1, 1,\n",
      "         1, 1, 1, 1, 1, 1, 1, 1, 1, 1, 1, 1, 1, 1, 1, 1, 1, 1, 1, 1, 1, 1, 1, 1,\n",
      "         1, 1, 1, 1, 1, 1, 1, 1, 1, 1, 1, 1, 1, 1, 1, 1, 1, 1, 1, 1, 1, 1, 1, 1,\n",
      "         1, 1, 1, 1, 1, 1, 1, 1, 1, 1, 1, 1, 1, 1, 1, 1, 1, 1, 1, 1, 1, 1, 1, 1,\n",
      "         1, 1, 1, 1, 1, 1, 1, 1, 1, 1, 1, 1, 1, 1, 1, 1, 1, 1, 1, 1, 1, 1, 1, 1,\n",
      "         1, 1, 1, 1, 1, 1, 1, 1, 1, 1, 1, 1, 1, 1, 1, 1, 1, 1, 1, 1, 1, 1, 1, 1,\n",
      "         1, 1, 1, 1, 1, 1, 1, 1, 1, 1, 1, 1, 1, 1, 1, 1, 1, 1, 1, 1, 1, 1, 1, 1,\n",
      "         1, 1, 1, 1, 1, 1, 1, 1, 1, 1, 1, 1, 1, 1, 1, 1, 1, 1, 1, 1, 1, 1, 1, 1,\n",
      "         1, 1, 1, 1, 1, 1, 1, 1, 1, 1, 1, 1, 1, 1, 1, 1, 1, 1, 1, 1, 1, 1, 1, 1,\n",
      "         1, 1, 1, 1, 1, 1, 1, 1, 1, 1, 1, 1, 1, 1, 1, 1, 1]])}\n"
     ]
    }
   ],
   "source": [
    "raw_inputs = [\n",
    "    \"\"\"National Archives \\n \\n Yes, it’s that time again, folks. It’s the first Friday of the month, when for one ever-so-brief moment the interests of Wall Street, Washington and Main Street are all aligned on one thing: Jobs. \\n \\n A fresh update on the U.S. employment situation for January hits the wires at 8:30 a.m. New York time offering one of the most important snapshots on how the economy fared during the previous month. Expectations are for 203,000 new jobs to be created, according to economists polled by Dow Jones Newswires, compared to 227,000 jobs added in February. The unemployment rate is expected to hold steady at 8.3%. \\n \\n Here at MarketBeat HQ, we’ll be offering color commentary before and after the data crosses the wires. Feel free to weigh-in yourself, via the comments section. And while you’re here, why don’t you sign up to follow us on Twitter. \\n \\n Enjoy the show. ||||| Employers pulled back sharply on hiring last month, a reminder that the U.S. economy may not be growing fast enough to sustain robust job growth. The unemployment rate dipped, but mostly because more Americans stopped looking for work. \\n \\n The Labor Department says the economy added 120,000 jobs in March, down from more than 200,000 in each of the previous three months. \\n \\n The unemployment rate fell to 8.2 percent, the lowest since January 2009. The rate dropped because fewer people searched for jobs. The official unemployment tally only includes those seeking work. \\n \\n The economy has added 858,000 jobs since December _ the best four months of hiring in two years. But Federal Reserve Chairman Ben Bernanke has cautioned that the current hiring pace is unlikely to continue without more consumer spending.\n",
    "    \"\"\"\n",
    "]\n",
    "inputs = tokenizer(raw_inputs, padding=True, truncation=True, return_tensors=\"pt\")\n",
    "print(inputs)"
   ]
  },
  {
   "cell_type": "markdown",
   "id": "9d711b1f",
   "metadata": {
    "tags": []
   },
   "source": [
    "# Train centrum"
   ]
  },
  {
   "cell_type": "code",
   "execution_count": 1,
   "id": "bdf213e0",
   "metadata": {},
   "outputs": [
    {
     "ename": "NameError",
     "evalue": "name 'AutoTokenizer' is not defined",
     "output_type": "error",
     "traceback": [
      "\u001b[0;31m---------------------------------------------------------------------------\u001b[0m",
      "\u001b[0;31mNameError\u001b[0m                                 Traceback (most recent call last)",
      "Cell \u001b[0;32mIn[1], line 2\u001b[0m\n\u001b[1;32m      1\u001b[0m checkpoint \u001b[38;5;241m=\u001b[39m \u001b[38;5;124m\"\u001b[39m\u001b[38;5;124mratishsp/Centrum\u001b[39m\u001b[38;5;124m\"\u001b[39m\n\u001b[0;32m----> 2\u001b[0m tokenizer \u001b[38;5;241m=\u001b[39m \u001b[43mAutoTokenizer\u001b[49m\u001b[38;5;241m.\u001b[39mfrom_pretrained(checkpoint)\n\u001b[1;32m      3\u001b[0m model \u001b[38;5;241m=\u001b[39m AutoModelForSeq2SeqLM\u001b[38;5;241m.\u001b[39mfrom_pretrained(checkpoint)\n",
      "\u001b[0;31mNameError\u001b[0m: name 'AutoTokenizer' is not defined"
     ]
    }
   ],
   "source": [
    "checkpoint = \"ratishsp/Centrum\"\n",
    "tokenizer = AutoTokenizer.from_pretrained(checkpoint)\n",
    "model = AutoModelForSeq2SeqLM.from_pretrained(checkpoint)"
   ]
  },
  {
   "cell_type": "code",
   "execution_count": 18,
   "id": "6e97930d",
   "metadata": {},
   "outputs": [],
   "source": [
    "rouge_score = evaluate.load(\"rouge\")"
   ]
  },
  {
   "cell_type": "code",
   "execution_count": 19,
   "id": "1c536461",
   "metadata": {},
   "outputs": [],
   "source": [
    "sequences = dataset[\"train\"][\"document\"]\n",
    "batch = tokenizer(sequences, padding=True, truncation=True, return_tensors=\"pt\", max_length=128)"
   ]
  },
  {
   "cell_type": "code",
   "execution_count": 20,
   "id": "c62c2c23",
   "metadata": {},
   "outputs": [
    {
     "data": {
      "text/plain": [
       "\"– Howard Stern has nominated an interesting trio to complete the ice bucket challenge after him. Trouble is, one of them is dead, reports E! Online. In a bizarre video posted to YouTube yesterday, a bare-chested Stern plops an ice cube into a shot glass of water, then pours it over his head, immediately succumbing to mock shivers before hopping off camera. But first he challenges the very much alive Barbara Walters and Mark Consuelos, plus the quite dead Casey Kasem, to douse themselves with ice water next. Stern is aware of Kasem's death at age 82, E! notes, as he's discussed it on his radio show.\""
      ]
     },
     "execution_count": 20,
     "metadata": {},
     "output_type": "execute_result"
    }
   ],
   "source": [
    "dataset[\"train\"][\"summary\"][10]"
   ]
  },
  {
   "cell_type": "code",
   "execution_count": 4,
   "id": "f43763c6",
   "metadata": {},
   "outputs": [
    {
     "ename": "NameError",
     "evalue": "name 'model' is not defined",
     "output_type": "error",
     "traceback": [
      "\u001b[0;31m---------------------------------------------------------------------------\u001b[0m",
      "\u001b[0;31mNameError\u001b[0m                                 Traceback (most recent call last)",
      "Cell \u001b[0;32mIn[4], line 1\u001b[0m\n\u001b[0;32m----> 1\u001b[0m led_output \u001b[38;5;241m=\u001b[39m \u001b[43mmodel\u001b[49m(\u001b[38;5;241m*\u001b[39m\u001b[38;5;241m*\u001b[39mbatch)\n",
      "\u001b[0;31mNameError\u001b[0m: name 'model' is not defined"
     ]
    }
   ],
   "source": [
    "led_output = model(**batch)"
   ]
  },
  {
   "cell_type": "code",
   "execution_count": 5,
   "id": "fa99d275",
   "metadata": {},
   "outputs": [
    {
     "ename": "NameError",
     "evalue": "name 'led_output' is not defined",
     "output_type": "error",
     "traceback": [
      "\u001b[0;31m---------------------------------------------------------------------------\u001b[0m",
      "\u001b[0;31mNameError\u001b[0m                                 Traceback (most recent call last)",
      "Cell \u001b[0;32mIn[5], line 1\u001b[0m\n\u001b[0;32m----> 1\u001b[0m preds \u001b[38;5;241m=\u001b[39m F\u001b[38;5;241m.\u001b[39msoftmax(\u001b[43mled_output\u001b[49m[\u001b[38;5;124m\"\u001b[39m\u001b[38;5;124mlogits\u001b[39m\u001b[38;5;124m\"\u001b[39m], dim\u001b[38;5;241m=\u001b[39m\u001b[38;5;241m-\u001b[39m\u001b[38;5;241m1\u001b[39m)\u001b[38;5;241m.\u001b[39margmax(dim\u001b[38;5;241m=\u001b[39m\u001b[38;5;241m-\u001b[39m\u001b[38;5;241m1\u001b[39m)\n",
      "\u001b[0;31mNameError\u001b[0m: name 'led_output' is not defined"
     ]
    }
   ],
   "source": [
    "preds = F.softmax(led_output[\"logits\"], dim=-1).argmax(dim=-1)"
   ]
  },
  {
   "cell_type": "code",
   "execution_count": 6,
   "id": "c6cc7395",
   "metadata": {},
   "outputs": [
    {
     "ename": "NameError",
     "evalue": "name 'rouge_score' is not defined",
     "output_type": "error",
     "traceback": [
      "\u001b[0;31m---------------------------------------------------------------------------\u001b[0m",
      "\u001b[0;31mNameError\u001b[0m                                 Traceback (most recent call last)",
      "Cell \u001b[0;32mIn[6], line 1\u001b[0m\n\u001b[0;32m----> 1\u001b[0m scores \u001b[38;5;241m=\u001b[39m \u001b[43mrouge_score\u001b[49m\u001b[38;5;241m.\u001b[39mcompute(\n\u001b[1;32m      2\u001b[0m     predictions\u001b[38;5;241m=\u001b[39m[tokenizer\u001b[38;5;241m.\u001b[39mbatch_decode(preds)[\u001b[38;5;241m0\u001b[39m]], references\u001b[38;5;241m=\u001b[39m[sequences[\u001b[38;5;241m0\u001b[39m]]\n\u001b[1;32m      3\u001b[0m )\n\u001b[1;32m      4\u001b[0m scores\n",
      "\u001b[0;31mNameError\u001b[0m: name 'rouge_score' is not defined"
     ]
    }
   ],
   "source": [
    "scores = rouge_score.compute(\n",
    "    predictions=[tokenizer.batch_decode(preds)[0]], references=[sequences[0]]\n",
    ")\n",
    "scores"
   ]
  },
  {
   "cell_type": "code",
   "execution_count": 7,
   "id": "9e828996",
   "metadata": {},
   "outputs": [
    {
     "ename": "SyntaxError",
     "evalue": "invalid syntax (1423519242.py, line 2)",
     "output_type": "error",
     "traceback": [
      "\u001b[0;36m  Cell \u001b[0;32mIn[7], line 2\u001b[0;36m\u001b[0m\n\u001b[0;31m    predictions=[tokenizer.batch_decode(preds), references=[sequences]\u001b[0m\n\u001b[0m                                                          ^\u001b[0m\n\u001b[0;31mSyntaxError\u001b[0m\u001b[0;31m:\u001b[0m invalid syntax\n"
     ]
    }
   ],
   "source": [
    "scores = rouge_score.compute(\n",
    "    predictions=[tokenizer.batch_decode(preds), references=[sequences]\n",
    ")\n",
    "scores"
   ]
  }
 ],
 "metadata": {
  "kernelspec": {
   "display_name": "Python 3 (ipykernel)",
   "language": "python",
   "name": "python3"
  },
  "language_info": {
   "codemirror_mode": {
    "name": "ipython",
    "version": 3
   },
   "file_extension": ".py",
   "mimetype": "text/x-python",
   "name": "python",
   "nbconvert_exporter": "python",
   "pygments_lexer": "ipython3",
   "version": "3.8.16"
  }
 },
 "nbformat": 4,
 "nbformat_minor": 5
}
