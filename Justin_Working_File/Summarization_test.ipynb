{
 "cells": [
  {
   "cell_type": "markdown",
   "metadata": {
    "id": "e-k1jXQHLyFU"
   },
   "source": [
    "# W266 Final Project - Testing Out Longformer Model\n",
    "\n",
    "**Description:** \n",
    "\n",
    "- This notebook tests out the performance of the longformer model, presented in \"Longformer: The Long-Document Transformer\" by Iz Beltagy, Matthew E. Peters, Arman Cohan (https://arxiv.org/abs/2004.05150).\n",
    "- The model was pre-trained for MDS (multi-document summarization) in the PRIMERA model (vide \"PRIMERA: Pyramid-based Masked Sentence Pre-training for Multi-document Summarization\" at https://arxiv.org/abs/2110.08499)."
   ]
  },
  {
   "cell_type": "markdown",
   "metadata": {
    "id": "0QDMDB_KqT8m"
   },
   "source": [
    "## Setup"
   ]
  },
  {
   "cell_type": "code",
   "execution_count": 1,
   "metadata": {
    "colab": {
     "base_uri": "https://localhost:8080/"
    },
    "id": "KzQBFiaPnr4j",
    "outputId": "684ac0ea-aa87-49f3-d9cb-bc262564043e"
   },
   "outputs": [],
   "source": [
    "import evaluate\n",
    "from pprint import pprint\n",
    "\n",
    "## For printing out model summary in PyTorch\n",
    "from torchvision import models\n",
    "from torchsummary import summary\n",
    "\n",
    "## General plotting\n",
    "import matplotlib.pyplot as plt\n",
    "import pandas as pd\n",
    "import seaborn as sns\n",
    "\n",
    "## Managing memory\n",
    "import gc\n",
    "import pickle\n",
    "\n",
    "## Text processing\n",
    "import re\n",
    "import numpy as np\n",
    "from scipy import stats as st"
   ]
  },
  {
   "cell_type": "code",
   "execution_count": 2,
   "metadata": {},
   "outputs": [],
   "source": [
    "from datasets import load_dataset, load_metric"
   ]
  },
  {
   "cell_type": "code",
   "execution_count": 3,
   "metadata": {},
   "outputs": [
    {
     "name": "stdout",
     "output_type": "stream",
     "text": [
      "Using device: cuda\n",
      "\n"
     ]
    }
   ],
   "source": [
    "## Checking if GPU is available when running locally\n",
    "import torch\n",
    "device = torch.device('cuda' if torch.cuda.is_available() else 'cpu')\n",
    "print('Using device:', device)\n",
    "print()"
   ]
  },
  {
   "cell_type": "markdown",
   "metadata": {
    "id": "C9xudUadMrFA"
   },
   "source": [
    "## 1. Importing Longformer Model"
   ]
  },
  {
   "cell_type": "markdown",
   "metadata": {},
   "source": [
    "### 1.1 Preliminaries\n",
    "\n",
    "- Uses the HuggingFace model (https://huggingface.co/docs/transformers/model_doc/led).  This is the model with both encoder and decoder, and trained on summarization task using the arxiv dataset.\n",
    "- The encoder only version is at https://huggingface.co/docs/transformers/model_doc/longformer)."
   ]
  },
  {
   "cell_type": "code",
   "execution_count": 4,
   "metadata": {},
   "outputs": [],
   "source": [
    "## Importing model\n",
    "from transformers import LEDModel, LEDConfig, LEDTokenizer, AutoTokenizer, LEDForConditionalGeneration, EncoderDecoderModel"
   ]
  },
  {
   "cell_type": "code",
   "execution_count": 5,
   "metadata": {},
   "outputs": [],
   "source": [
    "## Loading check point\n",
    "\n",
    "LEDmodel = LEDForConditionalGeneration.from_pretrained(\"allenai/led-large-16384-arxiv\").to(\"cuda\").half()\n",
    "LEDtokenizer = AutoTokenizer.from_pretrained(\"allenai/led-large-16384-arxiv\")\n",
    "\n",
    "# LEDtokenizer2 = LEDTokenizer.from_pretrained(\"allenai/led-large-16384-arxiv\")\n",
    "\n",
    "# LEDmodel = LEDModel.from_pretrained(\"allenai/led-base-16384\")\n",
    "# LEDtokenizer = LEDTokenizer.from_pretrained(\"allenai/led-base-16384\")"
   ]
  },
  {
   "cell_type": "code",
   "execution_count": 6,
   "metadata": {},
   "outputs": [
    {
     "name": "stderr",
     "output_type": "stream",
     "text": [
      "C:\\Users\\JustinTo\\AppData\\Local\\Temp\\ipykernel_15872\\4286193646.py:2: FutureWarning: load_metric is deprecated and will be removed in the next major version of datasets. Use 'evaluate.load' instead, from the new library 🤗 Evaluate: https://huggingface.co/docs/evaluate\n",
      "  rouge = load_metric(\"rouge\")\n"
     ]
    }
   ],
   "source": [
    "## Loading rouge\n",
    "rouge = load_metric(\"rouge\")"
   ]
  },
  {
   "cell_type": "markdown",
   "metadata": {},
   "source": [
    "### 1.2 Model summary and config"
   ]
  },
  {
   "cell_type": "code",
   "execution_count": 7,
   "metadata": {},
   "outputs": [
    {
     "name": "stdout",
     "output_type": "stream",
     "text": [
      "===========================================================================\n",
      "Layer (type:depth-idx)                             Param #\n",
      "===========================================================================\n",
      "├─LEDModel: 1-1                                    --\n",
      "|    └─Embedding: 2-1                              51,471,360\n",
      "|    └─LEDEncoder: 2-2                             --\n",
      "|    |    └─Embedding: 3-1                         (recursive)\n",
      "|    |    └─LEDLearnedPositionalEmbedding: 3-2     16,777,216\n",
      "|    |    └─ModuleList: 3-3                        188,940,288\n",
      "|    |    └─LayerNorm: 3-4                         2,048\n",
      "|    └─LEDDecoder: 2-3                             --\n",
      "|    |    └─Embedding: 3-5                         (recursive)\n",
      "|    |    └─LEDLearnedPositionalEmbedding: 3-6     1,048,576\n",
      "|    |    └─ModuleList: 3-7                        201,560,064\n",
      "|    |    └─LayerNorm: 3-8                         2,048\n",
      "├─Linear: 1-2                                      51,471,360\n",
      "===========================================================================\n",
      "Total params: 511,272,960\n",
      "Trainable params: 511,272,960\n",
      "Non-trainable params: 0\n",
      "===========================================================================\n",
      "===========================================================================\n",
      "Layer (type:depth-idx)                             Param #\n",
      "===========================================================================\n",
      "├─LEDModel: 1-1                                    --\n",
      "|    └─Embedding: 2-1                              51,471,360\n",
      "|    └─LEDEncoder: 2-2                             --\n",
      "|    |    └─Embedding: 3-1                         (recursive)\n",
      "|    |    └─LEDLearnedPositionalEmbedding: 3-2     16,777,216\n",
      "|    |    └─ModuleList: 3-3                        188,940,288\n",
      "|    |    └─LayerNorm: 3-4                         2,048\n",
      "|    └─LEDDecoder: 2-3                             --\n",
      "|    |    └─Embedding: 3-5                         (recursive)\n",
      "|    |    └─LEDLearnedPositionalEmbedding: 3-6     1,048,576\n",
      "|    |    └─ModuleList: 3-7                        201,560,064\n",
      "|    |    └─LayerNorm: 3-8                         2,048\n",
      "├─Linear: 1-2                                      51,471,360\n",
      "===========================================================================\n",
      "Total params: 511,272,960\n",
      "Trainable params: 511,272,960\n",
      "Non-trainable params: 0\n",
      "===========================================================================\n"
     ]
    }
   ],
   "source": [
    "## Summary of model\n",
    "print(summary(LEDmodel))"
   ]
  },
  {
   "cell_type": "code",
   "execution_count": 180,
   "metadata": {
    "scrolled": true
   },
   "outputs": [
    {
     "data": {
      "text/plain": [
       "LEDConfig {\n",
       "  \"_name_or_path\": \"./\",\n",
       "  \"_num_labels\": 3,\n",
       "  \"activation_dropout\": 0.0,\n",
       "  \"activation_function\": \"gelu\",\n",
       "  \"architectures\": [\n",
       "    \"LEDForConditionalGeneration\"\n",
       "  ],\n",
       "  \"attention_dropout\": 0.0,\n",
       "  \"attention_window\": [\n",
       "    1024,\n",
       "    1024,\n",
       "    1024,\n",
       "    1024,\n",
       "    1024,\n",
       "    1024,\n",
       "    1024,\n",
       "    1024,\n",
       "    1024,\n",
       "    1024,\n",
       "    1024,\n",
       "    1024\n",
       "  ],\n",
       "  \"bos_token_id\": 0,\n",
       "  \"classif_dropout\": 0.0,\n",
       "  \"classifier_dropout\": 0.0,\n",
       "  \"d_model\": 1024,\n",
       "  \"decoder_attention_heads\": 16,\n",
       "  \"decoder_ffn_dim\": 4096,\n",
       "  \"decoder_layerdrop\": 0.0,\n",
       "  \"decoder_layers\": 12,\n",
       "  \"decoder_start_token_id\": 2,\n",
       "  \"dropout\": 0.1,\n",
       "  \"encoder_attention_heads\": 16,\n",
       "  \"encoder_ffn_dim\": 4096,\n",
       "  \"encoder_layerdrop\": 0.0,\n",
       "  \"encoder_layers\": 12,\n",
       "  \"eos_token_id\": 2,\n",
       "  \"gradient_checkpointing\": false,\n",
       "  \"id2label\": {\n",
       "    \"0\": \"LABEL_0\",\n",
       "    \"1\": \"LABEL_1\",\n",
       "    \"2\": \"LABEL_2\"\n",
       "  },\n",
       "  \"init_std\": 0.02,\n",
       "  \"is_encoder_decoder\": true,\n",
       "  \"label2id\": {\n",
       "    \"LABEL_0\": 0,\n",
       "    \"LABEL_1\": 1,\n",
       "    \"LABEL_2\": 2\n",
       "  },\n",
       "  \"max_decoder_position_embeddings\": 1024,\n",
       "  \"max_encoder_position_embeddings\": 16384,\n",
       "  \"max_length\": 512,\n",
       "  \"max_position_embeddings\": 1024,\n",
       "  \"model_type\": \"led\",\n",
       "  \"num_beams\": 4,\n",
       "  \"num_hidden_layers\": 12,\n",
       "  \"output_past\": false,\n",
       "  \"pad_token_id\": 1,\n",
       "  \"prefix\": \" \",\n",
       "  \"transformers_version\": \"4.24.0\",\n",
       "  \"use_cache\": true,\n",
       "  \"vocab_size\": 50265\n",
       "}"
      ]
     },
     "execution_count": 180,
     "metadata": {},
     "output_type": "execute_result"
    }
   ],
   "source": [
    "## Seeing the configuration options.\n",
    "\n",
    "config = LEDConfig.from_pretrained(\"allenai/led-large-16384-arxiv\")\n",
    "# config = LEDConfig.from_pretrained(\"allenai/led-base-16384\")\n",
    "config"
   ]
  },
  {
   "cell_type": "markdown",
   "metadata": {},
   "source": [
    "### 1.3 Tests using manual examples\n",
    "\n",
    "- To try out selected manually prepared examples, just to get a feel of how the model behaves."
   ]
  },
  {
   "cell_type": "markdown",
   "metadata": {},
   "source": [
    "#### 1.3.1 Example 1 - Sample text from Arxiv (from HuggingFace example)\n",
    "- Somehow, the model just extracts a sentence without much major change."
   ]
  },
  {
   "cell_type": "code",
   "execution_count": 68,
   "metadata": {},
   "outputs": [
    {
     "data": {
      "text/plain": [
       "[' we present a modified version of the transformer ( vaswani et al. \\n, 2017 ) architecture with a self-attention operation that scales linearly with the sequence length, making it versatile for processing long documents.']"
      ]
     },
     "execution_count": 68,
     "metadata": {},
     "output_type": "execute_result"
    }
   ],
   "source": [
    "ARTICLE_TO_SUMMARIZE = '''Transformers (Vaswani et al., 2017) have achieved state-of-the-art\n",
    "    results in a wide range of natural language tasks including generative language modeling\n",
    "    (Dai et al., 2019; Radford et al., 2019) and discriminative ... language understanding (Devlin et al., 2019).\n",
    "    This success is partly due to the self-attention component which enables the network to capture contextual\n",
    "    information from the entire sequence. While powerful, the memory and computational requirements of\n",
    "    self-attention grow quadratically with sequence length, making it infeasible (or very expensive) to\n",
    "    process long sequences. To address this limitation, we present Longformer, a modified Transformer\n",
    "    architecture with a self-attention operation that scales linearly with the sequence length, making it\n",
    "    versatile for processing long documents (Fig 1). This is an advantage for natural language tasks such as\n",
    "    long document classification, question answering (QA), and coreference resolution, where existing approaches\n",
    "    partition or shorten the long context into smaller sequences that fall within the typical 512 token limit\n",
    "    of BERT-style pretrained models. Such partitioning could potentially result in loss of important\n",
    "    cross-partition information, and to mitigate this problem, existing methods often rely on complex\n",
    "    architectures to address such interactions. On the other hand, our proposed Longformer is able to build\n",
    "    contextual representations of the entire context using multiple layers of attention, reducing the need for\n",
    "    task-specific architectures.'''\n",
    "inputs = LEDtokenizer(ARTICLE_TO_SUMMARIZE, return_tensors=\"pt\")\n",
    "\n",
    "global_attention_mask = torch.zeros_like(inputs['attention_mask'])\n",
    "global_attention_mask[:, 0] = 1\n",
    "\n",
    "predicted_abstract_ids = LEDmodel.generate(inputs['input_ids'],\n",
    "                                           attention_mask=inputs['attention_mask'], \n",
    "                                           global_attention_mask=global_attention_mask, \n",
    "                                           max_length=48, \n",
    "                                           num_beams=4)\n",
    "\n",
    "predicted_abstract = LEDtokenizer.batch_decode(predicted_abstract_ids, skip_special_tokens=True)\n",
    "\n",
    "predicted_abstract"
   ]
  },
  {
   "cell_type": "markdown",
   "metadata": {},
   "source": [
    "#### 1.3.2 Example 2 - Training examplen from Multinews (Part 1)\n",
    "- Somehow, the model just extracts a sentence without much major change.\n",
    "- Correct summary is: **\"– The unemployment rate dropped to 8.2% last month, but the economy only added 120,000 jobs, when 203,000 new jobs had been predicted, according to today's jobs report. Reaction on the Wall Street Journal's MarketBeat Blog was swift: \"Woah!!! Bad number.\" The unemployment rate, however, is better news; it had been expected to hold steady at 8.3%. But the AP notes that the dip is mostly due to more Americans giving up on seeking employment.\"** *(74 words)*\n",
    "- The answer is quite far-off, without much mentioning of the key job figures.\n",
    "- Note that for Multi-news, the \" ||||| \" probably signals the start of another article.\n",
    "- If we follow the PRIMERA paper, this symbol should probably be replaced by special tokens and be given global (instead of local) attention."
   ]
  },
  {
   "cell_type": "code",
   "execution_count": 74,
   "metadata": {},
   "outputs": [
    {
     "data": {
      "text/plain": [
       "[' this is a preview of our live coverage of the first Friday of the month, when for one ever-so-brief moment the interests of Wall Street,Washington and Main Street are all aligned on one thing: Jobs.  it will be our pleasure to provide color commentary before and after the data crosses the wires at 8:30 a.m. New York time offering one of the most important snapshots on how the economy fared during the previous month. Feel free to weigh-in yourself,via the comments section.  enjoy the show. ']"
      ]
     },
     "execution_count": 74,
     "metadata": {},
     "output_type": "execute_result"
    }
   ],
   "source": [
    "ARTICLE_TO_SUMMARIZE = '''National Archives Yes, it’s that time again, folks. \n",
    "It’s the first Friday of the month, when for one ever-so-brief moment the interests of Wall Street,\n",
    "Washington and Main Street are all aligned on one thing: Jobs. A fresh update on the U.S. employment\n",
    "situation for January hits the wires at 8:30 a.m. New York time offering one of the most important \n",
    "snapshots on how the economy fared during the previous month. Expectations are for 203,000 new jobs \n",
    "to be created, according to economists polled by Dow Jones Newswires, compared to 227,000 jobs added\n",
    "in February. The unemployment rate is expected to hold steady at 8.3%. Here at MarketBeat HQ, we’ll be\n",
    "offering color commentary before and after the data crosses the wires. Feel free to weigh-in yourself,\n",
    "via the comments section. And while you’re here, why don’t you sign up to follow us on Twitter. \n",
    "Enjoy the show. ||||| Employers pulled back sharply on hiring last month, a reminder that the U.S. \n",
    "economy may not be growing fast enough to sustain robust job growth. The unemployment rate dipped, \n",
    "but mostly because more Americans stopped looking for work. The Labor Department says the economy added \n",
    "120,000 jobs in March, down from more than 200,000 in each of the previous three months. The unemployment \n",
    "rate fell to 8.2 percent, the lowest since January 2009. The rate dropped because fewer people searched \n",
    "for jobs. The official unemployment tally only includes those seeking work. The economy has added 858,000 \n",
    "jobs since December _ the best four months of hiring in two years. But Federal Reserve Chairman Ben Bernanke \n",
    "has cautioned that the current hiring pace is unlikely to continue without more consumer spending.'''\n",
    "inputs = LEDtokenizer(ARTICLE_TO_SUMMARIZE, return_tensors=\"pt\")\n",
    "\n",
    "global_attention_mask = torch.zeros_like(inputs['attention_mask'])\n",
    "global_attention_mask[:, 0] = 1\n",
    "\n",
    "predicted_abstract_ids = LEDmodel.generate(inputs['input_ids'],\n",
    "                                           attention_mask=inputs['attention_mask'], \n",
    "                                           global_attention_mask=global_attention_mask, \n",
    "                                           max_length=128, \n",
    "                                           num_beams=4)\n",
    "\n",
    "predicted_abstract = LEDtokenizer.batch_decode(predicted_abstract_ids, skip_special_tokens=True)\n",
    "\n",
    "predicted_abstract"
   ]
  },
  {
   "cell_type": "markdown",
   "metadata": {},
   "source": [
    "#### 1.3.2 Example 2 - Part 2\n",
    "- And interestingly, if we remove the \" ||||| \" part, the model just fails to perform normally."
   ]
  },
  {
   "cell_type": "code",
   "execution_count": 75,
   "metadata": {},
   "outputs": [
    {
     "data": {
      "text/plain": [
       "[' it is that time of the month again, when for one ever-so-brief moment the interests of Wall Street,Washington and Main Street are all aligned on one thing: Jobs.  it is the first Friday of the month, when for one ever-so-brief moment the interests of Wall Street,Washington and Main Street are all aligned on one thing: Jobs.  it is the first Friday of the month, when for one ever-so-brief moment the interests of Wall Street,Washington and Main Street are all aligned on one thing: Jobs.  it is the first Friday of the month, when']"
      ]
     },
     "execution_count": 75,
     "metadata": {},
     "output_type": "execute_result"
    }
   ],
   "source": [
    "ARTICLE_TO_SUMMARIZE = '''National Archives Yes, it’s that time again, folks. \n",
    "It’s the first Friday of the month, when for one ever-so-brief moment the interests of Wall Street,\n",
    "Washington and Main Street are all aligned on one thing: Jobs. A fresh update on the U.S. employment\n",
    "situation for January hits the wires at 8:30 a.m. New York time offering one of the most important \n",
    "snapshots on how the economy fared during the previous month. Expectations are for 203,000 new jobs \n",
    "to be created, according to economists polled by Dow Jones Newswires, compared to 227,000 jobs added\n",
    "in February. The unemployment rate is expected to hold steady at 8.3%. Here at MarketBeat HQ, we’ll be\n",
    "offering color commentary before and after the data crosses the wires. Feel free to weigh-in yourself,\n",
    "via the comments section. And while you’re here, why don’t you sign up to follow us on Twitter. \n",
    "Enjoy the show. Employers pulled back sharply on hiring last month, a reminder that the U.S. \n",
    "economy may not be growing fast enough to sustain robust job growth. The unemployment rate dipped, \n",
    "but mostly because more Americans stopped looking for work. The Labor Department says the economy added \n",
    "120,000 jobs in March, down from more than 200,000 in each of the previous three months. The unemployment \n",
    "rate fell to 8.2 percent, the lowest since January 2009. The rate dropped because fewer people searched \n",
    "for jobs. The official unemployment tally only includes those seeking work. The economy has added 858,000 \n",
    "jobs since December _ the best four months of hiring in two years. But Federal Reserve Chairman Ben Bernanke \n",
    "has cautioned that the current hiring pace is unlikely to continue without more consumer spending.'''\n",
    "inputs = LEDtokenizer(ARTICLE_TO_SUMMARIZE, return_tensors=\"pt\")\n",
    "\n",
    "global_attention_mask = torch.zeros_like(inputs['attention_mask'])\n",
    "global_attention_mask[:, 0] = 1\n",
    "\n",
    "predicted_abstract_ids = LEDmodel.generate(inputs['input_ids'],\n",
    "                                           attention_mask=inputs['attention_mask'], \n",
    "                                           global_attention_mask=global_attention_mask, \n",
    "                                           max_length=128, \n",
    "                                           num_beams=4)\n",
    "\n",
    "predicted_abstract = LEDtokenizer.batch_decode(predicted_abstract_ids, skip_special_tokens=True)\n",
    "\n",
    "predicted_abstract"
   ]
  },
  {
   "cell_type": "markdown",
   "metadata": {},
   "source": [
    "#### 1.3.2 Example 2 - Part 3\n",
    "- Now we try to actually separate the two articles, give each of them a proper global attention leading token, concatenate them again, and see how the model responds.\n",
    "- The answer seems much more reasonable, though towards the end some random tokens are spit out."
   ]
  },
  {
   "cell_type": "code",
   "execution_count": 95,
   "metadata": {},
   "outputs": [
    {
     "data": {
      "text/plain": [
       "[' we present a preview of the economic data for the month of january, which will be released at 8:30 a.m. New York time. \\n we will focus on the job creation report for the month of january, which is expected to show 203,000 new jobs added in the month of january, compared to 227,000 jobs added in the previous month. \\n the unemployment rate is expected to hold steady at 8.3%.    \\n # 1_#1 _ # 1_#1 _ =    # 1 1.25 in.125 in.25 in']"
      ]
     },
     "execution_count": 95,
     "metadata": {},
     "output_type": "execute_result"
    }
   ],
   "source": [
    "ARTICLE_TO_SUMMARIZE = '''National Archives Yes, it’s that time again, folks. \n",
    "It’s the first Friday of the month, when for one ever-so-brief moment the interests of Wall Street,\n",
    "Washington and Main Street are all aligned on one thing: Jobs. A fresh update on the U.S. employment\n",
    "situation for January hits the wires at 8:30 a.m. New York time offering one of the most important \n",
    "snapshots on how the economy fared during the previous month. Expectations are for 203,000 new jobs \n",
    "to be created, according to economists polled by Dow Jones Newswires, compared to 227,000 jobs added\n",
    "in February. The unemployment rate is expected to hold steady at 8.3%. Here at MarketBeat HQ, we’ll be\n",
    "offering color commentary before and after the data crosses the wires. Feel free to weigh-in yourself,\n",
    "via the comments section. And while you’re here, why don’t you sign up to follow us on Twitter. \n",
    "Enjoy the show. ||||| Employers pulled back sharply on hiring last month, a reminder that the U.S. \n",
    "economy may not be growing fast enough to sustain robust job growth. The unemployment rate dipped, \n",
    "but mostly because more Americans stopped looking for work. The Labor Department says the economy added \n",
    "120,000 jobs in March, down from more than 200,000 in each of the previous three months. The unemployment \n",
    "rate fell to 8.2 percent, the lowest since January 2009. The rate dropped because fewer people searched \n",
    "for jobs. The official unemployment tally only includes those seeking work. The economy has added 858,000 \n",
    "jobs since December _ the best four months of hiring in two years. But Federal Reserve Chairman Ben Bernanke \n",
    "has cautioned that the current hiring pace is unlikely to continue without more consumer spending.'''\n",
    "\n",
    "part1, part2 = ARTICLE_TO_SUMMARIZE.split(\" ||||| \")[0], ARTICLE_TO_SUMMARIZE.split(\" ||||| \")[1]\n",
    "\n",
    "inputs1 = LEDtokenizer(part1, return_tensors=\"pt\")\n",
    "inputs2 = LEDtokenizer(part2, return_tensors=\"pt\")\n",
    "\n",
    "global_attention_mask1 = torch.zeros_like(inputs1['attention_mask'])\n",
    "global_attention_mask1[:, 0] = 1\n",
    "\n",
    "global_attention_mask2 = torch.zeros_like(inputs2['attention_mask'])\n",
    "global_attention_mask2[:, 0] = 1\n",
    "\n",
    "inputs=torch.concat((inputs1['input_ids'], inputs2['input_ids']), 1)\n",
    "attention_mask=torch.concat((inputs1['attention_mask'], inputs2['attention_mask']), 1)\n",
    "global_attention_mask=torch.concat((global_attention_mask1, global_attention_mask2), 1)\n",
    "\n",
    "predicted_abstract_ids = LEDmodel.generate(inputs,\n",
    "                                           attention_mask=attention_mask, \n",
    "                                           global_attention_mask=global_attention_mask, \n",
    "                                           max_length=128, \n",
    "                                           num_beams=4)\n",
    "\n",
    "predicted_abstract = LEDtokenizer.batch_decode(predicted_abstract_ids, skip_special_tokens=True)\n",
    "\n",
    "predicted_abstract"
   ]
  },
  {
   "cell_type": "markdown",
   "metadata": {},
   "source": [
    "#### 1.3.3 Example 3 - A longer training examplen from Multinews (Part 1)\n",
    "- Since LED is about \"long\" inputs, let's see how it behaves for a longer article.\n",
    "- Correct summary is: **\"– A twin-engine Embraer jet that the FAA describes as \"on approach to Runway 14\" at the Montgomery County Airpark in Gaithersburg, Maryland, crashed into a home this morning, engulfing that home in flames and setting two others on fire. Three people are dead, but the count could grow. A Montgomery County Fire rep says three fliers were killed in the crash, but notes the corporate plane may have had a fourth person on board, reports the AP. A relative of the owner of the home that was hit tells WUSA 9 that a mother with three children pre-school age and under should have been home at the time; there's no word on the family's whereabouts. The crash occurred around 11am on Drop Forge Lane, and the fire was extinguished within an hour. Crews are now searching the wreckage. A witness noted the plane appeared to \"wobble\" before the crash; the airport is no more than 3/4 mile from the crash scene. NTSB and FAA will investigate.\"**  *(166 words)*\n",
    "- First, we try it without breaking up anything.\n",
    "- Somehow the model is able to generate some relevant text but can't use up the word limit.  There are also strange texts towards the end."
   ]
  },
  {
   "cell_type": "code",
   "execution_count": 98,
   "metadata": {},
   "outputs": [
    {
     "data": {
      "text/plain": [
       "[' the investigation into a plane crash that left six people dead in Gaithersburg on Monday evening is just beginning. \\n a mother and her two young children are three of the six lives lost in the crash. Something went wrong with the jet heading to the Montgomery County airport and it went into a house in Gaithersburg, a Washington, D.C. suburb. \\n three people on the jet were also killed, according to Montgomery County fire officials. \\n the plane was coming from Chapel Hill,  \\n NC and approaching the Montgomery County Air Park.    \\n # 1_#1 _ # 1_#1 _ =    # 1 1.25 in.125 in.25 in ']"
      ]
     },
     "execution_count": 98,
     "metadata": {},
     "output_type": "execute_result"
    }
   ],
   "source": [
    "ARTICLE_TO_SUMMARIZE = '''GAITHERSBURG, Md. (AP) — A small, private jet has crashed into\n",
    "a house in Maryland's Montgomery County on Monday, killing at least three people on board,\n",
    "authorities said. Preliminary information indicates at least three people were on board and\n",
    "didn't survive the Monday crash into home in Gaithersburg, a Washington, D.C. suburb, said\n",
    "Pete Piringer, a Montgomery County Fire and Rescue spokesman. He said a fourth person may have\n",
    "been aboard. Piringer said the jet crashed into one home around 11 a.m., setting it and two\n",
    "others on fire. Crews had the fire under control within an hour and were searching for anyone\n",
    "who may have been in the homes. Television news footage of the scene showed one home nearly destroyed,\n",
    "with a car in the driveway. Witnesses told television news crews that they saw the airplane appear\n",
    "to struggle to maintain altitude before going into a nosedive and crashing. An FAA spokesman said\n",
    "preliminary information shows the Embraer EMB-500/Phenom 100 twin-engine jet was on approach at the\n",
    "nearby Montgomery County Airpark. The National Transportation Safety Board is sending an investigator\n",
    "to the scene. ||||| Gemmell family (Photo: Facebook) GAITHERSBURG, Md. (WUSA9) -- The investigations \n",
    "into a plane crash that left six people dead in Gaithersburg on Monday evening are just beginning. \n",
    "A mother and her two young children are three of the six lives lost in the crash. Marie Gemmell, 36,\n",
    "her three-year-old son Cole and her infant-son Devin were inside their home when a corporate jet crashed\n",
    "into it. Their bodies were found on the second floor hours after the crash. The father and a third child\n",
    "were not home at the time of the crash. Michael Rosenberg was on the jet that crashed (Photo: Health Decisions)\n",
    "Three people on the jet were also killed, according to Montgomery County fire officials. One of those victims\n",
    "has been identified as Michael Rosenberg, CEO of Health Decisions. You can read their statement here. An Embraer\n",
    "EMB-500/Phenom 100 crashed into a house in the 19700 block of Drop Forge Lane off Snouffer School Road in the \n",
    "neighborhood of Hunters Woods around 10:45 a.m., according to the NTSB. The plane was coming from Chapel Hill, \n",
    "NC and approaching the Montgomery County Air Park. The NTSB has sent a go-team to the site, where three homes \n",
    "were damaged. Firefighters used foam to battle fires all around the scene. The fuselage of the jet is parallel \n",
    "to a second house, and the tail of the airplane is at the front door. One of the wings was catapulted into the \n",
    "Gemmell's house, causing a huge fire and the majority of the damage, according to the NTSB. Senior Investigator \n",
    "Timothy LeBaron is leading the go-team. Investigators are looking at operations, including crew experience, training\n",
    "and procedures, the functionality of the engines, the weather, air traffic control and more, NTSB spokesperson \n",
    "Robert L. Sumwalt said at a press confrence. \"Our mission is to find out not only what happened, but why it happened\n",
    "because we want to make sure something like this never happens again,\" Sumwalt said. MORE: Woman says community feared\n",
    "plane crash NTSB investigators are currently collecting perishable evidence, not determining the cause. They'll be\n",
    "conducting interviews and documenting the wreckage. Investigators could be on the scene for three to seven days for\n",
    "what they call the \"fact-finding\" phase. The black box, which has recordings from the crash, has been recovered. It\n",
    "is in good condition and has been rushed to labs, Sumwalt said. The first call about the crash came in at 10:44 a.m.\n",
    "from the National Guard Armory for the report of an explosion, and units were on the scene in approximately seven \n",
    "minutes, Montgomery County Fire Chief Steve Lohr said at an initial press conference. Utility crews were also on the\n",
    "scene and Lorh said it is safe for residents in the area. Electricity has been temporarily cut off. Recordings of the\n",
    "911-calls from the crash were released on Monday evening. In the recordings neighbors and witnesses describe the scene\n",
    "where the plane crashed in the Gaithersburg neighborhood. Recordings of the 911 calls from the Gaithersburg plane crash\n",
    "were released on Monday evening. \"We just heard a giant explosion we looked out the window and there's... it looks \n",
    "like a house is on fire, we've got some people running over there to see if people are okay,\" one caller described. \n",
    "RAW: Fire Chief Steve Lohr speaks on plane crash A woman who was traveling into the area after taking a test at \n",
    "Montgomery College tells WUSA9 that she could see the smoke from the crash from I-370. As she got closer, she saw all\n",
    "the emergency response vehicles and called her husband. He told her that the smoke was coming from the area where her\n",
    "mother and stepfather lived and she says she got worried. She discovered the house that was struck was their neighbors'\n",
    "house. She says there are \"three little ones\" who live in that house. One person reported seeing the plane \"wobble\"\n",
    "before it crashed into the house. Other neighbors reported hearing repeated booms and feeling their houses shake \n",
    "from the impact of the plane. Something went wrong with the jet heading to the Montgomery County airport and it went\n",
    "into a house in Gaithersburg WUSA9 spoke with an eyewitness named Jocelyn Brown who said she first heard the plane \n",
    "sputtering, making a sound that planes that go over the area normally don't make flying over the houses. She says she\n",
    "and her mother became concerned and went to investigate. They then saw the plane hit the side of a house. She reported\n",
    "seeing a \"mushroom effect of smoke\" and also hearing three explosions after the plane hit. Jocelyn says they also heard\n",
    "screams in the area of the home. She says she does not know whether they were coming from inside the house or behind\n",
    "them. Jocelyn lives in the area and says she knows the mother that lives there. She described her as a \"sweet woman\"\n",
    "who walks with her kids in the area all the time and speaks to everyone. He said the plane sounded like it was\n",
    "\"puttering\" and then saw fire A woman posted video from the ground of the scene of the plane crash on YouTube. . \n",
    "The FAA has released the following information: \"This is preliminary information about an Embraer EMB-500/Phenom 100\n",
    "twin-engine jet that crashed one mile north of the Montgomery County Airport, Gaithersburg, MD at 11am today. The \n",
    "aircraft was on approach to Runway 14 at the airport when the accident occurred. Please contact local authorities \n",
    "for information on passengers and the situation on the ground. The FAA will investigate. We will update this statement\n",
    "when new information is available. \" Photo of plane from FlightAware (Photo: FlightAware) An FAA source says the jet \n",
    "was waiting for a much slower single engine aircraft, possibly a Cessna, to make its turn so it could make its approach.\n",
    "That information has not been confirmed by the NTSB. The Montgomery County Air Park is within 1/2 to 3/4 of a mile of \n",
    "the crash. The airport does not have a tower, so communication would have been with Washington Air Traffic Control \n",
    "Section, not the airport. The FAA registry shows that the plane was a corporate Phenom jet with tail number N100EQ. \n",
    "It's registered to Sage Aviation LLC out of Chapel Hill, NC which makes replacement parts for the aviation industry. \n",
    "MORE: Gaithersburg plane crash at Drop Forge Lane, 3 houses suffering some sort of damage, this one the worst\n",
    "@WNEWpic.twitter.com/vihz4k5eYE — JimMacKayWNEW (@JimMacKayWNEW) December 8, 2014 Snouffer School Road was closed \n",
    "between Centerway Road and Goshen Road following the crash. Drivers and pedestrians are being urged to avoid the area.\n",
    "It is likely to remain closed throughout the night and possibly Tuesday. She says something has to be done about \n",
    "planes flying low directly over homes. Read or Share this story: http://on.wusa9.com/1A8PzKE\"'''\n",
    "inputs = LEDtokenizer(ARTICLE_TO_SUMMARIZE, return_tensors=\"pt\")\n",
    "\n",
    "global_attention_mask = torch.zeros_like(inputs['attention_mask'])\n",
    "global_attention_mask[:, 0] = 1\n",
    "\n",
    "predicted_abstract_ids = LEDmodel.generate(inputs['input_ids'],\n",
    "                                           attention_mask=inputs['attention_mask'], \n",
    "                                           global_attention_mask=global_attention_mask, \n",
    "                                           max_length=200, # Customized in view of the length of the reference summary\n",
    "                                           num_beams=4)\n",
    "\n",
    "predicted_abstract = LEDtokenizer.batch_decode(predicted_abstract_ids, skip_special_tokens=True)\n",
    "\n",
    "predicted_abstract"
   ]
  },
  {
   "cell_type": "markdown",
   "metadata": {},
   "source": [
    "#### 1.3.3 Example 3 (Part 2)\n",
    "- Since the out put was quite a bit shorter than the reference, I have tried adding in a \"min_length\" parameter which is not in the configuration.  Naturally, it seems to do nearly nothing."
   ]
  },
  {
   "cell_type": "code",
   "execution_count": 106,
   "metadata": {},
   "outputs": [
    {
     "data": {
      "text/plain": [
       "[' the investigation into a plane crash that left six people dead in Gaithersburg on Monday evening is just beginning. \\n a mother and her two young children are three of the six lives lost in the crash. Something went wrong with the jet heading to the Montgomery County airport and it went into a house in Gaithersburg, a Washington, D.C. suburb. \\n three people on the jet were also killed, according to Montgomery County fire officials. \\n the plane was coming from Chapel Hill, \\n NC and approaching the Montgomery County Air Park when it crashed into the house.    \\n # 1_#1 _ # 1_#1 _ =    # 1 1.25 in.125 in.25 in ']"
      ]
     },
     "execution_count": 106,
     "metadata": {},
     "output_type": "execute_result"
    }
   ],
   "source": [
    "predicted_abstract_ids2 = LEDmodel.generate(inputs['input_ids'],\n",
    "                                            attention_mask=inputs['attention_mask'], \n",
    "                                            global_attention_mask=global_attention_mask, \n",
    "                                            min_length=150, # min_length is not a config and seems to do nothing\n",
    "                                            max_length=200, \n",
    "                                            num_beams=4)\n",
    "\n",
    "LEDtokenizer.batch_decode(predicted_abstract_ids2, skip_special_tokens=True)"
   ]
  },
  {
   "cell_type": "markdown",
   "metadata": {},
   "source": [
    "#### 1.3.3 Example 3 (Part 3)\n",
    "- Let's try doing the split once more.\n",
    "- Result is no good.  Perhaps we really need the \\<doc-sep> token?  But that is not included in the LED tokenizer"
   ]
  },
  {
   "cell_type": "code",
   "execution_count": 109,
   "metadata": {},
   "outputs": [
    {
     "data": {
      "text/plain": [
       "[' a small, private jet has crashed into a house in the neighborhood of Hunters Woods on Monday morning, killing at least three people on board. \\n the plane was on approach to the Montgomery County airport when it crashed into the house.    \\n # 1#2#3#4#1 * # 2 *, # 3 ( # 4 ) # 1#2#3#4#1 * # 2 *, # 3 ( # 4 ) # 1#2#3#4#1 * # 2 *, # 3 ( # 4 ) # 1#2#3#4#1 * # 2 *, # 3 ( # 4 ) # 1#2#3#4#1 * # 2 *, # 3 ( # 4 ) # 1#2#3#4#1 * # 2 *, # 3 ( # 4 ) # 1#2#3#4#1 * # 2 *, # 3']"
      ]
     },
     "execution_count": 109,
     "metadata": {},
     "output_type": "execute_result"
    }
   ],
   "source": [
    "part1, part2 = ARTICLE_TO_SUMMARIZE.split(\" ||||| \")[0], ARTICLE_TO_SUMMARIZE.split(\" ||||| \")[1]\n",
    "\n",
    "inputs1 = LEDtokenizer(part1, return_tensors=\"pt\")\n",
    "inputs2 = LEDtokenizer(part2, return_tensors=\"pt\")\n",
    "\n",
    "global_attention_mask1 = torch.zeros_like(inputs1['attention_mask'])\n",
    "global_attention_mask1[:, 0] = 1\n",
    "\n",
    "global_attention_mask2 = torch.zeros_like(inputs2['attention_mask'])\n",
    "global_attention_mask2[:, 0] = 1\n",
    "\n",
    "inputs=torch.concat((inputs1['input_ids'], inputs2['input_ids']), 1)\n",
    "attention_mask=torch.concat((inputs1['attention_mask'], inputs2['attention_mask']), 1)\n",
    "global_attention_mask=torch.concat((global_attention_mask1, global_attention_mask2), 1)\n",
    "\n",
    "predicted_abstract_ids = LEDmodel.generate(inputs,\n",
    "                                           attention_mask=attention_mask, \n",
    "                                           global_attention_mask=global_attention_mask, \n",
    "                                           max_length=200, \n",
    "                                           num_beams=4)\n",
    "\n",
    "predicted_abstract = LEDtokenizer.batch_decode(predicted_abstract_ids, skip_special_tokens=True)\n",
    "\n",
    "predicted_abstract"
   ]
  },
  {
   "cell_type": "code",
   "execution_count": 41,
   "metadata": {},
   "outputs": [
    {
     "data": {
      "text/plain": [
       "{'input_ids': tensor([[    0, 41552, 37447,    12,  1090,   642, 15698,     2]]), 'attention_mask': tensor([[1, 1, 1, 1, 1, 1, 1, 1]])}"
      ]
     },
     "execution_count": 41,
     "metadata": {},
     "output_type": "execute_result"
    }
   ],
   "source": [
    "## There is no <doc-sep> token in the LED tokenizer\n",
    "LEDtokenizer(\"<doc-sep>\", return_tensors=\"pt\")"
   ]
  },
  {
   "cell_type": "code",
   "execution_count": 9,
   "metadata": {},
   "outputs": [
    {
     "data": {
      "text/plain": [
       "{'input_ids': tensor([[    0, 50265,     2]]), 'attention_mask': tensor([[1, 1, 1]])}"
      ]
     },
     "execution_count": 9,
     "metadata": {},
     "output_type": "execute_result"
    }
   ],
   "source": [
    "## But it is present in the PRIMERA one\n",
    "PRIMERAtokenizer = AutoTokenizer.from_pretrained('allenai/PRIMERA')\n",
    "\n",
    "PRIMERAtokenizer(\"<doc-sep>\", return_tensors=\"pt\")"
   ]
  },
  {
   "cell_type": "markdown",
   "metadata": {},
   "source": [
    "#### 1.3.3 Example 3 (Part 4)\n",
    "- Perhaps let's try using the PRIMERA tokenizer.\n",
    "- First, we try out the use of the tokenizer normally, i.e. without adding the \\<doc-sep> token.\n",
    "- Then we try adding in the \\<doc-sep> token which is supported by the tokenizer."
   ]
  },
  {
   "cell_type": "code",
   "execution_count": 126,
   "metadata": {},
   "outputs": [
    {
     "data": {
      "text/plain": [
       "[' a small, private jet has crashed into a house in the neighborhood of Hunters Woods on Monday morning, killing at least three people on board. \\n the plane was on approach to the Montgomery County airport when it crashed into the house.    \\n # 1#2#3#4#1 * # 2 *, # 3 ( # 4 ) # 1#2#3#4#1 * # 2 *, # 3 ( # 4 ) # 1#2#3#4#1 * # 2 *, # 3 ( # 4 ) # 1#2#3#4#1 * # 2 *, # 3 ( # 4 ) # 1#2#3#4#1 * # 2 *, # 3 ( # 4 ) # 1#2#3#4#1 * # 2 *, # 3 ( # 4 ) # 1#2#3#4#1 * # 2 *, # 3']"
      ]
     },
     "execution_count": 126,
     "metadata": {},
     "output_type": "execute_result"
    }
   ],
   "source": [
    "## Experimenting with just the PRIMERA tokenizer first.  Answer seems to be that there is no effect whatsoever.\n",
    "part1, part2 = ARTICLE_TO_SUMMARIZE.split(\" ||||| \")[0], ARTICLE_TO_SUMMARIZE.split(\" ||||| \")[1]\n",
    "\n",
    "inputs1 = PRIMERAtokenizer(part1, return_tensors=\"pt\")\n",
    "inputs2 = PRIMERAtokenizer(part2, return_tensors=\"pt\")\n",
    "\n",
    "global_attention_mask1 = torch.zeros_like(inputs1['attention_mask'])\n",
    "global_attention_mask1[:, 0] = 1\n",
    "\n",
    "global_attention_mask2 = torch.zeros_like(inputs2['attention_mask'])\n",
    "global_attention_mask2[:, 0] = 1\n",
    "\n",
    "inputs=torch.concat((inputs1['input_ids'], inputs2['input_ids']), 1)\n",
    "attention_mask=torch.concat((inputs1['attention_mask'], inputs2['attention_mask']), 1)\n",
    "global_attention_mask=torch.concat((global_attention_mask1, global_attention_mask2), 1)\n",
    "\n",
    "predicted_abstract_ids = LEDmodel.generate(inputs,\n",
    "                                           attention_mask=attention_mask, \n",
    "                                           global_attention_mask=global_attention_mask, \n",
    "                                           max_length=200, \n",
    "                                           num_beams=4)\n",
    "\n",
    "predicted_abstract = PRIMERAtokenizer.batch_decode(predicted_abstract_ids, skip_special_tokens=True)\n",
    "\n",
    "predicted_abstract"
   ]
  },
  {
   "cell_type": "code",
   "execution_count": 189,
   "metadata": {},
   "outputs": [],
   "source": [
    "part1, part2 = ARTICLE_TO_SUMMARIZE.split(\" ||||| \")[0], ARTICLE_TO_SUMMARIZE.split(\" ||||| \")[1]\n",
    "\n",
    "inputs1 = PRIMERAtokenizer(part1, return_tensors=\"pt\")\n",
    "inputs2 = PRIMERAtokenizer(part2, return_tensors=\"pt\")\n",
    "\n",
    "global_attention_mask1 = torch.zeros_like(inputs1['attention_mask'])\n",
    "global_attention_mask1[:, 0] = 1\n",
    "\n",
    "global_attention_mask2 = torch.zeros_like(inputs2['attention_mask'])\n",
    "global_attention_mask2[:, 0] = 1\n",
    "\n",
    "inputs=torch.concat((inputs1['input_ids'], inputs2['input_ids']), 1)\n",
    "attention_mask=torch.concat((inputs1['attention_mask'], inputs2['attention_mask']), 1)\n",
    "global_attention_mask=torch.concat((global_attention_mask1, global_attention_mask2), 1)\n"
   ]
  },
  {
   "cell_type": "code",
   "execution_count": 195,
   "metadata": {
    "scrolled": true
   },
   "outputs": [
    {
     "name": "stdout",
     "output_type": "stream",
     "text": [
      "The location of the <doc-sep> token is 259.\n",
      "\n"
     ]
    },
    {
     "ename": "IndexError",
     "evalue": "index out of range in self",
     "output_type": "error",
     "traceback": [
      "\u001b[1;31m---------------------------------------------------------------------------\u001b[0m",
      "\u001b[1;31mIndexError\u001b[0m                                Traceback (most recent call last)",
      "Input \u001b[1;32mIn [195]\u001b[0m, in \u001b[0;36m<cell line: 15>\u001b[1;34m()\u001b[0m\n\u001b[0;32m     12\u001b[0m global_attention_mask[:, \u001b[38;5;241m0\u001b[39m] \u001b[38;5;241m=\u001b[39m \u001b[38;5;241m1\u001b[39m           \u001b[38;5;66;03m# <s> has global attention\u001b[39;00m\n\u001b[0;32m     13\u001b[0m global_attention_mask[:, doc_sep_loc] \u001b[38;5;241m=\u001b[39m \u001b[38;5;241m1\u001b[39m \u001b[38;5;66;03m# <doc-sep> also has global attention\u001b[39;00m\n\u001b[1;32m---> 15\u001b[0m predicted_abstract_ids \u001b[38;5;241m=\u001b[39m \u001b[43mLEDmodel\u001b[49m\u001b[38;5;241;43m.\u001b[39;49m\u001b[43mgenerate\u001b[49m\u001b[43m(\u001b[49m\u001b[43minputs\u001b[49m\u001b[43m[\u001b[49m\u001b[38;5;124;43m'\u001b[39;49m\u001b[38;5;124;43minput_ids\u001b[39;49m\u001b[38;5;124;43m'\u001b[39;49m\u001b[43m]\u001b[49m\u001b[43m,\u001b[49m\n\u001b[0;32m     16\u001b[0m \u001b[43m                                           \u001b[49m\u001b[43mattention_mask\u001b[49m\u001b[38;5;241;43m=\u001b[39;49m\u001b[43mattention_mask\u001b[49m\u001b[43m,\u001b[49m\u001b[43m \u001b[49m\n\u001b[0;32m     17\u001b[0m \u001b[43m                                           \u001b[49m\u001b[43mglobal_attention_mask\u001b[49m\u001b[38;5;241;43m=\u001b[39;49m\u001b[43mglobal_attention_mask\u001b[49m\u001b[43m,\u001b[49m\u001b[43m \u001b[49m\n\u001b[0;32m     18\u001b[0m \u001b[43m                                           \u001b[49m\u001b[43mmax_length\u001b[49m\u001b[38;5;241;43m=\u001b[39;49m\u001b[38;5;241;43m200\u001b[39;49m\u001b[43m,\u001b[49m\u001b[43m \u001b[49m\n\u001b[0;32m     19\u001b[0m \u001b[43m                                           \u001b[49m\u001b[43mnum_beams\u001b[49m\u001b[38;5;241;43m=\u001b[39;49m\u001b[38;5;241;43m4\u001b[39;49m\u001b[43m)\u001b[49m\n\u001b[0;32m     21\u001b[0m predicted_abstract \u001b[38;5;241m=\u001b[39m PRIMERAtokenizer\u001b[38;5;241m.\u001b[39mbatch_decode(predicted_abstract_ids, skip_special_tokens\u001b[38;5;241m=\u001b[39m\u001b[38;5;28;01mTrue\u001b[39;00m)\n\u001b[0;32m     23\u001b[0m predicted_abstract\n",
      "File \u001b[1;32m~\\anaconda3\\envs\\w266_torch\\lib\\site-packages\\torch\\autograd\\grad_mode.py:27\u001b[0m, in \u001b[0;36m_DecoratorContextManager.__call__.<locals>.decorate_context\u001b[1;34m(*args, **kwargs)\u001b[0m\n\u001b[0;32m     24\u001b[0m \u001b[38;5;129m@functools\u001b[39m\u001b[38;5;241m.\u001b[39mwraps(func)\n\u001b[0;32m     25\u001b[0m \u001b[38;5;28;01mdef\u001b[39;00m \u001b[38;5;21mdecorate_context\u001b[39m(\u001b[38;5;241m*\u001b[39margs, \u001b[38;5;241m*\u001b[39m\u001b[38;5;241m*\u001b[39mkwargs):\n\u001b[0;32m     26\u001b[0m     \u001b[38;5;28;01mwith\u001b[39;00m \u001b[38;5;28mself\u001b[39m\u001b[38;5;241m.\u001b[39mclone():\n\u001b[1;32m---> 27\u001b[0m         \u001b[38;5;28;01mreturn\u001b[39;00m func(\u001b[38;5;241m*\u001b[39margs, \u001b[38;5;241m*\u001b[39m\u001b[38;5;241m*\u001b[39mkwargs)\n",
      "File \u001b[1;32m~\\anaconda3\\envs\\w266_torch\\lib\\site-packages\\transformers\\generation_utils.py:1339\u001b[0m, in \u001b[0;36mGenerationMixin.generate\u001b[1;34m(self, inputs, max_length, min_length, do_sample, early_stopping, num_beams, temperature, penalty_alpha, top_k, top_p, typical_p, repetition_penalty, bad_words_ids, force_words_ids, bos_token_id, pad_token_id, eos_token_id, length_penalty, no_repeat_ngram_size, encoder_no_repeat_ngram_size, num_return_sequences, max_time, max_new_tokens, decoder_start_token_id, use_cache, num_beam_groups, diversity_penalty, prefix_allowed_tokens_fn, logits_processor, renormalize_logits, stopping_criteria, constraints, output_attentions, output_hidden_states, output_scores, return_dict_in_generate, forced_bos_token_id, forced_eos_token_id, remove_invalid_values, synced_gpus, exponential_decay_length_penalty, suppress_tokens, begin_suppress_tokens, forced_decoder_ids, **model_kwargs)\u001b[0m\n\u001b[0;32m   1331\u001b[0m         logger\u001b[38;5;241m.\u001b[39mwarning(\n\u001b[0;32m   1332\u001b[0m             \u001b[38;5;124m\"\u001b[39m\u001b[38;5;124mA decoder-only architecture is being used, but right-padding was detected! For correct \u001b[39m\u001b[38;5;124m\"\u001b[39m\n\u001b[0;32m   1333\u001b[0m             \u001b[38;5;124m\"\u001b[39m\u001b[38;5;124mgeneration results, please set `padding_side=\u001b[39m\u001b[38;5;124m'\u001b[39m\u001b[38;5;124mleft\u001b[39m\u001b[38;5;124m'\u001b[39m\u001b[38;5;124m` when initializing the tokenizer.\u001b[39m\u001b[38;5;124m\"\u001b[39m\n\u001b[0;32m   1334\u001b[0m         )\n\u001b[0;32m   1336\u001b[0m \u001b[38;5;28;01mif\u001b[39;00m \u001b[38;5;28mself\u001b[39m\u001b[38;5;241m.\u001b[39mconfig\u001b[38;5;241m.\u001b[39mis_encoder_decoder \u001b[38;5;129;01mand\u001b[39;00m \u001b[38;5;124m\"\u001b[39m\u001b[38;5;124mencoder_outputs\u001b[39m\u001b[38;5;124m\"\u001b[39m \u001b[38;5;129;01mnot\u001b[39;00m \u001b[38;5;129;01min\u001b[39;00m model_kwargs:\n\u001b[0;32m   1337\u001b[0m     \u001b[38;5;66;03m# if model is encoder decoder encoder_outputs are created\u001b[39;00m\n\u001b[0;32m   1338\u001b[0m     \u001b[38;5;66;03m# and added to `model_kwargs`\u001b[39;00m\n\u001b[1;32m-> 1339\u001b[0m     model_kwargs \u001b[38;5;241m=\u001b[39m \u001b[38;5;28;43mself\u001b[39;49m\u001b[38;5;241;43m.\u001b[39;49m\u001b[43m_prepare_encoder_decoder_kwargs_for_generation\u001b[49m\u001b[43m(\u001b[49m\n\u001b[0;32m   1340\u001b[0m \u001b[43m        \u001b[49m\u001b[43minputs_tensor\u001b[49m\u001b[43m,\u001b[49m\u001b[43m \u001b[49m\u001b[43mmodel_kwargs\u001b[49m\u001b[43m,\u001b[49m\u001b[43m \u001b[49m\u001b[43mmodel_input_name\u001b[49m\n\u001b[0;32m   1341\u001b[0m \u001b[43m    \u001b[49m\u001b[43m)\u001b[49m\n\u001b[0;32m   1343\u001b[0m \u001b[38;5;66;03m# 4. Prepare `input_ids` which will be used for auto-regressive generation\u001b[39;00m\n\u001b[0;32m   1344\u001b[0m \u001b[38;5;28;01mif\u001b[39;00m \u001b[38;5;28mself\u001b[39m\u001b[38;5;241m.\u001b[39mconfig\u001b[38;5;241m.\u001b[39mis_encoder_decoder:\n",
      "File \u001b[1;32m~\\anaconda3\\envs\\w266_torch\\lib\\site-packages\\transformers\\generation_utils.py:583\u001b[0m, in \u001b[0;36mGenerationMixin._prepare_encoder_decoder_kwargs_for_generation\u001b[1;34m(self, inputs_tensor, model_kwargs, model_input_name)\u001b[0m\n\u001b[0;32m    581\u001b[0m encoder_kwargs[\u001b[38;5;124m\"\u001b[39m\u001b[38;5;124mreturn_dict\u001b[39m\u001b[38;5;124m\"\u001b[39m] \u001b[38;5;241m=\u001b[39m \u001b[38;5;28;01mTrue\u001b[39;00m\n\u001b[0;32m    582\u001b[0m encoder_kwargs[model_input_name] \u001b[38;5;241m=\u001b[39m inputs_tensor\n\u001b[1;32m--> 583\u001b[0m model_kwargs[\u001b[38;5;124m\"\u001b[39m\u001b[38;5;124mencoder_outputs\u001b[39m\u001b[38;5;124m\"\u001b[39m]: ModelOutput \u001b[38;5;241m=\u001b[39m encoder(\u001b[38;5;241m*\u001b[39m\u001b[38;5;241m*\u001b[39mencoder_kwargs)\n\u001b[0;32m    585\u001b[0m \u001b[38;5;28;01mreturn\u001b[39;00m model_kwargs\n",
      "File \u001b[1;32m~\\anaconda3\\envs\\w266_torch\\lib\\site-packages\\torch\\nn\\modules\\module.py:1194\u001b[0m, in \u001b[0;36mModule._call_impl\u001b[1;34m(self, *input, **kwargs)\u001b[0m\n\u001b[0;32m   1190\u001b[0m \u001b[38;5;66;03m# If we don't have any hooks, we want to skip the rest of the logic in\u001b[39;00m\n\u001b[0;32m   1191\u001b[0m \u001b[38;5;66;03m# this function, and just call forward.\u001b[39;00m\n\u001b[0;32m   1192\u001b[0m \u001b[38;5;28;01mif\u001b[39;00m \u001b[38;5;129;01mnot\u001b[39;00m (\u001b[38;5;28mself\u001b[39m\u001b[38;5;241m.\u001b[39m_backward_hooks \u001b[38;5;129;01mor\u001b[39;00m \u001b[38;5;28mself\u001b[39m\u001b[38;5;241m.\u001b[39m_forward_hooks \u001b[38;5;129;01mor\u001b[39;00m \u001b[38;5;28mself\u001b[39m\u001b[38;5;241m.\u001b[39m_forward_pre_hooks \u001b[38;5;129;01mor\u001b[39;00m _global_backward_hooks\n\u001b[0;32m   1193\u001b[0m         \u001b[38;5;129;01mor\u001b[39;00m _global_forward_hooks \u001b[38;5;129;01mor\u001b[39;00m _global_forward_pre_hooks):\n\u001b[1;32m-> 1194\u001b[0m     \u001b[38;5;28;01mreturn\u001b[39;00m forward_call(\u001b[38;5;241m*\u001b[39m\u001b[38;5;28minput\u001b[39m, \u001b[38;5;241m*\u001b[39m\u001b[38;5;241m*\u001b[39mkwargs)\n\u001b[0;32m   1195\u001b[0m \u001b[38;5;66;03m# Do not call functions when jit is used\u001b[39;00m\n\u001b[0;32m   1196\u001b[0m full_backward_hooks, non_full_backward_hooks \u001b[38;5;241m=\u001b[39m [], []\n",
      "File \u001b[1;32m~\\anaconda3\\envs\\w266_torch\\lib\\site-packages\\transformers\\models\\led\\modeling_led.py:1821\u001b[0m, in \u001b[0;36mLEDEncoder.forward\u001b[1;34m(self, input_ids, attention_mask, global_attention_mask, head_mask, inputs_embeds, output_attentions, output_hidden_states, return_dict)\u001b[0m\n\u001b[0;32m   1818\u001b[0m     \u001b[38;5;28;01mraise\u001b[39;00m \u001b[38;5;167;01mValueError\u001b[39;00m(\u001b[38;5;124m\"\u001b[39m\u001b[38;5;124mYou have to specify either input_ids or inputs_embeds\u001b[39m\u001b[38;5;124m\"\u001b[39m)\n\u001b[0;32m   1820\u001b[0m \u001b[38;5;28;01mif\u001b[39;00m inputs_embeds \u001b[38;5;129;01mis\u001b[39;00m \u001b[38;5;28;01mNone\u001b[39;00m:\n\u001b[1;32m-> 1821\u001b[0m     inputs_embeds \u001b[38;5;241m=\u001b[39m \u001b[38;5;28;43mself\u001b[39;49m\u001b[38;5;241;43m.\u001b[39;49m\u001b[43membed_tokens\u001b[49m\u001b[43m(\u001b[49m\u001b[43minput_ids\u001b[49m\u001b[43m)\u001b[49m\n\u001b[0;32m   1823\u001b[0m \u001b[38;5;66;03m# create default attention_mask\u001b[39;00m\n\u001b[0;32m   1824\u001b[0m \u001b[38;5;28;01mif\u001b[39;00m attention_mask \u001b[38;5;129;01mis\u001b[39;00m \u001b[38;5;28;01mNone\u001b[39;00m:\n",
      "File \u001b[1;32m~\\anaconda3\\envs\\w266_torch\\lib\\site-packages\\torch\\nn\\modules\\module.py:1194\u001b[0m, in \u001b[0;36mModule._call_impl\u001b[1;34m(self, *input, **kwargs)\u001b[0m\n\u001b[0;32m   1190\u001b[0m \u001b[38;5;66;03m# If we don't have any hooks, we want to skip the rest of the logic in\u001b[39;00m\n\u001b[0;32m   1191\u001b[0m \u001b[38;5;66;03m# this function, and just call forward.\u001b[39;00m\n\u001b[0;32m   1192\u001b[0m \u001b[38;5;28;01mif\u001b[39;00m \u001b[38;5;129;01mnot\u001b[39;00m (\u001b[38;5;28mself\u001b[39m\u001b[38;5;241m.\u001b[39m_backward_hooks \u001b[38;5;129;01mor\u001b[39;00m \u001b[38;5;28mself\u001b[39m\u001b[38;5;241m.\u001b[39m_forward_hooks \u001b[38;5;129;01mor\u001b[39;00m \u001b[38;5;28mself\u001b[39m\u001b[38;5;241m.\u001b[39m_forward_pre_hooks \u001b[38;5;129;01mor\u001b[39;00m _global_backward_hooks\n\u001b[0;32m   1193\u001b[0m         \u001b[38;5;129;01mor\u001b[39;00m _global_forward_hooks \u001b[38;5;129;01mor\u001b[39;00m _global_forward_pre_hooks):\n\u001b[1;32m-> 1194\u001b[0m     \u001b[38;5;28;01mreturn\u001b[39;00m forward_call(\u001b[38;5;241m*\u001b[39m\u001b[38;5;28minput\u001b[39m, \u001b[38;5;241m*\u001b[39m\u001b[38;5;241m*\u001b[39mkwargs)\n\u001b[0;32m   1195\u001b[0m \u001b[38;5;66;03m# Do not call functions when jit is used\u001b[39;00m\n\u001b[0;32m   1196\u001b[0m full_backward_hooks, non_full_backward_hooks \u001b[38;5;241m=\u001b[39m [], []\n",
      "File \u001b[1;32m~\\anaconda3\\envs\\w266_torch\\lib\\site-packages\\torch\\nn\\modules\\sparse.py:160\u001b[0m, in \u001b[0;36mEmbedding.forward\u001b[1;34m(self, input)\u001b[0m\n\u001b[0;32m    159\u001b[0m \u001b[38;5;28;01mdef\u001b[39;00m \u001b[38;5;21mforward\u001b[39m(\u001b[38;5;28mself\u001b[39m, \u001b[38;5;28minput\u001b[39m: Tensor) \u001b[38;5;241m-\u001b[39m\u001b[38;5;241m>\u001b[39m Tensor:\n\u001b[1;32m--> 160\u001b[0m     \u001b[38;5;28;01mreturn\u001b[39;00m \u001b[43mF\u001b[49m\u001b[38;5;241;43m.\u001b[39;49m\u001b[43membedding\u001b[49m\u001b[43m(\u001b[49m\n\u001b[0;32m    161\u001b[0m \u001b[43m        \u001b[49m\u001b[38;5;28;43minput\u001b[39;49m\u001b[43m,\u001b[49m\u001b[43m \u001b[49m\u001b[38;5;28;43mself\u001b[39;49m\u001b[38;5;241;43m.\u001b[39;49m\u001b[43mweight\u001b[49m\u001b[43m,\u001b[49m\u001b[43m \u001b[49m\u001b[38;5;28;43mself\u001b[39;49m\u001b[38;5;241;43m.\u001b[39;49m\u001b[43mpadding_idx\u001b[49m\u001b[43m,\u001b[49m\u001b[43m \u001b[49m\u001b[38;5;28;43mself\u001b[39;49m\u001b[38;5;241;43m.\u001b[39;49m\u001b[43mmax_norm\u001b[49m\u001b[43m,\u001b[49m\n\u001b[0;32m    162\u001b[0m \u001b[43m        \u001b[49m\u001b[38;5;28;43mself\u001b[39;49m\u001b[38;5;241;43m.\u001b[39;49m\u001b[43mnorm_type\u001b[49m\u001b[43m,\u001b[49m\u001b[43m \u001b[49m\u001b[38;5;28;43mself\u001b[39;49m\u001b[38;5;241;43m.\u001b[39;49m\u001b[43mscale_grad_by_freq\u001b[49m\u001b[43m,\u001b[49m\u001b[43m \u001b[49m\u001b[38;5;28;43mself\u001b[39;49m\u001b[38;5;241;43m.\u001b[39;49m\u001b[43msparse\u001b[49m\u001b[43m)\u001b[49m\n",
      "File \u001b[1;32m~\\anaconda3\\envs\\w266_torch\\lib\\site-packages\\torch\\nn\\functional.py:2210\u001b[0m, in \u001b[0;36membedding\u001b[1;34m(input, weight, padding_idx, max_norm, norm_type, scale_grad_by_freq, sparse)\u001b[0m\n\u001b[0;32m   2204\u001b[0m     \u001b[38;5;66;03m# Note [embedding_renorm set_grad_enabled]\u001b[39;00m\n\u001b[0;32m   2205\u001b[0m     \u001b[38;5;66;03m# XXX: equivalent to\u001b[39;00m\n\u001b[0;32m   2206\u001b[0m     \u001b[38;5;66;03m# with torch.no_grad():\u001b[39;00m\n\u001b[0;32m   2207\u001b[0m     \u001b[38;5;66;03m#   torch.embedding_renorm_\u001b[39;00m\n\u001b[0;32m   2208\u001b[0m     \u001b[38;5;66;03m# remove once script supports set_grad_enabled\u001b[39;00m\n\u001b[0;32m   2209\u001b[0m     _no_grad_embedding_renorm_(weight, \u001b[38;5;28minput\u001b[39m, max_norm, norm_type)\n\u001b[1;32m-> 2210\u001b[0m \u001b[38;5;28;01mreturn\u001b[39;00m \u001b[43mtorch\u001b[49m\u001b[38;5;241;43m.\u001b[39;49m\u001b[43membedding\u001b[49m\u001b[43m(\u001b[49m\u001b[43mweight\u001b[49m\u001b[43m,\u001b[49m\u001b[43m \u001b[49m\u001b[38;5;28;43minput\u001b[39;49m\u001b[43m,\u001b[49m\u001b[43m \u001b[49m\u001b[43mpadding_idx\u001b[49m\u001b[43m,\u001b[49m\u001b[43m \u001b[49m\u001b[43mscale_grad_by_freq\u001b[49m\u001b[43m,\u001b[49m\u001b[43m \u001b[49m\u001b[43msparse\u001b[49m\u001b[43m)\u001b[49m\n",
      "\u001b[1;31mIndexError\u001b[0m: index out of range in self"
     ]
    }
   ],
   "source": [
    "## Then we try adding that <doc-sep> tokenizer, but this causes errors \n",
    "## since token 50265 is out of bounds for the matrices in the LED model.\n",
    "ARTICLE_TO_SUMMARIZE_2 = ARTICLE_TO_SUMMARIZE.replace(\"|||||\", \"<doc-sep>\")\n",
    "\n",
    "inputs = PRIMERAtokenizer(ARTICLE_TO_SUMMARIZE_2, return_tensors=\"pt\")\n",
    "\n",
    "doc_sep_loc = list(inputs['input_ids'][0]).index(50265)\n",
    "print(f\"The location of the <doc-sep> token is {doc_sep_loc}.\\n\")\n",
    "\n",
    "attention_mask = inputs['attention_mask']\n",
    "\n",
    "global_attention_mask = torch.zeros_like(attention_mask)\n",
    "global_attention_mask[:, 0] = 1           # <s> has global attention\n",
    "global_attention_mask[:, doc_sep_loc] = 1 # <doc-sep> also has global attention\n",
    "\n",
    "predicted_abstract_ids = LEDmodel.generate(inputs['input_ids'],\n",
    "                                           attention_mask=attention_mask, \n",
    "                                           global_attention_mask=global_attention_mask, \n",
    "                                           max_length=200, \n",
    "                                           num_beams=4)\n",
    "\n",
    "predicted_abstract = PRIMERAtokenizer.batch_decode(predicted_abstract_ids, skip_special_tokens=True)\n",
    "\n",
    "predicted_abstract"
   ]
  },
  {
   "cell_type": "markdown",
   "metadata": {},
   "source": [
    "# 2 The Multi_news dataset"
   ]
  },
  {
   "cell_type": "markdown",
   "metadata": {},
   "source": [
    "## 2.1 Loading the dataset"
   ]
  },
  {
   "cell_type": "code",
   "execution_count": 9,
   "metadata": {},
   "outputs": [
    {
     "name": "stderr",
     "output_type": "stream",
     "text": [
      "Found cached dataset multi_news (C:/Users/JustinTo/.cache/huggingface/datasets/multi_news/default/1.0.0/2f1f69a2bedc8ad1c5d8ae5148e4755ee7095f465c1c01ae8f85454342065a72)\n"
     ]
    }
   ],
   "source": [
    "## Loading the dataset\n",
    "# multi_train = load_dataset('multi_news', split='train')\n",
    "multi_val = load_dataset('multi_news', split='validation')\n",
    "# multi_test = load_dataset('multi_news', split='test')"
   ]
  },
  {
   "cell_type": "code",
   "execution_count": 10,
   "metadata": {},
   "outputs": [],
   "source": [
    "## Tokenizing using LED Tokenizer (essentially the same as PRIMERA)\n",
    "## Used for EDA and also subsequent model fitting\n",
    "\n",
    "# train_inputs = LEDtokenizer(multi_train['document'],\n",
    "#                             padding=\"max_length\",\n",
    "#                             max_length=16384,  # maximum sequence length is 16384\n",
    "#                             return_tensors=\"pt\",\n",
    "#                             truncation=True)\n",
    "\n",
    "val_inputs = LEDtokenizer(multi_val['document'],\n",
    "                          padding=\"max_length\",\n",
    "                          max_length=16384,  # maximum sequence length is 16384\n",
    "                          return_tensors=\"pt\",\n",
    "                          truncation=True)\n",
    "\n",
    "# test_inputs = LEDtokenizer(multi_test['document'],\n",
    "#                            padding=\"max_length\",\n",
    "#                            max_length=16384,  # maximum sequence length is 16384\n",
    "#                            return_tensors=\"pt\",\n",
    "#                            truncation=True)"
   ]
  },
  {
   "cell_type": "code",
   "execution_count": 11,
   "metadata": {},
   "outputs": [],
   "source": [
    "# train_labels = LEDtokenizer(multi_train['summary'],\n",
    "#                             padding=True,\n",
    "#                             return_tensors=\"pt\")\n",
    "\n",
    "val_labels = LEDtokenizer(multi_val['summary'],\n",
    "                          padding=True,\n",
    "                          return_tensors=\"pt\")\n",
    "\n",
    "# test_labels = LEDtokenizer(multi_test['summary'],\n",
    "#                            padding=True,\n",
    "#                            return_tensors=\"pt\")"
   ]
  },
  {
   "cell_type": "markdown",
   "metadata": {},
   "source": [
    "## 2.2 Exploratory Data Analysis (WIP to be continued)"
   ]
  },
  {
   "cell_type": "code",
   "execution_count": 15,
   "metadata": {},
   "outputs": [
    {
     "name": "stdout",
     "output_type": "stream",
     "text": [
      "The sizes are: (44972, 5622, 5622)\n"
     ]
    },
    {
     "data": {
      "text/plain": [
       "Text(0.5, 1.0, 'Size of Multi_News Dataset')"
      ]
     },
     "execution_count": 15,
     "metadata": {},
     "output_type": "execute_result"
    },
    {
     "data": {
      "image/png": "[encoded data removed]",
      "text/plain": [
       "<Figure size 640x480 with 1 Axes>"
      ]
     },
     "metadata": {},
     "output_type": "display_data"
    }
   ],
   "source": [
    "## Checking the size of the dataset\n",
    "print(f\"The sizes are: ({len(multi_train['document'])}, {len(multi_val['document'])}, {len(multi_test['document'])})\")\n",
    "\n",
    "multi_df = {\"Split\": [\"Train\", \"Val\", \"Test\"],\n",
    "            \"Size\": [len(multi_train['document']), len(multi_val['document']), len(multi_test['document'])]}\n",
    "multi_df = pd.DataFrame.from_dict(multi_df)\n",
    "\n",
    "sns.barplot(data=multi_df, x=\"Split\", y=\"Size\")\n",
    "plt.title(\"Size of Multi_News Dataset\")"
   ]
  },
  {
   "cell_type": "code",
   "execution_count": 202,
   "metadata": {},
   "outputs": [
    {
     "data": {
      "text/plain": [
       "'– The unemployment rate dropped to 8.2% last month, but the economy only added 120,000 jobs, when 203,000 new jobs had been predicted, according to today\\'s jobs report. Reaction on the Wall Street Journal\\'s MarketBeat Blog was swift: \"Woah!!! Bad number.\" The unemployment rate, however, is better news; it had been expected to hold steady at 8.3%. But the AP notes that the dip is mostly due to more Americans giving up on seeking employment.'"
      ]
     },
     "execution_count": 202,
     "metadata": {},
     "output_type": "execute_result"
    }
   ],
   "source": [
    "multi_train['summary'][0]"
   ]
  },
  {
   "cell_type": "markdown",
   "metadata": {},
   "source": [
    "# 3 Testing Baseline Performance (Multi-news)"
   ]
  },
  {
   "cell_type": "markdown",
   "metadata": {},
   "source": [
    "## 3.1 Performance on Multi_news Validation Set (without Fine-tuning)"
   ]
  },
  {
   "cell_type": "code",
   "execution_count": 179,
   "metadata": {},
   "outputs": [],
   "source": [
    "## Helper function to generate results\n",
    "\n",
    "def generate_abstract_batched(batch_size=1, start=0):\n",
    "    \n",
    "    try:\n",
    "        del val_input_ids, attention_mask, global_attention_mask, predicted_abstract_ids\n",
    "    except:\n",
    "        None\n",
    "        \n",
    "    gc.collect()\n",
    "\n",
    "    val_input_ids = val_inputs['input_ids'][start:start+batch_size].to(\"cuda\")\n",
    "    attention_mask = val_inputs['attention_mask'][start:start+batch_size].to(\"cuda\")\n",
    "\n",
    "    global_attention_mask = torch.zeros_like(attention_mask)\n",
    "    global_attention_mask[:, 0] = 1\n",
    "\n",
    "    predicted_abstract_ids = LEDmodel.generate(val_input_ids,\n",
    "                                               attention_mask=attention_mask, \n",
    "                                               global_attention_mask=global_attention_mask, \n",
    "                                               max_length=200, \n",
    "                                               num_beams=4)\n",
    "\n",
    "    predicted_abstract = LEDtokenizer.batch_decode(predicted_abstract_ids, skip_special_tokens=True)\n",
    "    \n",
    "    return predicted_abstract\n"
   ]
  },
  {
   "cell_type": "code",
   "execution_count": 59,
   "metadata": {},
   "outputs": [
    {
     "name": "stdout",
     "output_type": "stream",
     "text": [
      "Handling sample 0 now..\n",
      "Handling sample 500 now..\n",
      "Handling sample 1000 now..\n",
      "Handling sample 1500 now..\n",
      "Handling sample 2000 now..\n",
      "Handling sample 2500 now..\n",
      "Handling sample 3000 now..\n",
      "Handling sample 3500 now..\n",
      "Handling sample 4000 now..\n",
      "Handling sample 4500 now..\n",
      "Handling sample 5000 now..\n",
      "Handling sample 5500 now..\n",
      "Completed, 5622 data points from the 5622 validation samples handled.\n"
     ]
    }
   ],
   "source": [
    "## Generating answers\n",
    "answers = []\n",
    "\n",
    "for i in range(multi_val.shape[0]):\n",
    "    if i%500 == 0:\n",
    "        print(f\"Handling sample {i} now..\")\n",
    "        \n",
    "    answers.append(generate_abstract_batched(start=i))\n",
    "    \n",
    "print(f\"Completed, {i+1} data points from the {multi_val.shape[0]} validation samples handled.\")"
   ]
  },
  {
   "cell_type": "code",
   "execution_count": 80,
   "metadata": {},
   "outputs": [
    {
     "data": {
      "text/plain": [
       "{'rouge1': AggregateScore(low=Score(precision=0.45253162110316586, recall=0.26998620151089253, fmeasure=0.3241583836362227), mid=Score(precision=0.45642679639575445, recall=0.2729729530747623, fmeasure=0.3271969919816484), high=Score(precision=0.46016692175128177, recall=0.275729071344786, fmeasure=0.3299448519888343)),\n",
       " 'rouge2': AggregateScore(low=Score(precision=0.14000755912845286, recall=0.08202769814712106, fmeasure=0.09892668187304138), mid=Score(precision=0.14275065311251173, recall=0.083671023832943, fmeasure=0.10081800237960234), high=Score(precision=0.1455922502482658, recall=0.08533408180476365, fmeasure=0.10269855845729314)),\n",
       " 'rougeL': AggregateScore(low=Score(precision=0.24450394039490142, recall=0.1434096150673474, fmeasure=0.1724310740656986), mid=Score(precision=0.24720863688636047, recall=0.14505657121859272, fmeasure=0.17414673745136144), high=Score(precision=0.24996468673278543, recall=0.1468127556953943, fmeasure=0.17601751619539716))}"
      ]
     },
     "execution_count": 80,
     "metadata": {},
     "output_type": "execute_result"
    }
   ],
   "source": [
    "## Calculating the rouge score\n",
    "rouge.compute(predictions=answers,\n",
    "              references=multi_val['summary'],\n",
    "              rouge_types=[\"rouge1\", \"rouge2\", \"rougeL\"])"
   ]
  },
  {
   "cell_type": "markdown",
   "metadata": {},
   "source": [
    "## 3.2 Testing LED Large Model but with Smaller Seq Len (X-Sci Dataset; Seq Len @1024)"
   ]
  },
  {
   "cell_type": "code",
   "execution_count": 209,
   "metadata": {},
   "outputs": [],
   "source": [
    "test_inputs_small = LEDtokenizer(xsci_test_processed['abstracts'],\n",
    "                                 padding=\"max_length\",\n",
    "                                 max_length=1024,  # maximum sequence length is 16384\n",
    "                                 return_tensors=\"pt\",\n",
    "                                 truncation=True)"
   ]
  },
  {
   "cell_type": "code",
   "execution_count": 210,
   "metadata": {},
   "outputs": [],
   "source": [
    "# Modified version of the code from section 3.1\n",
    "\n",
    "def generate_abstract_batched3(batch_size=1, start=0):\n",
    "    \n",
    "    try:\n",
    "        del test_input_ids, attention_mask, global_attention_mask, predicted_abstract_ids\n",
    "    except:\n",
    "        None\n",
    "        \n",
    "    gc.collect()\n",
    "\n",
    "    test_input_ids = test_inputs_small['input_ids'][start:start+batch_size].to(\"cuda\")\n",
    "    attention_mask = test_inputs_small['attention_mask'][start:start+batch_size].to(\"cuda\")\n",
    "\n",
    "    global_attention_mask = torch.zeros_like(attention_mask)\n",
    "    global_attention_mask[:, 0] = 1\n",
    "\n",
    "    predicted_abstract_ids = LEDmodel.generate(test_input_ids,\n",
    "                                               attention_mask=attention_mask, \n",
    "                                               global_attention_mask=global_attention_mask, \n",
    "                                               max_length=200, \n",
    "                                               num_beams=4)\n",
    "\n",
    "    predicted_abstract = LEDtokenizer.batch_decode(predicted_abstract_ids, skip_special_tokens=True)\n",
    "    \n",
    "    return predicted_abstract\n"
   ]
  },
  {
   "cell_type": "code",
   "execution_count": 214,
   "metadata": {},
   "outputs": [
    {
     "name": "stdout",
     "output_type": "stream",
     "text": [
      "Handling sample 0 now..\n",
      "Handling sample 500 now..\n",
      "Handling sample 1000 now..\n",
      "Handling sample 1500 now..\n",
      "Handling sample 2000 now..\n",
      "Handling sample 2500 now..\n",
      "Handling sample 3000 now..\n",
      "Handling sample 3500 now..\n",
      "Handling sample 4000 now..\n",
      "Handling sample 4500 now..\n",
      "Handling sample 5000 now..\n",
      "Completed, 5093 data points from the 5093 X-Sci test samples handled.\n"
     ]
    }
   ],
   "source": [
    "## Generating answers\n",
    "answers = []\n",
    "\n",
    "for i in range(0, xsci_test.num_rows, 2):\n",
    "    if i%500 == 0:\n",
    "        print(f\"Handling sample {i} now..\")\n",
    "        \n",
    "    answers.append(generate_abstract_batched3(start=i, batch_size=2))\n",
    "    \n",
    "print(f\"Completed, {i+1} data points from the {xsci_test.num_rows} X-Sci test samples handled.\")"
   ]
  },
  {
   "cell_type": "code",
   "execution_count": 223,
   "metadata": {},
   "outputs": [
    {
     "data": {
      "text/plain": [
       "5093"
      ]
     },
     "execution_count": 223,
     "metadata": {},
     "output_type": "execute_result"
    }
   ],
   "source": [
    "formatted_answers = []\n",
    "for answer in answers:\n",
    "    formatted_answers += answer\n",
    "len(formatted_answers)"
   ]
  },
  {
   "cell_type": "code",
   "execution_count": 224,
   "metadata": {},
   "outputs": [
    {
     "data": {
      "text/plain": [
       "{'rouge1': AggregateScore(low=Score(precision=0.2828577881531495, recall=0.3542924090709475, fmeasure=0.29791568630342335), mid=Score(precision=0.2857364313099112, recall=0.3570928232785281, fmeasure=0.3001032870535325), high=Score(precision=0.2888360535596914, recall=0.35972154214203655, fmeasure=0.3024218936776045)),\n",
       " 'rouge2': AggregateScore(low=Score(precision=0.04961522533697241, recall=0.0620449074991023, fmeasure=0.05197015873136566), mid=Score(precision=0.05081806367689046, recall=0.06361816148842929, fmeasure=0.0532626250639876), high=Score(precision=0.05211074689167368, recall=0.06537142864233467, fmeasure=0.05463426591797183)),\n",
       " 'rougeL': AggregateScore(low=Score(precision=0.14608257812848788, recall=0.18732861173080056, fmeasure=0.15490096187722877), mid=Score(precision=0.14758506336212396, recall=0.18918630483187404, fmeasure=0.1560384691512886), high=Score(precision=0.1492249485523408, recall=0.19119455122798423, fmeasure=0.15732102830261088)),\n",
       " 'rougeLsum': AggregateScore(low=Score(precision=0.18229505995570722, recall=0.23349744507100298, fmeasure=0.193503816722923), mid=Score(precision=0.18423679607725726, recall=0.23567588797817474, fmeasure=0.1949739341925367), high=Score(precision=0.1861129706033808, recall=0.2376558275929368, fmeasure=0.19656236998027862))}"
      ]
     },
     "execution_count": 224,
     "metadata": {},
     "output_type": "execute_result"
    }
   ],
   "source": [
    "## Calculating the rouge score\n",
    "rouge.compute(predictions=formatted_answers,\n",
    "              references=[ref for ref in xsci_test_processed['related_work']],\n",
    "              use_stemmer = True)"
   ]
  },
  {
   "cell_type": "markdown",
   "metadata": {},
   "source": [
    "## 3.3 Testing LED Base Model with Longer Seq Len (X-Sci Dataset; Seq Len @16384)"
   ]
  },
  {
   "cell_type": "code",
   "execution_count": 24,
   "metadata": {},
   "outputs": [],
   "source": [
    "## Loading check point\n",
    "\n",
    "LEDmodel_small = LEDForConditionalGeneration.from_pretrained(\"allenai/led-base-16384\").to(\"cuda\").half()\n",
    "LEDtokenizer_small = AutoTokenizer.from_pretrained(\"allenai/led-base-16384\")\n",
    "\n",
    "# LEDtokenizer2 = LEDTokenizer.from_pretrained(\"allenai/led-large-16384-arxiv\")\n",
    "\n",
    "# LEDmodel = LEDModel.from_pretrained(\"allenai/led-base-16384\")\n",
    "# LEDtokenizer = LEDTokenizer.from_pretrained(\"allenai/led-base-16384\")"
   ]
  },
  {
   "cell_type": "code",
   "execution_count": 25,
   "metadata": {},
   "outputs": [
    {
     "name": "stdout",
     "output_type": "stream",
     "text": [
      "===========================================================================\n",
      "Layer (type:depth-idx)                             Param #\n",
      "===========================================================================\n",
      "├─LEDModel: 1-1                                    --\n",
      "|    └─Embedding: 2-1                              38,603,520\n",
      "|    └─LEDEncoder: 2-2                             --\n",
      "|    |    └─Embedding: 3-1                         (recursive)\n",
      "|    |    └─LEDLearnedPositionalEmbedding: 3-2     12,582,912\n",
      "|    |    └─ModuleList: 3-3                        53,157,888\n",
      "|    |    └─LayerNorm: 3-4                         1,536\n",
      "|    └─LEDDecoder: 2-3                             --\n",
      "|    |    └─Embedding: 3-5                         (recursive)\n",
      "|    |    └─LEDLearnedPositionalEmbedding: 3-6     786,432\n",
      "|    |    └─ModuleList: 3-7                        56,710,656\n",
      "|    |    └─LayerNorm: 3-8                         1,536\n",
      "├─Linear: 1-2                                      38,603,520\n",
      "===========================================================================\n",
      "Total params: 200,448,000\n",
      "Trainable params: 200,448,000\n",
      "Non-trainable params: 0\n",
      "===========================================================================\n"
     ]
    },
    {
     "data": {
      "text/plain": [
       "===========================================================================\n",
       "Layer (type:depth-idx)                             Param #\n",
       "===========================================================================\n",
       "├─LEDModel: 1-1                                    --\n",
       "|    └─Embedding: 2-1                              38,603,520\n",
       "|    └─LEDEncoder: 2-2                             --\n",
       "|    |    └─Embedding: 3-1                         (recursive)\n",
       "|    |    └─LEDLearnedPositionalEmbedding: 3-2     12,582,912\n",
       "|    |    └─ModuleList: 3-3                        53,157,888\n",
       "|    |    └─LayerNorm: 3-4                         1,536\n",
       "|    └─LEDDecoder: 2-3                             --\n",
       "|    |    └─Embedding: 3-5                         (recursive)\n",
       "|    |    └─LEDLearnedPositionalEmbedding: 3-6     786,432\n",
       "|    |    └─ModuleList: 3-7                        56,710,656\n",
       "|    |    └─LayerNorm: 3-8                         1,536\n",
       "├─Linear: 1-2                                      38,603,520\n",
       "===========================================================================\n",
       "Total params: 200,448,000\n",
       "Trainable params: 200,448,000\n",
       "Non-trainable params: 0\n",
       "==========================================================================="
      ]
     },
     "execution_count": 25,
     "metadata": {},
     "output_type": "execute_result"
    }
   ],
   "source": [
    "summary(LEDmodel_small)"
   ]
  },
  {
   "cell_type": "code",
   "execution_count": 26,
   "metadata": {},
   "outputs": [],
   "source": [
    "test_inputs_base = LEDtokenizer_small(xsci_test_processed['abstracts'],\n",
    "                                      padding=\"max_length\",\n",
    "                                      max_length=16384,  # maximum sequence length is 16384\n",
    "                                      return_tensors=\"pt\",\n",
    "                                      truncation=True)"
   ]
  },
  {
   "cell_type": "code",
   "execution_count": 27,
   "metadata": {},
   "outputs": [],
   "source": [
    "# Modified version of the code from section 3.1\n",
    "\n",
    "def generate_abstract_batched4(batch_size=1, start=0):\n",
    "    \n",
    "    try:\n",
    "        del test_input_ids, attention_mask, global_attention_mask, predicted_abstract_ids\n",
    "    except:\n",
    "        None\n",
    "        \n",
    "    gc.collect()\n",
    "\n",
    "    test_input_ids = test_inputs_base['input_ids'][start:start+batch_size].to(\"cuda\")\n",
    "    attention_mask = test_inputs_base['attention_mask'][start:start+batch_size].to(\"cuda\")\n",
    "\n",
    "    global_attention_mask = torch.zeros_like(attention_mask)\n",
    "    global_attention_mask[:, 0] = 1\n",
    "\n",
    "    predicted_abstract_ids = LEDmodel_small.generate(test_input_ids,\n",
    "                                                     attention_mask=attention_mask, \n",
    "                                                     global_attention_mask=global_attention_mask, \n",
    "                                                     max_length=200, \n",
    "                                                     num_beams=4)\n",
    "\n",
    "    predicted_abstract = LEDtokenizer.batch_decode(predicted_abstract_ids, skip_special_tokens=True)\n",
    "    \n",
    "    return predicted_abstract"
   ]
  },
  {
   "cell_type": "code",
   "execution_count": 28,
   "metadata": {},
   "outputs": [
    {
     "name": "stdout",
     "output_type": "stream",
     "text": [
      "Handling sample 0 now..\n",
      "Handling sample 500 now..\n",
      "Handling sample 1000 now..\n",
      "Handling sample 1500 now..\n",
      "Handling sample 2000 now..\n",
      "Handling sample 2500 now..\n",
      "Handling sample 3000 now..\n",
      "Handling sample 3500 now..\n",
      "Handling sample 4000 now..\n",
      "Handling sample 4500 now..\n",
      "Handling sample 5000 now..\n",
      "Completed, 5093 data points from the 5093 X-Sci test samples handled.\n"
     ]
    }
   ],
   "source": [
    "## Generating answers\n",
    "answers = []\n",
    "\n",
    "for i in range(0, xsci_test.num_rows):\n",
    "    if i%500 == 0:\n",
    "        print(f\"Handling sample {i} now..\")\n",
    "        \n",
    "    answers.append(generate_abstract_batched4(start=i, batch_size=1))\n",
    "    \n",
    "print(f\"Completed, {i+1} data points from the {xsci_test.num_rows} X-Sci test samples handled.\")"
   ]
  },
  {
   "cell_type": "code",
   "execution_count": 29,
   "metadata": {},
   "outputs": [
    {
     "data": {
      "text/plain": [
       "{'rouge1': AggregateScore(low=Score(precision=0.2565199901327265, recall=0.39696757791014436, fmeasure=0.29656905171612574), mid=Score(precision=0.25925721057856066, recall=0.39956699771590154, fmeasure=0.2989860911312683), high=Score(precision=0.2619279764408004, recall=0.4020322749067705, fmeasure=0.30113786710119694)),\n",
       " 'rouge2': AggregateScore(low=Score(precision=0.044353741421259155, recall=0.06898016797175177, fmeasure=0.051331685993534014), mid=Score(precision=0.04524739902170597, recall=0.07026989923436891, fmeasure=0.05232231619959062), high=Score(precision=0.04611685948079741, recall=0.07164729000037254, fmeasure=0.0532435890166319)),\n",
       " 'rougeL': AggregateScore(low=Score(precision=0.12733245861747325, recall=0.2037458412193547, fmeasure=0.1484822045453607), mid=Score(precision=0.12852239720465752, recall=0.20557580357587146, fmeasure=0.14954117947588846), high=Score(precision=0.12970803335699452, recall=0.20744326367849483, fmeasure=0.15053938683544651)),\n",
       " 'rougeLsum': AggregateScore(low=Score(precision=0.12735144816700875, recall=0.20380207188070382, fmeasure=0.14851553675464477), mid=Score(precision=0.12848071591465432, recall=0.20559492502050447, fmeasure=0.14951411580349), high=Score(precision=0.12973582778642034, recall=0.20743300622036234, fmeasure=0.1505093130870755))}"
      ]
     },
     "execution_count": 29,
     "metadata": {},
     "output_type": "execute_result"
    }
   ],
   "source": [
    "## Calculating the rouge score\n",
    "rouge.compute(predictions=answers,\n",
    "              references=[ref for ref in xsci_test_processed['related_work']],\n",
    "              use_stemmer = True)"
   ]
  },
  {
   "cell_type": "markdown",
   "metadata": {},
   "source": [
    "## 3.4 Testing LED Base Model with Shorter Seq Len (X-Sci Dataset; Seq Len @1024)"
   ]
  },
  {
   "cell_type": "code",
   "execution_count": 43,
   "metadata": {},
   "outputs": [],
   "source": [
    "# Modified version of the code from section 3.1\n",
    "\n",
    "test_inputs_base_short = LEDtokenizer_small(xsci_test_processed['abstracts'],\n",
    "                                            padding=\"max_length\",\n",
    "                                            max_length=1024,  # maximum sequence length is 16384\n",
    "                                            return_tensors=\"pt\",\n",
    "                                            truncation=True)\n",
    "\n",
    "def generate_abstract_batched5(batch_size=1, start=0):\n",
    "    \n",
    "    try:\n",
    "        del test_input_ids, attention_mask, global_attention_mask, predicted_abstract_ids\n",
    "    except:\n",
    "        None\n",
    "        \n",
    "    gc.collect()\n",
    "\n",
    "    test_input_ids = test_inputs_base_short['input_ids'][start:start+batch_size].to(\"cuda\")\n",
    "    attention_mask = test_inputs_base_short['attention_mask'][start:start+batch_size].to(\"cuda\")\n",
    "\n",
    "    global_attention_mask = torch.zeros_like(attention_mask)\n",
    "    global_attention_mask[:, 0] = 1\n",
    "\n",
    "    predicted_abstract_ids = LEDmodel_small.generate(test_input_ids,\n",
    "                                                     attention_mask=attention_mask, \n",
    "                                                     global_attention_mask=global_attention_mask, \n",
    "                                                     max_length=200, \n",
    "                                                     num_beams=4)\n",
    "\n",
    "    predicted_abstract = LEDtokenizer.batch_decode(predicted_abstract_ids, skip_special_tokens=True)\n",
    "    \n",
    "    return predicted_abstract"
   ]
  },
  {
   "cell_type": "code",
   "execution_count": 45,
   "metadata": {},
   "outputs": [
    {
     "name": "stdout",
     "output_type": "stream",
     "text": [
      "Handling sample 0 now..\n",
      "Handling sample 500 now..\n",
      "Handling sample 1000 now..\n",
      "Handling sample 1500 now..\n",
      "Handling sample 2000 now..\n",
      "Handling sample 2500 now..\n",
      "Handling sample 3000 now..\n",
      "Handling sample 3500 now..\n",
      "Handling sample 4000 now..\n",
      "Handling sample 4500 now..\n",
      "Handling sample 5000 now..\n",
      "Completed, 5091 data points from the 5093 X-Sci test samples handled.\n"
     ]
    }
   ],
   "source": [
    "## Generating answers\n",
    "answers = []\n",
    "\n",
    "for i in range(0, xsci_test.num_rows, 10):\n",
    "    if i%500 == 0:\n",
    "        print(f\"Handling sample {i} now..\")\n",
    "        \n",
    "    answers.append(generate_abstract_batched5(start=i, batch_size=10))\n",
    "    \n",
    "print(f\"Completed, {i+1} data points from the {xsci_test.num_rows} X-Sci test samples handled.\")"
   ]
  },
  {
   "cell_type": "code",
   "execution_count": 48,
   "metadata": {},
   "outputs": [
    {
     "data": {
      "text/plain": [
       "5093"
      ]
     },
     "execution_count": 48,
     "metadata": {},
     "output_type": "execute_result"
    }
   ],
   "source": [
    "formatted_answers = []\n",
    "for answer in answers:\n",
    "    formatted_answers += answer\n",
    "len(formatted_answers)"
   ]
  },
  {
   "cell_type": "code",
   "execution_count": 49,
   "metadata": {},
   "outputs": [
    {
     "data": {
      "text/plain": [
       "{'rouge1': AggregateScore(low=Score(precision=0.25777805593820435, recall=0.4051098131303811, fmeasure=0.3015415189229105), mid=Score(precision=0.2605307416704722, recall=0.4073830227364882, fmeasure=0.3038425918608533), high=Score(precision=0.2632880270220812, recall=0.40972315953524174, fmeasure=0.30598205781712745)),\n",
       " 'rouge2': AggregateScore(low=Score(precision=0.04618059572698381, recall=0.0720041936123576, fmeasure=0.05375759475634817), mid=Score(precision=0.04719410556350413, recall=0.07334786071855798, fmeasure=0.05477743227460616), high=Score(precision=0.04815827503150397, recall=0.07472466670500509, fmeasure=0.05573771539763886)),\n",
       " 'rougeL': AggregateScore(low=Score(precision=0.12721895297634137, recall=0.20764338390824277, fmeasure=0.15055922218080664), mid=Score(precision=0.1284154917132597, recall=0.2092942938774377, fmeasure=0.15160866212191562), high=Score(precision=0.12959589207054714, recall=0.2111048285883659, fmeasure=0.1526563709380539)),\n",
       " 'rougeLsum': AggregateScore(low=Score(precision=0.1272702102118117, recall=0.2075757810400003, fmeasure=0.15059590523889288), mid=Score(precision=0.12842577631252344, recall=0.20931902785126366, fmeasure=0.15161371578278623), high=Score(precision=0.12950740153165063, recall=0.21109252360183162, fmeasure=0.1525457392247626))}"
      ]
     },
     "execution_count": 49,
     "metadata": {},
     "output_type": "execute_result"
    }
   ],
   "source": [
    "## Calculating the rouge score\n",
    "rouge.compute(predictions=formatted_answers,\n",
    "              references=[ref for ref in xsci_test_processed['related_work']],\n",
    "              use_stemmer = True)"
   ]
  },
  {
   "cell_type": "markdown",
   "metadata": {},
   "source": [
    "## 3.5 Comparing the Results from the 4 Experiments\n",
    "### (i.e. LED Large vs Base; 16384 vs 1024 Seq Len)"
   ]
  },
  {
   "cell_type": "code",
   "execution_count": 42,
   "metadata": {},
   "outputs": [
    {
     "data": {
      "text/plain": [
       "\"We present our approach to the problem of how an agent, within an economic Multi-Agent System, can determine when it should behave strategically (i.e. learn and use models of other agents), and when it should act as a simple price-taker. We provide a framework for the incremental implementation of modeling capabilities in agents, and a description of the forms of knowledge required. The agents were implemented and different populations simulated in order to learn more about their behavior and the merits of using and learning agent models. Our results show, among other lessons, how savvy buyers can avoid being cheated'' by sellers, how price volatility can be used to quantitatively predict the benefits of deeper models, and how specific types of agent populations influence system behavior.|||||In multi-agent environments, an intelligent agent often needs to interact with other individuals or groups of agents to achieve its goals. Agent tracking is one key capability required for intelligent interaction. It involves monitoring the observable actions of other agents and inferring their unobserved actions, plans, goals and behaviors. This article examines the implications of such an agent tracking capability for agent architectures. It specifically focuses on real-time and dynamic environments, where an intelligent agent is faced with the challenge of tracking the highly flexible mix of goal-driven and reactive behaviors of other agents, in real-time. The key implication is that an agent architecture needs to provide direct support for flexible and efficient reasoning about other agents' models. In this article, such support takes the form of an architectural capability to execute the other agent's models, enabling mental simulation of their behaviors. Other architectural requirements that follow include the capabilities for (pseudo-) simultaneous execution of multiple agent models, dynamic sharing and unsharing of multiple agent models and high bandwidth inter-model communication. We have implemented an agent architecture, an experimental variant of the Soar integrated architecture, that conforms to all of these requirements. Agents based on this architecture have been implemented to execute two different tasks in a real-time, dynamic, multi-agent domain. The article presents experimental results illustrating the agents' dynamic behavior.|||||I. Introduction, 488. — II. The model with automobiles as an example, 489. — III. Examples and applications, 492. — IV. Counteracting institutions, 499. — V. Conclusion, 500.|||||The long-term goal of our field is the creation and understanding of intelligence. Productive research in AI, both practical and theoretical, benefits from a notion of intelligence that is precise enough to allow the cumulative development of robust systems and general results. This paper outlines a gradual evolution in our formal conception of intelligence that brings it closer to our informal conception and simultaneously reduces the gap between theory and practice.\""
      ]
     },
     "execution_count": 42,
     "metadata": {},
     "output_type": "execute_result"
    }
   ],
   "source": [
    "## Inputs: abstract of main article plus those of relevant works\n",
    "xsci_test_processed[0]['abstracts']"
   ]
  },
  {
   "cell_type": "code",
   "execution_count": 40,
   "metadata": {},
   "outputs": [
    {
     "data": {
      "text/plain": [
       "'Within the MAS community, some work @cite has focused on how artificial AI-based learning agents would fare in communities of similar agents. For example, @cite and @cite show how agents can learn the capabilities of others via repeated interactions, but these agents do not learn to predict what actions other might take. Most of the work in MAS also fails to recognize the possible gains from using explicit agent models to predict agent actions. @cite is an exception and gives another approach for using nested agent models. However, they do not go so far as to try to quantify the advantages of their nested models or show how these could be learned via observations. We believe that our research will bring to the foreground some of the common observations seen in these research areas and help to clarify the implications and utility of learning and using nested agent models.'"
      ]
     },
     "execution_count": 40,
     "metadata": {},
     "output_type": "execute_result"
    }
   ],
   "source": [
    "## Label: target summary\n",
    "xsci_test_processed[0]['related_work']"
   ]
  },
  {
   "cell_type": "code",
   "execution_count": 34,
   "metadata": {},
   "outputs": [
    {
     "data": {
      "text/plain": [
       "[\" in multi-agent environments, an intelligent agent often needs to interact with other individuals or groups of agents to achieve its goals. agent tracking is one key capability required for intelligent interaction. \\n it involves monitoring the observable actions of other agents and inferring their unobserved actions, plans, goals and behaviors. \\n this article examines the implications of such an agent tracking capability for agent architectures. it specifically focuses on real-time and dynamic environments, where an intelligent agent is faced with the challenge of tracking the highly flexible mix of goal-driven and reactive behaviors of other agents, in real-time. \\n the key implication is that an agent architecture needs to provide direct support for flexible and efficient reasoning about other agents' models. in this article, such support takes the form of an architectural capability to execute the other agent s models, enabling mental simulation of their behaviors. \\n other architectural requirements that follow include the capabilities for (pseudo-) simultaneous execution of multiple agent models, dynamic sharing and\"]"
      ]
     },
     "execution_count": 34,
     "metadata": {},
     "output_type": "execute_result"
    }
   ],
   "source": [
    "## Large LED; 16384 input seq len\n",
    "answers_run1[0]"
   ]
  },
  {
   "cell_type": "code",
   "execution_count": 35,
   "metadata": {},
   "outputs": [
    {
     "data": {
      "text/plain": [
       "' we present our approach to the problem of how an agent, within an economic Multi-Agent System, can determine when it should behave strategically (i.e. learn and use models of other agents ), and when it should act as a simple price-taker. we provide a framework for the incremental implementation of modeling capabilities in agents, and a description of the forms of knowledge required. \\n we have implemented an agent architecture, an experimental variant of the soar integrated architecture, that conforms to all of these requirements. \\n agents based on this architecture have been implemented to execute two different tasks in a real-time, dynamic, multi-agent domain. \\n the agents were implemented and different populations simulated in order to learn more about their behavior and the merits of using and learning agent models. \\n our results show, among other lessons, how savvy buyers can avoid being cheated by sellers, how price volatility can be used to quantitatively predict the benefits of deeper models, and how'"
      ]
     },
     "execution_count": 35,
     "metadata": {},
     "output_type": "execute_result"
    }
   ],
   "source": [
    "## Large LED; 1024 input seq len\n",
    "answers_run2[0]"
   ]
  },
  {
   "cell_type": "code",
   "execution_count": 36,
   "metadata": {},
   "outputs": [
    {
     "data": {
      "text/plain": [
       "[\"We present our approach to the problem of how an agent, within an economic Multi-Agent System, can determine when it should behave strategically (i.e. learn and use models of other agents), and when it should act as a simple price-taker. We provide a framework for the incremental implementation of modeling capabilities in agents, and a description of the forms of knowledge required. The agents were implemented and different populations simulated in order to learn more about their behavior and the merits of using and learning agent models. Our results show, among other lessons, how savvy buyers can avoid being cheated'' by sellers, how price volatility can be used to quantitatively predict the benefits of deeper models, and how specific types of agent populations influence system behavior.|||||In multi-agent environments, an intelligent agent often needs to interact with other individuals or groups of agents to achieve its goals. Agent tracking is one key capability required for intelligent interaction. It involves monitoring the observable actions of other agents and inferring\"]"
      ]
     },
     "execution_count": 36,
     "metadata": {},
     "output_type": "execute_result"
    }
   ],
   "source": [
    "## Base LED; 16384 input seq len\n",
    "answers_run3[0]"
   ]
  },
  {
   "cell_type": "code",
   "execution_count": 52,
   "metadata": {},
   "outputs": [
    {
     "data": {
      "text/plain": [
       "\"We present our approach to the problem of how an agent, within an economic Multi-Agent System, can determine when it should behave strategically (i.e. learn and use models of other agents), and when it should act as a simple price-taker. We provide a framework for the incremental implementation of modeling capabilities in agents, and a description of the forms of knowledge required. The agents were implemented and different populations simulated in order to learn more about their behavior and the merits of using and learning agent models. Our results show, among other lessons, how savvy buyers can avoid being cheated'' by sellers, how price volatility can be used to quantitatively predict the benefits of deeper models, and how specific types of agent populations influence system behavior.|||||In multi-agent environments, an intelligent agent often needs to interact with other individuals or groups of agents to achieve its goals. Agent tracking is one key capability required for intelligent interaction. It involves monitoring the observable actions of other agents and inferring\""
      ]
     },
     "execution_count": 52,
     "metadata": {},
     "output_type": "execute_result"
    }
   ],
   "source": [
    "## Base LED; 1024 input seq len\n",
    "answers_run4[0]"
   ]
  },
  {
   "cell_type": "markdown",
   "metadata": {},
   "source": [
    "# 4 X-Science Dataset"
   ]
  },
  {
   "cell_type": "markdown",
   "metadata": {},
   "source": [
    "## 4.1 Loading the dataset"
   ]
  },
  {
   "cell_type": "code",
   "execution_count": 7,
   "metadata": {},
   "outputs": [
    {
     "name": "stderr",
     "output_type": "stream",
     "text": [
      "Found cached dataset multi_x_science_sum (C:/Users/JustinTo/.cache/huggingface/datasets/multi_x_science_sum/default/1.1.0/2876ec0401f8f5c5acf7f4857dbc8d6229a390ab428321ab848f03f14b7f9729)\n",
      "Found cached dataset multi_x_science_sum (C:/Users/JustinTo/.cache/huggingface/datasets/multi_x_science_sum/default/1.1.0/2876ec0401f8f5c5acf7f4857dbc8d6229a390ab428321ab848f03f14b7f9729)\n",
      "Found cached dataset multi_x_science_sum (C:/Users/JustinTo/.cache/huggingface/datasets/multi_x_science_sum/default/1.1.0/2876ec0401f8f5c5acf7f4857dbc8d6229a390ab428321ab848f03f14b7f9729)\n"
     ]
    }
   ],
   "source": [
    "## Loading the dataset\n",
    "xsci_train = load_dataset('multi_x_science_sum', split='train')\n",
    "xsci_val = load_dataset('multi_x_science_sum', split='validation')\n",
    "xsci_test = load_dataset('multi_x_science_sum', split='test')\n",
    "\n",
    "## For text processing as X-Science have not concatenated the source articles\n",
    "DOC_SEP = \"|||||\""
   ]
  },
  {
   "cell_type": "markdown",
   "metadata": {},
   "source": [
    "## 4.2 Examining the datastructure"
   ]
  },
  {
   "cell_type": "code",
   "execution_count": 8,
   "metadata": {},
   "outputs": [
    {
     "data": {
      "text/plain": [
       "(Dataset({\n",
       "     features: ['aid', 'mid', 'abstract', 'related_work', 'ref_abstract'],\n",
       "     num_rows: 30369\n",
       " }),\n",
       " Dataset({\n",
       "     features: ['aid', 'mid', 'abstract', 'related_work', 'ref_abstract'],\n",
       "     num_rows: 5066\n",
       " }),\n",
       " Dataset({\n",
       "     features: ['aid', 'mid', 'abstract', 'related_work', 'ref_abstract'],\n",
       "     num_rows: 5093\n",
       " }))"
      ]
     },
     "execution_count": 8,
     "metadata": {},
     "output_type": "execute_result"
    }
   ],
   "source": [
    "## There are 5093 data points for the test set, each with 5 fields:\n",
    "#  - 'aid': Arxiv id\n",
    "#  - 'mid': microsoft academic graph id\n",
    "#  - 'abstract': abstract of the source article.  This is the first input\n",
    "#  - 'related work': related work section of the soruce article.  This is the reference summary essentially\n",
    "#  - 'ref_abstract': abstracts of the articles cited and used to write the related work section.  These are the additional inputs\n",
    "xsci_train, xsci_val, xsci_test"
   ]
  },
  {
   "cell_type": "code",
   "execution_count": 9,
   "metadata": {},
   "outputs": [
    {
     "data": {
      "text/plain": [
       "'In this paper we present a novel approach to global localization using an RGB-D camera in maps of visual features. For large maps, the performance of pure image matching techniques decays in terms of robustness and computational cost. Particularly, repeated occurrences of similar features due to repeating structure in the world (e.g., doorways, chairs, etc.) or missing associations between observations pose critical challenges to visual localization. We address these challenges using a two-step approach. We first estimate a candidate pose using few correspondences between features of the current camera frame and the feature map. The initial set of correspondences is established by proximity in feature space. The initial pose estimate is used in the second step to guide spatial matching of features in 3D, i.e., searching for associations where the image features are expected to be found in the map. A RANSAC algorithm is used to compute a fine estimation of the pose from the correspondences. Our approach clearly outperforms localization based on feature matching exclusively in feature space, both in terms of estimation accuracy and robustness to failure and allows for global localization in real time (30Hz).'"
      ]
     },
     "execution_count": 9,
     "metadata": {},
     "output_type": "execute_result"
    }
   ],
   "source": [
    "## Sample input\n",
    "xsci_test[5092]['abstract']"
   ]
  },
  {
   "cell_type": "code",
   "execution_count": 10,
   "metadata": {},
   "outputs": [
    {
     "data": {
      "text/plain": [
       "{'cite_N': ['@cite_18',\n",
       "  '@cite_4',\n",
       "  '@cite_22',\n",
       "  '@cite_28',\n",
       "  '@cite_27',\n",
       "  '@cite_2'],\n",
       " 'mid': ['2111610923',\n",
       "  '2049981393',\n",
       "  '',\n",
       "  '2091226544',\n",
       "  '2077022309',\n",
       "  '2127045032'],\n",
       " 'abstract': ['An RGB-D camera is a sensor which outputs range and color information about objects. Recent technological advances in this area have introduced affordable RGB-D devices in the robotics community. In this paper, we present a real-time technique for 6-DoF camera pose estimation through the incremental registration of RGB-D images. First, a set of edge features are computed from the depth and color images. An initial motion estimation is calculated through aligning the features. This initial guess is refined by applying the Iterative Closest Point algorithm on the dense point cloud data. A rigorous error analysis assesses several sets of RGB-D ground truth data via an error accumulation metric. We show that the proposed two-stage approach significantly reduces error in the pose estimation, compared to a state-of-the-art ICP registration technique.',\n",
       "  \"The authors describe a general-purpose, representation-independent method for the accurate and computationally efficient registration of 3-D shapes including free-form curves and surfaces. The method handles the full six degrees of freedom and is based on the iterative closest point (ICP) algorithm, which requires only a procedure to find the closest point on a geometric entity to a given point. The ICP algorithm always converges monotonically to the nearest local minimum of a mean-square distance metric, and the rate of convergence is rapid during the first few iterations. Therefore, given an adequate set of initial rotations and translations for a particular class of objects with a certain level of 'shape complexity', one can globally minimize the mean-square distance metric over all six degrees of freedom by testing each initial registration. One important application of this method is to register sensed data from unfixtured rigid objects with an ideal geometric model, prior to shape inspection. Experimental results show the capabilities of the registration algorithm on point sets, curves, and surfaces. >\",\n",
       "  '',\n",
       "  'We present an energy-based approach to visual odometry from RGB-D images of a Microsoft Kinect camera. To this end we propose an energy function which aims at finding the best rigid body motion to map one RGB-D image into another one, assuming a static scene filmed by a moving camera. We then propose a linearization of the energy function which leads to a 6×6 normal equation for the twist coordinates representing the rigid body motion. To allow for larger motions, we solve this equation in a coarse-to-fine scheme. Extensive quantitative analysis on recently proposed benchmark datasets shows that the proposed solution is faster than a state-of-the-art implementation of the iterative closest point (ICP) algorithm by two orders of magnitude. While ICP is more robust to large camera motion, the proposed method gives better results in the regime of small displacements which are often the case in camera tracking applications.',\n",
       "  'We present a technique to estimate the egomotion of an RGB-D sensor based on rotations of functions defined on the unit sphere. In contrast to traditional approaches, our technique is not based on image features and does not require correspondences to be generated between frames of data. Instead, consecutive functions are correlated using spherical harmonic analysis. An Extended Gaussian Image (EGI), created from the local normal estimates of a point cloud, defines each function. Correlations are efficiently computed using Fourier transformations, resulting in a 3 Degree of Freedom (3-DoF) rotation estimate. An Iterative Closest Point (ICP) process then refines the initial rotation estimate and adds a translational component, yielding a full 6-DoF egomotion estimate. The focus of this work is to investigate the merits of using spherical harmonic analysis for egomotion estimation by comparison with alternative 6-DoF methods. We compare the performance of the proposed technique with that of stand-alone ICP and image feature based methods. As with other egomotion techniques, estimation errors accumulate and degrade results, necessitating correction mechanisms for robust localization. For this report, however, we use the raw estimates; no filtering or smoothing processes are applied. In-house and external benchmark data sets are analyzed for both runtime and accuracy. Results show that the algorithm is competitive in terms of both accuracy and runtime, and future work will aim to combine the various techniques into a more robust egomotion estimation framework.',\n",
       "  'The increasing number of ICP variants leads to an explosion of algorithms and parameters. This renders difficult the selection of the appropriate combination for a given application. In this paper, we propose a state-of-the-art, modular, and efficient implementation of an ICP library. We took advantage of the recent availability of fast depth cameras to demonstrate one application example: a 3D pose tracker running at 30 Hz. For this application, we show the modularity of our ICP library by optimizing the use of lean and simple descriptors in order to ease the matching of 3D point clouds. This tracker is then evaluated using datasets recorded along a ground truth of millimeter accuracy. We provide both source code and datasets to the community in order to accelerate further comparisons in this field.']}"
      ]
     },
     "execution_count": 10,
     "metadata": {},
     "output_type": "execute_result"
    }
   ],
   "source": [
    "## Sample input (subsequent ones)\n",
    "## Note that there is one empty article\n",
    "xsci_test[5092]['ref_abstract']"
   ]
  },
  {
   "cell_type": "code",
   "execution_count": 11,
   "metadata": {},
   "outputs": [
    {
     "data": {
      "text/plain": [
       "'To the best of our knowledge, at the time being, there is no other dedicated global localization approach for the recently introduced RGB-D sensors. However, a number of novel approaches for visual odometry have been proposed, which exploit the available combination of color, density of depth and the high frame rate to improve alignment performance as compared, e.g., to the iterative closest point algorithm @cite_4 . In @cite_18 and @cite_2 adaptations of ICP are proposed to process the high amounts of data more efficiently. Steinbruecker @cite_28 present a transformation estimation based on the minimization of an energy function. For frames close to each other, they achieve enhanced runtime performance and accuracy compared to Generalized ICP @cite_22 . Using the distribution of normals, Osteen @cite_27 improve the initialization of ICP by efficiently computing the difference in orientation between two frames, which allows a substantial drift reduction. These approaches work well for computing the transformation for small incremental changes between consecutive frames, but they are of limited applicability for global localization in a map.'"
      ]
     },
     "execution_count": 11,
     "metadata": {},
     "output_type": "execute_result"
    }
   ],
   "source": [
    "## Target summary\n",
    "xsci_test[5092]['related_work']"
   ]
  },
  {
   "cell_type": "markdown",
   "metadata": {},
   "source": [
    "## 4.3 Preprocessing before tokenization"
   ]
  },
  {
   "cell_type": "code",
   "execution_count": 12,
   "metadata": {},
   "outputs": [],
   "source": [
    "pat = re.compile(\"@cite_[0-9]+\")"
   ]
  },
  {
   "cell_type": "code",
   "execution_count": 13,
   "metadata": {},
   "outputs": [],
   "source": [
    "def preprocess_dataset(example):\n",
    "    output = {}\n",
    "    output[\"abstracts\"] = (\n",
    "        example[\"abstract\"].split(\"| Abstract: \")[-1]\n",
    "        + DOC_SEP\n",
    "        + DOC_SEP.join([x for x in example[\"ref_abstract\"][\"abstract\"] if x])\n",
    "    )\n",
    "    output[\"related_work\"] = pat.sub(\"@cite\", example[\"related_work\"])\n",
    "    \n",
    "    return output"
   ]
  },
  {
   "cell_type": "code",
   "execution_count": 14,
   "metadata": {},
   "outputs": [],
   "source": [
    "def preprocess_dataset_batched(example):\n",
    "    output = {}\n",
    "    output[\"abstracts\"] = []\n",
    "    output[\"related_work\"] = []\n",
    "    \n",
    "    for abstract, ref_abstract in zip(\n",
    "        example[\"abstract\"], example[\"ref_abstract\"]\n",
    "    ):\n",
    "        output[\"abstracts\"].append(\n",
    "            abstract.split(\"| Abstract: \")[-1]\n",
    "            + DOC_SEP\n",
    "            + DOC_SEP.join([x for x in ref_abstract[\"abstract\"] if x])\n",
    "        )\n",
    "    for related_work in example[\"related_work\"]:\n",
    "        output[\"related_work\"].append(pat.sub(\"@cite\", related_work))\n",
    "    \n",
    "    return output"
   ]
  },
  {
   "cell_type": "code",
   "execution_count": 15,
   "metadata": {},
   "outputs": [
    {
     "name": "stderr",
     "output_type": "stream",
     "text": [
      "Parameter 'function'=<function preprocess_dataset_batched at 0x000001B56E013040> of the transform datasets.arrow_dataset.Dataset._map_single couldn't be hashed properly, a random hash was used instead. Make sure your transforms and parameters are serializable with pickle or dill for the dataset fingerprinting and caching to work. If you reuse this transform, the caching mechanism will consider it to be different from the previous calls and recompute everything. This warning is only showed once. Subsequent hashing failures won't be showed.\n"
     ]
    },
    {
     "data": {
      "application/vnd.jupyter.widget-view+json": {
       "model_id": "1f982225fff143a5999f67d8dcacbde7",
       "version_major": 2,
       "version_minor": 0
      },
      "text/plain": [
       "  0%|          | 0/30369 [00:00<?, ?ba/s]"
      ]
     },
     "metadata": {},
     "output_type": "display_data"
    },
    {
     "data": {
      "application/vnd.jupyter.widget-view+json": {
       "model_id": "9b6b277475914f42a99cb4d131a6aee1",
       "version_major": 2,
       "version_minor": 0
      },
      "text/plain": [
       "  0%|          | 0/5066 [00:00<?, ?ba/s]"
      ]
     },
     "metadata": {},
     "output_type": "display_data"
    },
    {
     "data": {
      "application/vnd.jupyter.widget-view+json": {
       "model_id": "76b29d0ab4fb4571815dc369a7035052",
       "version_major": 2,
       "version_minor": 0
      },
      "text/plain": [
       "  0%|          | 0/5093 [00:00<?, ?ba/s]"
      ]
     },
     "metadata": {},
     "output_type": "display_data"
    }
   ],
   "source": [
    "xsci_train_processed = xsci_train.map(\n",
    "    # preprocess_dataset,\n",
    "    preprocess_dataset_batched,\n",
    "    remove_columns=xsci_test.column_names,\n",
    "    batched=True,\n",
    "    batch_size=1,\n",
    "    )\n",
    "\n",
    "xsci_val_processed = xsci_val.map(\n",
    "    # preprocess_dataset,\n",
    "    preprocess_dataset_batched,\n",
    "    remove_columns=xsci_test.column_names,\n",
    "    batched=True,\n",
    "    batch_size=1,\n",
    "    )\n",
    "\n",
    "xsci_test_processed = xsci_test.map(\n",
    "    # preprocess_dataset,\n",
    "    preprocess_dataset_batched,\n",
    "    remove_columns=xsci_test.column_names,\n",
    "    batched=True,\n",
    "    batch_size=1,\n",
    "    )"
   ]
  },
  {
   "cell_type": "code",
   "execution_count": 16,
   "metadata": {},
   "outputs": [
    {
     "data": {
      "text/plain": [
       "(Dataset({\n",
       "     features: ['related_work', 'abstracts'],\n",
       "     num_rows: 30369\n",
       " }),\n",
       " Dataset({\n",
       "     features: ['related_work', 'abstracts'],\n",
       "     num_rows: 5066\n",
       " }),\n",
       " Dataset({\n",
       "     features: ['related_work', 'abstracts'],\n",
       "     num_rows: 5093\n",
       " }))"
      ]
     },
     "execution_count": 16,
     "metadata": {},
     "output_type": "execute_result"
    }
   ],
   "source": [
    "xsci_train_processed, xsci_val_processed, xsci_test_processed"
   ]
  },
  {
   "cell_type": "code",
   "execution_count": 17,
   "metadata": {},
   "outputs": [
    {
     "data": {
      "text/plain": [
       "\"In this paper we present a novel approach to global localization using an RGB-D camera in maps of visual features. For large maps, the performance of pure image matching techniques decays in terms of robustness and computational cost. Particularly, repeated occurrences of similar features due to repeating structure in the world (e.g., doorways, chairs, etc.) or missing associations between observations pose critical challenges to visual localization. We address these challenges using a two-step approach. We first estimate a candidate pose using few correspondences between features of the current camera frame and the feature map. The initial set of correspondences is established by proximity in feature space. The initial pose estimate is used in the second step to guide spatial matching of features in 3D, i.e., searching for associations where the image features are expected to be found in the map. A RANSAC algorithm is used to compute a fine estimation of the pose from the correspondences. Our approach clearly outperforms localization based on feature matching exclusively in feature space, both in terms of estimation accuracy and robustness to failure and allows for global localization in real time (30Hz).|||||An RGB-D camera is a sensor which outputs range and color information about objects. Recent technological advances in this area have introduced affordable RGB-D devices in the robotics community. In this paper, we present a real-time technique for 6-DoF camera pose estimation through the incremental registration of RGB-D images. First, a set of edge features are computed from the depth and color images. An initial motion estimation is calculated through aligning the features. This initial guess is refined by applying the Iterative Closest Point algorithm on the dense point cloud data. A rigorous error analysis assesses several sets of RGB-D ground truth data via an error accumulation metric. We show that the proposed two-stage approach significantly reduces error in the pose estimation, compared to a state-of-the-art ICP registration technique.|||||The authors describe a general-purpose, representation-independent method for the accurate and computationally efficient registration of 3-D shapes including free-form curves and surfaces. The method handles the full six degrees of freedom and is based on the iterative closest point (ICP) algorithm, which requires only a procedure to find the closest point on a geometric entity to a given point. The ICP algorithm always converges monotonically to the nearest local minimum of a mean-square distance metric, and the rate of convergence is rapid during the first few iterations. Therefore, given an adequate set of initial rotations and translations for a particular class of objects with a certain level of 'shape complexity', one can globally minimize the mean-square distance metric over all six degrees of freedom by testing each initial registration. One important application of this method is to register sensed data from unfixtured rigid objects with an ideal geometric model, prior to shape inspection. Experimental results show the capabilities of the registration algorithm on point sets, curves, and surfaces. >|||||We present an energy-based approach to visual odometry from RGB-D images of a Microsoft Kinect camera. To this end we propose an energy function which aims at finding the best rigid body motion to map one RGB-D image into another one, assuming a static scene filmed by a moving camera. We then propose a linearization of the energy function which leads to a 6×6 normal equation for the twist coordinates representing the rigid body motion. To allow for larger motions, we solve this equation in a coarse-to-fine scheme. Extensive quantitative analysis on recently proposed benchmark datasets shows that the proposed solution is faster than a state-of-the-art implementation of the iterative closest point (ICP) algorithm by two orders of magnitude. While ICP is more robust to large camera motion, the proposed method gives better results in the regime of small displacements which are often the case in camera tracking applications.|||||We present a technique to estimate the egomotion of an RGB-D sensor based on rotations of functions defined on the unit sphere. In contrast to traditional approaches, our technique is not based on image features and does not require correspondences to be generated between frames of data. Instead, consecutive functions are correlated using spherical harmonic analysis. An Extended Gaussian Image (EGI), created from the local normal estimates of a point cloud, defines each function. Correlations are efficiently computed using Fourier transformations, resulting in a 3 Degree of Freedom (3-DoF) rotation estimate. An Iterative Closest Point (ICP) process then refines the initial rotation estimate and adds a translational component, yielding a full 6-DoF egomotion estimate. The focus of this work is to investigate the merits of using spherical harmonic analysis for egomotion estimation by comparison with alternative 6-DoF methods. We compare the performance of the proposed technique with that of stand-alone ICP and image feature based methods. As with other egomotion techniques, estimation errors accumulate and degrade results, necessitating correction mechanisms for robust localization. For this report, however, we use the raw estimates; no filtering or smoothing processes are applied. In-house and external benchmark data sets are analyzed for both runtime and accuracy. Results show that the algorithm is competitive in terms of both accuracy and runtime, and future work will aim to combine the various techniques into a more robust egomotion estimation framework.|||||The increasing number of ICP variants leads to an explosion of algorithms and parameters. This renders difficult the selection of the appropriate combination for a given application. In this paper, we propose a state-of-the-art, modular, and efficient implementation of an ICP library. We took advantage of the recent availability of fast depth cameras to demonstrate one application example: a 3D pose tracker running at 30 Hz. For this application, we show the modularity of our ICP library by optimizing the use of lean and simple descriptors in order to ease the matching of 3D point clouds. This tracker is then evaluated using datasets recorded along a ground truth of millimeter accuracy. We provide both source code and datasets to the community in order to accelerate further comparisons in this field.\""
      ]
     },
     "execution_count": 17,
     "metadata": {},
     "output_type": "execute_result"
    }
   ],
   "source": [
    "## Post processing inputs\n",
    "xsci_test_processed[5092]['abstracts']"
   ]
  },
  {
   "cell_type": "code",
   "execution_count": 18,
   "metadata": {},
   "outputs": [
    {
     "data": {
      "text/plain": [
       "'To the best of our knowledge, at the time being, there is no other dedicated global localization approach for the recently introduced RGB-D sensors. However, a number of novel approaches for visual odometry have been proposed, which exploit the available combination of color, density of depth and the high frame rate to improve alignment performance as compared, e.g., to the iterative closest point algorithm @cite . In @cite and @cite adaptations of ICP are proposed to process the high amounts of data more efficiently. Steinbruecker @cite present a transformation estimation based on the minimization of an energy function. For frames close to each other, they achieve enhanced runtime performance and accuracy compared to Generalized ICP @cite . Using the distribution of normals, Osteen @cite improve the initialization of ICP by efficiently computing the difference in orientation between two frames, which allows a substantial drift reduction. These approaches work well for computing the transformation for small incremental changes between consecutive frames, but they are of limited applicability for global localization in a map.'"
      ]
     },
     "execution_count": 18,
     "metadata": {},
     "output_type": "execute_result"
    }
   ],
   "source": [
    "## Citation numbers changed to just \"@cite\" following the X-Sci dataset paper (vide sectiom 3.2)\n",
    "xsci_test_processed[5092]['related_work']"
   ]
  },
  {
   "cell_type": "markdown",
   "metadata": {},
   "source": [
    "## 4.4 Tokenization"
   ]
  },
  {
   "cell_type": "code",
   "execution_count": 19,
   "metadata": {},
   "outputs": [],
   "source": [
    "## Tokenizing using LED Tokenizer (essentially the same as PRIMERA)\n",
    "## Used for EDA and also subsequent model fitting\n",
    "\n",
    "# train_inputs = LEDtokenizer(xsci_train_processed['abstracts'],\n",
    "#                             padding=\"max_length\",\n",
    "#                             max_length=16384,  # maximum sequence length is 16384\n",
    "#                             return_tensors=\"pt\",\n",
    "#                             truncation=True)\n",
    "\n",
    "# val_inputs = LEDtokenizer(xsci_val_processed['abstracts'],\n",
    "#                           padding=\"max_length\",\n",
    "#                           max_length=16384,  # maximum sequence length is 16384\n",
    "#                           return_tensors=\"pt\",\n",
    "#                           truncation=True)\n",
    "\n",
    "test_inputs = LEDtokenizer(xsci_test_processed['abstracts'],\n",
    "                           padding=\"max_length\",\n",
    "                           max_length=16384,  # maximum sequence length is 16384\n",
    "                           return_tensors=\"pt\",\n",
    "                           truncation=True)"
   ]
  },
  {
   "cell_type": "code",
   "execution_count": 20,
   "metadata": {},
   "outputs": [
    {
     "data": {
      "text/plain": [
       "(torch.Size([5093, 16384]), torch.Size([5093, 16384]))"
      ]
     },
     "execution_count": 20,
     "metadata": {},
     "output_type": "execute_result"
    }
   ],
   "source": [
    "(test_inputs['input_ids'].shape, test_inputs['attention_mask'].shape)"
   ]
  },
  {
   "cell_type": "code",
   "execution_count": 21,
   "metadata": {},
   "outputs": [],
   "source": [
    "# train_labels = LEDtokenizer(xsci_train_processed['related_work'],\n",
    "#                             padding=True,\n",
    "#                             return_tensors=\"pt\")\n",
    "\n",
    "# val_labels = LEDtokenizer(xsci_val_processed['related_work'],\n",
    "#                           padding=True,\n",
    "#                           return_tensors=\"pt\")\n",
    "\n",
    "test_labels = LEDtokenizer(xsci_test_processed['related_work'],\n",
    "                           padding=True,\n",
    "                           return_tensors=\"pt\")"
   ]
  },
  {
   "cell_type": "code",
   "execution_count": 22,
   "metadata": {},
   "outputs": [
    {
     "data": {
      "text/plain": [
       "(torch.Size([5093, 418]), torch.Size([5093, 418]))"
      ]
     },
     "execution_count": 22,
     "metadata": {},
     "output_type": "execute_result"
    }
   ],
   "source": [
    "(test_labels['input_ids'].shape, test_labels['attention_mask'].shape)"
   ]
  },
  {
   "cell_type": "code",
   "execution_count": 23,
   "metadata": {},
   "outputs": [
    {
     "data": {
      "text/plain": [
       "\"We present our approach to the problem of how an agent, within an economic Multi-Agent System, can determine when it should behave strategically (i.e. learn and use models of other agents), and when it should act as a simple price-taker. We provide a framework for the incremental implementation of modeling capabilities in agents, and a description of the forms of knowledge required. The agents were implemented and different populations simulated in order to learn more about their behavior and the merits of using and learning agent models. Our results show, among other lessons, how savvy buyers can avoid being cheated'' by sellers, how price volatility can be used to quantitatively predict the benefits of deeper models, and how specific types of agent populations influence system behavior.|||||In multi-agent environments, an intelligent agent often needs to interact with other individuals or groups of agents to achieve its goals. Agent tracking is one key capability required for intelligent interaction. It involves monitoring the observable actions of other agents and inferring their unobserved actions, plans, goals and behaviors. This article examines the implications of such an agent tracking capability for agent architectures. It specifically focuses on real-time and dynamic environments, where an intelligent agent is faced with the challenge of tracking the highly flexible mix of goal-driven and reactive behaviors of other agents, in real-time. The key implication is that an agent architecture needs to provide direct support for flexible and efficient reasoning about other agents' models. In this article, such support takes the form of an architectural capability to execute the other agent's models, enabling mental simulation of their behaviors. Other architectural requirements that follow include the capabilities for (pseudo-) simultaneous execution of multiple agent models, dynamic sharing and unsharing of multiple agent models and high bandwidth inter-model communication. We have implemented an agent architecture, an experimental variant of the Soar integrated architecture, that conforms to all of these requirements. Agents based on this architecture have been implemented to execute two different tasks in a real-time, dynamic, multi-agent domain. The article presents experimental results illustrating the agents' dynamic behavior.|||||I. Introduction, 488. — II. The model with automobiles as an example, 489. — III. Examples and applications, 492. — IV. Counteracting institutions, 499. — V. Conclusion, 500.|||||The long-term goal of our field is the creation and understanding of intelligence. Productive research in AI, both practical and theoretical, benefits from a notion of intelligence that is precise enough to allow the cumulative development of robust systems and general results. This paper outlines a gradual evolution in our formal conception of intelligence that brings it closer to our informal conception and simultaneously reduces the gap between theory and practice.\""
      ]
     },
     "execution_count": 23,
     "metadata": {},
     "output_type": "execute_result"
    }
   ],
   "source": [
    "xsci_test_processed['abstracts'][0]"
   ]
  },
  {
   "cell_type": "markdown",
   "metadata": {},
   "source": [
    "## 4.5 EDAs on the X-Science Dataset (Part 1)"
   ]
  },
  {
   "cell_type": "code",
   "execution_count": 142,
   "metadata": {},
   "outputs": [],
   "source": [
    "## Estimating the token length of the train data set\n",
    "len_tr_inputs = []\n",
    "len_tr_labels = []\n",
    "for idx, sample in enumerate(xsci_train_processed['abstracts']):\n",
    "    try:\n",
    "        temp = LEDtokenizer(sample, return_tensors=\"pt\")\n",
    "        len_tr_inputs.append(temp.input_ids.shape[1])\n",
    "    except:\n",
    "        try:\n",
    "            print(f\"sample {idx} entering inner loop.\")\n",
    "            sample_1, sample_2 = sample[:len(sample//2)], sample[len(sample//2):]\n",
    "            len_tr_inputs.append(LEDtokenizer(sample_1, return_tensors=\"pt\")\n",
    "                                + LEDtokenizer(sample_2, return_tensors=\"pt\") \n",
    "                                - 2)\n",
    "        except:\n",
    "            print(f\"sample {idx} has more than double the length of 16384!\")\n",
    "            \n",
    "for idx, sample in enumerate(xsci_train_processed['related_work']):\n",
    "    try:\n",
    "        temp = LEDtokenizer(sample, return_tensors=\"pt\")\n",
    "        len_tr_labels.append(temp.input_ids.shape[1])\n",
    "    except:\n",
    "        try:\n",
    "            print(f\"sample {idx} entering inner loop.\")\n",
    "            sample_1, sample_2 = sample[:len(sample//2)], sample[len(sample//2):]\n",
    "            len_tr_labels.append(LEDtokenizer(sample_1, return_tensors=\"pt\")\n",
    "                                + LEDtokenizer(sample_2, return_tensors=\"pt\") \n",
    "                                - 2)\n",
    "        except:\n",
    "            print(f\"sample {idx} has more than double the length of 16384!\")"
   ]
  },
  {
   "cell_type": "code",
   "execution_count": 26,
   "metadata": {},
   "outputs": [],
   "source": [
    "## Estimating the token length of the validation data set\n",
    "len_v_inputs = []\n",
    "len_v_labels = []\n",
    "for idx, sample in enumerate(xsci_val_processed['abstracts']):\n",
    "    try:\n",
    "        temp = LEDtokenizer(sample, return_tensors=\"pt\")\n",
    "        len_v_inputs.append(temp.input_ids.shape[1])\n",
    "    except:\n",
    "        try:\n",
    "            print(f\"sample {idx} entering inner loop.\")\n",
    "            sample_1, sample_2 = sample[:len(sample//2)], sample[len(sample//2):]\n",
    "            len_v_inputs.append(LEDtokenizer(sample_1, return_tensors=\"pt\")\n",
    "                                + LEDtokenizer(sample_2, return_tensors=\"pt\") \n",
    "                                - 2)\n",
    "        except:\n",
    "            print(f\"sample {idx} has more than double the length of 16384!\")\n",
    "            \n",
    "for idx, sample in enumerate(xsci_val_processed['related_work']):\n",
    "    try:\n",
    "        temp = LEDtokenizer(sample, return_tensors=\"pt\")\n",
    "        len_v_labels.append(temp.input_ids.shape[1])\n",
    "    except:\n",
    "        try:\n",
    "            print(f\"sample {idx} entering inner loop.\")\n",
    "            sample_1, sample_2 = sample[:len(sample//2)], sample[len(sample//2):]\n",
    "            len_v_labels.append(LEDtokenizer(sample_1, return_tensors=\"pt\")\n",
    "                                + LEDtokenizer(sample_2, return_tensors=\"pt\") \n",
    "                                - 2)\n",
    "        except:\n",
    "            print(f\"sample {idx} has more than double the length of 16384!\")"
   ]
  },
  {
   "cell_type": "code",
   "execution_count": 105,
   "metadata": {},
   "outputs": [],
   "source": [
    "## Estimating the token length of the test data set\n",
    "len_t_inputs = []\n",
    "len_t_labels = []\n",
    "for idx, sample in enumerate(xsci_test_processed['abstracts']):\n",
    "    try:\n",
    "        temp = LEDtokenizer(sample, return_tensors=\"pt\")\n",
    "        len_t_inputs.append(temp.input_ids.shape[1])\n",
    "    except:\n",
    "        try:\n",
    "            print(f\"sample {idx} entering inner loop.\")\n",
    "            sample_1, sample_2 = sample[:len(sample//2)], sample[len(sample//2):]\n",
    "            len_t_inputs.append(LEDtokenizer(sample_1, return_tensors=\"pt\")\n",
    "                                + LEDtokenizer(sample_2, return_tensors=\"pt\") \n",
    "                                - 2)\n",
    "        except:\n",
    "            print(f\"sample {idx} has more than double the length of 16384!\")\n",
    "            \n",
    "for idx, sample in enumerate(xsci_test_processed['related_work']):\n",
    "    try:\n",
    "        temp = LEDtokenizer(sample, return_tensors=\"pt\")\n",
    "        len_t_labels.append(temp.input_ids.shape[1])\n",
    "    except:\n",
    "        try:\n",
    "            print(f\"sample {idx} entering inner loop.\")\n",
    "            sample_1, sample_2 = sample[:len(sample//2)], sample[len(sample//2):]\n",
    "            len_t_labels.append(LEDtokenizer(sample_1, return_tensors=\"pt\")\n",
    "                                + LEDtokenizer(sample_2, return_tensors=\"pt\") \n",
    "                                - 2)\n",
    "        except:\n",
    "            print(f\"sample {idx} has more than double the length of 16384!\")"
   ]
  },
  {
   "cell_type": "code",
   "execution_count": 28,
   "metadata": {},
   "outputs": [
    {
     "name": "stdout",
     "output_type": "stream",
     "text": [
      "-----Results for Train Inputs-----\n",
      "1. The number of samples evaluated in the test set is: 30369\n",
      "2. The max sequence length, using the LED tokenizer, is: 4694, at location 26192.\n",
      "3. The min sequence length, using the LED tokenizer, is: 82, at location 967.\n",
      "4. The mean and std for sequence length, using the LED tokenizer, are: 898.83 and 565.03.\n",
      "5. The number of samples exceeding 1024 token length is: 9478, which is 31.21% of the samples.\n",
      "\n",
      "-----Results for Train Labels-----\n",
      "1. The number of samples evaluated in the test set is: 30369\n",
      "2. The max sequence length, using the LED tokenizer, is: 735, at location 5414.\n",
      "3. The min sequence length, using the LED tokenizer, is: 24, at location 17798.\n",
      "4. The mean and std for sequence length, using the LED tokenizer, are: 142.15 and 58.20.\n",
      "5. The number of samples exceeding 1024 token length is: 0, which is 0.00% of the samples.\n",
      "\n",
      "-----Results for Validation Inputs-----\n",
      "1. The number of samples evaluated in the test set is: 5066\n",
      "2. The max sequence length, using the LED tokenizer, is: 4183, at location 2172.\n",
      "3. The min sequence length, using the LED tokenizer, is: 79, at location 3063.\n",
      "4. The mean and std for sequence length, using the LED tokenizer, are: 898.02 and 566.78.\n",
      "5. The number of samples exceeding 1024 token length is: 1556, which is 30.71% of the samples.\n",
      "\n",
      "-----Results for Validation Labels-----\n",
      "1. The number of samples evaluated in the test set is: 5066\n",
      "2. The max sequence length, using the LED tokenizer, is: 324, at location 2435.\n",
      "3. The min sequence length, using the LED tokenizer, is: 25, at location 1407.\n",
      "4. The mean and std for sequence length, using the LED tokenizer, are: 140.52 and 57.74.\n",
      "5. The number of samples exceeding 1024 token length is: 0, which is 0.00% of the samples.\n",
      "\n",
      "-----Results for Test Inputs-----\n",
      "1. The number of samples evaluated in the test set is: 5093\n",
      "2. The max sequence length, using the LED tokenizer, is: 6348, at location 3300.\n",
      "3. The min sequence length, using the LED tokenizer, is: 131, at location 1520.\n",
      "4. The mean and std for sequence length, using the LED tokenizer, are: 886.47 and 546.55.\n",
      "5. The number of samples exceeding 1024 token length is: 1572, which is 30.87% of the samples.\n",
      "\n",
      "-----Results for Test Labels-----\n",
      "1. The number of samples evaluated in the test set is: 5093\n",
      "2. The max sequence length, using the LED tokenizer, is: 418, at location 4155.\n",
      "3. The min sequence length, using the LED tokenizer, is: 26, at location 1167.\n",
      "4. The mean and std for sequence length, using the LED tokenizer, are: 141.86 and 58.18.\n",
      "5. The number of samples exceeding 1024 token length is: 0, which is 0.00% of the samples.\n"
     ]
    }
   ],
   "source": [
    "## Checking the results:\n",
    "print(\"-----Results for Train Inputs-----\")\n",
    "print(f\"1. The number of samples evaluated in the test set is: {len(len_tr_inputs)}\")\n",
    "print(f\"2. The max sequence length, using the LED tokenizer, is: {max(len_tr_inputs)}, at location {len_tr_inputs.index(max(len_tr_inputs))}.\")\n",
    "print(f\"3. The min sequence length, using the LED tokenizer, is: {min(len_tr_inputs)}, at location {len_tr_inputs.index(min(len_tr_inputs))}.\")\n",
    "print(f\"4. The mean and std for sequence length, using the LED tokenizer, are: {np.mean(len_tr_inputs):.2f} and {np.std(len_tr_inputs):.2f}.\")\n",
    "print(f\"5. The number of samples exceeding 1024 token length is: {np.array(len_tr_inputs)[np.array(len_tr_inputs) > 1024].shape[0]}\"\n",
    "     + f\", which is {100*np.array(len_tr_inputs)[np.array(len_tr_inputs) > 1024].shape[0]/len(len_tr_inputs):.2f}% of the samples.\")\n",
    "\n",
    "print(\"\\n-----Results for Train Labels-----\")\n",
    "print(f\"1. The number of samples evaluated in the test set is: {len(len_tr_labels)}\")\n",
    "print(f\"2. The max sequence length, using the LED tokenizer, is: {max(len_tr_labels)}, at location {len_tr_labels.index(max(len_tr_labels))}.\")\n",
    "print(f\"3. The min sequence length, using the LED tokenizer, is: {min(len_tr_labels)}, at location {len_tr_labels.index(min(len_tr_labels))}.\")\n",
    "print(f\"4. The mean and std for sequence length, using the LED tokenizer, are: {np.mean(len_tr_labels):.2f} and {np.std(len_tr_labels):.2f}.\")\n",
    "print(f\"5. The number of samples exceeding 1024 token length is: {np.array(len_tr_labels)[np.array(len_tr_labels) > 1024].shape[0]}\"\n",
    "     + f\", which is {100*np.array(len_tr_labels)[np.array(len_tr_labels) > 1024].shape[0]/len(len_tr_labels):.2f}% of the samples.\")\n",
    "\n",
    "print(\"\\n-----Results for Validation Inputs-----\")\n",
    "print(f\"1. The number of samples evaluated in the test set is: {len(len_v_inputs)}\")\n",
    "print(f\"2. The max sequence length, using the LED tokenizer, is: {max(len_v_inputs)}, at location {len_v_inputs.index(max(len_v_inputs))}.\")\n",
    "print(f\"3. The min sequence length, using the LED tokenizer, is: {min(len_v_inputs)}, at location {len_v_inputs.index(min(len_v_inputs))}.\")\n",
    "print(f\"4. The mean and std for sequence length, using the LED tokenizer, are: {np.mean(len_v_inputs):.2f} and {np.std(len_v_inputs):.2f}.\")\n",
    "print(f\"5. The number of samples exceeding 1024 token length is: {np.array(len_v_inputs)[np.array(len_v_inputs) > 1024].shape[0]}\"\n",
    "     + f\", which is {100*np.array(len_v_inputs)[np.array(len_v_inputs) > 1024].shape[0]/len(len_v_inputs):.2f}% of the samples.\")\n",
    "\n",
    "print(\"\\n-----Results for Validation Labels-----\")\n",
    "print(f\"1. The number of samples evaluated in the test set is: {len(len_v_labels)}\")\n",
    "print(f\"2. The max sequence length, using the LED tokenizer, is: {max(len_v_labels)}, at location {len_v_labels.index(max(len_v_labels))}.\")\n",
    "print(f\"3. The min sequence length, using the LED tokenizer, is: {min(len_v_labels)}, at location {len_v_labels.index(min(len_v_labels))}.\")\n",
    "print(f\"4. The mean and std for sequence length, using the LED tokenizer, are: {np.mean(len_v_labels):.2f} and {np.std(len_v_labels):.2f}.\")\n",
    "print(f\"5. The number of samples exceeding 1024 token length is: {np.array(len_v_labels)[np.array(len_v_labels) > 1024].shape[0]}\"\n",
    "     + f\", which is {100*np.array(len_v_labels)[np.array(len_v_labels) > 1024].shape[0]/len(len_v_labels):.2f}% of the samples.\")\n",
    "\n",
    "print(\"\\n-----Results for Test Inputs-----\")\n",
    "print(f\"1. The number of samples evaluated in the test set is: {len(len_t_inputs)}\")\n",
    "print(f\"2. The max sequence length, using the LED tokenizer, is: {max(len_t_inputs)}, at location {len_t_inputs.index(max(len_t_inputs))}.\")\n",
    "print(f\"3. The min sequence length, using the LED tokenizer, is: {min(len_t_inputs)}, at location {len_t_inputs.index(min(len_t_inputs))}.\")\n",
    "print(f\"4. The mean and std for sequence length, using the LED tokenizer, are: {np.mean(len_t_inputs):.2f} and {np.std(len_t_inputs):.2f}.\")\n",
    "print(f\"5. The number of samples exceeding 1024 token length is: {np.array(len_t_inputs)[np.array(len_t_inputs) > 1024].shape[0]}\"\n",
    "     + f\", which is {100*np.array(len_t_inputs)[np.array(len_t_inputs) > 1024].shape[0]/len(len_t_inputs):.2f}% of the samples.\")\n",
    "\n",
    "print(\"\\n-----Results for Test Labels-----\")\n",
    "print(f\"1. The number of samples evaluated in the test set is: {len(len_t_labels)}\")\n",
    "print(f\"2. The max sequence length, using the LED tokenizer, is: {max(len_t_labels)}, at location {len_t_labels.index(max(len_t_labels))}.\")\n",
    "print(f\"3. The min sequence length, using the LED tokenizer, is: {min(len_t_labels)}, at location {len_t_labels.index(min(len_t_labels))}.\")\n",
    "print(f\"4. The mean and std for sequence length, using the LED tokenizer, are: {np.mean(len_t_labels):.2f} and {np.std(len_t_labels):.2f}.\")\n",
    "print(f\"5. The number of samples exceeding 1024 token length is: {np.array(len_t_labels)[np.array(len_t_labels) > 1024].shape[0]}\"\n",
    "     + f\", which is {100*np.array(len_t_labels)[np.array(len_t_labels) > 1024].shape[0]/len(len_t_labels):.2f}% of the samples.\")"
   ]
  },
  {
   "cell_type": "markdown",
   "metadata": {},
   "source": [
    "## 4.6 Some Interesting Samples (shows the dataset may benefit from some clearning?)"
   ]
  },
  {
   "cell_type": "code",
   "execution_count": 31,
   "metadata": {},
   "outputs": [
    {
     "data": {
      "text/plain": [
       "'For additional information about architectures, algorithms, and applications of deep learning, please refer the survey @cite .'"
      ]
     },
     "execution_count": 31,
     "metadata": {},
     "output_type": "execute_result"
    }
   ],
   "source": [
    "# Summary of shortest length (24!!) in the traininhg set\n",
    "xsci_train_processed[17798]['related_work']"
   ]
  },
  {
   "cell_type": "code",
   "execution_count": 32,
   "metadata": {},
   "outputs": [
    {
     "data": {
      "text/plain": [
       "'A good overview of transfer learning research and terminology can be found at: @cite , we follow this terminology.'"
      ]
     },
     "execution_count": 32,
     "metadata": {},
     "output_type": "execute_result"
    }
   ],
   "source": [
    "# Summary of shortest length (25!!) in the traininhg set\n",
    "xsci_val_processed[1407]['related_work']"
   ]
  },
  {
   "cell_type": "code",
   "execution_count": 33,
   "metadata": {},
   "outputs": [
    {
     "data": {
      "text/plain": [
       "'Recent surveys @cite , @cite , @cite may provide additional background on domain adaptation and transfer learning.'"
      ]
     },
     "execution_count": 33,
     "metadata": {},
     "output_type": "execute_result"
    }
   ],
   "source": [
    "# Summary of shortest length (26!!) in the traininhg set\n",
    "xsci_test_processed[1167]['related_work']"
   ]
  },
  {
   "cell_type": "markdown",
   "metadata": {},
   "source": [
    "## 4.7 EDAs on the X-Science Dataset (Part 2)"
   ]
  },
  {
   "cell_type": "code",
   "execution_count": 102,
   "metadata": {},
   "outputs": [],
   "source": [
    "## Statistics at source article level\n",
    "\n",
    "len_tr_sources = []\n",
    "len_v_sources = []\n",
    "len_t_sources = []\n",
    "\n",
    "for idx, (abstract, references) in enumerate(zip(xsci_train['abstract'], xsci_train['ref_abstract'])):\n",
    "    \n",
    "    abs_len = LEDtokenizer(abstract, return_tensors=\"pt\").input_ids.shape[1]\n",
    "    ref_lens = [LEDtokenizer(reference, return_tensors=\"pt\").input_ids.shape[1] for reference in references['abstract'] if len(reference)>0]\n",
    "    \n",
    "    len_tr_sources.append(tuple([abs_len]+ref_lens))\n",
    "    \n",
    "for idx, (abstract, references) in enumerate(zip(xsci_val['abstract'], xsci_val['ref_abstract'])):\n",
    "    \n",
    "    abs_len = LEDtokenizer(abstract, return_tensors=\"pt\").input_ids.shape[1]\n",
    "    ref_lens = [LEDtokenizer(reference, return_tensors=\"pt\").input_ids.shape[1] for reference in references['abstract'] if len(reference)>0]\n",
    "    \n",
    "    len_v_sources.append(tuple([abs_len]+ref_lens))    \n",
    "\n",
    "for idx, (abstract, references) in enumerate(zip(xsci_test['abstract'], xsci_test['ref_abstract'])):\n",
    "    \n",
    "    abs_len = LEDtokenizer(abstract, return_tensors=\"pt\").input_ids.shape[1]\n",
    "    ref_lens = [LEDtokenizer(reference, return_tensors=\"pt\").input_ids.shape[1] for reference in references['abstract'] if len(reference)>0]\n",
    "    \n",
    "    len_t_sources.append(tuple([abs_len]+ref_lens))"
   ]
  },
  {
   "cell_type": "code",
   "execution_count": 155,
   "metadata": {},
   "outputs": [
    {
     "name": "stdout",
     "output_type": "stream",
     "text": [
      "-----Results for Training Set (by Source Article)-----\n",
      "1. Mean and std of the abstract of the main article: 215.18, 65.89.\n",
      "2. Mean and std of the abstract of the reference articles: 199.48, 72.02.\n",
      "3. Mean and std of all abstracts combined: 203.03, 70.98.\n",
      "4. Mean and std of the number of abstracts per sample: 4.43, 2.62.\n",
      "5. Max number of abstracts per sample: 21, at location 2942\n",
      "6. Min number of abstracts per sample: 2, at location 1\n",
      "7. Most common number of abstracts per sample: 2, occuring in 7814 samples.\n",
      "\n"
     ]
    },
    {
     "data": {
      "text/plain": [
       "Text(0, 0.5, 'Total Token Length')"
      ]
     },
     "execution_count": 155,
     "metadata": {},
     "output_type": "execute_result"
    },
    {
     "data": {
      "image/png": "[encoded data removed]",
      "text/plain": [
       "<Figure size 640x480 with 1 Axes>"
      ]
     },
     "metadata": {},
     "output_type": "display_data"
    }
   ],
   "source": [
    "## Stat for Training Set\n",
    "ref_articles_tr = []\n",
    "all_articles_tr = []\n",
    "for l in [list(articles[1:]) for articles in len_tr_sources]:\n",
    "    ref_articles_tr += l\n",
    "for l in [list(articles) for articles in len_tr_sources]:\n",
    "    all_articles_tr += l \n",
    "\n",
    "print(\"-----Results for Training Set (by Source Article)-----\")\n",
    "print(f\"1. Mean and std of the abstract of the main article: {np.mean([articles[0] for articles in len_tr_sources]):.2f}\"\n",
    "     + f\", {np.std([articles[0] for articles in len_tr_sources]):.2f}.\")\n",
    "print(f\"2. Mean and std of the abstract of the reference articles: {np.mean(ref_articles_tr):.2f}\"\n",
    "     + f\", {np.std(ref_articles_tr):.2f}.\")\n",
    "print(f\"3. Mean and std of all abstracts combined: {np.mean(all_articles_tr):.2f}\"\n",
    "     + f\", {np.std(all_articles_tr):.2f}.\")\n",
    "print(f\"4. Mean and std of the number of abstracts per sample: {np.mean([len(ref) for ref in len_tr_sources]):.2f}\"\n",
    "     + f\", {np.std([len(ref) for ref in len_tr_sources]):.2f}.\")\n",
    "print(f\"5. Max number of abstracts per sample: {max([len(ref) for ref in len_tr_sources])}, at location {[len(ref) for ref in len_tr_sources].index(max([len(ref) for ref in len_tr_sources]))}\")\n",
    "print(f\"6. Min number of abstracts per sample: {min([len(ref) for ref in len_tr_sources])}, at location {[len(ref) for ref in len_tr_sources].index(min([len(ref) for ref in len_tr_sources]))}\")\n",
    "print(f\"7. Most common number of abstracts per sample: {st.mode([len(ref) for ref in len_tr_sources]).mode[0]}, occuring in {st.mode([len(ref) for ref in len_tr_sources]).count[0]} samples.\\n\")\n",
    "\n",
    "sns.scatterplot(x=[len(ref) for ref in len_tr_sources],\n",
    "                y=len_tr_inputs)\n",
    "plt.title(\"Total Token Length Vs No. of Articles (Training Set)\")\n",
    "plt.xlabel(\"No. of Articles\")\n",
    "plt.ylabel(\"Total Token Length\")"
   ]
  },
  {
   "cell_type": "code",
   "execution_count": 176,
   "metadata": {},
   "outputs": [
    {
     "data": {
      "text/plain": [
       "Text(0, 0.5, 'Total Token Length')"
      ]
     },
     "execution_count": 176,
     "metadata": {},
     "output_type": "execute_result"
    },
    {
     "data": {
      "image/png": "[encoded data removed]",
      "text/plain": [
       "<Figure size 640x480 with 1 Axes>"
      ]
     },
     "metadata": {},
     "output_type": "display_data"
    }
   ],
   "source": [
    "## Boxplot for Tarining Set\n",
    "sns.boxplot(x=[len(ref) for ref in len_tr_sources],\n",
    "            y=len_tr_inputs)\n",
    "plt.title(\"Total Token Length Vs No. of Articles (Training Set)\")\n",
    "plt.xlabel(\"No. of Articles\")\n",
    "plt.ylabel(\"Total Token Length\")"
   ]
  },
  {
   "cell_type": "code",
   "execution_count": 169,
   "metadata": {},
   "outputs": [
    {
     "name": "stdout",
     "output_type": "stream",
     "text": [
      "-----Results for Validation Set (by Source Article)-----\n",
      "1. Mean and std of the abstract of the main article: 213.59, 65.91.\n",
      "2. Mean and std of the abstract of the reference articles: 199.55, 72.47.\n",
      "3. Mean and std of all abstracts combined: 202.72, 71.28.\n",
      "4. Mean and std of the number of abstracts per sample: 4.43, 2.63.\n",
      "5. Max number of abstracts per sample: 20, at location 2172\n",
      "6. Min number of abstracts per sample: 2, at location 0\n",
      "7. Most common number of abstracts per sample: 2, occuring in 1293 samples.\n",
      "\n"
     ]
    },
    {
     "data": {
      "text/plain": [
       "Text(0, 0.5, 'Total Token Length')"
      ]
     },
     "execution_count": 169,
     "metadata": {},
     "output_type": "execute_result"
    },
    {
     "data": {
      "image/png": "[encoded data removed]",
      "text/plain": [
       "<Figure size 640x480 with 1 Axes>"
      ]
     },
     "metadata": {},
     "output_type": "display_data"
    }
   ],
   "source": [
    "## Stat for Validation Set\n",
    "ref_articles_v = []\n",
    "all_articles_v = []\n",
    "for l in [list(articles[1:]) for articles in len_v_sources]:\n",
    "    ref_articles_v += l\n",
    "for l in [list(articles) for articles in len_v_sources]:\n",
    "    all_articles_v += l \n",
    "\n",
    "print(\"-----Results for Validation Set (by Source Article)-----\")\n",
    "print(f\"1. Mean and std of the abstract of the main article: {np.mean([articles[0] for articles in len_v_sources]):.2f}\"\n",
    "     + f\", {np.std([articles[0] for articles in len_v_sources]):.2f}.\")\n",
    "print(f\"2. Mean and std of the abstract of the reference articles: {np.mean(ref_articles_v):.2f}\"\n",
    "     + f\", {np.std(ref_articles_v):.2f}.\")\n",
    "print(f\"3. Mean and std of all abstracts combined: {np.mean(all_articles_v):.2f}\"\n",
    "     + f\", {np.std(all_articles_v):.2f}.\")\n",
    "print(f\"4. Mean and std of the number of abstracts per sample: {np.mean([len(ref) for ref in len_v_sources]):.2f}\"\n",
    "     + f\", {np.std([len(ref) for ref in len_v_sources]):.2f}.\")\n",
    "print(f\"5. Max number of abstracts per sample: {max([len(ref) for ref in len_v_sources])}, at location {[len(ref) for ref in len_v_sources].index(max([len(ref) for ref in len_v_sources]))}\")\n",
    "print(f\"6. Min number of abstracts per sample: {min([len(ref) for ref in len_v_sources])}, at location {[len(ref) for ref in len_v_sources].index(min([len(ref) for ref in len_v_sources]))}\")\n",
    "print(f\"7. Most common number of abstracts per sample: {st.mode([len(ref) for ref in len_v_sources]).mode[0]}, occuring in {st.mode([len(ref) for ref in len_v_sources]).count[0]} samples.\\n\")\n",
    "\n",
    "sns.scatterplot(x=[len(ref) for ref in len_v_sources],\n",
    "                y=len_v_inputs)\n",
    "plt.title(\"Total Token Length Vs No. of Articles (Validation Set)\")\n",
    "plt.xlabel(\"No. of Articles\")\n",
    "plt.ylabel(\"Total Token Length\")"
   ]
  },
  {
   "cell_type": "code",
   "execution_count": 174,
   "metadata": {},
   "outputs": [
    {
     "data": {
      "text/plain": [
       "Text(0, 0.5, 'Total Token Length')"
      ]
     },
     "execution_count": 174,
     "metadata": {},
     "output_type": "execute_result"
    },
    {
     "data": {
      "image/png": "[encoded data removed]",
      "text/plain": [
       "<Figure size 640x480 with 1 Axes>"
      ]
     },
     "metadata": {},
     "output_type": "display_data"
    }
   ],
   "source": [
    "## Boxplot for Validation Set\n",
    "sns.boxplot(x=[len(ref) for ref in len_v_sources],\n",
    "            y=len_v_inputs)\n",
    "plt.title(\"Total Token Length Vs No. of Articles (Validation Set)\")\n",
    "plt.xlabel(\"No. of Articles\")\n",
    "plt.ylabel(\"Total Token Length\")"
   ]
  },
  {
   "cell_type": "code",
   "execution_count": 106,
   "metadata": {},
   "outputs": [
    {
     "name": "stdout",
     "output_type": "stream",
     "text": [
      "-----Results for Test Set (by Source Article)-----\n",
      "1. Mean and std of the abstract of the main article: 213.96, 68.09.\n",
      "2. Mean and std of the abstract of the reference articles: 198.21, 74.32.\n",
      "3. Mean and std of all abstracts combined: 201.80, 73.24.\n",
      "4. Mean and std of the number of abstracts per sample: 4.39, 2.55.\n",
      "5. Max number of abstracts per sample: 19, at location 3300\n",
      "6. Min number of abstracts per sample: 2, at location 1\n",
      "7. Most common number of abstracts per sample: 2, occuring in 1308 samples.\n",
      "\n"
     ]
    },
    {
     "data": {
      "text/plain": [
       "Text(0, 0.5, 'Total Token Length')"
      ]
     },
     "execution_count": 106,
     "metadata": {},
     "output_type": "execute_result"
    },
    {
     "data": {
      "image/png": "[encoded data removed]",
      "text/plain": [
       "<Figure size 640x480 with 1 Axes>"
      ]
     },
     "metadata": {},
     "output_type": "display_data"
    }
   ],
   "source": [
    "## Stat for Test Set\n",
    "ref_articles_t = []\n",
    "all_articles_t = []\n",
    "for l in [list(articles[1:]) for articles in len_t_sources]:\n",
    "    ref_articles_t += l\n",
    "for l in [list(articles) for articles in len_t_sources]:\n",
    "    all_articles_t += l \n",
    "\n",
    "print(\"-----Results for Test Set (by Source Article)-----\")\n",
    "print(f\"1. Mean and std of the abstract of the main article: {np.mean([articles[0] for articles in len_t_sources]):.2f}\"\n",
    "     + f\", {np.std([articles[0] for articles in len_t_sources]):.2f}.\")\n",
    "print(f\"2. Mean and std of the abstract of the reference articles: {np.mean(ref_articles_t):.2f}\"\n",
    "     + f\", {np.std(ref_articles_t):.2f}.\")\n",
    "print(f\"3. Mean and std of all abstracts combined: {np.mean(all_articles_t):.2f}\"\n",
    "     + f\", {np.std(all_articles_t):.2f}.\")\n",
    "print(f\"4. Mean and std of the number of abstracts per sample: {np.mean([len(ref) for ref in len_t_sources]):.2f}\"\n",
    "     + f\", {np.std([len(ref) for ref in len_t_sources]):.2f}.\")\n",
    "print(f\"5. Max number of abstracts per sample: {max([len(ref) for ref in len_t_sources])}, at location {[len(ref) for ref in len_t_sources].index(max([len(ref) for ref in len_t_sources]))}\")\n",
    "print(f\"6. Min number of abstracts per sample: {min([len(ref) for ref in len_t_sources])}, at location {[len(ref) for ref in len_t_sources].index(min([len(ref) for ref in len_t_sources]))}\")\n",
    "print(f\"7. Most common number of abstracts per sample: {st.mode([len(ref) for ref in len_t_sources]).mode[0]}, occuring in {st.mode([len(ref) for ref in len_t_sources]).count[0]} samples.\\n\")\n",
    "\n",
    "sns.scatterplot(x=[len(ref) for ref in len_t_sources],\n",
    "                y=len_t_inputs)\n",
    "plt.title(\"Total Token Length Vs No. of Articles (Test Set)\")\n",
    "plt.xlabel(\"No. of Articles\")\n",
    "plt.ylabel(\"Total Token Length\")"
   ]
  },
  {
   "cell_type": "code",
   "execution_count": 178,
   "metadata": {},
   "outputs": [
    {
     "data": {
      "text/plain": [
       "Text(0, 0.5, 'Total Token Length')"
      ]
     },
     "execution_count": 178,
     "metadata": {},
     "output_type": "execute_result"
    },
    {
     "data": {
      "image/png": "[encoded data removed]",
      "text/plain": [
       "<Figure size 640x480 with 1 Axes>"
      ]
     },
     "metadata": {},
     "output_type": "display_data"
    }
   ],
   "source": [
    "## Boxplot for Tarining Set\n",
    "sns.boxplot(x=[len(ref) for ref in len_t_sources],\n",
    "            y=len_t_inputs)\n",
    "plt.title(\"Total Token Length Vs No. of Articles (Test Set)\")\n",
    "plt.xlabel(\"No. of Articles\")\n",
    "plt.ylabel(\"Total Token Length\")"
   ]
  },
  {
   "cell_type": "markdown",
   "metadata": {},
   "source": [
    "## 4.8 Another Batch of Interesting Samples (Samples with V Large No of Refernces)"
   ]
  },
  {
   "cell_type": "code",
   "execution_count": 162,
   "metadata": {},
   "outputs": [
    {
     "data": {
      "text/plain": [
       "['Data-driven algorithms have surpassed traditional techniques in almost every aspect in robotic vision problems. Such algorithms need vast amounts of quality data to be able to work properly after their training process. Gathering and annotating that sheer amount of data in the real world is a time-consuming and error-prone task. Those problems limit scale and quality. Synthetic data generation has become increasingly popular since it is faster to generate and automatic to annotate. However, most of the current datasets and environments lack realism, interactions, and details from the real world. UnrealROX is an environment built over Unreal Engine 4 which aims to reduce that reality gap by leveraging hyperrealistic indoor scenes that are explored by robot agents which also interact with objects in a visually realistic manner in that simulated world. Photorealistic scenes and robots are rendered by Unreal Engine into a virtual reality headset which captures gaze so that a human operator can move the robot and use controllers for the robotic hands; scene information is dumped on a per-frame basis so that it can be reproduced offline to generate raw data and ground truth annotations. This virtual reality environment enables robotic vision researchers to generate realistic and visually plausible data with full ground truth for a wide variety of problems such as class and instance semantic segmentation, object detection, depth estimation, visual grasping, and navigation.',\n",
       " 'UnrealCV is a project to help computer vision researchers build virtual worlds using Unreal Engine 4 (UE4). It extends UE4 with a plugin by providing (1) A set of UnrealCV commands to interact with the virtual world. (2) Communication between UE4 and an external program, such as Caffe. UnrealCV can be used in two ways. The first one is using a compiled game binary with UnrealCV embedded. This is as simple as running a game, no knowledge of Unreal Engine is required. The second is installing UnrealCV plugin to Unreal Engine 4 (UE4) and use the editor of UE4 to build a new virtual world. UnrealCV is an open-source software under the MIT license. Since the initial release in September 2016, it has gathered an active community of users, including students and researchers.',\n",
       " 'Several RGB-D datasets have been publicized over the past few years for facilitating research in computer vision and robotics. However, the lack of comprehensive and fine-grained annotation in these RGB-D datasets has posed challenges to their widespread usage. In this paper, we introduce SceneNN, an RGB-D scene dataset consisting of 100 scenes. All scenes are reconstructed into triangle meshes and have per-vertex and per-pixel annotation. We further enriched the dataset with fine-grained information such as axis-aligned bounding boxes, oriented bounding boxes, and object poses. We used the dataset as a benchmark to evaluate the state-of-the-art methods on relevant research problems such as intrinsic decomposition and shape completion. Our dataset and annotation tools are available at http: www.scenenn.net.',\n",
       " 'In this paper, we address the shape-from-shading problem by training deep networks with synthetic images. Unlike conventional approaches that combine deep learning and synthetic imagery, we propose an approach that does not need any external shape dataset to render synthetic images. Our approach consists of two synergistic processes: the evolution of complex shapes from simple primitives, and the training of a deep network for shape-from-shading. The evolution generates better shapes guided by the network training, while the training improves by using the evolved shapes. We show that our approach achieves state-of-the-art performance on a shape-from-shading benchmark.',\n",
       " 'Ground truth optical flow is difficult to measure in real scenes with natural motion. As a result, optical flow data sets are restricted in terms of size, complexity, and diversity, making optical flow algorithms difficult to train and test on realistic data. We introduce a new optical flow data set derived from the open source 3D animated short film Sintel. This data set has important features not present in the popular Middlebury flow evaluation: long sequences, large motions, specular reflections, motion blur, defocus blur, and atmospheric effects. Because the graphics data that generated the movie is open source, we are able to render scenes under conditions of varying complexity to evaluate where existing flow algorithms fail. We evaluate several recent optical flow algorithms and find that current highly-ranked methods on the Middlebury evaluation have difficulty with this more complex data set suggesting further research on optical flow estimation is needed. To validate the use of synthetic data, we compare the image- and flow-statistics of Sintel to those of real films and videos and show that they are similar. The data set, metrics, and evaluation website are publicly available.',\n",
       " 'Estimating human pose, shape, and motion from images and videos are fundamental challenges with many applications. Recent advances in 2D human pose estimation use large amounts of manually-labeled training data for learning convolutional neural networks (CNNs). Such data is time consuming to acquire and difficult to extend. Moreover, manual labeling of 3D pose, depth and motion is impractical. In this work we present SURREAL (Synthetic hUmans foR REAL tasks): a new large-scale dataset with synthetically-generated but realistic images of people rendered from 3D sequences of human motion capture data. We generate more than 6 million frames together with ground truth pose, depth maps, and segmentation masks. We show that CNNs trained on our synthetic dataset allow for accurate human depth estimation and human part segmentation in real RGB images. Our results and the new dataset open up new possibilities for advancing person analysis using cheap and large-scale synthetic data.',\n",
       " 'Recent progress in computer vision has been driven by high-capacity models trained on large datasets. Unfortunately, creating large datasets with pixel-level labels has been extremely costly due to the amount of human effort required. In this paper, we present an approach to rapidly creating pixel-accurate semantic label maps for images extracted from modern computer games. Although the source code and the internal operation of commercial games are inaccessible, we show that associations between image patches can be reconstructed from the communication between the game and the graphics hardware. This enables rapid propagation of semantic labels within and across images synthesized by the game, with no access to the source code or the content. We validate the presented approach by producing dense pixel-level semantic annotations for 25 thousand images synthesized by a photorealistic open-world computer game. Experiments on semantic segmentation datasets show that using the acquired data to supplement real-world images significantly increases accuracy and that the acquired data enables reducing the amount of hand-labeled real-world data: models trained with game data and just ( 1 3 ) of the CamVid training set outperform models trained on the complete CamVid training set.',\n",
       " 'Although RGB-D sensors have enabled major break-throughs for several vision tasks, such as 3D reconstruction, we have not attained the same level of success in high-level scene understanding. Perhaps one of the main reasons is the lack of a large-scale benchmark with 3D annotations and 3D evaluation metrics. In this paper, we introduce an RGB-D benchmark suite for the goal of advancing the state-of-the-arts in all major scene understanding tasks. Our dataset is captured by four different sensors and contains 10,335 RGB-D images, at a similar scale as PASCAL VOC. The whole dataset is densely annotated and includes 146,617 2D polygons and 64,595 3D bounding boxes with accurate object orientations, as well as a 3D room layout and scene category for each image. This dataset enables us to train data-hungry algorithms for scene-understanding tasks, evaluate them using meaningful 3D metrics, avoid overfitting to a small testing set, and study cross-sensor bias.',\n",
       " 'Modern computer vision algorithms typically require expensive data acquisition and accurate manual labeling. In this work, we instead leverage the recent progress in computer graphics to generate fully labeled, dynamic, and photo-realistic proxy virtual worlds. We propose an efficient real-to-virtual world cloning method, and validate our approach by building and publicly releasing a new video dataset, called Virtual KITTI (see this http URL), automatically labeled with accurate ground truth for object detection, tracking, scene and instance segmentation, depth, and optical flow. We provide quantitative experimental evidence suggesting that (i) modern deep learning algorithms pre-trained on real data behave similarly in real and virtual worlds, and (ii) pre-training on virtual data improves performance. As the gap between real and virtual worlds is small, virtual worlds enable measuring the impact of various weather and imaging conditions on recognition performance, all other things being equal. We show these factors may affect drastically otherwise high-performing deep models for tracking.',\n",
       " 'Developing visual perception models for active agents and sensorimotor control in the physical world are cumbersome as existing algorithms are too slow to efficiently learn in real-time and robots are fragile and costly. This has given rise to learning-in-simulation which consequently casts a question on whether the results transfer to real-world. In this paper, we investigate developing real-world perception for active agents, propose Gibson Environment for this purpose, and showcase a set of perceptual tasks learned therein. Gibson is based upon virtualizing real spaces, rather than artificially designed ones, and currently includes over 1400 floor spaces from 572 full buildings. The main characteristics of Gibson are: I. being from the real-world and reflecting its semantic complexity, II. having an internal synthesis mechanism \"Goggles\" enabling deploying the trained models in real-world without needing domain adaptation, III. embodiment of agents and making them subject to constraints of physics and space.',\n",
       " 'Bridging the ‘reality gap’ that separates simulated robotics from experiments on hardware could accelerate robotic research through improved data availability. This paper explores domain randomization, a simple technique for training models on simulated images that transfer to real images by randomizing rendering in the simulator. With enough variability in the simulator, the real world may appear to the model as just another variation. We focus on the task of object localization, which is a stepping stone to general robotic manipulation skills. We find that it is possible to train a real-world object detector that is accurate to 1.5 cm and robust to distractors and partial occlusions using only data from a simulator with non-realistic random textures. To demonstrate the capabilities of our detectors, we show they can be used to perform grasping in a cluttered environment. To our knowledge, this is the first successful transfer of a deep neural network trained only on simulated RGB images (without pre-training on real images) to the real world for the purpose of robotic control.',\n",
       " 'Deep learning for human action recognition in videos is making significant progress, but is slowed down by its dependency on expensive manual labeling of large video collections. In this work, we investigate the generation of synthetic training data for action recognition, as it has recently shown promising results for a variety of other computer vision tasks. We propose an interpretable parametric generative model of human action videos that relies on procedural generation and other computer graphics techniques of modern game engines. We generate a diverse, realistic, and physically plausible dataset of human action videos, called PHAV for Procedural Human Action Videos. It contains a total of 39,982 videos, with more than 1,000 examples for each action of 35 categories. Our approach is not limited to existing motion capture sequences, and we procedurally define 14 synthetic actions. We introduce a deep multi-task representation learning architecture to mix synthetic and real videos, even if the action categories differ. Our experiments on the UCF101 and HMDB51 benchmarks suggest that combining our large set of synthetic videos with small real-world datasets can boost recognition performance, significantly outperforming fine-tuning state-of-the-art unsupervised generative models of videos.',\n",
       " 'When building artificial intelligence systems that can reason and answer questions about visual data, we need diagnostic tests to analyze our progress and discover short-comings. Existing benchmarks for visual question answering can help, but have strong biases that models can exploit to correctly answer questions without reasoning. They also conflate multiple sources of error, making it hard to pinpoint model weaknesses. We present a diagnostic dataset that tests a range of visual reasoning abilities. It contains minimal biases and has detailed annotations describing the kind of reasoning each question requires. We use this dataset to analyze a variety of modern visual reasoning systems, providing novel insights into their abilities and limitations.',\n",
       " 'We present a benchmark suite for visual perception. The benchmark is based on more than 250K high-resolution video frames, all annotated with ground-truth data for both low-level and high-level vision tasks, including optical flow, semantic instance segmentation, object detection and tracking, object-level 3D scene layout, and visual odometry. Ground-truth data for all tasks is available for every frame. The data was collected while driving, riding, and walking a total of 184 kilometers in diverse ambient conditions in a realistic virtual world. To create the benchmark, we have developed a new approach to collecting ground-truth data from simulated worlds without access to their source code or content. We conduct statistical analyses that show that the composition of the scenes in the benchmark closely matches the composition of corresponding physical environments. The realism of the collected data is further validated via perceptual experiments. We analyze the performance of state-of-the-art methods for multiple tasks, providing reference baselines and highlighting challenges for future research.',\n",
       " 'We present ShapeNet: a richly-annotated, large-scale repository of shapes represented by 3D CAD models of objects. ShapeNet contains 3D models from a multitude of semantic categories and organizes them under the WordNet taxonomy. It is a collection of datasets providing many semantic annotations for each 3D model such as consistent rigid alignments, parts and bilateral symmetry planes, physical sizes, keywords, as well as other planned annotations. Annotations are made available through a public web-based interface to enable data visualization of object attributes, promote data-driven geometric analysis, and provide a large-scale quantitative benchmark for research in computer graphics and vision. At the time of this technical report, ShapeNet has indexed more than 3,000,000 models, 220,000 models out of which are classified into 3,135 categories (WordNet synsets). In this report we describe the ShapeNet effort as a whole, provide details for all currently available datasets, and summarize future plans.',\n",
       " 'Towards bridging the gap between machine and human intelligence, it is of utmost importance to introduce environments that are visually realistic and rich in content. In such environments, one can evaluate and improve a crucial property of practical intelligent systems, namely generalization. In this work, we build House3D, a rich, extensible and efficient environment that contains 45,622 human-designed 3D scenes of houses, ranging from single-room studios to multi-storeyed houses, equipped with a diverse set of fully labeled 3D objects, textures and scene layouts, based on the SUNCG dataset (, 2017). With an emphasis on semantic-level generalization, we study the task of concept-driven navigation, RoomNav, using a subset of houses in House3D. In RoomNav, an agent navigates towards a target specified by a semantic concept. To succeed, the agent learns to comprehend the scene it lives in by developing perception, understand the concept by mapping it to the correct semantics, and navigate to the target by obeying the underlying physical rules. We train RL agents with both continuous and discrete action spaces and show their ability to generalize in new unseen environments. In particular, we observe that (1) training is substantially harder on large house sets but results in better generalization, (2) using semantic signals (e.g., segmentation mask) boosts the generalization performance, and (3) gated networks on semantic input signal lead to improved training performance and generalization. We hope House3D, including the analysis of the RoomNav task, serves as a building block towards designing practical intelligent systems and we wish it to be broadly adopted by the community.',\n",
       " 'We introduce SceneNet RGB-D, a dataset providing pixel-perfect ground truth for scene understanding problems such as semantic segmentation, instance segmentation, and object detection. It also provides perfect camera poses and depth data, allowing investigation into geometric computer vision problems such as optical flow, camera pose estimation, and 3D scene labelling tasks. Random sampling permits virtually unlimited scene configurations, and here we provide 5M rendered RGB-D images from 16K randomly generated 3D trajectories in synthetic layouts, with random but physically simulated object configurations. We compare the semantic segmentation performance of network weights produced from pretraining on RGB images from our dataset against generic VGG-16 ImageNet weights. After fine-tuning on the SUN RGB-D and NYUv2 real-world datasets we find in both cases that the synthetically pre-trained network outperforms the VGG-16 weights. When synthetic pre-training includes a depth channel (something ImageNet cannot natively provide) the performance is greater still. This suggests that large-scale high-quality synthetic RGB datasets with task-specific labels can be more useful for pretraining than real-world generic pre-training such as ImageNet. We host the dataset at http: robotvault. bitbucket.io scenenet-rgbd.html.',\n",
       " 'Recent proliferation of a cheap but quality depth sensor, the Microsoft Kinect, has brought the need for a challenging category-level 3D object detection dataset to the fore. We review current 3D datasets and find them lacking in variation of scenes, categories, instances, and viewpoints. Here we present our dataset of color and depth image pairs, gathered in real domestic and office environments. It currently includes over 50 classes, with more images added continuously by a crowd-sourced collection effort. We establish baseline performance in a PASCAL VOC-style detection task, and suggest two ways that inferred world size of the object may be used to improve detection. The dataset and annotations can be downloaded at http: www.kinectdata.com.',\n",
       " 'The finding that very large networks can be trained efficiently and reliably has led to a paradigm shift in computer vision from engineered solutions to learning formulations. As a result, the research challenge shifts from devising algorithms to creating suitable and abundant training data for supervised learning. How to efficiently create such training data? The dominant data acquisition method in visual recognition is based on web data and manual annotation. Yet, for many computer vision problems, such as stereo or optical flow estimation, this approach is not feasible because humans cannot manually enter a pixel-accurate flow field. In this paper, we promote the use of synthetically generated data for the purpose of training deep networks on such tasks. We suggest multiple ways to generate such data and evaluate the influence of dataset properties on the performance and generalization properties of the resulting networks. We also demonstrate the benefit of learning schedules that use different types of data at selected stages of the training process.',\n",
       " 'Human 3D pose estimation from a single image is a challenging task with numerous applications. Convolutional Neural Networks (CNNs) have recently achieved superior performance on the task of 2D pose estimation from a single image, by training on images with 2D annotations collected by crowd sourcing. This suggests that similar success could be achieved for direct estimation of 3D poses. However, 3D poses are much harder to annotate, and the lack of suitable annotated training images hinders attempts towards end-to-end solutions. To address this issue, we opt to automatically synthesize training images with ground truth pose annotations. Our work is a systematic study along this road. We find that pose space coverage and texture diversity are the key ingredients for the effectiveness of synthetic training data. We present a fully automatic, scalable approach that samples the human pose space for guiding the synthesis procedure and extracts clothing textures from real images. Furthermore, we explore domain adaptation for bridging the gap between our synthetic training images and real testing photos. We demonstrate that CNNs trained with our synthetic images out-perform those trained with real photos on 3D pose estimation tasks.']"
      ]
     },
     "execution_count": 162,
     "metadata": {},
     "output_type": "execute_result"
    }
   ],
   "source": [
    "## There are 20 references!\n",
    "xsci_train[2942]['ref_abstract']['abstract']"
   ]
  },
  {
   "cell_type": "code",
   "execution_count": 163,
   "metadata": {},
   "outputs": [
    {
     "data": {
      "text/plain": [
       "['The goal of this paper is to generate high-quality 3D object proposals in the context of autonomous driving. Our method exploits stereo imagery to place proposals in the form of 3D bounding boxes. We formulate the problem as minimizing an energy function encoding object size priors, ground plane as well as several depth informed features that reason about free space, point cloud densities and distance to the ground. Our experiments show significant performance gains over existing RGB and RGB-D object proposal methods on the challenging KITTI benchmark. Combined with convolutional neural net (CNN) scoring, our approach outperforms all existing results on all three KITTI object classes.',\n",
       " 'The depth information of RGB-D sensors has greatly simplified some common challenges in computer vision and enabled breakthroughs for several tasks. In this paper, we propose to use depth maps for object detection and design a 3D detector to overcome the major difficulties for recognition, namely the variations of texture, illumination, shape, viewpoint, clutter, occlusion, self-occlusion and sensor noises. We take a collection of 3D CAD models and render each CAD model from hundreds of viewpoints to obtain synthetic depth maps. For each depth rendering, we extract features from the 3D point cloud and train an Exemplar-SVM classifier. During testing and hard-negative mining, we slide a 3D detection window in 3D space. Experiment results show that our 3D detector significantly outperforms the state-of-the-art algorithms for both RGB and RGB-D images, and achieves about ×1.7 improvement on average precision compared to DPM and R-CNN. All source code and data are available online.',\n",
       " \"3D object recognition in scenes with occlusion and clutter is a difficult task. In this paper, we introduce a method that exploits the geometric scale-variability to aid in this task. Our key insight is to leverage the rich discriminative information provided by the scale variation of local geometric structures to constrain the massive search space of potential correspondences between model and scene points. In particular, we exploit the geometric scale variability in the form of the intrinsic geometric scale of each computed feature, the hierarchy induced within the set of these intrinsic geometric scales, and the discriminative power of the local scale-dependent invariant 3D shape descriptors. The method exploits the added information in a hierarchical coarse-to-fine manner that lets it cull the space of all potential correspondences effectively. We experimentally evaluate the accuracy of our method on an extensive set of real scenes with varying amounts of partial occlusion and achieve recognition rates higher than the state-of-the-art. Furthermore, for the first time we systematically demonstrate the method's ability to accurately localize objects despite changes in their global scales.\",\n",
       " 'We present a system for fast and highly accurate 3D localization of objects like cars in autonomous driving applications, using a single camera. Our localization framework jointly uses information from complementary modalities such as structure from motion (SFM) and object detection to achieve high localization accuracy in both near and far fields. This is in contrast to prior works that rely purely on detector outputs, or motion segmentation based on sparse feature tracks. Rather than completely commit to tracklets generated by a 2D tracker, we make novel use of raw detection scores to allow our 3D bounding boxes to adapt to better quality 3D cues. To extract SFM cues, we demonstrate the advantages of dense tracking over sparse mechanisms in autonomous driving scenarios. In contrast to complex scene understanding, our formulation for 3D localization is efficient and can be regarded as an extension of sparse bundle adjustment to incorporate object detection cues. Experiments on the KITTI dataset show the efficacy of our cues, as well as the accuracy and robustness of our 3D object localization relative to ground truth and prior works.',\n",
       " 'This paper proposes a computationally efficient approach to detecting objects natively in 3D point clouds using convolutional neural networks (CNNs). In particular, this is achieved by leveraging a feature-centric voting scheme to implement novel convolutional layers which explicitly exploit the sparsity encountered in the input. To this end, we examine the trade-off between accuracy and speed for different architectures and additionally propose to use an L 1 penalty on the filter activations to further encourage sparsity in the intermediate representations. To the best of our knowledge, this is the first work to propose sparse convolutional layers and L 1 regularisation for efficient large-scale processing of 3D data. We demonstrate the efficacy of our approach on the KITTI object detection benchmark and show that VoteSDeep models with as few as three layers outperform the previous state of the art in both laser and laser-vision based approaches by margins of up to 40 while remaining highly competitive in terms of processing time.',\n",
       " '',\n",
       " 'This paper proposes an efficient and effective scheme to applying the sliding window approach popular in computer vision to 3D data. Specifically, the sparse nature of the problem is exploited via a voting scheme to enable a search through all putative object locations at any orientation. We prove that this voting scheme is mathematically equivalent to a convolution on a sparse feature grid and thus enables the processing, in full 3D, of any point cloud irrespective of the number of vantage points required to construct it. As such it is versatile enough to operate on data from popular 3D laser scanners such as a Velodyne as well as on 3D data obtained from increasingly popular push-broom configurations. Our approach is “embarrassingly parallelisable” and capable of processing a point cloud containing over 100K points at eight orientations in less than 0.5s. For the object classes car, pedestrian and bicyclist the resulting detector achieves best-in-class detection and timing performance relative to prior art on the KITTI dataset as well as compared to another existing 3D object detection approach.',\n",
       " 'Despite recent significant advances, pedestrian detection continues to be an extremely challenging problem in real scenarios. In order to develop a detector that successfully operates under these conditions, it becomes critical to leverage upon multiple cues, multiple imaging modalities and a strong multi-view classifier that accounts for different pedestrian views and poses. In this paper we provide an extensive evaluation that gives insight into how each of these aspects (multi-cue, multi-modality and strong multi-view classifier) affect performance both individually and when integrated together. In the multi-modality component we explore the fusion of RGB and depth maps obtained by high-definition LIDAR, a type of modality that is only recently starting to receive attention. As our analysis reveals, although all the aforementioned aspects significantly help in improving the performance, the fusion of visible spectrum and depth information allows to boost the accuracy by a much larger margin. The resulting detector not only ranks among the top best performers in the challenging KITTI benchmark, but it is built upon very simple blocks that are easy to implement and computationally efficient. These simple blocks can be easily replaced with more sophisticated ones recently proposed, such as the use of convolutional neural networks for feature representation, to further improve the accuracy.',\n",
       " '2D fully convolutional network has been recently successfully applied to the object detection problem on images. In this paper, we extend the fully convolutional network based detection techniques to 3D and apply it to point cloud data. The proposed approach is verified on the task of vehicle detection from lidar point cloud for autonomous driving. Experiments on the KITTI dataset shows significant performance improvement over the previous point cloud based detection approaches.',\n",
       " \"Geometric 3D reasoning at the level of objects has received renewed attention recently in the context of visual scene understanding. The level of geometric detail, however, is typically limited to qualitative representations or coarse boxes. This is linked to the fact that today's object class detectors are tuned toward robust 2D matching rather than accurate 3D geometry, encouraged by bounding-box-based benchmarks such as Pascal VOC. In this paper, we revisit ideas from the early days of computer vision, namely, detailed, 3D geometric object class representations for recognition. These representations can recover geometrically far more accurate object hypotheses than just bounding boxes, including continuous estimates of object pose and 3D wireframes with relative 3D positions of object parts. In combination with robust techniques for shape description and inference, we outperform state-of-the-art results in monocular 3D pose estimation. In a series of experiments, we analyze our approach in detail and demonstrate novel applications enabled by such an object class representation, such as fine-grained categorization of cars and bicycles, according to their 3D geometry, and ultrawide baseline matching.\",\n",
       " 'The authors present an approach for the recognition of multiple 3-D object models from three 3-D scene data. The approach uses two different types of primitives for matching: small surface patches, where differential properties can be reliably computed, and lines corresponding to depth or orientation discontinuities. These are represented by splashes and 3-D curves, respectively. It is shown how both of these primitives can be encoded by a set of super segments, consisting of connected linear segments. These super segments are entered into a table and provide the essential mechanism for fast retrieval and matching. The issues of robustness and stability of the features are addressed in detail. The acquisition of the 3-D models is performed automatically by computing splashes in highly structured areas of the objects and by using boundary and surface edges for the generation of 3-D curves. The authors present results with the current system (3-D object recognition based on super segments) and discuss further extensions. >',\n",
       " 'Few systems capable of recognizing complex objects with free-form (sculptured) surfaces have been developed. The apparent lack of success is mainly due to the lack of a competent modelling scheme for representing such complex objects. In this paper, a new form of point representation for describing 3D free-form surfaces is proposed. This representation, which we call the point signature, serves to describe the structural neighbourhood of a point in a more complete manner than just using the 3D coordinates of the point. Being invariant to rotation and translation, the point signature can be used directly to hypothesize the correspondence to model points with similar signatures. Recognition is achieved by matching the signatures of data points representing the sensed surface to the signatures of data points representing the model surface. The use of point signatures is not restricted to the recognition of a single-object scene to a small library of models. Instead, it can be extended naturally to the recognition of scenes containing multiple partially-overlapping objects (which may also be juxtaposed with each other) against a large model library. No preliminary phase of segmenting the scene into the component objects is required. In searching for the appropriate candidate model, recognition need not proceed in a linear order which can become prohibitive for a large model library. For a given scene, signatures are extracted at arbitrarily spaced seed points. Each of these signatures is used to vote for models that contain points having similar signatures. Inappropriate models with low votes can be rejected while the remaining candidate models are ordered according to the votes they received. In this way, efficient verification of the hypothesized candidates can proceed by testing the most likely model first. Experiments using real data obtained from a range finder have shown fast recognition from a library of fifteen models whose complexities vary from that of simple piecewise quadric shapes to complicated face masks. Results from the recognition of both single-object and multiple-object scenes are presented.',\n",
       " 'The goal of this paper is to perform 3D object detection from a single monocular image in the domain of autonomous driving. Our method first aims to generate a set of candidate class-specific object proposals, which are then run through a standard CNN pipeline to obtain highquality object detections. The focus of this paper is on proposal generation. In particular, we propose an energy minimization approach that places object candidates in 3D using the fact that objects should be on the ground-plane. We then score each candidate box projected to the image plane via several intuitive potentials encoding semantic segmentation, contextual information, size and location priors and typical object shape. Our experimental evaluation demonstrates that our object proposal generation approach significantly outperforms all monocular approaches, and achieves the best detection performance on the challenging KITTI benchmark, among published monocular competitors.',\n",
       " 'Representation of three dimensional objects using a set of oriented point pair features has been shown to be effective for object recognition and pose estimation. Combined with an efficient voting scheme on a generalized Hough space, existing approaches achieve good recognition accuracy and fast operation. However, the performance of these approaches degrades when the objects are (self-)similar or exhibit degeneracies, such as large planar surfaces which are very common in both man made and natural shapes, or due to heavy object and background clutter. We propose a max-margin learning framework to identify discriminative features on the surface of three dimensional objects. Our algorithm selects and ranks features according to their importance for the specified task, which leads to improved accuracy and reduced computational cost. In addition, we analyze various grouping and optimization strategies to learn the discriminative pair features. We present extensive synthetic and real experiments demonstrating the improved results.',\n",
       " 'Why is pedestrian detection still very challenging in realistic scenes? How much would a successful solution to monocular depth inference aid pedestrian detection? In order to answer these questions we trained a state-of-theart deformable parts detector using different configurations of optical images and their associated 3D point clouds, in conjunction and independently, leveraging upon the recently released KITTI dataset. We propose novel strategies for depth upsampling and contextual fusion that together lead to detection performance which exceeds that of the RGB-only systems. Our results suggest depth cues as a very promising mid-level target for future pedestrian detection approaches.',\n",
       " 'Despite the great progress achieved in recognizing objects as 2D bounding boxes in images, it is still very challenging to detect occluded objects and estimate the 3D properties of multiple objects from a single image. In this paper, we propose a novel object representation, 3D Voxel Pattern (3DVP), that jointly encodes the key properties of objects including appearance, 3D shape, viewpoint, occlusion and truncation. We discover 3DVPs in a data-driven way, and train a bank of specialized detectors for a dictionary of 3DVPs. The 3DVP detectors are capable of detecting objects with specific visibility patterns and transferring the meta-data from the 3DVPs to the detected objects, such as 2D segmentation mask, 3D pose as well as occlusion or truncation boundaries. The transferred meta-data allows us to infer the occlusion relationship among objects, which in turn provides improved object recognition results. Experiments are conducted on the KITTI detection benchmark [17] and the outdoor-scene dataset [41]. We improve state-of-the-art results on car detection and pose estimation with notable margins (6 in difficult data of KITTI). We also verify the ability of our method in accurately segmenting objects from the background and localizing them in 3D.',\n",
       " \"Accurate detection of objects in 3D point clouds is a central problem in many applications, such as autonomous navigation, housekeeping robots, and augmented virtual reality. To interface a highly sparse LiDAR point cloud with a region proposal network (RPN), most existing efforts have focused on hand-crafted feature representations, for example, a bird's eye view projection. In this work, we remove the need of manual feature engineering for 3D point clouds and propose VoxelNet, a generic 3D detection network that unifies feature extraction and bounding box prediction into a single stage, end-to-end trainable deep network. Specifically, VoxelNet divides a point cloud into equally spaced 3D voxels and transforms a group of points within each voxel into a unified feature representation through the newly introduced voxel feature encoding (VFE) layer. In this way, the point cloud is encoded as a descriptive volumetric representation, which is then connected to a RPN to generate detections. Experiments on the KITTI car detection benchmark show that VoxelNet outperforms the state-of-the-art LiDAR based 3D detection methods by a large margin. Furthermore, our network learns an effective discriminative representation of objects with various geometries, leading to encouraging results in 3D detection of pedestrians and cyclists, based on only LiDAR.\",\n",
       " \"We address the problem of real-time 3D object detection from point clouds in the context of autonomous driving. Speed is critical as detection is a necessary component for safety. Existing approaches are, however, expensive in computation due to high dimensionality of point clouds. We utilize the 3D data more efficiently by representing the scene from the Bird's Eye View (BEV), and propose PIXOR, a proposal-free, single-stage detector that outputs oriented 3D object estimates decoded from pixel-wise neural network predictions. The input representation, network architecture, and model optimization are specially designed to balance high accuracy and real-time efficiency. We validate PIXOR on two datasets: the KITTI BEV object detection benchmark, and a large-scale 3D vehicle detection benchmark. In both datasets we show that the proposed detector surpasses other state-of-the-art methods notably in terms of Average Precision (AP), while still runs at 10 FPS.\",\n",
       " 'Current systems for scene understanding typically represent objects as 2D or 3D bounding boxes. While these representations have proven robust in a variety of applications, they provide only coarse approximations to the true 2D and 3D extent of objects. As a result, object-object interactions, such as occlusions or ground-plane contact, can be represented only superficially. In this paper, we approach the problem of scene understanding from the perspective of 3D shape modeling, and design a 3D scene representation that reasons jointly about the 3D shape of multiple objects. This representation allows to express 3D geometry and occlusion on the fine detail level of individual vertices of 3D wireframe models, and makes it possible to treat dependencies between objects, such as occlusion reasoning, in a deterministic way. In our experiments, we demonstrate the benefit of jointly estimating the 3D shape of multiple objects in a scene over working with coarse boxes, on the recently proposed KITTI dataset of realistic street scenes.',\n",
       " 'In this paper, we present a novel approach, called Deep MANTA (Deep Many-Tasks), for many-task vehicle analysis from a given image. A robust convolutional network is introduced for simultaneous vehicle detection, part localization, visibility characterization and 3D dimension estimation. Its architecture is based on a new coarse-to-fine object proposal that boosts the vehicle detection. Moreover, the Deep MANTA network is able to localize vehicle parts even if these parts are not visible. In the inference, the networks outputs are used by a real time robust pose estimation algorithm for fine orientation estimation and 3D vehicle localization. We show in experiments that our method outperforms monocular state-of-the-art approaches on vehicle detection, orientation and 3D location tasks on the very challenging KITTI benchmark.']"
      ]
     },
     "execution_count": 163,
     "metadata": {},
     "output_type": "execute_result"
    }
   ],
   "source": [
    "## There are 20 references!\n",
    "xsci_val[2172]['ref_abstract']['abstract']"
   ]
  },
  {
   "cell_type": "code",
   "execution_count": 53,
   "metadata": {},
   "outputs": [
    {
     "data": {
      "text/plain": [
       "['A spanner of an undirected unweighted graph is a subgraph that approximates the distance metric of the original graph with some specified accuracy. Specifically, we say H ⊆ G is an f-spanner of G if any two vertices u,v at distance d in G are at distance at most f(d) in H. There is clearly some trade-off between the sparsity of H and the distortion function f, though the nature of the optimal trade-off is still poorly understood. In this article we present a simple, modular framework for constructing sparse spanners that is based on interchangable components called connection schemes. By assembling connection schemes in different ways we can recreate the additive 2- and 6-spanners of [1999] and [2009], and give spanners whose multiplicative distortion quickly tends toward 1. Our results rival the simplicity of all previous algorithms and provide substantial improvements (up to a doubly exponential reduction in edge density) over the comparable spanners of Elkin and Peleg [2004] and Thorup and Zwick [2006].',\n",
       " 'An (α, β)-spanner of an unweighted graph G is a subgraph H that distorts distances in G up to a multiplicative factor of α and an additive term β. It is well known that any graph contains a (multiplicative) (2k−1, 0)-spanner of size O(n1+1 k) and an (additive) (1,2)-spanner of size O(n3 2). However no other additive spanners are known to exist. In this article we develop a couple of new techniques for constructing (α, β)-spanners. Our first result is an additive (1,6)-spanner of size O(n4 3). The construction algorithm can be understood as an economical agent that assigns costs and values to paths in the graph, purchasing affordable paths and ignoring expensive ones, which are intuitively well approximated by paths already purchased. We show that this path buying algorithm can be parameterized in different ways to yield other sparseness-distortion tradeoffs. Our second result addresses the problem of which (α, β)-spanners can be computed efficiently, ideally in linear time. We show that, for any k, a (k,k−1)-spanner with size O(kn1+1 k) can be found in linear time, and, further, that in a distributed network the algorithm terminates in a constant number of rounds. Previous spanner constructions with similar performance had roughly twice the multiplicative distortion.',\n",
       " \"For an unweighted undirected graph G= (V,E), and a pair of positive integers α ≥ 1, β ≥ 0, a subgraph G'= (V,H), H ⊆ E, is called an (α,β)-spanner of G if for every pair of vertices u, v ∈ V, dist G' (u,v) ≤ α • dist G' (u,v) + β.It was shown in [20] that for any e > 0, κ = 1,2, ..., there exists an integer β = β(e,κ) such that for every n-vertex graph G there exists a (1+e,β)-spanner G' with O(n1+1 κ) edges. An efficient distributed protocol for constructing (1+e,β)-spanners was devised in [18]. The running time and the communication complexity of that protocol are O(n1+ρ) and O(|E|nρ), respectively, where ρ is an additional control parameter of the protocol that affects only the additive term β.In this paper we devise a protocol with a drastically improved running time (O(nρ) as opposed to (O(n1+ρ) for constructing (1+e,β)-spanners. Our protocol has the same communication complexity as the protocol of [18], and it constructs spanners with essentially the same properties as the spanners that are constructed by the protocol of [18].We also show that our protocol for constructing (1+e, β)-spanners can be adapted to the streaming model, and devise a streaming algorithm that uses a constant number of passes and O(n1+1 κ • log n) bits of space for computing all-pairs-almost-shortest-paths of length at most by a multiplicative factor (1 + e) and an additive term of β greater than the shortest paths. Our algorithm processes each edge in time O(nρ), for an arbitrarily small ρ > 0. The only previously known algorithm for the problem [21] constructs paths of length κ times greater than the shortest paths, has the same space requirements as our algorithm, but requires O(n1+1 κ) time for processing each edge of the input graph. However, the algorithm of [21] uses just one pass over the input, as opposed to the constant number of passes in our algorithm. We also show that any streaming algorithm for o(n)-approximate distance computation requires Ω(n) bits of space.\",\n",
       " 'A spanner is a sparse subgraph that approximately preserves the pairwise distances of the original graph. It is well known that there is a smooth tradeoff between the sparsity of a spanner and the quality of its approximation, so long as distance error is measured multiplicatively. A central open question in the field is to prove or disprove whether such a tradeoff exists also in the regime of additive error. That is, is it true that for all e>0, there is a constant ke such that every graph has a spanner on O(n1+e) edges that preserves its pairwise distances up to +ke? Previous lower bounds are consistent with a positive resolution to this question, while previous upper bounds exhibit the beginning of a tradeoff curve: all graphs have +2 spanners on O(n3 2) edges, +4 spanners on O(n7 5) edges, and +6 spanners on O(n4 3) edges. However, progress has mysteriously halted at the n4 3 bound, and despite significant effort from the community, the question has remained open for all 0 Our main result is a surprising negative resolution of the open question, even in a highly generalized setting. We show a new information theoretic incompressibility bound: there is no function that compresses graphs into O(n4 3 − e) bits so that distance information can be recovered within +no(1) error. As a special case of our theorem, we get a tight lower bound on the sparsity of additive spanners: the +6 spanner on O(n4 3) edges cannot be improved in the exponent, even if any subpolynomial amount of additive error is allowed. Our theorem implies new lower bounds for related objects as well; for example, the twenty-year-old +4 emulator on O(n4 3) edges also cannot be improved in the exponent unless the error allowance is polynomial. Central to our construction is a new type of graph product, which we call the Obstacle Product. Intuitively, it takes two graphs G,H and produces a new graph G H whose shortest paths structure looks locally like H but globally like G.',\n",
       " '',\n",
       " 'This paper considers additive and purely additive spanners. We present a new purely additive spanner of size O(n7 5) with additive stretch 4. This construction fills in the gap between the two existing constructions for purely additive spanners, one for 2-additive spanner of size O(n3 2) and the other for 6-additive spanner of size O(n4 3), and thus answers a main open question in this area. In addition, we present a construction for additive spanners with O(n1+δ) edges and additive stretch of O(n1 2−3δ 2) for any 3 17 ≤ δ < 1 3, improving the stretch of the existing constructions from O(n1−3δ) to O(√n1−3δ). Finally, we show that our (1,n1 2−3δ 2)-spanner construction can be tweaked to give a sublinear additive spanner of size O(n1+3 17) with additive stretch O(√distance).',\n",
       " 'An additive spanner of an unweighted undirected graph G with distortion d is a subgraph H such that for any two vertices u, v G, we have _H ( u,v ) = _G ( u,v ) + d. For every k = O ( n n ), we construct a graph G on n vertices for which any additive spanner of G with distortion 2k - 1 has ( 1 k n^ 1 + 1 k ) edges. This matches the lower bound previously known only to hold under a 1963 conjecture of Erdos. We generalize our lower bound in a number of ways. First, we consider graph emulators introduced by Dor, Halperin, and Zwick (FOCS, 1996), where an emulator of an unweighted undirected graph G with distortion d is like an additive spanner except H may be an arbitrary weighted graph such that _G ( u,v ) _H ( u,v ) _G ( u,v ) + d. We show a lower bound of ( 1 k^2 n^ 1 + 1 k ) edges for distortion-(2k - 1) emulators. These are the first non-trivial bounds for k 3. Second, we parameterize our bounds in terms of the minimum degree of the graph. Namely, for minimum degree n^ 1 k+c for any c 0, we prove a bound of ( 1 k n^ 1 + 1 k - c(1 + 2 (k - 1)) ) for additive spanners and ( 1 k^2 n^ 1 + 1 k - c(1 + 2 (k - 1)) ) for emulators. For k = 2 these can be improved to ( n^ 3 2 - c ). This partially answers a question of (SODA, 2005) for additive spanners. Finally, we continue the study of pair-wise and source-wise distance preservers defined by Coppersmith and Elkin (SODA, 2005) by considering their approximate variants and their relaxation to emulators. We prove the first lower bounds for such graphs.',\n",
       " 'In the recent past, there has been considerable progress in devising algorithms for the all-pairs shortest paths (APSP) problem running in time significantly smaller than the obvious time bound of O(n3). Unfortunately, all the new algorithms are based on fast matrix multiplication algorithms that are notoriously impractical. Our work is motivated by the goal of devising purely combinatorial algorithms that match these improved running times. Our results come close to achieving this goal, in that we present algorithms with a small additive error in the length of the paths obtained. Our algorithms are easy to implement, have the desired property of being combinatorial in nature, and the hidden constants in the running time bound are fairly small. Our main result is an algorithm which solves the APSP problem in unweighted, undirected graphs with an additive error of 2 in time @math . This algorithm returns actual paths and not just the distances. In addition, we give more efficient algorithms with running time @math for the case where we are only required to determine shortest paths between k specified pairs of vertices rather than all pairs of vertices. The starting point for all our results is an @math algorithm for distinguishing between graphs of diameter 2 and 4, and this is later extended to obtaining a ratio 2 3 approximation to the diameter in time @math . Unlike in the case of APSP, our results for approximate diameter computation can be extended to the case of directed graphs with arbitrary positive real weights on the edges.',\n",
       " 'Shortest paths computations constitute one of the most fundamental network problems. Nonetheless, known parallel shortest-paths algorithms are generally inefficient: they perform significantly more work (product of time and processors) than their sequential counterparts. This gap, known in the literature as the “transitive closure bottleneck,” poses a long-standing open problem. Our main result is an O mn e 0 +s m+n1+ e 0 work polylog-time randomized algorithm that computes paths within (1 + O (1 polylog n ) of shortest from s source nodes to all other nodes in weighted undirected networks with n nodes and m edges (for any fixed e 0 >0). This work bound nearly matches the O d sm sequential time. In contrast, previous polylog-time algorithms required nearly min O d n3 , O d m2 work (even when s =1), and previous near-linear work algorithms required near- O ( n ) time. We also present faster sequential algorithms that provide good approximate distances only between “distant” vertices: We obtain an O m+sn n e 0 time algorithm that computes paths of weight (1+ O (1 polylog n ) dist + O ( w max polylog n ), where dist is the corresponding distance and w max is the maximum edge weight. Our chief instrument, which is of independent interest, are efficient constructions of sparse hop sets . A ( d ,e)-hop set of a network G =( V,E ) is a set E * of new weighted edges such that mimimum-weight d -edge paths in V,E∪E* have weight within (1+e) of the respective distances in G . We construct hop sets of size O n1+ e 0 where e= O (1 polylog n ) and d = O (polylog n ).',\n",
       " \"An @math -spanner of a graph G is a subgraph H such that @math for every pair of vertices u,w, where distG'(u,w) denotes the distance between two vertices u and v in G'. It is known that every graph G has a polynomially constructible @math -spanner (also known as multiplicative @math -spanner) of size @math for every integer @math , and a polynomially constructible (1,2)-spanner (also known as additive 2-spanner) of size @math . This paper explores hybrid spanner constructions (involving both multiplicative and additive factors) for general graphs and shows that the multiplicative factor can be made arbitrarily close to 1 while keeping the spanner size arbitrarily close to O(n), at the cost of allowing the additive term to be a sufficiently large constant. More formally, we show that for any constant @math there exists a constant @math such that for every @math -vertex graph G there is an efficiently constructible @math -spanner of size @math .\",\n",
       " 'We present a streaming algorithm for constructing sparse spanners and show that our algorithm significantly outperforms the state-of-the-art algorithm for this task (due to ). Specifically, the processing time per edge of our algorithm is O(1), and it is drastically smaller than that of the algorithm of , and all other efficiency parameters of our algorithm are no greater (and some of them are strictly smaller) than the respective parameters of the state-of-the-art algorithm. We also devise a fully dynamic centralized algorithm maintaining sparse spanners. This algorithm has incremental update time of O(1), and a nontrivial decremental update time. To our knowledge, this is the first fully dynamic centralized algorithm for maintaining sparse spanners that provides nontrivial bounds on both incremental and decremental update time for a wide range of stretch parameter t.',\n",
       " 'We study the s-sources almost shortest paths(abbreviated s-ASP) problem. Given an unweightedgraph G e (V,E),and a subset S s Vof s nodes, the goal is to compute almostshortest paths between all the pairs of nodes St V. We devise an algorithm withrunning timeO(mEmnrp s mn1 p z)for this problem that computes the pathsPu,wfor all pairs (u,w) iS t V such that thelength ofPu,wis at most (1 p e)dG(u,w)p b(z,r,e), andb(z,r,e) is constant whenz, r, and e are arbitrarily smallconstants. We also devise a distributed protocol for thes-ASP problem that computes the pathsP u,w as above, and has time and communication complexities ofO(s mDiam(G) pn1 pz 2) (respectively,O(s mDiam(G) log3n p n1p z 2 log n)) andO(mEmnr ps m n1p z) (respectively,O(mEmnr ps m n1p z pn1 p r pz(r m z 2) 2)) in thesynchronous (respectively asynchronous) setting. Our sequential algorithm, as well as the distributed protocol,is based on a novel algorithm for constructing (1 pe, b(z,r, e))-spannersof size O(n1p z), developed in this article. Thisalgorithm has running time ofO(mEmnr), which issignificantly faster than the previously known algorithm given inElkin and Peleg [2001], whose running time isO(n2p r). We also develop the firstdistributed protocol for constructing (1 pe,b)-spanners. The communication complexity ofthis protocol is near optimal.',\n",
       " 'A spanner is a sparse subgraph of a given graph that preserves approximate distance between each pair of vertices. In precise words, a t-spanner of a graph G = (V,E), for any t ∈ N, is a subgraph (V,ES), ES ⊆ E such that, for any u, v ∈ V , their distance in the subgraph is at most t times their distance in the original graph. The parameter t is called the stretch associated with the t-spanner. The concept of spanner was defined formally by Peleg and Schaffer [13] though the associated notion was used implicitly by Awerbuch [3] in the context of network synchronizers. Computing tspanner of smallest size for a given graph is a well motivated combinatorial problem with numerous applications in the area of distributed systems, communication networks and all pairs approximate shortest paths (see [4, 13] and references therein). However, computing t-spanner of smallest size for a graph is NP-hard. In fact, for t > 2, it is NP-hard [6] even to approximate the smallest size of t-spanner of a graph with ratio O(2(1−μ) lnn) for any μ > 0. Having realized this fact, researchers have pursued another direction : to design an efficient algorithm which, for a given graph on n vertices, outputs a t-spanner whose size is of the order of the maximum size of the sparsest tspanner of a graph on n vertices. A 43 years old girth lower bound conjecture by Erdős [7] implies that there are graphs on n vertices whose 2k as well as (2k− 1)spanner will requireΩ(n1+1 k) edges. This conjecture',\n",
       " 'For an unweighted graph @math , @math is a subgraph if @math , and @math is a Steiner graph if @math , and for any pair of vertices @math , the distance between them in @math (denoted @math ) is at least the distance between them in @math (denoted @math ). In this paper we introduce the notion of distance preserver. A subgraph (resp., Steiner graph) @math of a graph @math is a subgraph (resp., Steiner) @math -preserver of @math if for every pair of vertices @math with @math , @math . We show that any graph (resp., digraph) has a subgraph @math -preserver with at most @math edges (resp., arcs), and there are graphs and digraphs for which any undirected Steiner @math -preserver contains @math edges. However, we show that if one allows a directed Steiner (diSteiner) @math -preserver, then these bounds can be improved. Specifically, we show that for any graph or digraph there exists a diSteiner @math -preserver with @math arcs, and that this result is tight up to a constant factor. We also study @math -preserving distance labeling schemes, that are labeling schemes that guarantee precise calculation of distances between pairs of vertices that are at a distance of at least @math one from another. We show that there exists a @math -preserving labeling scheme with labels of size @math , and that labels of size @math are required for any @math -preserving labeling scheme.',\n",
       " 'Let G = (V,E) be an undirected weighted graph with vVv = n and vEv = m. Let k ≥ 1 be an integer. We show that G = (V,E) can be preprocessed in O(kmn1 k) expected time, constructing a data structure of size O(kn1p1 k), such that any subsequent distance query can be answered, approximately, in O(k) time. The approximate distance returned is of stretch at most 2k−1, that is, the quotient obtained by dividing the estimated distance by the actual distance lies between 1 and 2k−1. A 1963 girth conjecture of Erdos, implies that Ω(n1p1 k) space is needed in the worst case for any real stretch strictly smaller than 2kp1. The space requirement of our algorithm is, therefore, essentially optimal. The most impressive feature of our data structure is its constant query time, hence the name \"oracle\". Previously, data structures that used only O(n1p1 k) space had a query time of Ω(n1 k).Our algorithms are extremely simple and easy to implement efficiently. They also provide faster constructions of sparse spanners of weighted graphs, and improved tree covers and distance labelings of weighted or unweighted graphs.',\n",
       " 'We investigate the importance of space when solving problems based on graph distance in the streaming model. In this model, the input graph is presented as a stream of edges in an arbitrary order. The main computational restriction of the model is that we have limited space and therefore cannot store all the streamed data; we are forced to make space-efficient summaries of the data as we go along. For a graph of n vertices and m edges, we show that testing many graph properties, including connectivity (ergo any reasonable decision problem about distances) and bipartiteness, requires Ω(n) bits of space. Given this, we then investigate how the power of the model increases as we relax our space restriction. Our main result is an efficient randomized algorithm that constructs a (2t + 1)-spanner in one pass. With high probability, it uses O(t .n1+1 t log2n) bits of space and processes each edge in the stream in O(t2·n1 t log n) time. We find approximations to diameter and girth via the constructed spanner. For t = Ω(log n log log n), the space requirement of the algorithm is O(n .polylog n), and the per-edge processing time is O(polylog n). We also show a corresponding lower bound of t for the approximation ratio achievable when the space restriction is O(t.n1+1 t log2n).We then consider the scenario in which we are allowed multiple passes over the input stream. Here, we investigate whether allowing these extra passes will compensate for a given space restriction. We show that finding vertices at distance d from a particular vertex will always take d passes, for all d ∈ 1,...,t 2 , when the space restriction is o(n1+1 t). For girth, we show the existence of a direct trade-off between space and passes in the form of a lower bound on the product of the space requirement and number of passes. Finally, we conclude with two general techniques for speeding up the per-edge computation time of streaming algorithms while increasing the space by at most a log factor.',\n",
       " 'We obtain new upper bounds on the additive distortion for graph emulators and spanners on relatively few edges. We introduce a new subroutine called \"strip creation,\" and we combine this subroutine with several other ideas to obtain the following results: Every graph has a spanner on O(n1+e) edges with O(n 1 2 - e 2) additive distortion, for arbitrary e ∈ [0,1]. Every graph has an emulator on O(n1+e) edges with O(n 1 3 -- 2e 3) additive distortion whenever e ∈ [0, 1 5]. Every graph has a spanner on O(n1 + e) edges with O(n2 3 -- 5e 3) additive distortion whenever e ∈ [0, 1 4]. Our first spanner has the new best known asymptotic edge-error tradeoff for additive spanners whenever e ∈ [0, 1 7]. Our second spanner has the new best tradeoff whenever e ∈ [1 7, 3 17]. Our emulator has the new best asymptotic edge-error tradeoff whenever e ∈ [0, 1 5].',\n",
       " 'We present efficient algorithms for computing very sparse low distortion spanners in distributed networks and prove some non-trivial lower bounds on the tradeoff between time, sparseness, and distortion. All of our algorithms assume a synchronized distributed network, where relatively short messages may be communicated in each time step. Our first result is a fast distributed algorithm for finding an ( O(2^ log ^ * n log n) ) -spanner with size O(n). Besides being nearly optimal in time and distortion, this algorithm appears to be the first that constructs an O(n)-size skeleton without requiring unbounded length messages or time proportional to the diameter of the network. Our second result is a new class of efficiently constructible (α, β)-spanners called Fibonacci spanners whose distortion improves with the distance being approximated. At their sparsest Fibonacci spanners can have nearly linear size, namely ( O(n( n)^ ) ) , where ( = (1 + 5 ) 2 ) is the golden ratio. As the distance increases the multiplicative distortion of a Fibonacci spanner passes through four discrete stages, moving from logarithmic to log-logarithmic, then into a period where it is constant, tending to 3, followed by another period tending to 1. On the lower bound side we prove that many recent sequential spanner constructions have no efficient counterparts in distributed networks, even if the desired distortion only needs to be achieved on the average or for a tiny fraction of the vertices. In particular, any distance preservers, purely additive spanners, or spanners with sublinear additive distortion must either be very dense, slow to construct, or have very weak guarantees on distortion.',\n",
       " \"Let k ≥ 2 be an integer. We show that any undirected and unweighted graph G = (V, E) on n vertices has a subgraph G' = (V, E') with O(kn1+1 k) edges such that for any two vertices u, v ∈ V, if Δ G (u, v) = d, then Δ G' (u, v) = d+O(d1-1 k-1). Furthermore, we show that such subgraphs can be constructed in O(mn1 k) time, where m and n are the number of edges and vertices in the original graph. We also show that it is possible to construct a weighted graph G* = (V, E*) with O(kn1+1 (2k-1)) edges such that for every u, v ∈ V, if Δ G (u, v) = d, then Δ ≤ Δ G* (u, v) = d + O(d1-1 k-1). These are the first such results with additive error terms of the form o(d), i.e., additive error terms that are sublinear in the distance being approximated.\"]"
      ]
     },
     "execution_count": 53,
     "metadata": {},
     "output_type": "execute_result"
    }
   ],
   "source": [
    "## There are 19 references!\n",
    "xsci_test[3300]['ref_abstract']['abstract']"
   ]
  },
  {
   "cell_type": "markdown",
   "metadata": {},
   "source": [
    "## 4.9 EDA Part 3 - on Target Labels"
   ]
  },
  {
   "cell_type": "code",
   "execution_count": 58,
   "metadata": {},
   "outputs": [],
   "source": [
    "len_tr_labels = []\n",
    "len_v_labels = []\n",
    "len_t_labels = []\n",
    "\n",
    "for reference in xsci_train['related_work']:\n",
    "    \n",
    "    len_tr_labels.append(LEDtokenizer(reference, return_tensors=\"pt\").input_ids.shape[1])\n",
    "    \n",
    "for reference in xsci_val_processed['related_work']:\n",
    "    \n",
    "    len_v_labels.append(LEDtokenizer(reference, return_tensors=\"pt\").input_ids.shape[1])\n",
    "    \n",
    "for reference in xsci_test_processed['related_work']:\n",
    "    \n",
    "    len_t_labels.append(LEDtokenizer(reference, return_tensors=\"pt\").input_ids.shape[1])"
   ]
  },
  {
   "cell_type": "code",
   "execution_count": 101,
   "metadata": {
    "scrolled": false
   },
   "outputs": [
    {
     "name": "stdout",
     "output_type": "stream",
     "text": [
      "-----Results for Training Set Labels-----\n",
      "1. Mean and std of the target reference (i.e. related work): 151.12, 62.24.\n",
      "2. Max number of tokens in target reference: 753, at location 5414\n",
      "3. Min number of tokens in target reference: 26, at location 17798\n",
      "\n",
      "-----Results for Validation Set Labels-----\n",
      "1. Mean and std of the target reference (i.e. related work): 140.52, 57.74.\n",
      "2. Max number of tokens in target reference: 324, at location 2435\n",
      "3. Min number of tokens in target reference: 25, at location 1407\n",
      "\n",
      "-----Results for Test Set Labels-----\n",
      "1. Mean and std of the target reference (i.e. related work): 141.86, 58.18.\n",
      "2. Max number of tokens in target reference: 418, at location 4155\n",
      "3. Min number of tokens in target reference: 26, at location 1167\n"
     ]
    },
    {
     "data": {
      "image/png": "[encoded data removed]",
      "text/plain": [
       "<Figure size 600x1200 with 3 Axes>"
      ]
     },
     "metadata": {},
     "output_type": "display_data"
    }
   ],
   "source": [
    "## Stats and plots\n",
    "\n",
    "print(\"-----Results for Training Set Labels-----\")\n",
    "print(f\"1. Mean and std of the target reference (i.e. related work): {np.mean(len_tr_labels):.2f}\"\n",
    "     + f\", {np.std(len_tr_labels):.2f}.\")\n",
    "print(f\"2. Max number of tokens in target reference: {max(len_tr_labels)}, at location {len_tr_labels.index(max(len_tr_labels))}\")\n",
    "print(f\"3. Min number of tokens in target reference: {min(len_tr_labels)}, at location {len_tr_labels.index(min(len_tr_labels))}\")\n",
    "\n",
    "print(\"\\n-----Results for Validation Set Labels-----\")\n",
    "print(f\"1. Mean and std of the target reference (i.e. related work): {np.mean(len_v_labels):.2f}\"\n",
    "     + f\", {np.std(len_v_labels):.2f}.\")\n",
    "print(f\"2. Max number of tokens in target reference: {max(len_v_labels)}, at location {len_v_labels.index(max(len_v_labels))}\")\n",
    "print(f\"3. Min number of tokens in target reference: {min(len_v_labels)}, at location {len_v_labels.index(min(len_v_labels))}\")\n",
    "\n",
    "print(\"\\n-----Results for Test Set Labels-----\")\n",
    "print(f\"1. Mean and std of the target reference (i.e. related work): {np.mean(len_t_labels):.2f}\"\n",
    "     + f\", {np.std(len_t_labels):.2f}.\")\n",
    "print(f\"2. Max number of tokens in target reference: {max(len_t_labels)}, at location {len_t_labels.index(max(len_t_labels))}\")\n",
    "print(f\"3. Min number of tokens in target reference: {min(len_t_labels)}, at location {len_t_labels.index(min(len_t_labels))}\")\n",
    "\n",
    "fig, axs = plt.subplots(nrows=3, ncols=1, figsize=(6,12))\n",
    "fig.subplots_adjust(hspace=0.4)\n",
    "axs[0].hist(len_tr_labels, bins=np.linspace(0,800,32))\n",
    "axs[0].set_title(\"Distribution of Label Size (Training Data)\")\n",
    "axs[0].set_xlabel(\"No of Tokens\")\n",
    "axs[0].set_ylabel(\"Count\")\n",
    "\n",
    "axs[1].hist(len_v_labels, bins=np.linspace(0,350,14))\n",
    "axs[1].set_title(\"Distribution of Label Size (Val Data)\")\n",
    "axs[1].set_xlabel(\"No of Tokens\")\n",
    "axs[1].set_ylabel(\"Count\")\n",
    "\n",
    "axs[2].hist(len_t_labels, bins=np.linspace(0,450,18))\n",
    "axs[2].set_title(\"Distribution of Label Size (Test Data)\")\n",
    "axs[2].set_xlabel(\"No of Tokens\")\n",
    "axs[2].set_ylabel(\"Count\")\n",
    "\n",
    "plt.show()\n"
   ]
  },
  {
   "cell_type": "markdown",
   "metadata": {},
   "source": [
    "## 4.10 Third Batch of Strange Samples\n",
    "### (Very Short/ Very Long Target Labels + Non-English Summaries/Bugged Codes)"
   ]
  },
  {
   "cell_type": "code",
   "execution_count": 62,
   "metadata": {},
   "outputs": [
    {
     "data": {
      "text/plain": [
       "'提案手法では、パターンを投影するため、これを除去したり、これを使ったセグメンテーションを行う。 セグメンテーションはSegNetやUnetがポピュラーであり、我々もこれを使う。 パターン除去には、GANによるインペインティングが有効と思われるが[11]、生成的アプローチは解像度が低いので今回は 使用しない。そこで、パターンをノイズと考え除去する。 CNNによるノイズの除去としては、Deepなアーキテクチャではなく訓練が簡単なResidualを用いることで、 訓練しやすいアーキテクチャである、ResBlockが提案された[8]。 このResBlockを用いて、反射除去のためにCEILNetというアーキテクチャも提案されている[9]。 さらに、WIN5RBネットワークを用いてEnd-to-Endでより効率よくノイズ除去する手法も提案されている[7]。 本研究ではこの[7]を用いてあぶく除去を行っているが、学習データの取得方法にオリジナリティがある。 CNNs are also popular in the field of image restoration and segmentation. In underwater environment, there are several noises, such as bubbles or shadows of water surfaces. In addition, projected pattern onto the target object is also a severe noise. To remove such a large noise, inpainting method based on a GAN is promising @cite @cite . However, since resolution of generative approaches are basically low, noise removal approach is better fit to our purpose. For efficient noise removal, shallow CNN-based approach using residual is proposed @cite . The technique is also extended to remove reflection @cite . Liu and Fang propose an end-to-end architecture using the WIN5RB network @cite which outperform others. We also use this technique, but data collection and multi-scale extension is novel. Liao al @cite denoised depth images both using depth image and RGB image. Zhang al @cite denoised images with CNNs with different noise levels taken into account. Choi al @cite proposed denoising with multi-scales with light-weight computation. Nakamura al @cite removed texts in natural scene images using multi-layers of convolutions and deconvolutions.'"
      ]
     },
     "execution_count": 62,
     "metadata": {},
     "output_type": "execute_result"
    }
   ],
   "source": [
    "## Longest summary in training set\n",
    "xsci_train_processed['related_work'][5414]"
   ]
  },
  {
   "cell_type": "code",
   "execution_count": 68,
   "metadata": {},
   "outputs": [
    {
     "data": {
      "text/plain": [
       "'For additional information about architectures, algorithms, and applications of deep learning, please refer the survey @cite .'"
      ]
     },
     "execution_count": 68,
     "metadata": {},
     "output_type": "execute_result"
    }
   ],
   "source": [
    "## Shortest summary in training set\n",
    "xsci_train_processed['related_work'][17798]"
   ]
  },
  {
   "cell_type": "code",
   "execution_count": 69,
   "metadata": {},
   "outputs": [
    {
     "data": {
      "text/plain": [
       "'The problem of finite-time blowup for wave maps attracted a lot of interest in the recent past. The bulk of the literature focuses on the two-dimensional case which is energy-critical. The existence of finite-time blowup for energy-critical wave maps into the two-sphere has first been observed numerically in the work of Bizo \\'n-Chmaj-Tabor @cite . Rigorously, the existence of blowup solutions was proved by Krieger-Schlag-Tataru @cite , Rodnianski-Sterbenz @cite , and Rapha \"el-Rodnianski @cite , see also @cite @cite . We remark that the blowup in the energy-critical case is of type II and proceeds by dynamical rescaling of a soliton, cf. @cite . In fact, there are by now powerful nonperturbative techniques for energy-critical equations which allow one to prove versions of the celebrated , see the work by C ^ote @cite , C ^ote-Kenig-Lawrie-Schlag @cite @cite , and, very recently, Jia-Kenig @cite , Duyckaerts-Jia-Kenig-Merle @cite , see also @cite @cite . Large-data global well-posedness and scattering is addressed in the fundamental work by Tataru-Sterbenz @cite @cite and Krieger-Schlag @cite .'"
      ]
     },
     "execution_count": 69,
     "metadata": {},
     "output_type": "execute_result"
    }
   ],
   "source": [
    "## Longest summary in validation set\n",
    "xsci_val_processed['related_work'][2435]"
   ]
  },
  {
   "cell_type": "code",
   "execution_count": 70,
   "metadata": {},
   "outputs": [
    {
     "data": {
      "text/plain": [
       "'A good overview of transfer learning research and terminology can be found at: @cite , we follow this terminology.'"
      ]
     },
     "execution_count": 70,
     "metadata": {},
     "output_type": "execute_result"
    }
   ],
   "source": [
    "## Shortest summary in validation set\n",
    "xsci_val_processed['related_work'][1407]"
   ]
  },
  {
   "cell_type": "code",
   "execution_count": 71,
   "metadata": {},
   "outputs": [
    {
     "data": {
      "text/plain": [
       "'& 3 * -1.5pt @math -1.5pt & 2 * & 2 * -1.5pt exact probabilities -1.5pt & -1.5pt 5-5 & & & & 3-5 & & & -1.5pt exact probabilities & 2-5 & 4 * -1.5pt @math -1.5pt & 2 * & -1.5pt exact probabilities -1.5pt & -1.5pt @cite 4-5 & & & -1.5pt zero--one laws & -1.5pt @cite @cite 3-5 & & 2 * & -1.5pt exact probabilities -1.5pt & -1.5pt @cite 4-5 & & & -1.5pt zero--one laws & -1.5pt @cite @cite 8 * & 4 * -1.5pt @math -1.5pt & 2 * & -1.5pt exact probabilities -1.5pt & 4 * -1.5pt -1.5pt 4-4 & & & -1.5pt zero--one laws & 3-4 & & 2 * & -1.5pt exact probabilities -1.5pt & 4-4 & & & -1.5pt zero--one laws & 2-5 & 4 * -1.5pt @math -1.5pt & 2 * & -1.5pt exact probabilities -1.5pt & -1.5pt @cite 4-5 & & & -1.5pt zero--one laws -1.5pt & -1.5pt @cite 3-5 & & 2 * & -1.5pt exact probabilities -1.5pt & -1.5pt @cite 4-5 & & & -1.5pt zero--one laws & -1.5pt @cite @cite 2.5'"
      ]
     },
     "execution_count": 71,
     "metadata": {},
     "output_type": "execute_result"
    }
   ],
   "source": [
    "## Longest summary in test set\n",
    "xsci_test_processed['related_work'][4155]"
   ]
  },
  {
   "cell_type": "code",
   "execution_count": 72,
   "metadata": {},
   "outputs": [
    {
     "data": {
      "text/plain": [
       "'Recent surveys @cite , @cite , @cite may provide additional background on domain adaptation and transfer learning.'"
      ]
     },
     "execution_count": 72,
     "metadata": {},
     "output_type": "execute_result"
    }
   ],
   "source": [
    "## Shortest summary in test set\n",
    "xsci_test_processed['related_work'][1167]"
   ]
  },
  {
   "cell_type": "markdown",
   "metadata": {},
   "source": [
    "# 5 Testing Baseline Performance (X-Sci)"
   ]
  },
  {
   "cell_type": "markdown",
   "metadata": {},
   "source": [
    "## 5.1 Performance on X-Sci Test Set (without Fine-tuning)"
   ]
  },
  {
   "cell_type": "code",
   "execution_count": 76,
   "metadata": {},
   "outputs": [],
   "source": [
    "# Modified version of the code from section 3.1\n",
    "\n",
    "def generate_abstract_batched2(batch_size=1, start=0):\n",
    "    \n",
    "    try:\n",
    "        del test_input_ids, attention_mask, global_attention_mask, predicted_abstract_ids\n",
    "    except:\n",
    "        None\n",
    "        \n",
    "    gc.collect()\n",
    "\n",
    "    test_input_ids = test_inputs['input_ids'][start:start+batch_size].to(\"cuda\")\n",
    "    attention_mask = test_inputs['attention_mask'][start:start+batch_size].to(\"cuda\")\n",
    "\n",
    "    global_attention_mask = torch.zeros_like(attention_mask)\n",
    "    global_attention_mask[:, 0] = 1\n",
    "\n",
    "    predicted_abstract_ids = LEDmodel.generate(test_input_ids,\n",
    "                                               attention_mask=attention_mask, \n",
    "                                               global_attention_mask=global_attention_mask, \n",
    "                                               max_length=200, \n",
    "                                               num_beams=4)\n",
    "\n",
    "    predicted_abstract = LEDtokenizer.batch_decode(predicted_abstract_ids, skip_special_tokens=True)\n",
    "    \n",
    "    return predicted_abstract\n"
   ]
  },
  {
   "cell_type": "code",
   "execution_count": 102,
   "metadata": {},
   "outputs": [
    {
     "name": "stdout",
     "output_type": "stream",
     "text": [
      "Handling sample 0 now..\n",
      "Handling sample 500 now..\n",
      "Handling sample 1000 now..\n",
      "Handling sample 1500 now..\n",
      "Handling sample 2000 now..\n",
      "Handling sample 2500 now..\n",
      "Handling sample 3000 now..\n",
      "Handling sample 3500 now..\n",
      "Handling sample 4000 now..\n",
      "Handling sample 4500 now..\n",
      "Handling sample 5000 now..\n",
      "Completed, 5093 data points from the 5093 validation samples handled.\n"
     ]
    }
   ],
   "source": [
    "## Generating answers\n",
    "answers = []\n",
    "\n",
    "for i in range(xsci_test.num_rows):\n",
    "    if i%500 == 0:\n",
    "        print(f\"Handling sample {i} now..\")\n",
    "        \n",
    "    answers.append(generate_abstract_batched2(start=i))\n",
    "    \n",
    "print(f\"Completed, {i+1} data points from the {xsci_test.num_rows} validation samples handled.\")"
   ]
  },
  {
   "cell_type": "code",
   "execution_count": 104,
   "metadata": {},
   "outputs": [
    {
     "data": {
      "text/plain": [
       "[' in this paper we present a novel approach to global localization using an RGB-D camera in maps of visual features. \\n we first estimate a candidate pose using few correspondences between features of the current camera frame and the feature map. \\n this initial guess is refined by applying the iterative closest point algorithm on the dense point cloud data. \\n the initial pose estimate is used in the second step to guide spatial matching of features in 3d, i.e. searching for associations where the image features are expected to be found in the map. a rigorous error analysis assesses several sets of RGB-D ground truth data via an error accumulation metric. \\n extensive quantitative analysis on recently proposed benchmark datasets shows that the proposed solution is faster than a state-of-the-art implementation of the iterative closest point (ICP) algorithm by two orders of magnitude. \\n we provide both source code and datasets to the community in order to accelerate further comparisons in this field. ']"
      ]
     },
     "execution_count": 104,
     "metadata": {},
     "output_type": "execute_result"
    }
   ],
   "source": [
    "answers[5092]"
   ]
  },
  {
   "cell_type": "code",
   "execution_count": 109,
   "metadata": {},
   "outputs": [
    {
     "data": {
      "text/plain": [
       "{'rouge1': AggregateScore(low=Score(precision=0.2479334528085974, recall=0.321662740702613, fmeasure=0.2656359845804365), mid=Score(precision=0.2505538804830633, recall=0.32434961718819, fmeasure=0.2676419755779038), high=Score(precision=0.25311515348932667, recall=0.32674620988455055, fmeasure=0.26968110552642927)),\n",
       " 'rouge2': AggregateScore(low=Score(precision=0.04208470379749971, recall=0.054505164305182964, fmeasure=0.044889962120228916), mid=Score(precision=0.043237782767000396, recall=0.055880661862500416, fmeasure=0.04602699170565005), high=Score(precision=0.044423785565852324, recall=0.05741837862734922, fmeasure=0.04719075528503129)),\n",
       " 'rougeL': AggregateScore(low=Score(precision=0.13136900075756824, recall=0.17480547320661932, fmeasure=0.1417307185301011), mid=Score(precision=0.13287612302831447, recall=0.17658333934184312, fmeasure=0.14297957661683836), high=Score(precision=0.13433230218541875, recall=0.17835717890130903, fmeasure=0.1441459907960088))}"
      ]
     },
     "execution_count": 109,
     "metadata": {},
     "output_type": "execute_result"
    }
   ],
   "source": [
    "## Calculating the rouge score\n",
    "rouge.compute(predictions=answers,\n",
    "              references=[ref for ref in xsci_test_processed['related_work']],\n",
    "              rouge_types=[\"rouge1\", \"rouge2\", \"rougeL\"])"
   ]
  },
  {
   "cell_type": "code",
   "execution_count": 111,
   "metadata": {},
   "outputs": [
    {
     "data": {
      "text/plain": [
       "{'rouge1': AggregateScore(low=Score(precision=0.27453591534623567, recall=0.35673694721845467, fmeasure=0.29427693554999856), mid=Score(precision=0.27731963028174667, recall=0.35956675143370853, fmeasure=0.296440336846706), high=Score(precision=0.28010380522713363, recall=0.3621360269146316, fmeasure=0.2985793362893389)),\n",
       " 'rouge2': AggregateScore(low=Score(precision=0.048086635024810025, recall=0.062402351771787656, fmeasure=0.0513552124793895), mid=Score(precision=0.04935625535265088, recall=0.06390869056261983, fmeasure=0.05258844734808345), high=Score(precision=0.0506199460005532, recall=0.06554982437977665, fmeasure=0.05385863030724751)),\n",
       " 'rougeL': AggregateScore(low=Score(precision=0.1412959886760316, recall=0.18832278308329203, fmeasure=0.1526079380903488), mid=Score(precision=0.142863661330691, recall=0.19018608460748399, fmeasure=0.15382853986425082), high=Score(precision=0.14436612555409067, recall=0.19207024297974315, fmeasure=0.15504718726736894)),\n",
       " 'rougeLsum': AggregateScore(low=Score(precision=0.14144518301241493, recall=0.18836717304489953, fmeasure=0.15265468322840864), mid=Score(precision=0.14286983794176433, recall=0.1900728222845592, fmeasure=0.15380791272730354), high=Score(precision=0.14431365052907727, recall=0.1919228302040902, fmeasure=0.15496627856070827))}"
      ]
     },
     "execution_count": 111,
     "metadata": {},
     "output_type": "execute_result"
    }
   ],
   "source": [
    "## Calculating the rouge score\n",
    "rouge.compute(predictions=answers,\n",
    "              references=[ref for ref in xsci_test_processed['related_work']],\n",
    "              use_stemmer = True)"
   ]
  },
  {
   "cell_type": "markdown",
   "metadata": {},
   "source": [
    "# 6 General Utilities"
   ]
  },
  {
   "cell_type": "markdown",
   "metadata": {},
   "source": [
    "### 6.1 Saving results into pickles for future use (Multi-news)"
   ]
  },
  {
   "cell_type": "code",
   "execution_count": 75,
   "metadata": {},
   "outputs": [],
   "source": [
    "## Pickling input ids and labels for future use\n",
    "with open(\"multinews_val_ids.pkl\", \"wb\") as f:\n",
    "    pickle.dump(val_inputs, f)\n",
    "    \n",
    "with open(\"multinews_val_labels.pkl\", \"wb\") as f:\n",
    "    pickle.dump(val_labels, f)\n",
    "    \n",
    "with open(\"multinews_val_text.pkl\", \"wb\") as f:\n",
    "    pickle.dump(multi_val, f)\n",
    "    \n",
    "## Pickling results\n",
    "with open(\"LED_multinews_results1.pkl\", \"wb\") as f:\n",
    "    pickle.dump(answers, f)"
   ]
  },
  {
   "cell_type": "markdown",
   "metadata": {},
   "source": [
    "### 6.2 Loading previous pickles (Multi-news)"
   ]
  },
  {
   "cell_type": "code",
   "execution_count": 76,
   "metadata": {},
   "outputs": [],
   "source": [
    "with open(\"multinews_val_ids.pkl\", \"rb\") as f:\n",
    "    val_inputs = pickle.load(f)\n",
    "    \n",
    "with open(\"multinews_val_labels.pkl\", \"rb\") as f:\n",
    "    val_labels = pickle.load(f)\n",
    "    \n",
    "with open(\"multinews_val_text.pkl\", \"rb\") as f:\n",
    "    multi_val = pickle.load(f)\n",
    "\n",
    "with open(\"LED_multinews_results1.pkl\", \"rb\") as f:\n",
    "    answers = pickle.load(f)"
   ]
  },
  {
   "cell_type": "markdown",
   "metadata": {},
   "source": [
    "### 6.3 Saving results into pickles for future use (X-Science)"
   ]
  },
  {
   "cell_type": "code",
   "execution_count": 110,
   "metadata": {},
   "outputs": [],
   "source": [
    "## Pickling input ids and labels for future use\n",
    "with open(\"xsci_test_ids.pkl\", \"wb\") as f:\n",
    "    pickle.dump(test_inputs, f)\n",
    "    \n",
    "with open(\"xsci_test_labels.pkl\", \"wb\") as f:\n",
    "    pickle.dump(test_labels, f)\n",
    "\n",
    "with open(\"xsci_test_originaltext.pkl\", \"wb\") as f:\n",
    "    pickle.dump(xsci_test, f)    \n",
    "    \n",
    "with open(\"xsci_test_processedtext.pkl\", \"wb\") as f:\n",
    "    pickle.dump(xsci_test_processed, f)\n",
    "    \n",
    "## Pickling results\n",
    "with open(\"LED_xsci_results1.pkl\", \"wb\") as f:\n",
    "    pickle.dump(answers, f)"
   ]
  },
  {
   "cell_type": "markdown",
   "metadata": {},
   "source": [
    "### 6.4 Loading previous pickles (X-Science)"
   ]
  },
  {
   "cell_type": "code",
   "execution_count": null,
   "metadata": {},
   "outputs": [],
   "source": [
    "with open(\"xsci_test_ids.pkl\", \"rb\") as f:\n",
    "    test_inputs = pickle.load(f)\n",
    "    \n",
    "with open(\"xsci_test_labels.pkl\", \"rb\") as f:\n",
    "    test_labels = pickle.load(f)\n",
    "    \n",
    "with open(\"xsci_test_originaltext.pkl\", \"rb\") as f:\n",
    "    xsci_test = pickle.load(f)\n",
    "    \n",
    "with open(\"xsci_test_processedtext.pkl\", \"rb\") as f:\n",
    "    xsci_test_processed = pickle.load(f)\n",
    "\n",
    "with open(\"LED_xsci_results1.pkl\", \"rb\") as f:\n",
    "    answers = pickle.load(f)"
   ]
  },
  {
   "cell_type": "markdown",
   "metadata": {},
   "source": [
    "### 6.5 Saving results for large LED with 1024 seq len"
   ]
  },
  {
   "cell_type": "code",
   "execution_count": 231,
   "metadata": {},
   "outputs": [],
   "source": [
    "## Pickling input ids and labels for future use\n",
    "with open(\"xsci_test_1024lenth.pkl\", \"wb\") as f:\n",
    "    pickle.dump(test_inputs_small, f)    \n",
    "    \n",
    "## Pickling results\n",
    "with open(\"LED_xsci_results2.pkl\", \"wb\") as f:\n",
    "    pickle.dump(formatted_answers, f)"
   ]
  },
  {
   "cell_type": "markdown",
   "metadata": {},
   "source": [
    "### 6.6 Saving results for base LED with 16384 seq len"
   ]
  },
  {
   "cell_type": "code",
   "execution_count": 31,
   "metadata": {},
   "outputs": [],
   "source": [
    "## Pickling results\n",
    "with open(\"LED_xsci_results3.pkl\", \"wb\") as f:\n",
    "    pickle.dump(answers, f)"
   ]
  },
  {
   "cell_type": "markdown",
   "metadata": {},
   "source": [
    "### 6.7 Saving results for base LED with 1024 seq len"
   ]
  },
  {
   "cell_type": "code",
   "execution_count": 50,
   "metadata": {},
   "outputs": [],
   "source": [
    "## Pickling results\n",
    "with open(\"LED_xsci_results4.pkl\", \"wb\") as f:\n",
    "    pickle.dump(formatted_answers, f)"
   ]
  },
  {
   "cell_type": "markdown",
   "metadata": {},
   "source": [
    "### 6.8 Loading previous pickles (X-Sci)"
   ]
  },
  {
   "cell_type": "code",
   "execution_count": 51,
   "metadata": {},
   "outputs": [],
   "source": [
    "with open(\"LED_xsci_results1.pkl\", \"rb\") as f:\n",
    "    answers_run1 = pickle.load(f)\n",
    "    \n",
    "with open(\"LED_xsci_results2.pkl\", \"rb\") as f:\n",
    "    answers_run2 = pickle.load(f)\n",
    "    \n",
    "with open(\"LED_xsci_results3.pkl\", \"rb\") as f:\n",
    "    answers_run3 = pickle.load(f)\n",
    "    \n",
    "with open(\"LED_xsci_results4.pkl\", \"rb\") as f:\n",
    "    answers_run4 = pickle.load(f)"
   ]
  },
  {
   "cell_type": "markdown",
   "metadata": {},
   "source": [
    "# 7 Further Analysis of Test Set Results"
   ]
  },
  {
   "cell_type": "markdown",
   "metadata": {},
   "source": [
    "## 7.1 Rouge Scores of Long Input Length Samples (>1024)"
   ]
  },
  {
   "cell_type": "code",
   "execution_count": 122,
   "metadata": {},
   "outputs": [
    {
     "data": {
      "text/plain": [
       "{'rouge1': AggregateScore(low=Score(precision=0.28209020440622534, recall=0.33364339155240996, fmeasure=0.29509077801068784), mid=Score(precision=0.2871308968877983, recall=0.33753177763311204, fmeasure=0.2986693473211792), high=Score(precision=0.2920196889890048, recall=0.34117219188494974, fmeasure=0.3022562433940616)),\n",
       " 'rouge2': AggregateScore(low=Score(precision=0.045523584174113764, recall=0.05305657901236388, fmeasure=0.04723888068715274), mid=Score(precision=0.047346645463782824, recall=0.05477451419775044, fmeasure=0.048832980460225626), high=Score(precision=0.049075381440473693, recall=0.05659706740001913, fmeasure=0.05045701851032297)),\n",
       " 'rougeL': AggregateScore(low=Score(precision=0.13918243540975597, recall=0.16732822398187397, fmeasure=0.14628366305691584), mid=Score(precision=0.14134722143760534, recall=0.169515733776479, fmeasure=0.14795703723004422), high=Score(precision=0.14364303617388782, recall=0.17185185102128722, fmeasure=0.14958478284581958)),\n",
       " 'rougeLsum': AggregateScore(low=Score(precision=0.13928647724929974, recall=0.16735012366856666, fmeasure=0.14639874899019553), mid=Score(precision=0.1414375430339515, recall=0.16958838630548853, fmeasure=0.1479738398674265), high=Score(precision=0.14369551637101993, recall=0.17190157546707, fmeasure=0.14960179516770325))}"
      ]
     },
     "execution_count": 122,
     "metadata": {},
     "output_type": "execute_result"
    }
   ],
   "source": [
    "## Rouge score when looking at long samples only\n",
    "\n",
    "# Run 1 - Large LED; 16384 Tokens\n",
    "rouge.compute(predictions=np.array(answers_run1)[np.array(len_t_inputs)>1024],\n",
    "              references=np.array(xsci_test_processed['related_work'])[np.array(len_t_inputs)>1024],\n",
    "              use_stemmer = True)"
   ]
  },
  {
   "cell_type": "code",
   "execution_count": 123,
   "metadata": {},
   "outputs": [
    {
     "data": {
      "text/plain": [
       "{'rouge1': AggregateScore(low=Score(precision=0.29267043937705783, recall=0.32661895580389577, fmeasure=0.29714170087407116), mid=Score(precision=0.2978118673455573, recall=0.3304516727066307, fmeasure=0.3009160100182581), high=Score(precision=0.30294183550938286, recall=0.3342239444465323, fmeasure=0.30447910802656447)),\n",
       " 'rouge2': AggregateScore(low=Score(precision=0.04696252113173083, recall=0.05184322030881778, fmeasure=0.04746372197291396), mid=Score(precision=0.04881745752863201, recall=0.05366183343778762, fmeasure=0.049048184729776595), high=Score(precision=0.050614914909646945, recall=0.055441233214383816, fmeasure=0.05069339487195874)),\n",
       " 'rougeL': AggregateScore(low=Score(precision=0.14579634730568386, recall=0.165242281479646, fmeasure=0.1486447663267034), mid=Score(precision=0.1479602470378797, recall=0.16730911454429648, fmeasure=0.15029469797391332), high=Score(precision=0.1504135644517737, recall=0.16976378215076451, fmeasure=0.1519333664501865)),\n",
       " 'rougeLsum': AggregateScore(low=Score(precision=0.18602560015018504, recall=0.21028260838846755, fmeasure=0.1897807865549776), mid=Score(precision=0.18880278127143246, recall=0.21324173594578621, fmeasure=0.19188959349635998), high=Score(precision=0.19180285916792872, recall=0.21634435090269502, fmeasure=0.19414750084273352))}"
      ]
     },
     "execution_count": 123,
     "metadata": {},
     "output_type": "execute_result"
    }
   ],
   "source": [
    "# Run 2 - Large LED; 1024 Tokens\n",
    "rouge.compute(predictions=np.array(answers_run2)[np.array(len_t_inputs)>1024],\n",
    "              references=np.array(xsci_test_processed['related_work'])[np.array(len_t_inputs)>1024],\n",
    "              use_stemmer = True)"
   ]
  },
  {
   "cell_type": "code",
   "execution_count": 124,
   "metadata": {},
   "outputs": [
    {
     "data": {
      "text/plain": [
       "{'rouge1': AggregateScore(low=Score(precision=0.27679325395159765, recall=0.3399469000001942, fmeasure=0.29235035121041647), mid=Score(precision=0.2816049103542465, recall=0.34480528544318934, fmeasure=0.29681858543747264), high=Score(precision=0.28658112013877934, recall=0.34936230621316083, fmeasure=0.3005578267230586)),\n",
       " 'rouge2': AggregateScore(low=Score(precision=0.043251753076252106, recall=0.05347305040756864, fmeasure=0.045978879412789435), mid=Score(precision=0.044945341251876283, recall=0.05534661675927563, fmeasure=0.0476455111264788), high=Score(precision=0.046685574093413965, recall=0.05732551600762731, fmeasure=0.049371046624011566)),\n",
       " 'rougeL': AggregateScore(low=Score(precision=0.1356174418292904, recall=0.16824458562813785, fmeasure=0.1431042058976652), mid=Score(precision=0.13795364964073864, recall=0.17073575842558675, fmeasure=0.144877088285663), high=Score(precision=0.14037460979102648, recall=0.17336938048063383, fmeasure=0.14676418346964926)),\n",
       " 'rougeLsum': AggregateScore(low=Score(precision=0.13548973671880943, recall=0.1683385207821692, fmeasure=0.14312152292783323), mid=Score(precision=0.13789272707618183, recall=0.17079458980623458, fmeasure=0.1449241075190132), high=Score(precision=0.14044756147767454, recall=0.1731825777243978, fmeasure=0.14666740454002286))}"
      ]
     },
     "execution_count": 124,
     "metadata": {},
     "output_type": "execute_result"
    }
   ],
   "source": [
    "# Run 3 - Base LED; 16384 Tokens\n",
    "rouge.compute(predictions=np.array(answers_run3)[np.array(len_t_inputs)>1024],\n",
    "              references=np.array(xsci_test_processed['related_work'])[np.array(len_t_inputs)>1024],\n",
    "              use_stemmer = True)"
   ]
  },
  {
   "cell_type": "code",
   "execution_count": 125,
   "metadata": {},
   "outputs": [
    {
     "data": {
      "text/plain": [
       "{'rouge1': AggregateScore(low=Score(precision=0.28084465720904556, recall=0.36659787342737793, fmeasure=0.3086425439184064), mid=Score(precision=0.2857363369492592, recall=0.3701110771131816, fmeasure=0.31242726911246543), high=Score(precision=0.2908327583638597, recall=0.3739692254512024, fmeasure=0.3161616261678333)),\n",
       " 'rouge2': AggregateScore(low=Score(precision=0.04945065488941166, recall=0.06354470805137043, fmeasure=0.05394663479431329), mid=Score(precision=0.051204944939728846, recall=0.0653717382975526, fmeasure=0.05557238643749181), high=Score(precision=0.052988986368937153, recall=0.06726038447847146, fmeasure=0.05735593747105353)),\n",
       " 'rougeL': AggregateScore(low=Score(precision=0.1356344400567635, recall=0.18071624844093936, fmeasure=0.15001942822907913), mid=Score(precision=0.13758752722425266, recall=0.1828242651583546, fmeasure=0.15168608906792974), high=Score(precision=0.13976184096995925, recall=0.18506071277675462, fmeasure=0.1534341039155194)),\n",
       " 'rougeLsum': AggregateScore(low=Score(precision=0.13555583428704546, recall=0.1807545576830074, fmeasure=0.15001338380961776), mid=Score(precision=0.1376536411544222, recall=0.18285035927251408, fmeasure=0.15174544419084737), high=Score(precision=0.1397002853635283, recall=0.18521802942523685, fmeasure=0.1533980664236254))}"
      ]
     },
     "execution_count": 125,
     "metadata": {},
     "output_type": "execute_result"
    }
   ],
   "source": [
    "# Run 4 - Base LED; 1024 Tokens\n",
    "rouge.compute(predictions=np.array(answers_run4)[np.array(len_t_inputs)>1024],\n",
    "              references=np.array(xsci_test_processed['related_work'])[np.array(len_t_inputs)>1024],\n",
    "              use_stemmer = True)"
   ]
  },
  {
   "cell_type": "markdown",
   "metadata": {},
   "source": [
    "## Sandbox"
   ]
  },
  {
   "cell_type": "code",
   "execution_count": 132,
   "metadata": {},
   "outputs": [
    {
     "data": {
      "text/plain": [
       "334"
      ]
     },
     "execution_count": 132,
     "metadata": {},
     "output_type": "execute_result"
    }
   ],
   "source": [
    "sum(np.array(len_tr_sources[0]))"
   ]
  },
  {
   "cell_type": "code",
   "execution_count": 133,
   "metadata": {},
   "outputs": [
    {
     "data": {
      "text/plain": [
       "4"
      ]
     },
     "execution_count": 133,
     "metadata": {},
     "output_type": "execute_result"
    }
   ],
   "source": [
    "max([1,2,3,4])"
   ]
  },
  {
   "cell_type": "code",
   "execution_count": 135,
   "metadata": {},
   "outputs": [
    {
     "name": "stdout",
     "output_type": "stream",
     "text": [
      "The longest input in training set is 4694 tokens.\n",
      "The longest input in validation set is 4183 tokens.\n"
     ]
    }
   ],
   "source": [
    "token_numbers_tr_sources = []\n",
    "token_numbers_v_sources = []\n",
    "\n",
    "for tup in len_tr_sources:\n",
    "    token_numbers_tr_sources.append(sum(np.array(tup)))\n",
    "    \n",
    "for tup in len_v_sources:\n",
    "    token_numbers_v_sources.append(sum(np.array(tup)))\n",
    "    \n",
    "print(f\"The longest input in training set is {max(token_numbers_tr_sources)} tokens.\")\n",
    "print(f\"The longest input in validation set is {max(token_numbers_v_sources)} tokens.\")"
   ]
  },
  {
   "cell_type": "code",
   "execution_count": 141,
   "metadata": {},
   "outputs": [
    {
     "data": {
      "text/plain": [
       "[753,\n",
       " 680,\n",
       " 609,\n",
       " 431,\n",
       " 384,\n",
       " 375,\n",
       " 359,\n",
       " 355,\n",
       " 355,\n",
       " 353,\n",
       " 353,\n",
       " 351,\n",
       " 346,\n",
       " 346,\n",
       " 344,\n",
       " 342,\n",
       " 340,\n",
       " 339,\n",
       " 339,\n",
       " 338,\n",
       " 338,\n",
       " 337,\n",
       " 337,\n",
       " 336,\n",
       " 336,\n",
       " 335,\n",
       " 335,\n",
       " 335,\n",
       " 334,\n",
       " 333,\n",
       " 332,\n",
       " 332,\n",
       " 331,\n",
       " 331,\n",
       " 330,\n",
       " 330,\n",
       " 329,\n",
       " 329,\n",
       " 328,\n",
       " 328,\n",
       " 328,\n",
       " 328,\n",
       " 327,\n",
       " 326,\n",
       " 326,\n",
       " 326,\n",
       " 326,\n",
       " 326,\n",
       " 325,\n",
       " 325,\n",
       " 324,\n",
       " 324,\n",
       " 324,\n",
       " 324,\n",
       " 323,\n",
       " 323,\n",
       " 323,\n",
       " 323,\n",
       " 323,\n",
       " 322,\n",
       " 322,\n",
       " 321,\n",
       " 321,\n",
       " 321,\n",
       " 320,\n",
       " 320,\n",
       " 320,\n",
       " 319,\n",
       " 319,\n",
       " 319,\n",
       " 319,\n",
       " 319,\n",
       " 319,\n",
       " 319,\n",
       " 318,\n",
       " 318,\n",
       " 318,\n",
       " 317,\n",
       " 317,\n",
       " 317,\n",
       " 317,\n",
       " 316,\n",
       " 316,\n",
       " 316,\n",
       " 316,\n",
       " 316,\n",
       " 316,\n",
       " 316,\n",
       " 315,\n",
       " 315,\n",
       " 315,\n",
       " 314,\n",
       " 314,\n",
       " 314,\n",
       " 314,\n",
       " 314,\n",
       " 313,\n",
       " 313,\n",
       " 313,\n",
       " 312,\n",
       " 312,\n",
       " 312,\n",
       " 312,\n",
       " 312,\n",
       " 312,\n",
       " 312,\n",
       " 312,\n",
       " 312,\n",
       " 312,\n",
       " 311,\n",
       " 311,\n",
       " 311,\n",
       " 311,\n",
       " 311,\n",
       " 311,\n",
       " 311,\n",
       " 310,\n",
       " 310,\n",
       " 310,\n",
       " 310,\n",
       " 310,\n",
       " 310,\n",
       " 310,\n",
       " 310,\n",
       " 309,\n",
       " 309,\n",
       " 309,\n",
       " 309,\n",
       " 309,\n",
       " 309,\n",
       " 309,\n",
       " 308,\n",
       " 308,\n",
       " 308,\n",
       " 308,\n",
       " 308,\n",
       " 308,\n",
       " 308,\n",
       " 308,\n",
       " 308,\n",
       " 308,\n",
       " 308,\n",
       " 308,\n",
       " 308,\n",
       " 308,\n",
       " 307,\n",
       " 307,\n",
       " 307,\n",
       " 307,\n",
       " 307,\n",
       " 307,\n",
       " 307,\n",
       " 307,\n",
       " 307,\n",
       " 306,\n",
       " 306,\n",
       " 306,\n",
       " 306,\n",
       " 306,\n",
       " 305,\n",
       " 305,\n",
       " 305,\n",
       " 305,\n",
       " 305,\n",
       " 305,\n",
       " 305,\n",
       " 305,\n",
       " 305,\n",
       " 304,\n",
       " 304,\n",
       " 304,\n",
       " 304,\n",
       " 304,\n",
       " 304,\n",
       " 304,\n",
       " 304,\n",
       " 304,\n",
       " 304,\n",
       " 304,\n",
       " 303,\n",
       " 303,\n",
       " 303,\n",
       " 303,\n",
       " 303,\n",
       " 303,\n",
       " 303,\n",
       " 303,\n",
       " 303,\n",
       " 303,\n",
       " 303,\n",
       " 303,\n",
       " 302,\n",
       " 302,\n",
       " 302,\n",
       " 302,\n",
       " 302,\n",
       " 302,\n",
       " 302,\n",
       " 302,\n",
       " 302,\n",
       " 302,\n",
       " 302,\n",
       " 302,\n",
       " 302,\n",
       " 302,\n",
       " 301,\n",
       " 301,\n",
       " 301,\n",
       " 301,\n",
       " 301,\n",
       " 301,\n",
       " 301,\n",
       " 301,\n",
       " 301,\n",
       " 301,\n",
       " 300,\n",
       " 300,\n",
       " 300,\n",
       " 300,\n",
       " 300,\n",
       " 300,\n",
       " 300,\n",
       " 300,\n",
       " 300,\n",
       " 300,\n",
       " 300,\n",
       " 300,\n",
       " 300,\n",
       " 300,\n",
       " 299,\n",
       " 299,\n",
       " 299,\n",
       " 299,\n",
       " 299,\n",
       " 299,\n",
       " 299,\n",
       " 299,\n",
       " 299,\n",
       " 299,\n",
       " 299,\n",
       " 299,\n",
       " 299,\n",
       " 299,\n",
       " 299,\n",
       " 299,\n",
       " 298,\n",
       " 298,\n",
       " 298,\n",
       " 298,\n",
       " 298,\n",
       " 298,\n",
       " 298,\n",
       " 298,\n",
       " 298,\n",
       " 298,\n",
       " 298,\n",
       " 298,\n",
       " 298,\n",
       " 298,\n",
       " 298,\n",
       " 298,\n",
       " 298,\n",
       " 297,\n",
       " 297,\n",
       " 297,\n",
       " 297,\n",
       " 297,\n",
       " 297,\n",
       " 297,\n",
       " 297,\n",
       " 297,\n",
       " 297,\n",
       " 297,\n",
       " 297,\n",
       " 297,\n",
       " 297,\n",
       " 297,\n",
       " 297,\n",
       " 297,\n",
       " 297,\n",
       " 296,\n",
       " 296,\n",
       " 296,\n",
       " 296,\n",
       " 296,\n",
       " 296,\n",
       " 296,\n",
       " 296,\n",
       " 296,\n",
       " 296,\n",
       " 296,\n",
       " 296,\n",
       " 296,\n",
       " 295,\n",
       " 295,\n",
       " 295,\n",
       " 295,\n",
       " 295,\n",
       " 295,\n",
       " 295,\n",
       " 295,\n",
       " 295,\n",
       " 295,\n",
       " 295,\n",
       " 295,\n",
       " 295,\n",
       " 295,\n",
       " 295,\n",
       " 294,\n",
       " 294,\n",
       " 294,\n",
       " 294,\n",
       " 294,\n",
       " 294,\n",
       " 294,\n",
       " 294,\n",
       " 294,\n",
       " 294,\n",
       " 294,\n",
       " 294,\n",
       " 294,\n",
       " 294,\n",
       " 294,\n",
       " 294,\n",
       " 294,\n",
       " 294,\n",
       " 294,\n",
       " 294,\n",
       " 294,\n",
       " 293,\n",
       " 293,\n",
       " 293,\n",
       " 293,\n",
       " 293,\n",
       " 293,\n",
       " 293,\n",
       " 293,\n",
       " 293,\n",
       " 293,\n",
       " 292,\n",
       " 292,\n",
       " 292,\n",
       " 292,\n",
       " 292,\n",
       " 292,\n",
       " 292,\n",
       " 292,\n",
       " 292,\n",
       " 292,\n",
       " 292,\n",
       " 292,\n",
       " 292,\n",
       " 292,\n",
       " 292,\n",
       " 292,\n",
       " 292,\n",
       " 292,\n",
       " 292,\n",
       " 292,\n",
       " 292,\n",
       " 292,\n",
       " 292,\n",
       " 292,\n",
       " 291,\n",
       " 291,\n",
       " 291,\n",
       " 291,\n",
       " 291,\n",
       " 291,\n",
       " 291,\n",
       " 291,\n",
       " 291,\n",
       " 291,\n",
       " 291,\n",
       " 291,\n",
       " 291,\n",
       " 291,\n",
       " 291,\n",
       " 291,\n",
       " 291,\n",
       " 291,\n",
       " 291,\n",
       " 291,\n",
       " 291,\n",
       " 291,\n",
       " 291,\n",
       " 291,\n",
       " 291,\n",
       " 291,\n",
       " 290,\n",
       " 290,\n",
       " 290,\n",
       " 290,\n",
       " 290,\n",
       " 290,\n",
       " 290,\n",
       " 290,\n",
       " 290,\n",
       " 290,\n",
       " 290,\n",
       " 290,\n",
       " 290,\n",
       " 290,\n",
       " 290,\n",
       " 290,\n",
       " 290,\n",
       " 290,\n",
       " 290,\n",
       " 290,\n",
       " 290,\n",
       " 290,\n",
       " 290,\n",
       " 289,\n",
       " 289,\n",
       " 289,\n",
       " 289,\n",
       " 289,\n",
       " 289,\n",
       " 289,\n",
       " 289,\n",
       " 289,\n",
       " 289,\n",
       " 289,\n",
       " 289,\n",
       " 289,\n",
       " 289,\n",
       " 289,\n",
       " 289,\n",
       " 289,\n",
       " 288,\n",
       " 288,\n",
       " 288,\n",
       " 288,\n",
       " 288,\n",
       " 288,\n",
       " 288,\n",
       " 288,\n",
       " 288,\n",
       " 288,\n",
       " 288,\n",
       " 288,\n",
       " 288,\n",
       " 288,\n",
       " 288,\n",
       " 288,\n",
       " 288,\n",
       " 288,\n",
       " 288,\n",
       " 288,\n",
       " 288,\n",
       " 288,\n",
       " 288,\n",
       " 288,\n",
       " 287,\n",
       " 287,\n",
       " 287,\n",
       " 287,\n",
       " 287,\n",
       " 287,\n",
       " 287,\n",
       " 287,\n",
       " 287,\n",
       " 287,\n",
       " 287,\n",
       " 287,\n",
       " 287,\n",
       " 287,\n",
       " 287,\n",
       " 287,\n",
       " 287,\n",
       " 287,\n",
       " 287,\n",
       " 287,\n",
       " 287,\n",
       " 287,\n",
       " 287,\n",
       " 287,\n",
       " 286,\n",
       " 286,\n",
       " 286,\n",
       " 286,\n",
       " 286,\n",
       " 286,\n",
       " 286,\n",
       " 286,\n",
       " 286,\n",
       " 286,\n",
       " 286,\n",
       " 286,\n",
       " 286,\n",
       " 286,\n",
       " 286,\n",
       " 286,\n",
       " 286,\n",
       " 286,\n",
       " 286,\n",
       " 286,\n",
       " 286,\n",
       " 286,\n",
       " 285,\n",
       " 285,\n",
       " 285,\n",
       " 285,\n",
       " 285,\n",
       " 285,\n",
       " 285,\n",
       " 285,\n",
       " 285,\n",
       " 285,\n",
       " 285,\n",
       " 285,\n",
       " 285,\n",
       " 285,\n",
       " 285,\n",
       " 285,\n",
       " 285,\n",
       " 285,\n",
       " 285,\n",
       " 284,\n",
       " 284,\n",
       " 284,\n",
       " 284,\n",
       " 284,\n",
       " 284,\n",
       " 284,\n",
       " 284,\n",
       " 284,\n",
       " 284,\n",
       " 284,\n",
       " 284,\n",
       " 284,\n",
       " 284,\n",
       " 284,\n",
       " 284,\n",
       " 284,\n",
       " 284,\n",
       " 284,\n",
       " 284,\n",
       " 284,\n",
       " 284,\n",
       " 284,\n",
       " 284,\n",
       " 284,\n",
       " 284,\n",
       " 284,\n",
       " 283,\n",
       " 283,\n",
       " 283,\n",
       " 283,\n",
       " 283,\n",
       " 283,\n",
       " 283,\n",
       " 283,\n",
       " 283,\n",
       " 283,\n",
       " 283,\n",
       " 283,\n",
       " 283,\n",
       " 283,\n",
       " 283,\n",
       " 283,\n",
       " 283,\n",
       " 283,\n",
       " 283,\n",
       " 283,\n",
       " 283,\n",
       " 283,\n",
       " 283,\n",
       " 283,\n",
       " 283,\n",
       " 283,\n",
       " 283,\n",
       " 283,\n",
       " 283,\n",
       " 282,\n",
       " 282,\n",
       " 282,\n",
       " 282,\n",
       " 282,\n",
       " 282,\n",
       " 282,\n",
       " 282,\n",
       " 282,\n",
       " 282,\n",
       " 282,\n",
       " 282,\n",
       " 282,\n",
       " 282,\n",
       " 282,\n",
       " 282,\n",
       " 282,\n",
       " 282,\n",
       " 282,\n",
       " 282,\n",
       " 282,\n",
       " 282,\n",
       " 282,\n",
       " 282,\n",
       " 282,\n",
       " 282,\n",
       " 282,\n",
       " 282,\n",
       " 282,\n",
       " 282,\n",
       " 282,\n",
       " 282,\n",
       " 281,\n",
       " 281,\n",
       " 281,\n",
       " 281,\n",
       " 281,\n",
       " 281,\n",
       " 281,\n",
       " 281,\n",
       " 281,\n",
       " 281,\n",
       " 281,\n",
       " 281,\n",
       " 281,\n",
       " 281,\n",
       " 281,\n",
       " 281,\n",
       " 281,\n",
       " 281,\n",
       " 281,\n",
       " 281,\n",
       " 281,\n",
       " 281,\n",
       " 281,\n",
       " 281,\n",
       " 281,\n",
       " 281,\n",
       " 281,\n",
       " 281,\n",
       " 281,\n",
       " 281,\n",
       " 281,\n",
       " 281,\n",
       " 281,\n",
       " 281,\n",
       " 280,\n",
       " 280,\n",
       " 280,\n",
       " 280,\n",
       " 280,\n",
       " 280,\n",
       " 280,\n",
       " 280,\n",
       " 280,\n",
       " 280,\n",
       " 280,\n",
       " 280,\n",
       " 280,\n",
       " 280,\n",
       " 280,\n",
       " 280,\n",
       " 280,\n",
       " 280,\n",
       " 280,\n",
       " 280,\n",
       " 280,\n",
       " 280,\n",
       " 280,\n",
       " 280,\n",
       " 280,\n",
       " 280,\n",
       " 280,\n",
       " 280,\n",
       " 280,\n",
       " 280,\n",
       " 280,\n",
       " 280,\n",
       " 280,\n",
       " 280,\n",
       " 279,\n",
       " 279,\n",
       " 279,\n",
       " 279,\n",
       " 279,\n",
       " 279,\n",
       " 279,\n",
       " 279,\n",
       " 279,\n",
       " 279,\n",
       " 279,\n",
       " 279,\n",
       " 279,\n",
       " 279,\n",
       " 279,\n",
       " 279,\n",
       " 279,\n",
       " 279,\n",
       " 279,\n",
       " 279,\n",
       " 279,\n",
       " 279,\n",
       " 279,\n",
       " 279,\n",
       " 279,\n",
       " 279,\n",
       " 279,\n",
       " 279,\n",
       " 279,\n",
       " 279,\n",
       " 279,\n",
       " 279,\n",
       " 279,\n",
       " 279,\n",
       " 279,\n",
       " 279,\n",
       " 278,\n",
       " 278,\n",
       " 278,\n",
       " 278,\n",
       " 278,\n",
       " 278,\n",
       " 278,\n",
       " 278,\n",
       " 278,\n",
       " 278,\n",
       " 278,\n",
       " 278,\n",
       " 278,\n",
       " 278,\n",
       " 278,\n",
       " 278,\n",
       " 278,\n",
       " 278,\n",
       " 278,\n",
       " 278,\n",
       " 278,\n",
       " 278,\n",
       " 278,\n",
       " 278,\n",
       " 278,\n",
       " 278,\n",
       " 278,\n",
       " 278,\n",
       " 278,\n",
       " 278,\n",
       " 278,\n",
       " 278,\n",
       " 278,\n",
       " 278,\n",
       " 278,\n",
       " 277,\n",
       " 277,\n",
       " 277,\n",
       " 277,\n",
       " 277,\n",
       " 277,\n",
       " 277,\n",
       " 277,\n",
       " 277,\n",
       " 277,\n",
       " 277,\n",
       " 277,\n",
       " 277,\n",
       " 277,\n",
       " 277,\n",
       " 277,\n",
       " 277,\n",
       " 277,\n",
       " 277,\n",
       " 277,\n",
       " 277,\n",
       " 277,\n",
       " 277,\n",
       " 277,\n",
       " 277,\n",
       " 277,\n",
       " 277,\n",
       " 277,\n",
       " 277,\n",
       " 277,\n",
       " 276,\n",
       " 276,\n",
       " 276,\n",
       " 276,\n",
       " 276,\n",
       " 276,\n",
       " 276,\n",
       " 276,\n",
       " 276,\n",
       " 276,\n",
       " 276,\n",
       " 276,\n",
       " 276,\n",
       " 276,\n",
       " 276,\n",
       " 276,\n",
       " 276,\n",
       " 276,\n",
       " 276,\n",
       " 276,\n",
       " 276,\n",
       " 276,\n",
       " 276,\n",
       " 276,\n",
       " 276,\n",
       " 276,\n",
       " 276,\n",
       " 276,\n",
       " 276,\n",
       " 276,\n",
       " 276,\n",
       " 276,\n",
       " 276,\n",
       " 276,\n",
       " 275,\n",
       " 275,\n",
       " 275,\n",
       " 275,\n",
       " 275,\n",
       " 275,\n",
       " 275,\n",
       " 275,\n",
       " 275,\n",
       " 275,\n",
       " 275,\n",
       " 275,\n",
       " 275,\n",
       " 275,\n",
       " 275,\n",
       " 275,\n",
       " 275,\n",
       " 275,\n",
       " 275,\n",
       " 275,\n",
       " 275,\n",
       " 275,\n",
       " 275,\n",
       " 275,\n",
       " 275,\n",
       " 275,\n",
       " 275,\n",
       " 275,\n",
       " 275,\n",
       " 275,\n",
       " 275,\n",
       " 275,\n",
       " 275,\n",
       " 275,\n",
       " 275,\n",
       " 275,\n",
       " 275,\n",
       " 275,\n",
       " 275,\n",
       " 275,\n",
       " 275,\n",
       " 275,\n",
       " 275,\n",
       " 275,\n",
       " 275,\n",
       " 274,\n",
       " 274,\n",
       " 274,\n",
       " 274,\n",
       " 274,\n",
       " 274,\n",
       " 274,\n",
       " 274,\n",
       " 274,\n",
       " 274,\n",
       " 274,\n",
       " 274,\n",
       " 274,\n",
       " 274,\n",
       " 274,\n",
       " 274,\n",
       " 274,\n",
       " 274,\n",
       " 274,\n",
       " 274,\n",
       " 274,\n",
       " 274,\n",
       " 274,\n",
       " 274,\n",
       " 274,\n",
       " 274,\n",
       " 274,\n",
       " 274,\n",
       " 274,\n",
       " 274,\n",
       " 274,\n",
       " 274,\n",
       " 274,\n",
       " 274,\n",
       " 274,\n",
       " 274,\n",
       " 274,\n",
       " 274,\n",
       " 274,\n",
       " 274,\n",
       " 274,\n",
       " 274,\n",
       " 274,\n",
       " 274,\n",
       " 274,\n",
       " 274,\n",
       " 274,\n",
       " 274,\n",
       " 274,\n",
       " 273,\n",
       " 273,\n",
       " 273,\n",
       " 273,\n",
       " 273,\n",
       " 273,\n",
       " 273,\n",
       " 273,\n",
       " 273,\n",
       " 273,\n",
       " 273,\n",
       " 273,\n",
       " 273,\n",
       " 273,\n",
       " 273,\n",
       " 273,\n",
       " 273,\n",
       " 273,\n",
       " 273,\n",
       " 273,\n",
       " 273,\n",
       " 273,\n",
       " 273,\n",
       " 273,\n",
       " 273,\n",
       " 273,\n",
       " 273,\n",
       " 273,\n",
       " 273,\n",
       " 273,\n",
       " 273,\n",
       " 273,\n",
       " 273,\n",
       " 273,\n",
       " 273,\n",
       " 273,\n",
       " 273,\n",
       " 273,\n",
       " 273,\n",
       " 273,\n",
       " 273,\n",
       " 273,\n",
       " 273,\n",
       " 272,\n",
       " 272,\n",
       " 272,\n",
       " 272,\n",
       " 272,\n",
       " 272,\n",
       " 272,\n",
       " 272,\n",
       " 272,\n",
       " 272,\n",
       " 272,\n",
       " 272,\n",
       " 272,\n",
       " 272,\n",
       " 272,\n",
       " 272,\n",
       " 272,\n",
       " 272,\n",
       " 272,\n",
       " 272,\n",
       " 272,\n",
       " 272,\n",
       " 272,\n",
       " 272,\n",
       " 272,\n",
       " 272,\n",
       " 272,\n",
       " 272,\n",
       " 272,\n",
       " 272,\n",
       " 272,\n",
       " 272,\n",
       " 271,\n",
       " 271,\n",
       " 271,\n",
       " 271,\n",
       " 271,\n",
       " 271,\n",
       " 271,\n",
       " 271,\n",
       " 271,\n",
       " 271,\n",
       " 271,\n",
       " 271,\n",
       " 271,\n",
       " 271,\n",
       " 271,\n",
       " 271,\n",
       " 271,\n",
       " 271,\n",
       " 271,\n",
       " 271,\n",
       " 271,\n",
       " 271,\n",
       " ...]"
      ]
     },
     "execution_count": 141,
     "metadata": {},
     "output_type": "execute_result"
    }
   ],
   "source": [
    "len_tr_labels.sort(reverse=True)\n",
    "len_tr_labels"
   ]
  },
  {
   "cell_type": "code",
   "execution_count": 138,
   "metadata": {},
   "outputs": [
    {
     "data": {
      "text/plain": [
       "324"
      ]
     },
     "execution_count": 138,
     "metadata": {},
     "output_type": "execute_result"
    }
   ],
   "source": [
    "max(len_v_labels)"
   ]
  }
 ],
 "metadata": {
  "colab": {
   "collapsed_sections": [
    "0QDMDB_KqT8m",
    "C9xudUadMrFA",
    "6JSmlLkqtHQ5",
    "C89LpeBj7i4F"
   ],
   "provenance": []
  },
  "gpuClass": "standard",
  "kernelspec": {
   "display_name": "Python 3 (ipykernel)",
   "language": "python",
   "name": "python3"
  },
  "language_info": {
   "codemirror_mode": {
    "name": "ipython",
    "version": 3
   },
   "file_extension": ".py",
   "mimetype": "text/x-python",
   "name": "python",
   "nbconvert_exporter": "python",
   "pygments_lexer": "ipython3",
   "version": "3.9.13"
  },
  "widgets": {
   "application/vnd.jupyter.widget-state+json": {
    "0159a14369cb44f089b90fb2da2e2ca2": {
     "model_module": "@jupyter-widgets/base",
     "model_module_version": "1.2.0",
     "model_name": "LayoutModel",
     "state": {
      "_model_module": "@jupyter-widgets/base",
      "_model_module_version": "1.2.0",
      "_model_name": "LayoutModel",
      "_view_count": null,
      "_view_module": "@jupyter-widgets/base",
      "_view_module_version": "1.2.0",
      "_view_name": "LayoutView",
      "align_content": null,
      "align_items": null,
      "align_self": null,
      "border": null,
      "bottom": null,
      "display": null,
      "flex": null,
      "flex_flow": null,
      "grid_area": null,
      "grid_auto_columns": null,
      "grid_auto_flow": null,
      "grid_auto_rows": null,
      "grid_column": null,
      "grid_gap": null,
      "grid_row": null,
      "grid_template_areas": null,
      "grid_template_columns": null,
      "grid_template_rows": null,
      "height": null,
      "justify_content": null,
      "justify_items": null,
      "left": null,
      "margin": null,
      "max_height": null,
      "max_width": null,
      "min_height": null,
      "min_width": null,
      "object_fit": null,
      "object_position": null,
      "order": null,
      "overflow": null,
      "overflow_x": null,
      "overflow_y": null,
      "padding": null,
      "right": null,
      "top": null,
      "visibility": null,
      "width": null
     }
    },
    "02655918f6db46e48dd99afce7d5efdc": {
     "model_module": "@jupyter-widgets/controls",
     "model_module_version": "1.5.0",
     "model_name": "DescriptionStyleModel",
     "state": {
      "_model_module": "@jupyter-widgets/controls",
      "_model_module_version": "1.5.0",
      "_model_name": "DescriptionStyleModel",
      "_view_count": null,
      "_view_module": "@jupyter-widgets/base",
      "_view_module_version": "1.2.0",
      "_view_name": "StyleView",
      "description_width": ""
     }
    },
    "06a9e61925ff4058b07dc571f4049f16": {
     "model_module": "@jupyter-widgets/base",
     "model_module_version": "1.2.0",
     "model_name": "LayoutModel",
     "state": {
      "_model_module": "@jupyter-widgets/base",
      "_model_module_version": "1.2.0",
      "_model_name": "LayoutModel",
      "_view_count": null,
      "_view_module": "@jupyter-widgets/base",
      "_view_module_version": "1.2.0",
      "_view_name": "LayoutView",
      "align_content": null,
      "align_items": null,
      "align_self": null,
      "border": null,
      "bottom": null,
      "display": null,
      "flex": null,
      "flex_flow": null,
      "grid_area": null,
      "grid_auto_columns": null,
      "grid_auto_flow": null,
      "grid_auto_rows": null,
      "grid_column": null,
      "grid_gap": null,
      "grid_row": null,
      "grid_template_areas": null,
      "grid_template_columns": null,
      "grid_template_rows": null,
      "height": null,
      "justify_content": null,
      "justify_items": null,
      "left": null,
      "margin": null,
      "max_height": null,
      "max_width": null,
      "min_height": null,
      "min_width": null,
      "object_fit": null,
      "object_position": null,
      "order": null,
      "overflow": null,
      "overflow_x": null,
      "overflow_y": null,
      "padding": null,
      "right": null,
      "top": null,
      "visibility": null,
      "width": null
     }
    },
    "088d5810db964888b6355ff4b3006daf": {
     "model_module": "@jupyter-widgets/base",
     "model_module_version": "1.2.0",
     "model_name": "LayoutModel",
     "state": {
      "_model_module": "@jupyter-widgets/base",
      "_model_module_version": "1.2.0",
      "_model_name": "LayoutModel",
      "_view_count": null,
      "_view_module": "@jupyter-widgets/base",
      "_view_module_version": "1.2.0",
      "_view_name": "LayoutView",
      "align_content": null,
      "align_items": null,
      "align_self": null,
      "border": null,
      "bottom": null,
      "display": null,
      "flex": null,
      "flex_flow": null,
      "grid_area": null,
      "grid_auto_columns": null,
      "grid_auto_flow": null,
      "grid_auto_rows": null,
      "grid_column": null,
      "grid_gap": null,
      "grid_row": null,
      "grid_template_areas": null,
      "grid_template_columns": null,
      "grid_template_rows": null,
      "height": null,
      "justify_content": null,
      "justify_items": null,
      "left": null,
      "margin": null,
      "max_height": null,
      "max_width": null,
      "min_height": null,
      "min_width": null,
      "object_fit": null,
      "object_position": null,
      "order": null,
      "overflow": null,
      "overflow_x": null,
      "overflow_y": null,
      "padding": null,
      "right": null,
      "top": null,
      "visibility": null,
      "width": null
     }
    },
    "0e578056e46b4da69251a0146f7b113f": {
     "model_module": "@jupyter-widgets/controls",
     "model_module_version": "1.5.0",
     "model_name": "DescriptionStyleModel",
     "state": {
      "_model_module": "@jupyter-widgets/controls",
      "_model_module_version": "1.5.0",
      "_model_name": "DescriptionStyleModel",
      "_view_count": null,
      "_view_module": "@jupyter-widgets/base",
      "_view_module_version": "1.2.0",
      "_view_name": "StyleView",
      "description_width": ""
     }
    },
    "0f345d2303cf455988917e97cb214934": {
     "model_module": "@jupyter-widgets/base",
     "model_module_version": "1.2.0",
     "model_name": "LayoutModel",
     "state": {
      "_model_module": "@jupyter-widgets/base",
      "_model_module_version": "1.2.0",
      "_model_name": "LayoutModel",
      "_view_count": null,
      "_view_module": "@jupyter-widgets/base",
      "_view_module_version": "1.2.0",
      "_view_name": "LayoutView",
      "align_content": null,
      "align_items": null,
      "align_self": null,
      "border": null,
      "bottom": null,
      "display": null,
      "flex": null,
      "flex_flow": null,
      "grid_area": null,
      "grid_auto_columns": null,
      "grid_auto_flow": null,
      "grid_auto_rows": null,
      "grid_column": null,
      "grid_gap": null,
      "grid_row": null,
      "grid_template_areas": null,
      "grid_template_columns": null,
      "grid_template_rows": null,
      "height": null,
      "justify_content": null,
      "justify_items": null,
      "left": null,
      "margin": null,
      "max_height": null,
      "max_width": null,
      "min_height": null,
      "min_width": null,
      "object_fit": null,
      "object_position": null,
      "order": null,
      "overflow": null,
      "overflow_x": null,
      "overflow_y": null,
      "padding": null,
      "right": null,
      "top": null,
      "visibility": null,
      "width": null
     }
    },
    "103b22a1fe0949ce851df013d05d1d67": {
     "model_module": "@jupyter-widgets/controls",
     "model_module_version": "1.5.0",
     "model_name": "DescriptionStyleModel",
     "state": {
      "_model_module": "@jupyter-widgets/controls",
      "_model_module_version": "1.5.0",
      "_model_name": "DescriptionStyleModel",
      "_view_count": null,
      "_view_module": "@jupyter-widgets/base",
      "_view_module_version": "1.2.0",
      "_view_name": "StyleView",
      "description_width": ""
     }
    },
    "1180f7a202054e96b29be676e6d196aa": {
     "model_module": "@jupyter-widgets/controls",
     "model_module_version": "1.5.0",
     "model_name": "ProgressStyleModel",
     "state": {
      "_model_module": "@jupyter-widgets/controls",
      "_model_module_version": "1.5.0",
      "_model_name": "ProgressStyleModel",
      "_view_count": null,
      "_view_module": "@jupyter-widgets/base",
      "_view_module_version": "1.2.0",
      "_view_name": "StyleView",
      "bar_color": null,
      "description_width": ""
     }
    },
    "12ea9af71b74477c8b3345639bd8c3bb": {
     "model_module": "@jupyter-widgets/controls",
     "model_module_version": "1.5.0",
     "model_name": "DescriptionStyleModel",
     "state": {
      "_model_module": "@jupyter-widgets/controls",
      "_model_module_version": "1.5.0",
      "_model_name": "DescriptionStyleModel",
      "_view_count": null,
      "_view_module": "@jupyter-widgets/base",
      "_view_module_version": "1.2.0",
      "_view_name": "StyleView",
      "description_width": ""
     }
    },
    "138d8cec4be8496aaa9c36de147b6f66": {
     "model_module": "@jupyter-widgets/controls",
     "model_module_version": "1.5.0",
     "model_name": "FloatProgressModel",
     "state": {
      "_dom_classes": [],
      "_model_module": "@jupyter-widgets/controls",
      "_model_module_version": "1.5.0",
      "_model_name": "FloatProgressModel",
      "_view_count": null,
      "_view_module": "@jupyter-widgets/controls",
      "_view_module_version": "1.5.0",
      "_view_name": "ProgressView",
      "bar_style": "success",
      "description": "",
      "description_tooltip": null,
      "layout": "IPY_MODEL_6d0c5f1da4ad409e8fa49355313b1941",
      "max": 65,
      "min": 0,
      "orientation": "horizontal",
      "style": "IPY_MODEL_7744ade8cdca46988dbdc476583c0e0f",
      "value": 65
     }
    },
    "16fe92dd15a148748327d4bf48653881": {
     "model_module": "@jupyter-widgets/base",
     "model_module_version": "1.2.0",
     "model_name": "LayoutModel",
     "state": {
      "_model_module": "@jupyter-widgets/base",
      "_model_module_version": "1.2.0",
      "_model_name": "LayoutModel",
      "_view_count": null,
      "_view_module": "@jupyter-widgets/base",
      "_view_module_version": "1.2.0",
      "_view_name": "LayoutView",
      "align_content": null,
      "align_items": null,
      "align_self": null,
      "border": null,
      "bottom": null,
      "display": null,
      "flex": null,
      "flex_flow": null,
      "grid_area": null,
      "grid_auto_columns": null,
      "grid_auto_flow": null,
      "grid_auto_rows": null,
      "grid_column": null,
      "grid_gap": null,
      "grid_row": null,
      "grid_template_areas": null,
      "grid_template_columns": null,
      "grid_template_rows": null,
      "height": null,
      "justify_content": null,
      "justify_items": null,
      "left": null,
      "margin": null,
      "max_height": null,
      "max_width": null,
      "min_height": null,
      "min_width": null,
      "object_fit": null,
      "object_position": null,
      "order": null,
      "overflow": null,
      "overflow_x": null,
      "overflow_y": null,
      "padding": null,
      "right": null,
      "top": null,
      "visibility": null,
      "width": null
     }
    },
    "18561ee747aa49cf84e87af027488992": {
     "model_module": "@jupyter-widgets/controls",
     "model_module_version": "1.5.0",
     "model_name": "HBoxModel",
     "state": {
      "_dom_classes": [],
      "_model_module": "@jupyter-widgets/controls",
      "_model_module_version": "1.5.0",
      "_model_name": "HBoxModel",
      "_view_count": null,
      "_view_module": "@jupyter-widgets/controls",
      "_view_module_version": "1.5.0",
      "_view_name": "HBoxView",
      "box_style": "",
      "children": [
       "IPY_MODEL_74f09b187b5e4d4eb0ad49068311c196",
       "IPY_MODEL_2ba10c8f3d00411b8e0b9e6ff52aa063",
       "IPY_MODEL_b1c3b65295fd4a22ae96ab2912fc0abf"
      ],
      "layout": "IPY_MODEL_8cf3aa4e4fa3480fb5db01ca3f95d578"
     }
    },
    "18c18207556c4f118b8cb9d6f118f9f2": {
     "model_module": "@jupyter-widgets/controls",
     "model_module_version": "1.5.0",
     "model_name": "HBoxModel",
     "state": {
      "_dom_classes": [],
      "_model_module": "@jupyter-widgets/controls",
      "_model_module_version": "1.5.0",
      "_model_name": "HBoxModel",
      "_view_count": null,
      "_view_module": "@jupyter-widgets/controls",
      "_view_module_version": "1.5.0",
      "_view_name": "HBoxView",
      "box_style": "",
      "children": [
       "IPY_MODEL_421584437663421384560a8a12655858",
       "IPY_MODEL_584d42e006024a078b33622a255880bb",
       "IPY_MODEL_7614aa2d66e34e3ea2168e949b8a4eee"
      ],
      "layout": "IPY_MODEL_d28a664d7b1a43678fdbdbc2815d781d"
     }
    },
    "1a44ad75b6a04992836bffb4d47a9a14": {
     "model_module": "@jupyter-widgets/controls",
     "model_module_version": "1.5.0",
     "model_name": "FloatProgressModel",
     "state": {
      "_dom_classes": [],
      "_model_module": "@jupyter-widgets/controls",
      "_model_module_version": "1.5.0",
      "_model_name": "FloatProgressModel",
      "_view_count": null,
      "_view_module": "@jupyter-widgets/controls",
      "_view_module_version": "1.5.0",
      "_view_name": "ProgressView",
      "bar_style": "success",
      "description": "",
      "description_tooltip": null,
      "layout": "IPY_MODEL_d0a4591b1f2f4538a833de739d0c873b",
      "max": 1392,
      "min": 0,
      "orientation": "horizontal",
      "style": "IPY_MODEL_c58384d3722e40b6828e29c98a6244f3",
      "value": 1392
     }
    },
    "1ad281ae8521407c89d18b6ee4e9bb43": {
     "model_module": "@jupyter-widgets/base",
     "model_module_version": "1.2.0",
     "model_name": "LayoutModel",
     "state": {
      "_model_module": "@jupyter-widgets/base",
      "_model_module_version": "1.2.0",
      "_model_name": "LayoutModel",
      "_view_count": null,
      "_view_module": "@jupyter-widgets/base",
      "_view_module_version": "1.2.0",
      "_view_name": "LayoutView",
      "align_content": null,
      "align_items": null,
      "align_self": null,
      "border": null,
      "bottom": null,
      "display": null,
      "flex": null,
      "flex_flow": null,
      "grid_area": null,
      "grid_auto_columns": null,
      "grid_auto_flow": null,
      "grid_auto_rows": null,
      "grid_column": null,
      "grid_gap": null,
      "grid_row": null,
      "grid_template_areas": null,
      "grid_template_columns": null,
      "grid_template_rows": null,
      "height": null,
      "justify_content": null,
      "justify_items": null,
      "left": null,
      "margin": null,
      "max_height": null,
      "max_width": null,
      "min_height": null,
      "min_width": null,
      "object_fit": null,
      "object_position": null,
      "order": null,
      "overflow": null,
      "overflow_x": null,
      "overflow_y": null,
      "padding": null,
      "right": null,
      "top": null,
      "visibility": null,
      "width": null
     }
    },
    "1b62088d67c645949aa5dab4925ec6ad": {
     "model_module": "@jupyter-widgets/controls",
     "model_module_version": "1.5.0",
     "model_name": "HTMLModel",
     "state": {
      "_dom_classes": [],
      "_model_module": "@jupyter-widgets/controls",
      "_model_module_version": "1.5.0",
      "_model_name": "HTMLModel",
      "_view_count": null,
      "_view_module": "@jupyter-widgets/controls",
      "_view_module_version": "1.5.0",
      "_view_name": "HTMLView",
      "description": "",
      "description_tooltip": null,
      "layout": "IPY_MODEL_ddcef414cf36466c92a511846daec1e1",
      "placeholder": "​",
      "style": "IPY_MODEL_23ef8acc67bf4db1b5b18dabd6d9a837",
      "value": "Downloading (…)okenizer_config.json: 100%"
     }
    },
    "1c93c6887fbe425fbbc07ec1501ce91e": {
     "model_module": "@jupyter-widgets/base",
     "model_module_version": "1.2.0",
     "model_name": "LayoutModel",
     "state": {
      "_model_module": "@jupyter-widgets/base",
      "_model_module_version": "1.2.0",
      "_model_name": "LayoutModel",
      "_view_count": null,
      "_view_module": "@jupyter-widgets/base",
      "_view_module_version": "1.2.0",
      "_view_name": "LayoutView",
      "align_content": null,
      "align_items": null,
      "align_self": null,
      "border": null,
      "bottom": null,
      "display": null,
      "flex": null,
      "flex_flow": null,
      "grid_area": null,
      "grid_auto_columns": null,
      "grid_auto_flow": null,
      "grid_auto_rows": null,
      "grid_column": null,
      "grid_gap": null,
      "grid_row": null,
      "grid_template_areas": null,
      "grid_template_columns": null,
      "grid_template_rows": null,
      "height": null,
      "justify_content": null,
      "justify_items": null,
      "left": null,
      "margin": null,
      "max_height": null,
      "max_width": null,
      "min_height": null,
      "min_width": null,
      "object_fit": null,
      "object_position": null,
      "order": null,
      "overflow": null,
      "overflow_x": null,
      "overflow_y": null,
      "padding": null,
      "right": null,
      "top": null,
      "visibility": null,
      "width": null
     }
    },
    "1d3a366bf60d4fdea5a1d1b0a8a2fce6": {
     "model_module": "@jupyter-widgets/base",
     "model_module_version": "1.2.0",
     "model_name": "LayoutModel",
     "state": {
      "_model_module": "@jupyter-widgets/base",
      "_model_module_version": "1.2.0",
      "_model_name": "LayoutModel",
      "_view_count": null,
      "_view_module": "@jupyter-widgets/base",
      "_view_module_version": "1.2.0",
      "_view_name": "LayoutView",
      "align_content": null,
      "align_items": null,
      "align_self": null,
      "border": null,
      "bottom": null,
      "display": null,
      "flex": null,
      "flex_flow": null,
      "grid_area": null,
      "grid_auto_columns": null,
      "grid_auto_flow": null,
      "grid_auto_rows": null,
      "grid_column": null,
      "grid_gap": null,
      "grid_row": null,
      "grid_template_areas": null,
      "grid_template_columns": null,
      "grid_template_rows": null,
      "height": null,
      "justify_content": null,
      "justify_items": null,
      "left": null,
      "margin": null,
      "max_height": null,
      "max_width": null,
      "min_height": null,
      "min_width": null,
      "object_fit": null,
      "object_position": null,
      "order": null,
      "overflow": null,
      "overflow_x": null,
      "overflow_y": null,
      "padding": null,
      "right": null,
      "top": null,
      "visibility": null,
      "width": null
     }
    },
    "2247119016c440668f363b5857596a0a": {
     "model_module": "@jupyter-widgets/controls",
     "model_module_version": "1.5.0",
     "model_name": "HTMLModel",
     "state": {
      "_dom_classes": [],
      "_model_module": "@jupyter-widgets/controls",
      "_model_module_version": "1.5.0",
      "_model_name": "HTMLModel",
      "_view_count": null,
      "_view_module": "@jupyter-widgets/controls",
      "_view_module_version": "1.5.0",
      "_view_name": "HTMLView",
      "description": "",
      "description_tooltip": null,
      "layout": "IPY_MODEL_8d4fb1e9ec774dc6bb7adb9ab8548431",
      "placeholder": "​",
      "style": "IPY_MODEL_741d2ecd9e724e56a300bcf8286dd73b",
      "value": "Downloading (…)neration_config.json: 100%"
     }
    },
    "23ef8acc67bf4db1b5b18dabd6d9a837": {
     "model_module": "@jupyter-widgets/controls",
     "model_module_version": "1.5.0",
     "model_name": "DescriptionStyleModel",
     "state": {
      "_model_module": "@jupyter-widgets/controls",
      "_model_module_version": "1.5.0",
      "_model_name": "DescriptionStyleModel",
      "_view_count": null,
      "_view_module": "@jupyter-widgets/base",
      "_view_module_version": "1.2.0",
      "_view_name": "StyleView",
      "description_width": ""
     }
    },
    "24110a18d8cc40e1ad3ab4a44ddb5530": {
     "model_module": "@jupyter-widgets/controls",
     "model_module_version": "1.5.0",
     "model_name": "ProgressStyleModel",
     "state": {
      "_model_module": "@jupyter-widgets/controls",
      "_model_module_version": "1.5.0",
      "_model_name": "ProgressStyleModel",
      "_view_count": null,
      "_view_module": "@jupyter-widgets/base",
      "_view_module_version": "1.2.0",
      "_view_name": "StyleView",
      "bar_color": null,
      "description_width": ""
     }
    },
    "2447714557d14573b2763ab34d1c1e39": {
     "model_module": "@jupyter-widgets/base",
     "model_module_version": "1.2.0",
     "model_name": "LayoutModel",
     "state": {
      "_model_module": "@jupyter-widgets/base",
      "_model_module_version": "1.2.0",
      "_model_name": "LayoutModel",
      "_view_count": null,
      "_view_module": "@jupyter-widgets/base",
      "_view_module_version": "1.2.0",
      "_view_name": "LayoutView",
      "align_content": null,
      "align_items": null,
      "align_self": null,
      "border": null,
      "bottom": null,
      "display": null,
      "flex": null,
      "flex_flow": null,
      "grid_area": null,
      "grid_auto_columns": null,
      "grid_auto_flow": null,
      "grid_auto_rows": null,
      "grid_column": null,
      "grid_gap": null,
      "grid_row": null,
      "grid_template_areas": null,
      "grid_template_columns": null,
      "grid_template_rows": null,
      "height": null,
      "justify_content": null,
      "justify_items": null,
      "left": null,
      "margin": null,
      "max_height": null,
      "max_width": null,
      "min_height": null,
      "min_width": null,
      "object_fit": null,
      "object_position": null,
      "order": null,
      "overflow": null,
      "overflow_x": null,
      "overflow_y": null,
      "padding": null,
      "right": null,
      "top": null,
      "visibility": null,
      "width": null
     }
    },
    "2514195ac95d4181afcabe197861068b": {
     "model_module": "@jupyter-widgets/base",
     "model_module_version": "1.2.0",
     "model_name": "LayoutModel",
     "state": {
      "_model_module": "@jupyter-widgets/base",
      "_model_module_version": "1.2.0",
      "_model_name": "LayoutModel",
      "_view_count": null,
      "_view_module": "@jupyter-widgets/base",
      "_view_module_version": "1.2.0",
      "_view_name": "LayoutView",
      "align_content": null,
      "align_items": null,
      "align_self": null,
      "border": null,
      "bottom": null,
      "display": null,
      "flex": null,
      "flex_flow": null,
      "grid_area": null,
      "grid_auto_columns": null,
      "grid_auto_flow": null,
      "grid_auto_rows": null,
      "grid_column": null,
      "grid_gap": null,
      "grid_row": null,
      "grid_template_areas": null,
      "grid_template_columns": null,
      "grid_template_rows": null,
      "height": null,
      "justify_content": null,
      "justify_items": null,
      "left": null,
      "margin": null,
      "max_height": null,
      "max_width": null,
      "min_height": null,
      "min_width": null,
      "object_fit": null,
      "object_position": null,
      "order": null,
      "overflow": null,
      "overflow_x": null,
      "overflow_y": null,
      "padding": null,
      "right": null,
      "top": null,
      "visibility": null,
      "width": null
     }
    },
    "25c799379c8841b3bd4a2a9cabbc4a34": {
     "model_module": "@jupyter-widgets/base",
     "model_module_version": "1.2.0",
     "model_name": "LayoutModel",
     "state": {
      "_model_module": "@jupyter-widgets/base",
      "_model_module_version": "1.2.0",
      "_model_name": "LayoutModel",
      "_view_count": null,
      "_view_module": "@jupyter-widgets/base",
      "_view_module_version": "1.2.0",
      "_view_name": "LayoutView",
      "align_content": null,
      "align_items": null,
      "align_self": null,
      "border": null,
      "bottom": null,
      "display": null,
      "flex": null,
      "flex_flow": null,
      "grid_area": null,
      "grid_auto_columns": null,
      "grid_auto_flow": null,
      "grid_auto_rows": null,
      "grid_column": null,
      "grid_gap": null,
      "grid_row": null,
      "grid_template_areas": null,
      "grid_template_columns": null,
      "grid_template_rows": null,
      "height": null,
      "justify_content": null,
      "justify_items": null,
      "left": null,
      "margin": null,
      "max_height": null,
      "max_width": null,
      "min_height": null,
      "min_width": null,
      "object_fit": null,
      "object_position": null,
      "order": null,
      "overflow": null,
      "overflow_x": null,
      "overflow_y": null,
      "padding": null,
      "right": null,
      "top": null,
      "visibility": null,
      "width": null
     }
    },
    "269ed10a1fa14376a626a4e3d77f729a": {
     "model_module": "@jupyter-widgets/base",
     "model_module_version": "1.2.0",
     "model_name": "LayoutModel",
     "state": {
      "_model_module": "@jupyter-widgets/base",
      "_model_module_version": "1.2.0",
      "_model_name": "LayoutModel",
      "_view_count": null,
      "_view_module": "@jupyter-widgets/base",
      "_view_module_version": "1.2.0",
      "_view_name": "LayoutView",
      "align_content": null,
      "align_items": null,
      "align_self": null,
      "border": null,
      "bottom": null,
      "display": null,
      "flex": null,
      "flex_flow": null,
      "grid_area": null,
      "grid_auto_columns": null,
      "grid_auto_flow": null,
      "grid_auto_rows": null,
      "grid_column": null,
      "grid_gap": null,
      "grid_row": null,
      "grid_template_areas": null,
      "grid_template_columns": null,
      "grid_template_rows": null,
      "height": null,
      "justify_content": null,
      "justify_items": null,
      "left": null,
      "margin": null,
      "max_height": null,
      "max_width": null,
      "min_height": null,
      "min_width": null,
      "object_fit": null,
      "object_position": null,
      "order": null,
      "overflow": null,
      "overflow_x": null,
      "overflow_y": null,
      "padding": null,
      "right": null,
      "top": null,
      "visibility": null,
      "width": null
     }
    },
    "276ef51f120b43c5945bbc163487eef1": {
     "model_module": "@jupyter-widgets/base",
     "model_module_version": "1.2.0",
     "model_name": "LayoutModel",
     "state": {
      "_model_module": "@jupyter-widgets/base",
      "_model_module_version": "1.2.0",
      "_model_name": "LayoutModel",
      "_view_count": null,
      "_view_module": "@jupyter-widgets/base",
      "_view_module_version": "1.2.0",
      "_view_name": "LayoutView",
      "align_content": null,
      "align_items": null,
      "align_self": null,
      "border": null,
      "bottom": null,
      "display": null,
      "flex": null,
      "flex_flow": null,
      "grid_area": null,
      "grid_auto_columns": null,
      "grid_auto_flow": null,
      "grid_auto_rows": null,
      "grid_column": null,
      "grid_gap": null,
      "grid_row": null,
      "grid_template_areas": null,
      "grid_template_columns": null,
      "grid_template_rows": null,
      "height": null,
      "justify_content": null,
      "justify_items": null,
      "left": null,
      "margin": null,
      "max_height": null,
      "max_width": null,
      "min_height": null,
      "min_width": null,
      "object_fit": null,
      "object_position": null,
      "order": null,
      "overflow": null,
      "overflow_x": null,
      "overflow_y": null,
      "padding": null,
      "right": null,
      "top": null,
      "visibility": null,
      "width": null
     }
    },
    "28e6afaaa45a432dbcbd3f628ee4104e": {
     "model_module": "@jupyter-widgets/controls",
     "model_module_version": "1.5.0",
     "model_name": "DescriptionStyleModel",
     "state": {
      "_model_module": "@jupyter-widgets/controls",
      "_model_module_version": "1.5.0",
      "_model_name": "DescriptionStyleModel",
      "_view_count": null,
      "_view_module": "@jupyter-widgets/base",
      "_view_module_version": "1.2.0",
      "_view_name": "StyleView",
      "description_width": ""
     }
    },
    "2906bed67ba2498a9c386d74c4f153a6": {
     "model_module": "@jupyter-widgets/controls",
     "model_module_version": "1.5.0",
     "model_name": "HBoxModel",
     "state": {
      "_dom_classes": [],
      "_model_module": "@jupyter-widgets/controls",
      "_model_module_version": "1.5.0",
      "_model_name": "HBoxModel",
      "_view_count": null,
      "_view_module": "@jupyter-widgets/controls",
      "_view_module_version": "1.5.0",
      "_view_name": "HBoxView",
      "box_style": "",
      "children": [
       "IPY_MODEL_f88d820366ea4205b73a01b787c7497f",
       "IPY_MODEL_51a6700c89b94849b03a061c5e61c23c",
       "IPY_MODEL_f9ec7c8e832e482aa84e085118008fe7"
      ],
      "layout": "IPY_MODEL_5652013d7c0144739e4b2b1b5b9a43c2"
     }
    },
    "2b913ae6919d4b8a82375ac5321bee4a": {
     "model_module": "@jupyter-widgets/controls",
     "model_module_version": "1.5.0",
     "model_name": "ProgressStyleModel",
     "state": {
      "_model_module": "@jupyter-widgets/controls",
      "_model_module_version": "1.5.0",
      "_model_name": "ProgressStyleModel",
      "_view_count": null,
      "_view_module": "@jupyter-widgets/base",
      "_view_module_version": "1.2.0",
      "_view_name": "StyleView",
      "bar_color": null,
      "description_width": ""
     }
    },
    "2ba10c8f3d00411b8e0b9e6ff52aa063": {
     "model_module": "@jupyter-widgets/controls",
     "model_module_version": "1.5.0",
     "model_name": "FloatProgressModel",
     "state": {
      "_dom_classes": [],
      "_model_module": "@jupyter-widgets/controls",
      "_model_module_version": "1.5.0",
      "_model_name": "FloatProgressModel",
      "_view_count": null,
      "_view_module": "@jupyter-widgets/controls",
      "_view_module_version": "1.5.0",
      "_view_name": "ProgressView",
      "bar_style": "success",
      "description": "",
      "description_tooltip": null,
      "layout": "IPY_MODEL_67d52d85d5c84b27aa3aa922ae7efb32",
      "max": 1120,
      "min": 0,
      "orientation": "horizontal",
      "style": "IPY_MODEL_692afe8728f8430ba9b619409dcbe08d",
      "value": 1120
     }
    },
    "2c4d2dec286e428f8a3910fdd8292f92": {
     "model_module": "@jupyter-widgets/controls",
     "model_module_version": "1.5.0",
     "model_name": "DescriptionStyleModel",
     "state": {
      "_model_module": "@jupyter-widgets/controls",
      "_model_module_version": "1.5.0",
      "_model_name": "DescriptionStyleModel",
      "_view_count": null,
      "_view_module": "@jupyter-widgets/base",
      "_view_module_version": "1.2.0",
      "_view_name": "StyleView",
      "description_width": ""
     }
    },
    "2c7edaa6e3fb4aef8abb4207a60601f0": {
     "model_module": "@jupyter-widgets/base",
     "model_module_version": "1.2.0",
     "model_name": "LayoutModel",
     "state": {
      "_model_module": "@jupyter-widgets/base",
      "_model_module_version": "1.2.0",
      "_model_name": "LayoutModel",
      "_view_count": null,
      "_view_module": "@jupyter-widgets/base",
      "_view_module_version": "1.2.0",
      "_view_name": "LayoutView",
      "align_content": null,
      "align_items": null,
      "align_self": null,
      "border": null,
      "bottom": null,
      "display": null,
      "flex": null,
      "flex_flow": null,
      "grid_area": null,
      "grid_auto_columns": null,
      "grid_auto_flow": null,
      "grid_auto_rows": null,
      "grid_column": null,
      "grid_gap": null,
      "grid_row": null,
      "grid_template_areas": null,
      "grid_template_columns": null,
      "grid_template_rows": null,
      "height": null,
      "justify_content": null,
      "justify_items": null,
      "left": null,
      "margin": null,
      "max_height": null,
      "max_width": null,
      "min_height": null,
      "min_width": null,
      "object_fit": null,
      "object_position": null,
      "order": null,
      "overflow": null,
      "overflow_x": null,
      "overflow_y": null,
      "padding": null,
      "right": null,
      "top": null,
      "visibility": null,
      "width": null
     }
    },
    "2cb2d4720eaa4a68b6dd4910bc92e93e": {
     "model_module": "@jupyter-widgets/controls",
     "model_module_version": "1.5.0",
     "model_name": "HBoxModel",
     "state": {
      "_dom_classes": [],
      "_model_module": "@jupyter-widgets/controls",
      "_model_module_version": "1.5.0",
      "_model_name": "HBoxModel",
      "_view_count": null,
      "_view_module": "@jupyter-widgets/controls",
      "_view_module_version": "1.5.0",
      "_view_name": "HBoxView",
      "box_style": "",
      "children": [
       "IPY_MODEL_f2afa23324074ead825abf9f1c12ab71",
       "IPY_MODEL_d18fdc17ada643498962b068957e61a4",
       "IPY_MODEL_9d80f5ab9f924cc487145ecae4b76d1a"
      ],
      "layout": "IPY_MODEL_06a9e61925ff4058b07dc571f4049f16"
     }
    },
    "2d24660c9e2746feb326f76db393e88f": {
     "model_module": "@jupyter-widgets/controls",
     "model_module_version": "1.5.0",
     "model_name": "ProgressStyleModel",
     "state": {
      "_model_module": "@jupyter-widgets/controls",
      "_model_module_version": "1.5.0",
      "_model_name": "ProgressStyleModel",
      "_view_count": null,
      "_view_module": "@jupyter-widgets/base",
      "_view_module_version": "1.2.0",
      "_view_name": "StyleView",
      "bar_color": null,
      "description_width": ""
     }
    },
    "2edd9a26c36945ebb8cc33972af496cd": {
     "model_module": "@jupyter-widgets/controls",
     "model_module_version": "1.5.0",
     "model_name": "FloatProgressModel",
     "state": {
      "_dom_classes": [],
      "_model_module": "@jupyter-widgets/controls",
      "_model_module_version": "1.5.0",
      "_model_name": "FloatProgressModel",
      "_view_count": null,
      "_view_module": "@jupyter-widgets/controls",
      "_view_module_version": "1.5.0",
      "_view_name": "ProgressView",
      "bar_style": "success",
      "description": "",
      "description_tooltip": null,
      "layout": "IPY_MODEL_088d5810db964888b6355ff4b3006daf",
      "max": 892146080,
      "min": 0,
      "orientation": "horizontal",
      "style": "IPY_MODEL_6150d2af500048be9cab40e37c4035f5",
      "value": 892146080
     }
    },
    "3261b5b856cd46978e13690da45d8e2a": {
     "model_module": "@jupyter-widgets/controls",
     "model_module_version": "1.5.0",
     "model_name": "DescriptionStyleModel",
     "state": {
      "_model_module": "@jupyter-widgets/controls",
      "_model_module_version": "1.5.0",
      "_model_name": "DescriptionStyleModel",
      "_view_count": null,
      "_view_module": "@jupyter-widgets/base",
      "_view_module_version": "1.2.0",
      "_view_name": "StyleView",
      "description_width": ""
     }
    },
    "326bb70651d34aefb3e568f6b0e22d17": {
     "model_module": "@jupyter-widgets/controls",
     "model_module_version": "1.5.0",
     "model_name": "HTMLModel",
     "state": {
      "_dom_classes": [],
      "_model_module": "@jupyter-widgets/controls",
      "_model_module_version": "1.5.0",
      "_model_name": "HTMLModel",
      "_view_count": null,
      "_view_module": "@jupyter-widgets/controls",
      "_view_module_version": "1.5.0",
      "_view_name": "HTMLView",
      "description": "",
      "description_tooltip": null,
      "layout": "IPY_MODEL_712b6a5d35c44433a83b2e9a7c36d729",
      "placeholder": "​",
      "style": "IPY_MODEL_d72d974832d54382830a63ec8facca02",
      "value": "Downloading (…)cial_tokens_map.json: 100%"
     }
    },
    "338b2e9a4a1b4322b44b5edb574020ae": {
     "model_module": "@jupyter-widgets/base",
     "model_module_version": "1.2.0",
     "model_name": "LayoutModel",
     "state": {
      "_model_module": "@jupyter-widgets/base",
      "_model_module_version": "1.2.0",
      "_model_name": "LayoutModel",
      "_view_count": null,
      "_view_module": "@jupyter-widgets/base",
      "_view_module_version": "1.2.0",
      "_view_name": "LayoutView",
      "align_content": null,
      "align_items": null,
      "align_self": null,
      "border": null,
      "bottom": null,
      "display": null,
      "flex": null,
      "flex_flow": null,
      "grid_area": null,
      "grid_auto_columns": null,
      "grid_auto_flow": null,
      "grid_auto_rows": null,
      "grid_column": null,
      "grid_gap": null,
      "grid_row": null,
      "grid_template_areas": null,
      "grid_template_columns": null,
      "grid_template_rows": null,
      "height": null,
      "justify_content": null,
      "justify_items": null,
      "left": null,
      "margin": null,
      "max_height": null,
      "max_width": null,
      "min_height": null,
      "min_width": null,
      "object_fit": null,
      "object_position": null,
      "order": null,
      "overflow": null,
      "overflow_x": null,
      "overflow_y": null,
      "padding": null,
      "right": null,
      "top": null,
      "visibility": null,
      "width": null
     }
    },
    "38194abb46b948048fda0a679926f288": {
     "model_module": "@jupyter-widgets/controls",
     "model_module_version": "1.5.0",
     "model_name": "HTMLModel",
     "state": {
      "_dom_classes": [],
      "_model_module": "@jupyter-widgets/controls",
      "_model_module_version": "1.5.0",
      "_model_name": "HTMLModel",
      "_view_count": null,
      "_view_module": "@jupyter-widgets/controls",
      "_view_module_version": "1.5.0",
      "_view_name": "HTMLView",
      "description": "",
      "description_tooltip": null,
      "layout": "IPY_MODEL_766141d9dbfe4925a9cfbb06df68bb13",
      "placeholder": "​",
      "style": "IPY_MODEL_ca30b603a55b43f7b294746913ef5fb7",
      "value": "Downloading (…)ve/main/spiece.model: 100%"
     }
    },
    "3ac5b60afda54e698248e9416423edab": {
     "model_module": "@jupyter-widgets/base",
     "model_module_version": "1.2.0",
     "model_name": "LayoutModel",
     "state": {
      "_model_module": "@jupyter-widgets/base",
      "_model_module_version": "1.2.0",
      "_model_name": "LayoutModel",
      "_view_count": null,
      "_view_module": "@jupyter-widgets/base",
      "_view_module_version": "1.2.0",
      "_view_name": "LayoutView",
      "align_content": null,
      "align_items": null,
      "align_self": null,
      "border": null,
      "bottom": null,
      "display": null,
      "flex": null,
      "flex_flow": null,
      "grid_area": null,
      "grid_auto_columns": null,
      "grid_auto_flow": null,
      "grid_auto_rows": null,
      "grid_column": null,
      "grid_gap": null,
      "grid_row": null,
      "grid_template_areas": null,
      "grid_template_columns": null,
      "grid_template_rows": null,
      "height": null,
      "justify_content": null,
      "justify_items": null,
      "left": null,
      "margin": null,
      "max_height": null,
      "max_width": null,
      "min_height": null,
      "min_width": null,
      "object_fit": null,
      "object_position": null,
      "order": null,
      "overflow": null,
      "overflow_x": null,
      "overflow_y": null,
      "padding": null,
      "right": null,
      "top": null,
      "visibility": null,
      "width": null
     }
    },
    "3bd215f11414463ea2a326310b4ef0b4": {
     "model_module": "@jupyter-widgets/controls",
     "model_module_version": "1.5.0",
     "model_name": "FloatProgressModel",
     "state": {
      "_dom_classes": [],
      "_model_module": "@jupyter-widgets/controls",
      "_model_module_version": "1.5.0",
      "_model_name": "FloatProgressModel",
      "_view_count": null,
      "_view_module": "@jupyter-widgets/controls",
      "_view_module_version": "1.5.0",
      "_view_name": "ProgressView",
      "bar_style": "success",
      "description": "",
      "description_tooltip": null,
      "layout": "IPY_MODEL_0159a14369cb44f089b90fb2da2e2ca2",
      "max": 1912529,
      "min": 0,
      "orientation": "horizontal",
      "style": "IPY_MODEL_2b913ae6919d4b8a82375ac5321bee4a",
      "value": 1912529
     }
    },
    "3dba7a5f4e7b4cdab8b058bf9e9cb169": {
     "model_module": "@jupyter-widgets/base",
     "model_module_version": "1.2.0",
     "model_name": "LayoutModel",
     "state": {
      "_model_module": "@jupyter-widgets/base",
      "_model_module_version": "1.2.0",
      "_model_name": "LayoutModel",
      "_view_count": null,
      "_view_module": "@jupyter-widgets/base",
      "_view_module_version": "1.2.0",
      "_view_name": "LayoutView",
      "align_content": null,
      "align_items": null,
      "align_self": null,
      "border": null,
      "bottom": null,
      "display": null,
      "flex": null,
      "flex_flow": null,
      "grid_area": null,
      "grid_auto_columns": null,
      "grid_auto_flow": null,
      "grid_auto_rows": null,
      "grid_column": null,
      "grid_gap": null,
      "grid_row": null,
      "grid_template_areas": null,
      "grid_template_columns": null,
      "grid_template_rows": null,
      "height": null,
      "justify_content": null,
      "justify_items": null,
      "left": null,
      "margin": null,
      "max_height": null,
      "max_width": null,
      "min_height": null,
      "min_width": null,
      "object_fit": null,
      "object_position": null,
      "order": null,
      "overflow": null,
      "overflow_x": null,
      "overflow_y": null,
      "padding": null,
      "right": null,
      "top": null,
      "visibility": null,
      "width": null
     }
    },
    "421584437663421384560a8a12655858": {
     "model_module": "@jupyter-widgets/controls",
     "model_module_version": "1.5.0",
     "model_name": "HTMLModel",
     "state": {
      "_dom_classes": [],
      "_model_module": "@jupyter-widgets/controls",
      "_model_module_version": "1.5.0",
      "_model_name": "HTMLModel",
      "_view_count": null,
      "_view_module": "@jupyter-widgets/controls",
      "_view_module_version": "1.5.0",
      "_view_name": "HTMLView",
      "description": "",
      "description_tooltip": null,
      "layout": "IPY_MODEL_25c799379c8841b3bd4a2a9cabbc4a34",
      "placeholder": "​",
      "style": "IPY_MODEL_f2b30cd19c7744659111bad4a81aa6bd",
      "value": "Downloading (…)&quot;tf_model.h5&quot;;: 100%"
     }
    },
    "43e27a7e9e1e4378be0520ef47a3734a": {
     "model_module": "@jupyter-widgets/base",
     "model_module_version": "1.2.0",
     "model_name": "LayoutModel",
     "state": {
      "_model_module": "@jupyter-widgets/base",
      "_model_module_version": "1.2.0",
      "_model_name": "LayoutModel",
      "_view_count": null,
      "_view_module": "@jupyter-widgets/base",
      "_view_module_version": "1.2.0",
      "_view_name": "LayoutView",
      "align_content": null,
      "align_items": null,
      "align_self": null,
      "border": null,
      "bottom": null,
      "display": null,
      "flex": null,
      "flex_flow": null,
      "grid_area": null,
      "grid_auto_columns": null,
      "grid_auto_flow": null,
      "grid_auto_rows": null,
      "grid_column": null,
      "grid_gap": null,
      "grid_row": null,
      "grid_template_areas": null,
      "grid_template_columns": null,
      "grid_template_rows": null,
      "height": null,
      "justify_content": null,
      "justify_items": null,
      "left": null,
      "margin": null,
      "max_height": null,
      "max_width": null,
      "min_height": null,
      "min_width": null,
      "object_fit": null,
      "object_position": null,
      "order": null,
      "overflow": null,
      "overflow_x": null,
      "overflow_y": null,
      "padding": null,
      "right": null,
      "top": null,
      "visibility": null,
      "width": null
     }
    },
    "44f5058fc8794956a8428ca9ddc06c5c": {
     "model_module": "@jupyter-widgets/base",
     "model_module_version": "1.2.0",
     "model_name": "LayoutModel",
     "state": {
      "_model_module": "@jupyter-widgets/base",
      "_model_module_version": "1.2.0",
      "_model_name": "LayoutModel",
      "_view_count": null,
      "_view_module": "@jupyter-widgets/base",
      "_view_module_version": "1.2.0",
      "_view_name": "LayoutView",
      "align_content": null,
      "align_items": null,
      "align_self": null,
      "border": null,
      "bottom": null,
      "display": null,
      "flex": null,
      "flex_flow": null,
      "grid_area": null,
      "grid_auto_columns": null,
      "grid_auto_flow": null,
      "grid_auto_rows": null,
      "grid_column": null,
      "grid_gap": null,
      "grid_row": null,
      "grid_template_areas": null,
      "grid_template_columns": null,
      "grid_template_rows": null,
      "height": null,
      "justify_content": null,
      "justify_items": null,
      "left": null,
      "margin": null,
      "max_height": null,
      "max_width": null,
      "min_height": null,
      "min_width": null,
      "object_fit": null,
      "object_position": null,
      "order": null,
      "overflow": null,
      "overflow_x": null,
      "overflow_y": null,
      "padding": null,
      "right": null,
      "top": null,
      "visibility": null,
      "width": null
     }
    },
    "45cbb8fe700d4988bdb85c4155dd7268": {
     "model_module": "@jupyter-widgets/base",
     "model_module_version": "1.2.0",
     "model_name": "LayoutModel",
     "state": {
      "_model_module": "@jupyter-widgets/base",
      "_model_module_version": "1.2.0",
      "_model_name": "LayoutModel",
      "_view_count": null,
      "_view_module": "@jupyter-widgets/base",
      "_view_module_version": "1.2.0",
      "_view_name": "LayoutView",
      "align_content": null,
      "align_items": null,
      "align_self": null,
      "border": null,
      "bottom": null,
      "display": null,
      "flex": null,
      "flex_flow": null,
      "grid_area": null,
      "grid_auto_columns": null,
      "grid_auto_flow": null,
      "grid_auto_rows": null,
      "grid_column": null,
      "grid_gap": null,
      "grid_row": null,
      "grid_template_areas": null,
      "grid_template_columns": null,
      "grid_template_rows": null,
      "height": null,
      "justify_content": null,
      "justify_items": null,
      "left": null,
      "margin": null,
      "max_height": null,
      "max_width": null,
      "min_height": null,
      "min_width": null,
      "object_fit": null,
      "object_position": null,
      "order": null,
      "overflow": null,
      "overflow_x": null,
      "overflow_y": null,
      "padding": null,
      "right": null,
      "top": null,
      "visibility": null,
      "width": null
     }
    },
    "464bb290c51d45d68d29bec268b0f90e": {
     "model_module": "@jupyter-widgets/base",
     "model_module_version": "1.2.0",
     "model_name": "LayoutModel",
     "state": {
      "_model_module": "@jupyter-widgets/base",
      "_model_module_version": "1.2.0",
      "_model_name": "LayoutModel",
      "_view_count": null,
      "_view_module": "@jupyter-widgets/base",
      "_view_module_version": "1.2.0",
      "_view_name": "LayoutView",
      "align_content": null,
      "align_items": null,
      "align_self": null,
      "border": null,
      "bottom": null,
      "display": null,
      "flex": null,
      "flex_flow": null,
      "grid_area": null,
      "grid_auto_columns": null,
      "grid_auto_flow": null,
      "grid_auto_rows": null,
      "grid_column": null,
      "grid_gap": null,
      "grid_row": null,
      "grid_template_areas": null,
      "grid_template_columns": null,
      "grid_template_rows": null,
      "height": null,
      "justify_content": null,
      "justify_items": null,
      "left": null,
      "margin": null,
      "max_height": null,
      "max_width": null,
      "min_height": null,
      "min_width": null,
      "object_fit": null,
      "object_position": null,
      "order": null,
      "overflow": null,
      "overflow_x": null,
      "overflow_y": null,
      "padding": null,
      "right": null,
      "top": null,
      "visibility": null,
      "width": null
     }
    },
    "4704e6458cb54b36bc8e76923cf13b15": {
     "model_module": "@jupyter-widgets/controls",
     "model_module_version": "1.5.0",
     "model_name": "FloatProgressModel",
     "state": {
      "_dom_classes": [],
      "_model_module": "@jupyter-widgets/controls",
      "_model_module_version": "1.5.0",
      "_model_name": "FloatProgressModel",
      "_view_count": null,
      "_view_module": "@jupyter-widgets/controls",
      "_view_module_version": "1.5.0",
      "_view_name": "ProgressView",
      "bar_style": "success",
      "description": "",
      "description_tooltip": null,
      "layout": "IPY_MODEL_269ed10a1fa14376a626a4e3d77f729a",
      "max": 6270,
      "min": 0,
      "orientation": "horizontal",
      "style": "IPY_MODEL_2d24660c9e2746feb326f76db393e88f",
      "value": 6270
     }
    },
    "4773d98e83ee438983ca3f3b338d8257": {
     "model_module": "@jupyter-widgets/controls",
     "model_module_version": "1.5.0",
     "model_name": "HBoxModel",
     "state": {
      "_dom_classes": [],
      "_model_module": "@jupyter-widgets/controls",
      "_model_module_version": "1.5.0",
      "_model_name": "HBoxModel",
      "_view_count": null,
      "_view_module": "@jupyter-widgets/controls",
      "_view_module_version": "1.5.0",
      "_view_name": "HBoxView",
      "box_style": "",
      "children": [
       "IPY_MODEL_e8f1419ce7c14f7998903674dd22024e",
       "IPY_MODEL_e7a1b4dfc0d04682b7dd0dbf970da6d9",
       "IPY_MODEL_77054765426947adaec7ad9ec6f52203"
      ],
      "layout": "IPY_MODEL_5fc12d8ec4c7494bb8b34f2e3b172bb5"
     }
    },
    "4832cf81dbd54b78816766e57f5b6325": {
     "model_module": "@jupyter-widgets/base",
     "model_module_version": "1.2.0",
     "model_name": "LayoutModel",
     "state": {
      "_model_module": "@jupyter-widgets/base",
      "_model_module_version": "1.2.0",
      "_model_name": "LayoutModel",
      "_view_count": null,
      "_view_module": "@jupyter-widgets/base",
      "_view_module_version": "1.2.0",
      "_view_name": "LayoutView",
      "align_content": null,
      "align_items": null,
      "align_self": null,
      "border": null,
      "bottom": null,
      "display": null,
      "flex": null,
      "flex_flow": null,
      "grid_area": null,
      "grid_auto_columns": null,
      "grid_auto_flow": null,
      "grid_auto_rows": null,
      "grid_column": null,
      "grid_gap": null,
      "grid_row": null,
      "grid_template_areas": null,
      "grid_template_columns": null,
      "grid_template_rows": null,
      "height": null,
      "justify_content": null,
      "justify_items": null,
      "left": null,
      "margin": null,
      "max_height": null,
      "max_width": null,
      "min_height": null,
      "min_width": null,
      "object_fit": null,
      "object_position": null,
      "order": null,
      "overflow": null,
      "overflow_x": null,
      "overflow_y": null,
      "padding": null,
      "right": null,
      "top": null,
      "visibility": null,
      "width": null
     }
    },
    "485015da79684256be43c75a1cf01966": {
     "model_module": "@jupyter-widgets/controls",
     "model_module_version": "1.5.0",
     "model_name": "DescriptionStyleModel",
     "state": {
      "_model_module": "@jupyter-widgets/controls",
      "_model_module_version": "1.5.0",
      "_model_name": "DescriptionStyleModel",
      "_view_count": null,
      "_view_module": "@jupyter-widgets/base",
      "_view_module_version": "1.2.0",
      "_view_name": "StyleView",
      "description_width": ""
     }
    },
    "492115ece3b64a89a0ac65a492b82add": {
     "model_module": "@jupyter-widgets/controls",
     "model_module_version": "1.5.0",
     "model_name": "ProgressStyleModel",
     "state": {
      "_model_module": "@jupyter-widgets/controls",
      "_model_module_version": "1.5.0",
      "_model_name": "ProgressStyleModel",
      "_view_count": null,
      "_view_module": "@jupyter-widgets/base",
      "_view_module_version": "1.2.0",
      "_view_name": "StyleView",
      "bar_color": null,
      "description_width": ""
     }
    },
    "49526ddcba0f4ac7bfa3c34e334df5e3": {
     "model_module": "@jupyter-widgets/controls",
     "model_module_version": "1.5.0",
     "model_name": "HTMLModel",
     "state": {
      "_dom_classes": [],
      "_model_module": "@jupyter-widgets/controls",
      "_model_module_version": "1.5.0",
      "_model_name": "HTMLModel",
      "_view_count": null,
      "_view_module": "@jupyter-widgets/controls",
      "_view_module_version": "1.5.0",
      "_view_name": "HTMLView",
      "description": "",
      "description_tooltip": null,
      "layout": "IPY_MODEL_16fe92dd15a148748327d4bf48653881",
      "placeholder": "​",
      "style": "IPY_MODEL_02655918f6db46e48dd99afce7d5efdc",
      "value": "Downloading (…)lve/main/config.json: 100%"
     }
    },
    "49748fda66674cf9bdbf5d8270568af0": {
     "model_module": "@jupyter-widgets/controls",
     "model_module_version": "1.5.0",
     "model_name": "HBoxModel",
     "state": {
      "_dom_classes": [],
      "_model_module": "@jupyter-widgets/controls",
      "_model_module_version": "1.5.0",
      "_model_name": "HBoxModel",
      "_view_count": null,
      "_view_module": "@jupyter-widgets/controls",
      "_view_module_version": "1.5.0",
      "_view_name": "HBoxView",
      "box_style": "",
      "children": [
       "IPY_MODEL_b4503cf67f4e4c0e93eb13252b608a3c",
       "IPY_MODEL_a4bba2d6bb7a43e084dcd290a8f418b5",
       "IPY_MODEL_ceeb2e0997c4453799c3e9cab0fe8077"
      ],
      "layout": "IPY_MODEL_4b3afc82da4047b88a4ebe0a75b12066"
     }
    },
    "4a9e7db9e26040cd81642b559d661952": {
     "model_module": "@jupyter-widgets/controls",
     "model_module_version": "1.5.0",
     "model_name": "DescriptionStyleModel",
     "state": {
      "_model_module": "@jupyter-widgets/controls",
      "_model_module_version": "1.5.0",
      "_model_name": "DescriptionStyleModel",
      "_view_count": null,
      "_view_module": "@jupyter-widgets/base",
      "_view_module_version": "1.2.0",
      "_view_name": "StyleView",
      "description_width": ""
     }
    },
    "4b3afc82da4047b88a4ebe0a75b12066": {
     "model_module": "@jupyter-widgets/base",
     "model_module_version": "1.2.0",
     "model_name": "LayoutModel",
     "state": {
      "_model_module": "@jupyter-widgets/base",
      "_model_module_version": "1.2.0",
      "_model_name": "LayoutModel",
      "_view_count": null,
      "_view_module": "@jupyter-widgets/base",
      "_view_module_version": "1.2.0",
      "_view_name": "LayoutView",
      "align_content": null,
      "align_items": null,
      "align_self": null,
      "border": null,
      "bottom": null,
      "display": null,
      "flex": null,
      "flex_flow": null,
      "grid_area": null,
      "grid_auto_columns": null,
      "grid_auto_flow": null,
      "grid_auto_rows": null,
      "grid_column": null,
      "grid_gap": null,
      "grid_row": null,
      "grid_template_areas": null,
      "grid_template_columns": null,
      "grid_template_rows": null,
      "height": null,
      "justify_content": null,
      "justify_items": null,
      "left": null,
      "margin": null,
      "max_height": null,
      "max_width": null,
      "min_height": null,
      "min_width": null,
      "object_fit": null,
      "object_position": null,
      "order": null,
      "overflow": null,
      "overflow_x": null,
      "overflow_y": null,
      "padding": null,
      "right": null,
      "top": null,
      "visibility": null,
      "width": null
     }
    },
    "4c6fc49bc8b44c60a47b3a041928c4cb": {
     "model_module": "@jupyter-widgets/controls",
     "model_module_version": "1.5.0",
     "model_name": "DescriptionStyleModel",
     "state": {
      "_model_module": "@jupyter-widgets/controls",
      "_model_module_version": "1.5.0",
      "_model_name": "DescriptionStyleModel",
      "_view_count": null,
      "_view_module": "@jupyter-widgets/base",
      "_view_module_version": "1.2.0",
      "_view_name": "StyleView",
      "description_width": ""
     }
    },
    "4e31fa7e86924da08e2bfb05794e99aa": {
     "model_module": "@jupyter-widgets/controls",
     "model_module_version": "1.5.0",
     "model_name": "DescriptionStyleModel",
     "state": {
      "_model_module": "@jupyter-widgets/controls",
      "_model_module_version": "1.5.0",
      "_model_name": "DescriptionStyleModel",
      "_view_count": null,
      "_view_module": "@jupyter-widgets/base",
      "_view_module_version": "1.2.0",
      "_view_name": "StyleView",
      "description_width": ""
     }
    },
    "4eaff597a65045eb827fa4949aa6f343": {
     "model_module": "@jupyter-widgets/controls",
     "model_module_version": "1.5.0",
     "model_name": "DescriptionStyleModel",
     "state": {
      "_model_module": "@jupyter-widgets/controls",
      "_model_module_version": "1.5.0",
      "_model_name": "DescriptionStyleModel",
      "_view_count": null,
      "_view_module": "@jupyter-widgets/base",
      "_view_module_version": "1.2.0",
      "_view_name": "StyleView",
      "description_width": ""
     }
    },
    "5039835bd0084a51912bb1a12a958faa": {
     "model_module": "@jupyter-widgets/controls",
     "model_module_version": "1.5.0",
     "model_name": "ProgressStyleModel",
     "state": {
      "_model_module": "@jupyter-widgets/controls",
      "_model_module_version": "1.5.0",
      "_model_name": "ProgressStyleModel",
      "_view_count": null,
      "_view_module": "@jupyter-widgets/base",
      "_view_module_version": "1.2.0",
      "_view_name": "StyleView",
      "bar_color": null,
      "description_width": ""
     }
    },
    "51a6700c89b94849b03a061c5e61c23c": {
     "model_module": "@jupyter-widgets/controls",
     "model_module_version": "1.5.0",
     "model_name": "FloatProgressModel",
     "state": {
      "_dom_classes": [],
      "_model_module": "@jupyter-widgets/controls",
      "_model_module_version": "1.5.0",
      "_model_name": "FloatProgressModel",
      "_view_count": null,
      "_view_module": "@jupyter-widgets/controls",
      "_view_module_version": "1.5.0",
      "_view_name": "ProgressView",
      "bar_style": "success",
      "description": "",
      "description_tooltip": null,
      "layout": "IPY_MODEL_8e6aa2e02e9743fd8488b9f6edc9fba2",
      "max": 147,
      "min": 0,
      "orientation": "horizontal",
      "style": "IPY_MODEL_492115ece3b64a89a0ac65a492b82add",
      "value": 147
     }
    },
    "52c4971d737445f1af77868ea329d033": {
     "model_module": "@jupyter-widgets/controls",
     "model_module_version": "1.5.0",
     "model_name": "HTMLModel",
     "state": {
      "_dom_classes": [],
      "_model_module": "@jupyter-widgets/controls",
      "_model_module_version": "1.5.0",
      "_model_name": "HTMLModel",
      "_view_count": null,
      "_view_module": "@jupyter-widgets/controls",
      "_view_module_version": "1.5.0",
      "_view_name": "HTMLView",
      "description": "",
      "description_tooltip": null,
      "layout": "IPY_MODEL_9baadaef783a42a3a5e51795d57706f4",
      "placeholder": "​",
      "style": "IPY_MODEL_4a9e7db9e26040cd81642b559d661952",
      "value": " 1.39k/1.39k [00:00&lt;00:00, 43.9kB/s]"
     }
    },
    "546def1aae7f48c2ae189e52b1067bea": {
     "model_module": "@jupyter-widgets/base",
     "model_module_version": "1.2.0",
     "model_name": "LayoutModel",
     "state": {
      "_model_module": "@jupyter-widgets/base",
      "_model_module_version": "1.2.0",
      "_model_name": "LayoutModel",
      "_view_count": null,
      "_view_module": "@jupyter-widgets/base",
      "_view_module_version": "1.2.0",
      "_view_name": "LayoutView",
      "align_content": null,
      "align_items": null,
      "align_self": null,
      "border": null,
      "bottom": null,
      "display": null,
      "flex": null,
      "flex_flow": null,
      "grid_area": null,
      "grid_auto_columns": null,
      "grid_auto_flow": null,
      "grid_auto_rows": null,
      "grid_column": null,
      "grid_gap": null,
      "grid_row": null,
      "grid_template_areas": null,
      "grid_template_columns": null,
      "grid_template_rows": null,
      "height": null,
      "justify_content": null,
      "justify_items": null,
      "left": null,
      "margin": null,
      "max_height": null,
      "max_width": null,
      "min_height": null,
      "min_width": null,
      "object_fit": null,
      "object_position": null,
      "order": null,
      "overflow": null,
      "overflow_x": null,
      "overflow_y": null,
      "padding": null,
      "right": null,
      "top": null,
      "visibility": null,
      "width": null
     }
    },
    "5652013d7c0144739e4b2b1b5b9a43c2": {
     "model_module": "@jupyter-widgets/base",
     "model_module_version": "1.2.0",
     "model_name": "LayoutModel",
     "state": {
      "_model_module": "@jupyter-widgets/base",
      "_model_module_version": "1.2.0",
      "_model_name": "LayoutModel",
      "_view_count": null,
      "_view_module": "@jupyter-widgets/base",
      "_view_module_version": "1.2.0",
      "_view_name": "LayoutView",
      "align_content": null,
      "align_items": null,
      "align_self": null,
      "border": null,
      "bottom": null,
      "display": null,
      "flex": null,
      "flex_flow": null,
      "grid_area": null,
      "grid_auto_columns": null,
      "grid_auto_flow": null,
      "grid_auto_rows": null,
      "grid_column": null,
      "grid_gap": null,
      "grid_row": null,
      "grid_template_areas": null,
      "grid_template_columns": null,
      "grid_template_rows": null,
      "height": null,
      "justify_content": null,
      "justify_items": null,
      "left": null,
      "margin": null,
      "max_height": null,
      "max_width": null,
      "min_height": null,
      "min_width": null,
      "object_fit": null,
      "object_position": null,
      "order": null,
      "overflow": null,
      "overflow_x": null,
      "overflow_y": null,
      "padding": null,
      "right": null,
      "top": null,
      "visibility": null,
      "width": null
     }
    },
    "584d42e006024a078b33622a255880bb": {
     "model_module": "@jupyter-widgets/controls",
     "model_module_version": "1.5.0",
     "model_name": "FloatProgressModel",
     "state": {
      "_dom_classes": [],
      "_model_module": "@jupyter-widgets/controls",
      "_model_module_version": "1.5.0",
      "_model_name": "FloatProgressModel",
      "_view_count": null,
      "_view_module": "@jupyter-widgets/controls",
      "_view_module_version": "1.5.0",
      "_view_name": "ProgressView",
      "bar_style": "success",
      "description": "",
      "description_tooltip": null,
      "layout": "IPY_MODEL_f39af3d82c944db0b4fa773a703de606",
      "max": 2279695208,
      "min": 0,
      "orientation": "horizontal",
      "style": "IPY_MODEL_5b19488ea8824edb8735e720932cd89f",
      "value": 2279695208
     }
    },
    "585f8caac1804ace8944873c42da1146": {
     "model_module": "@jupyter-widgets/controls",
     "model_module_version": "1.5.0",
     "model_name": "HBoxModel",
     "state": {
      "_dom_classes": [],
      "_model_module": "@jupyter-widgets/controls",
      "_model_module_version": "1.5.0",
      "_model_name": "HBoxModel",
      "_view_count": null,
      "_view_module": "@jupyter-widgets/controls",
      "_view_module_version": "1.5.0",
      "_view_name": "HBoxView",
      "box_style": "",
      "children": [
       "IPY_MODEL_326bb70651d34aefb3e568f6b0e22d17",
       "IPY_MODEL_138d8cec4be8496aaa9c36de147b6f66",
       "IPY_MODEL_f9152823c04a4998a4f53fb9dbe3d19e"
      ],
      "layout": "IPY_MODEL_3dba7a5f4e7b4cdab8b058bf9e9cb169"
     }
    },
    "59399ffaee294c72ababd164ed4a6dc9": {
     "model_module": "@jupyter-widgets/controls",
     "model_module_version": "1.5.0",
     "model_name": "HBoxModel",
     "state": {
      "_dom_classes": [],
      "_model_module": "@jupyter-widgets/controls",
      "_model_module_version": "1.5.0",
      "_model_name": "HBoxModel",
      "_view_count": null,
      "_view_module": "@jupyter-widgets/controls",
      "_view_module_version": "1.5.0",
      "_view_name": "HBoxView",
      "box_style": "",
      "children": [
       "IPY_MODEL_49526ddcba0f4ac7bfa3c34e334df5e3",
       "IPY_MODEL_1a44ad75b6a04992836bffb4d47a9a14",
       "IPY_MODEL_52c4971d737445f1af77868ea329d033"
      ],
      "layout": "IPY_MODEL_b14a7edf59af4cd6b9869ca6a1211117"
     }
    },
    "5b19488ea8824edb8735e720932cd89f": {
     "model_module": "@jupyter-widgets/controls",
     "model_module_version": "1.5.0",
     "model_name": "ProgressStyleModel",
     "state": {
      "_model_module": "@jupyter-widgets/controls",
      "_model_module_version": "1.5.0",
      "_model_name": "ProgressStyleModel",
      "_view_count": null,
      "_view_module": "@jupyter-widgets/base",
      "_view_module_version": "1.2.0",
      "_view_name": "StyleView",
      "bar_color": null,
      "description_width": ""
     }
    },
    "5c9d306c880147299dab19c1e785f792": {
     "model_module": "@jupyter-widgets/controls",
     "model_module_version": "1.5.0",
     "model_name": "HTMLModel",
     "state": {
      "_dom_classes": [],
      "_model_module": "@jupyter-widgets/controls",
      "_model_module_version": "1.5.0",
      "_model_name": "HTMLModel",
      "_view_count": null,
      "_view_module": "@jupyter-widgets/controls",
      "_view_module_version": "1.5.0",
      "_view_name": "HTMLView",
      "description": "",
      "description_tooltip": null,
      "layout": "IPY_MODEL_5dd89f1949644a70b41e7ddd327f0b6f",
      "placeholder": "​",
      "style": "IPY_MODEL_d809b096b7344d7ba074aa633520f67a",
      "value": " 792k/792k [00:00&lt;00:00, 5.33MB/s]"
     }
    },
    "5d30ab6db0834ba79de0c7fdd274f673": {
     "model_module": "@jupyter-widgets/base",
     "model_module_version": "1.2.0",
     "model_name": "LayoutModel",
     "state": {
      "_model_module": "@jupyter-widgets/base",
      "_model_module_version": "1.2.0",
      "_model_name": "LayoutModel",
      "_view_count": null,
      "_view_module": "@jupyter-widgets/base",
      "_view_module_version": "1.2.0",
      "_view_name": "LayoutView",
      "align_content": null,
      "align_items": null,
      "align_self": null,
      "border": null,
      "bottom": null,
      "display": null,
      "flex": null,
      "flex_flow": null,
      "grid_area": null,
      "grid_auto_columns": null,
      "grid_auto_flow": null,
      "grid_auto_rows": null,
      "grid_column": null,
      "grid_gap": null,
      "grid_row": null,
      "grid_template_areas": null,
      "grid_template_columns": null,
      "grid_template_rows": null,
      "height": null,
      "justify_content": null,
      "justify_items": null,
      "left": null,
      "margin": null,
      "max_height": null,
      "max_width": null,
      "min_height": null,
      "min_width": null,
      "object_fit": null,
      "object_position": null,
      "order": null,
      "overflow": null,
      "overflow_x": null,
      "overflow_y": null,
      "padding": null,
      "right": null,
      "top": null,
      "visibility": null,
      "width": null
     }
    },
    "5dd89f1949644a70b41e7ddd327f0b6f": {
     "model_module": "@jupyter-widgets/base",
     "model_module_version": "1.2.0",
     "model_name": "LayoutModel",
     "state": {
      "_model_module": "@jupyter-widgets/base",
      "_model_module_version": "1.2.0",
      "_model_name": "LayoutModel",
      "_view_count": null,
      "_view_module": "@jupyter-widgets/base",
      "_view_module_version": "1.2.0",
      "_view_name": "LayoutView",
      "align_content": null,
      "align_items": null,
      "align_self": null,
      "border": null,
      "bottom": null,
      "display": null,
      "flex": null,
      "flex_flow": null,
      "grid_area": null,
      "grid_auto_columns": null,
      "grid_auto_flow": null,
      "grid_auto_rows": null,
      "grid_column": null,
      "grid_gap": null,
      "grid_row": null,
      "grid_template_areas": null,
      "grid_template_columns": null,
      "grid_template_rows": null,
      "height": null,
      "justify_content": null,
      "justify_items": null,
      "left": null,
      "margin": null,
      "max_height": null,
      "max_width": null,
      "min_height": null,
      "min_width": null,
      "object_fit": null,
      "object_position": null,
      "order": null,
      "overflow": null,
      "overflow_x": null,
      "overflow_y": null,
      "padding": null,
      "right": null,
      "top": null,
      "visibility": null,
      "width": null
     }
    },
    "5eae9087fde444ccac09f1c8b4552536": {
     "model_module": "@jupyter-widgets/controls",
     "model_module_version": "1.5.0",
     "model_name": "HBoxModel",
     "state": {
      "_dom_classes": [],
      "_model_module": "@jupyter-widgets/controls",
      "_model_module_version": "1.5.0",
      "_model_name": "HBoxModel",
      "_view_count": null,
      "_view_module": "@jupyter-widgets/controls",
      "_view_module_version": "1.5.0",
      "_view_name": "HBoxView",
      "box_style": "",
      "children": [
       "IPY_MODEL_38194abb46b948048fda0a679926f288",
       "IPY_MODEL_3bd215f11414463ea2a326310b4ef0b4",
       "IPY_MODEL_d28a35ceb30a454fae8593017bfa9a98"
      ],
      "layout": "IPY_MODEL_d2d7a69fb0de4e7eb6dcdbc94fb8dc38"
     }
    },
    "5fc12d8ec4c7494bb8b34f2e3b172bb5": {
     "model_module": "@jupyter-widgets/base",
     "model_module_version": "1.2.0",
     "model_name": "LayoutModel",
     "state": {
      "_model_module": "@jupyter-widgets/base",
      "_model_module_version": "1.2.0",
      "_model_name": "LayoutModel",
      "_view_count": null,
      "_view_module": "@jupyter-widgets/base",
      "_view_module_version": "1.2.0",
      "_view_name": "LayoutView",
      "align_content": null,
      "align_items": null,
      "align_self": null,
      "border": null,
      "bottom": null,
      "display": null,
      "flex": null,
      "flex_flow": null,
      "grid_area": null,
      "grid_auto_columns": null,
      "grid_auto_flow": null,
      "grid_auto_rows": null,
      "grid_column": null,
      "grid_gap": null,
      "grid_row": null,
      "grid_template_areas": null,
      "grid_template_columns": null,
      "grid_template_rows": null,
      "height": null,
      "justify_content": null,
      "justify_items": null,
      "left": null,
      "margin": null,
      "max_height": null,
      "max_width": null,
      "min_height": null,
      "min_width": null,
      "object_fit": null,
      "object_position": null,
      "order": null,
      "overflow": null,
      "overflow_x": null,
      "overflow_y": null,
      "padding": null,
      "right": null,
      "top": null,
      "visibility": null,
      "width": null
     }
    },
    "6150d2af500048be9cab40e37c4035f5": {
     "model_module": "@jupyter-widgets/controls",
     "model_module_version": "1.5.0",
     "model_name": "ProgressStyleModel",
     "state": {
      "_model_module": "@jupyter-widgets/controls",
      "_model_module_version": "1.5.0",
      "_model_name": "ProgressStyleModel",
      "_view_count": null,
      "_view_module": "@jupyter-widgets/base",
      "_view_module_version": "1.2.0",
      "_view_name": "StyleView",
      "bar_color": null,
      "description_width": ""
     }
    },
    "629fbe09bd9e435faa3e877c5cc90002": {
     "model_module": "@jupyter-widgets/base",
     "model_module_version": "1.2.0",
     "model_name": "LayoutModel",
     "state": {
      "_model_module": "@jupyter-widgets/base",
      "_model_module_version": "1.2.0",
      "_model_name": "LayoutModel",
      "_view_count": null,
      "_view_module": "@jupyter-widgets/base",
      "_view_module_version": "1.2.0",
      "_view_name": "LayoutView",
      "align_content": null,
      "align_items": null,
      "align_self": null,
      "border": null,
      "bottom": null,
      "display": null,
      "flex": null,
      "flex_flow": null,
      "grid_area": null,
      "grid_auto_columns": null,
      "grid_auto_flow": null,
      "grid_auto_rows": null,
      "grid_column": null,
      "grid_gap": null,
      "grid_row": null,
      "grid_template_areas": null,
      "grid_template_columns": null,
      "grid_template_rows": null,
      "height": null,
      "justify_content": null,
      "justify_items": null,
      "left": null,
      "margin": null,
      "max_height": null,
      "max_width": null,
      "min_height": null,
      "min_width": null,
      "object_fit": null,
      "object_position": null,
      "order": null,
      "overflow": null,
      "overflow_x": null,
      "overflow_y": null,
      "padding": null,
      "right": null,
      "top": null,
      "visibility": null,
      "width": null
     }
    },
    "648f386240b24d828955e2deaa238465": {
     "model_module": "@jupyter-widgets/controls",
     "model_module_version": "1.5.0",
     "model_name": "HTMLModel",
     "state": {
      "_dom_classes": [],
      "_model_module": "@jupyter-widgets/controls",
      "_model_module_version": "1.5.0",
      "_model_name": "HTMLModel",
      "_view_count": null,
      "_view_module": "@jupyter-widgets/controls",
      "_view_module_version": "1.5.0",
      "_view_name": "HTMLView",
      "description": "",
      "description_tooltip": null,
      "layout": "IPY_MODEL_c2812e195b174c95bf56811c5054e31a",
      "placeholder": "​",
      "style": "IPY_MODEL_2c4d2dec286e428f8a3910fdd8292f92",
      "value": "Downloading (…)okenizer_config.json: 100%"
     }
    },
    "64eee87e73924271a849c3f3712f7681": {
     "model_module": "@jupyter-widgets/controls",
     "model_module_version": "1.5.0",
     "model_name": "DescriptionStyleModel",
     "state": {
      "_model_module": "@jupyter-widgets/controls",
      "_model_module_version": "1.5.0",
      "_model_name": "DescriptionStyleModel",
      "_view_count": null,
      "_view_module": "@jupyter-widgets/base",
      "_view_module_version": "1.2.0",
      "_view_name": "StyleView",
      "description_width": ""
     }
    },
    "656b0b61c2394539bfbe77acb0efd371": {
     "model_module": "@jupyter-widgets/base",
     "model_module_version": "1.2.0",
     "model_name": "LayoutModel",
     "state": {
      "_model_module": "@jupyter-widgets/base",
      "_model_module_version": "1.2.0",
      "_model_name": "LayoutModel",
      "_view_count": null,
      "_view_module": "@jupyter-widgets/base",
      "_view_module_version": "1.2.0",
      "_view_name": "LayoutView",
      "align_content": null,
      "align_items": null,
      "align_self": null,
      "border": null,
      "bottom": null,
      "display": null,
      "flex": null,
      "flex_flow": null,
      "grid_area": null,
      "grid_auto_columns": null,
      "grid_auto_flow": null,
      "grid_auto_rows": null,
      "grid_column": null,
      "grid_gap": null,
      "grid_row": null,
      "grid_template_areas": null,
      "grid_template_columns": null,
      "grid_template_rows": null,
      "height": null,
      "justify_content": null,
      "justify_items": null,
      "left": null,
      "margin": null,
      "max_height": null,
      "max_width": null,
      "min_height": null,
      "min_width": null,
      "object_fit": null,
      "object_position": null,
      "order": null,
      "overflow": null,
      "overflow_x": null,
      "overflow_y": null,
      "padding": null,
      "right": null,
      "top": null,
      "visibility": null,
      "width": null
     }
    },
    "6579c47eff21431db8ac8e2981d1f82f": {
     "model_module": "@jupyter-widgets/base",
     "model_module_version": "1.2.0",
     "model_name": "LayoutModel",
     "state": {
      "_model_module": "@jupyter-widgets/base",
      "_model_module_version": "1.2.0",
      "_model_name": "LayoutModel",
      "_view_count": null,
      "_view_module": "@jupyter-widgets/base",
      "_view_module_version": "1.2.0",
      "_view_name": "LayoutView",
      "align_content": null,
      "align_items": null,
      "align_self": null,
      "border": null,
      "bottom": null,
      "display": null,
      "flex": null,
      "flex_flow": null,
      "grid_area": null,
      "grid_auto_columns": null,
      "grid_auto_flow": null,
      "grid_auto_rows": null,
      "grid_column": null,
      "grid_gap": null,
      "grid_row": null,
      "grid_template_areas": null,
      "grid_template_columns": null,
      "grid_template_rows": null,
      "height": null,
      "justify_content": null,
      "justify_items": null,
      "left": null,
      "margin": null,
      "max_height": null,
      "max_width": null,
      "min_height": null,
      "min_width": null,
      "object_fit": null,
      "object_position": null,
      "order": null,
      "overflow": null,
      "overflow_x": null,
      "overflow_y": null,
      "padding": null,
      "right": null,
      "top": null,
      "visibility": null,
      "width": null
     }
    },
    "669ac6ddf900466486c2faff63d8898c": {
     "model_module": "@jupyter-widgets/controls",
     "model_module_version": "1.5.0",
     "model_name": "HTMLModel",
     "state": {
      "_dom_classes": [],
      "_model_module": "@jupyter-widgets/controls",
      "_model_module_version": "1.5.0",
      "_model_name": "HTMLModel",
      "_view_count": null,
      "_view_module": "@jupyter-widgets/controls",
      "_view_module_version": "1.5.0",
      "_view_name": "HTMLView",
      "description": "",
      "description_tooltip": null,
      "layout": "IPY_MODEL_2c7edaa6e3fb4aef8abb4207a60601f0",
      "placeholder": "​",
      "style": "IPY_MODEL_e8169982e2c8441bafd699e19b340a00",
      "value": "Downloading (…)&quot;tf_model.h5&quot;;: 100%"
     }
    },
    "67d52d85d5c84b27aa3aa922ae7efb32": {
     "model_module": "@jupyter-widgets/base",
     "model_module_version": "1.2.0",
     "model_name": "LayoutModel",
     "state": {
      "_model_module": "@jupyter-widgets/base",
      "_model_module_version": "1.2.0",
      "_model_name": "LayoutModel",
      "_view_count": null,
      "_view_module": "@jupyter-widgets/base",
      "_view_module_version": "1.2.0",
      "_view_name": "LayoutView",
      "align_content": null,
      "align_items": null,
      "align_self": null,
      "border": null,
      "bottom": null,
      "display": null,
      "flex": null,
      "flex_flow": null,
      "grid_area": null,
      "grid_auto_columns": null,
      "grid_auto_flow": null,
      "grid_auto_rows": null,
      "grid_column": null,
      "grid_gap": null,
      "grid_row": null,
      "grid_template_areas": null,
      "grid_template_columns": null,
      "grid_template_rows": null,
      "height": null,
      "justify_content": null,
      "justify_items": null,
      "left": null,
      "margin": null,
      "max_height": null,
      "max_width": null,
      "min_height": null,
      "min_width": null,
      "object_fit": null,
      "object_position": null,
      "order": null,
      "overflow": null,
      "overflow_x": null,
      "overflow_y": null,
      "padding": null,
      "right": null,
      "top": null,
      "visibility": null,
      "width": null
     }
    },
    "692afe8728f8430ba9b619409dcbe08d": {
     "model_module": "@jupyter-widgets/controls",
     "model_module_version": "1.5.0",
     "model_name": "ProgressStyleModel",
     "state": {
      "_model_module": "@jupyter-widgets/controls",
      "_model_module_version": "1.5.0",
      "_model_name": "ProgressStyleModel",
      "_view_count": null,
      "_view_module": "@jupyter-widgets/base",
      "_view_module_version": "1.2.0",
      "_view_name": "StyleView",
      "bar_color": null,
      "description_width": ""
     }
    },
    "6a9616699803464a8442c9c6e0b626e1": {
     "model_module": "@jupyter-widgets/base",
     "model_module_version": "1.2.0",
     "model_name": "LayoutModel",
     "state": {
      "_model_module": "@jupyter-widgets/base",
      "_model_module_version": "1.2.0",
      "_model_name": "LayoutModel",
      "_view_count": null,
      "_view_module": "@jupyter-widgets/base",
      "_view_module_version": "1.2.0",
      "_view_name": "LayoutView",
      "align_content": null,
      "align_items": null,
      "align_self": null,
      "border": null,
      "bottom": null,
      "display": null,
      "flex": null,
      "flex_flow": null,
      "grid_area": null,
      "grid_auto_columns": null,
      "grid_auto_flow": null,
      "grid_auto_rows": null,
      "grid_column": null,
      "grid_gap": null,
      "grid_row": null,
      "grid_template_areas": null,
      "grid_template_columns": null,
      "grid_template_rows": null,
      "height": null,
      "justify_content": null,
      "justify_items": null,
      "left": null,
      "margin": null,
      "max_height": null,
      "max_width": null,
      "min_height": null,
      "min_width": null,
      "object_fit": null,
      "object_position": null,
      "order": null,
      "overflow": null,
      "overflow_x": null,
      "overflow_y": null,
      "padding": null,
      "right": null,
      "top": null,
      "visibility": null,
      "width": null
     }
    },
    "6d0c5f1da4ad409e8fa49355313b1941": {
     "model_module": "@jupyter-widgets/base",
     "model_module_version": "1.2.0",
     "model_name": "LayoutModel",
     "state": {
      "_model_module": "@jupyter-widgets/base",
      "_model_module_version": "1.2.0",
      "_model_name": "LayoutModel",
      "_view_count": null,
      "_view_module": "@jupyter-widgets/base",
      "_view_module_version": "1.2.0",
      "_view_name": "LayoutView",
      "align_content": null,
      "align_items": null,
      "align_self": null,
      "border": null,
      "bottom": null,
      "display": null,
      "flex": null,
      "flex_flow": null,
      "grid_area": null,
      "grid_auto_columns": null,
      "grid_auto_flow": null,
      "grid_auto_rows": null,
      "grid_column": null,
      "grid_gap": null,
      "grid_row": null,
      "grid_template_areas": null,
      "grid_template_columns": null,
      "grid_template_rows": null,
      "height": null,
      "justify_content": null,
      "justify_items": null,
      "left": null,
      "margin": null,
      "max_height": null,
      "max_width": null,
      "min_height": null,
      "min_width": null,
      "object_fit": null,
      "object_position": null,
      "order": null,
      "overflow": null,
      "overflow_x": null,
      "overflow_y": null,
      "padding": null,
      "right": null,
      "top": null,
      "visibility": null,
      "width": null
     }
    },
    "6e69e479dde44d2ea4bde6eda1264523": {
     "model_module": "@jupyter-widgets/controls",
     "model_module_version": "1.5.0",
     "model_name": "ProgressStyleModel",
     "state": {
      "_model_module": "@jupyter-widgets/controls",
      "_model_module_version": "1.5.0",
      "_model_name": "ProgressStyleModel",
      "_view_count": null,
      "_view_module": "@jupyter-widgets/base",
      "_view_module_version": "1.2.0",
      "_view_name": "StyleView",
      "bar_color": null,
      "description_width": ""
     }
    },
    "710bf9e376784313a383578b487846df": {
     "model_module": "@jupyter-widgets/controls",
     "model_module_version": "1.5.0",
     "model_name": "DescriptionStyleModel",
     "state": {
      "_model_module": "@jupyter-widgets/controls",
      "_model_module_version": "1.5.0",
      "_model_name": "DescriptionStyleModel",
      "_view_count": null,
      "_view_module": "@jupyter-widgets/base",
      "_view_module_version": "1.2.0",
      "_view_name": "StyleView",
      "description_width": ""
     }
    },
    "712b6a5d35c44433a83b2e9a7c36d729": {
     "model_module": "@jupyter-widgets/base",
     "model_module_version": "1.2.0",
     "model_name": "LayoutModel",
     "state": {
      "_model_module": "@jupyter-widgets/base",
      "_model_module_version": "1.2.0",
      "_model_name": "LayoutModel",
      "_view_count": null,
      "_view_module": "@jupyter-widgets/base",
      "_view_module_version": "1.2.0",
      "_view_name": "LayoutView",
      "align_content": null,
      "align_items": null,
      "align_self": null,
      "border": null,
      "bottom": null,
      "display": null,
      "flex": null,
      "flex_flow": null,
      "grid_area": null,
      "grid_auto_columns": null,
      "grid_auto_flow": null,
      "grid_auto_rows": null,
      "grid_column": null,
      "grid_gap": null,
      "grid_row": null,
      "grid_template_areas": null,
      "grid_template_columns": null,
      "grid_template_rows": null,
      "height": null,
      "justify_content": null,
      "justify_items": null,
      "left": null,
      "margin": null,
      "max_height": null,
      "max_width": null,
      "min_height": null,
      "min_width": null,
      "object_fit": null,
      "object_position": null,
      "order": null,
      "overflow": null,
      "overflow_x": null,
      "overflow_y": null,
      "padding": null,
      "right": null,
      "top": null,
      "visibility": null,
      "width": null
     }
    },
    "739138a2d9de4f3db72bfe7bb150692b": {
     "model_module": "@jupyter-widgets/controls",
     "model_module_version": "1.5.0",
     "model_name": "DescriptionStyleModel",
     "state": {
      "_model_module": "@jupyter-widgets/controls",
      "_model_module_version": "1.5.0",
      "_model_name": "DescriptionStyleModel",
      "_view_count": null,
      "_view_module": "@jupyter-widgets/base",
      "_view_module_version": "1.2.0",
      "_view_name": "StyleView",
      "description_width": ""
     }
    },
    "741d2ecd9e724e56a300bcf8286dd73b": {
     "model_module": "@jupyter-widgets/controls",
     "model_module_version": "1.5.0",
     "model_name": "DescriptionStyleModel",
     "state": {
      "_model_module": "@jupyter-widgets/controls",
      "_model_module_version": "1.5.0",
      "_model_name": "DescriptionStyleModel",
      "_view_count": null,
      "_view_module": "@jupyter-widgets/base",
      "_view_module_version": "1.2.0",
      "_view_name": "StyleView",
      "description_width": ""
     }
    },
    "74f09b187b5e4d4eb0ad49068311c196": {
     "model_module": "@jupyter-widgets/controls",
     "model_module_version": "1.5.0",
     "model_name": "HTMLModel",
     "state": {
      "_dom_classes": [],
      "_model_module": "@jupyter-widgets/controls",
      "_model_module_version": "1.5.0",
      "_model_name": "HTMLModel",
      "_view_count": null,
      "_view_module": "@jupyter-widgets/controls",
      "_view_module_version": "1.5.0",
      "_view_name": "HTMLView",
      "description": "",
      "description_tooltip": null,
      "layout": "IPY_MODEL_276ef51f120b43c5945bbc163487eef1",
      "placeholder": "​",
      "style": "IPY_MODEL_fea28d3215af4df2846eeb885ccb6a3e",
      "value": "Downloading (…)lve/main/config.json: 100%"
     }
    },
    "75484201a2f44da7801d3595b647dc2a": {
     "model_module": "@jupyter-widgets/base",
     "model_module_version": "1.2.0",
     "model_name": "LayoutModel",
     "state": {
      "_model_module": "@jupyter-widgets/base",
      "_model_module_version": "1.2.0",
      "_model_name": "LayoutModel",
      "_view_count": null,
      "_view_module": "@jupyter-widgets/base",
      "_view_module_version": "1.2.0",
      "_view_name": "LayoutView",
      "align_content": null,
      "align_items": null,
      "align_self": null,
      "border": null,
      "bottom": null,
      "display": null,
      "flex": null,
      "flex_flow": null,
      "grid_area": null,
      "grid_auto_columns": null,
      "grid_auto_flow": null,
      "grid_auto_rows": null,
      "grid_column": null,
      "grid_gap": null,
      "grid_row": null,
      "grid_template_areas": null,
      "grid_template_columns": null,
      "grid_template_rows": null,
      "height": null,
      "justify_content": null,
      "justify_items": null,
      "left": null,
      "margin": null,
      "max_height": null,
      "max_width": null,
      "min_height": null,
      "min_width": null,
      "object_fit": null,
      "object_position": null,
      "order": null,
      "overflow": null,
      "overflow_x": null,
      "overflow_y": null,
      "padding": null,
      "right": null,
      "top": null,
      "visibility": null,
      "width": null
     }
    },
    "756318c8f0fd49069cd7635b17f7f168": {
     "model_module": "@jupyter-widgets/controls",
     "model_module_version": "1.5.0",
     "model_name": "ProgressStyleModel",
     "state": {
      "_model_module": "@jupyter-widgets/controls",
      "_model_module_version": "1.5.0",
      "_model_name": "ProgressStyleModel",
      "_view_count": null,
      "_view_module": "@jupyter-widgets/base",
      "_view_module_version": "1.2.0",
      "_view_name": "StyleView",
      "bar_color": null,
      "description_width": ""
     }
    },
    "7614aa2d66e34e3ea2168e949b8a4eee": {
     "model_module": "@jupyter-widgets/controls",
     "model_module_version": "1.5.0",
     "model_name": "HTMLModel",
     "state": {
      "_dom_classes": [],
      "_model_module": "@jupyter-widgets/controls",
      "_model_module_version": "1.5.0",
      "_model_name": "HTMLModel",
      "_view_count": null,
      "_view_module": "@jupyter-widgets/controls",
      "_view_module_version": "1.5.0",
      "_view_name": "HTMLView",
      "description": "",
      "description_tooltip": null,
      "layout": "IPY_MODEL_95b7a158d81c4a0199d2b1722a83803b",
      "placeholder": "​",
      "style": "IPY_MODEL_64eee87e73924271a849c3f3712f7681",
      "value": " 2.28G/2.28G [00:41&lt;00:00, 58.5MB/s]"
     }
    },
    "766141d9dbfe4925a9cfbb06df68bb13": {
     "model_module": "@jupyter-widgets/base",
     "model_module_version": "1.2.0",
     "model_name": "LayoutModel",
     "state": {
      "_model_module": "@jupyter-widgets/base",
      "_model_module_version": "1.2.0",
      "_model_name": "LayoutModel",
      "_view_count": null,
      "_view_module": "@jupyter-widgets/base",
      "_view_module_version": "1.2.0",
      "_view_name": "LayoutView",
      "align_content": null,
      "align_items": null,
      "align_self": null,
      "border": null,
      "bottom": null,
      "display": null,
      "flex": null,
      "flex_flow": null,
      "grid_area": null,
      "grid_auto_columns": null,
      "grid_auto_flow": null,
      "grid_auto_rows": null,
      "grid_column": null,
      "grid_gap": null,
      "grid_row": null,
      "grid_template_areas": null,
      "grid_template_columns": null,
      "grid_template_rows": null,
      "height": null,
      "justify_content": null,
      "justify_items": null,
      "left": null,
      "margin": null,
      "max_height": null,
      "max_width": null,
      "min_height": null,
      "min_width": null,
      "object_fit": null,
      "object_position": null,
      "order": null,
      "overflow": null,
      "overflow_x": null,
      "overflow_y": null,
      "padding": null,
      "right": null,
      "top": null,
      "visibility": null,
      "width": null
     }
    },
    "769df0ae198a43b6baaacbddd4c54c61": {
     "model_module": "@jupyter-widgets/controls",
     "model_module_version": "1.5.0",
     "model_name": "HBoxModel",
     "state": {
      "_dom_classes": [],
      "_model_module": "@jupyter-widgets/controls",
      "_model_module_version": "1.5.0",
      "_model_name": "HBoxModel",
      "_view_count": null,
      "_view_module": "@jupyter-widgets/controls",
      "_view_module_version": "1.5.0",
      "_view_name": "HBoxView",
      "box_style": "",
      "children": [
       "IPY_MODEL_dcbf31199f6f4ea5b5203072afc7c660",
       "IPY_MODEL_4704e6458cb54b36bc8e76923cf13b15",
       "IPY_MODEL_bef2feb8bbde4f7fb4a7a585fcbe8a8d"
      ],
      "layout": "IPY_MODEL_0f345d2303cf455988917e97cb214934"
     }
    },
    "76b9271a9822407ab9f0c3ed97d7d819": {
     "model_module": "@jupyter-widgets/controls",
     "model_module_version": "1.5.0",
     "model_name": "HTMLModel",
     "state": {
      "_dom_classes": [],
      "_model_module": "@jupyter-widgets/controls",
      "_model_module_version": "1.5.0",
      "_model_name": "HTMLModel",
      "_view_count": null,
      "_view_module": "@jupyter-widgets/controls",
      "_view_module_version": "1.5.0",
      "_view_name": "HTMLView",
      "description": "",
      "description_tooltip": null,
      "layout": "IPY_MODEL_6579c47eff21431db8ac8e2981d1f82f",
      "placeholder": "​",
      "style": "IPY_MODEL_4eaff597a65045eb827fa4949aa6f343",
      "value": " 1.21k/1.21k [00:00&lt;00:00, 36.9kB/s]"
     }
    },
    "77054765426947adaec7ad9ec6f52203": {
     "model_module": "@jupyter-widgets/controls",
     "model_module_version": "1.5.0",
     "model_name": "HTMLModel",
     "state": {
      "_dom_classes": [],
      "_model_module": "@jupyter-widgets/controls",
      "_model_module_version": "1.5.0",
      "_model_name": "HTMLModel",
      "_view_count": null,
      "_view_module": "@jupyter-widgets/controls",
      "_view_module_version": "1.5.0",
      "_view_name": "HTMLView",
      "description": "",
      "description_tooltip": null,
      "layout": "IPY_MODEL_b0c5c49a71b84f7ba017810a608353ea",
      "placeholder": "​",
      "style": "IPY_MODEL_78aa8a2450c2474786f157f2d004a050",
      "value": " 1.91M/1.91M [00:00&lt;00:00, 11.1MB/s]"
     }
    },
    "7744ade8cdca46988dbdc476583c0e0f": {
     "model_module": "@jupyter-widgets/controls",
     "model_module_version": "1.5.0",
     "model_name": "ProgressStyleModel",
     "state": {
      "_model_module": "@jupyter-widgets/controls",
      "_model_module_version": "1.5.0",
      "_model_name": "ProgressStyleModel",
      "_view_count": null,
      "_view_module": "@jupyter-widgets/base",
      "_view_module_version": "1.2.0",
      "_view_name": "StyleView",
      "bar_color": null,
      "description_width": ""
     }
    },
    "78aa8a2450c2474786f157f2d004a050": {
     "model_module": "@jupyter-widgets/controls",
     "model_module_version": "1.5.0",
     "model_name": "DescriptionStyleModel",
     "state": {
      "_model_module": "@jupyter-widgets/controls",
      "_model_module_version": "1.5.0",
      "_model_name": "DescriptionStyleModel",
      "_view_count": null,
      "_view_module": "@jupyter-widgets/base",
      "_view_module_version": "1.2.0",
      "_view_name": "StyleView",
      "description_width": ""
     }
    },
    "79d7c83d7961458394e5b8cc8d63d1e9": {
     "model_module": "@jupyter-widgets/base",
     "model_module_version": "1.2.0",
     "model_name": "LayoutModel",
     "state": {
      "_model_module": "@jupyter-widgets/base",
      "_model_module_version": "1.2.0",
      "_model_name": "LayoutModel",
      "_view_count": null,
      "_view_module": "@jupyter-widgets/base",
      "_view_module_version": "1.2.0",
      "_view_name": "LayoutView",
      "align_content": null,
      "align_items": null,
      "align_self": null,
      "border": null,
      "bottom": null,
      "display": null,
      "flex": null,
      "flex_flow": null,
      "grid_area": null,
      "grid_auto_columns": null,
      "grid_auto_flow": null,
      "grid_auto_rows": null,
      "grid_column": null,
      "grid_gap": null,
      "grid_row": null,
      "grid_template_areas": null,
      "grid_template_columns": null,
      "grid_template_rows": null,
      "height": null,
      "justify_content": null,
      "justify_items": null,
      "left": null,
      "margin": null,
      "max_height": null,
      "max_width": null,
      "min_height": null,
      "min_width": null,
      "object_fit": null,
      "object_position": null,
      "order": null,
      "overflow": null,
      "overflow_x": null,
      "overflow_y": null,
      "padding": null,
      "right": null,
      "top": null,
      "visibility": null,
      "width": null
     }
    },
    "7c0ec7f4b0774123933ec959122665ce": {
     "model_module": "@jupyter-widgets/controls",
     "model_module_version": "1.5.0",
     "model_name": "HTMLModel",
     "state": {
      "_dom_classes": [],
      "_model_module": "@jupyter-widgets/controls",
      "_model_module_version": "1.5.0",
      "_model_name": "HTMLModel",
      "_view_count": null,
      "_view_module": "@jupyter-widgets/controls",
      "_view_module_version": "1.5.0",
      "_view_name": "HTMLView",
      "description": "",
      "description_tooltip": null,
      "layout": "IPY_MODEL_338b2e9a4a1b4322b44b5edb574020ae",
      "placeholder": "​",
      "style": "IPY_MODEL_3261b5b856cd46978e13690da45d8e2a",
      "value": " 259/259 [00:00&lt;00:00, 8.75kB/s]"
     }
    },
    "7ffe93a700b24f189a0739a2154eb5ba": {
     "model_module": "@jupyter-widgets/base",
     "model_module_version": "1.2.0",
     "model_name": "LayoutModel",
     "state": {
      "_model_module": "@jupyter-widgets/base",
      "_model_module_version": "1.2.0",
      "_model_name": "LayoutModel",
      "_view_count": null,
      "_view_module": "@jupyter-widgets/base",
      "_view_module_version": "1.2.0",
      "_view_name": "LayoutView",
      "align_content": null,
      "align_items": null,
      "align_self": null,
      "border": null,
      "bottom": null,
      "display": null,
      "flex": null,
      "flex_flow": null,
      "grid_area": null,
      "grid_auto_columns": null,
      "grid_auto_flow": null,
      "grid_auto_rows": null,
      "grid_column": null,
      "grid_gap": null,
      "grid_row": null,
      "grid_template_areas": null,
      "grid_template_columns": null,
      "grid_template_rows": null,
      "height": null,
      "justify_content": null,
      "justify_items": null,
      "left": null,
      "margin": null,
      "max_height": null,
      "max_width": null,
      "min_height": null,
      "min_width": null,
      "object_fit": null,
      "object_position": null,
      "order": null,
      "overflow": null,
      "overflow_x": null,
      "overflow_y": null,
      "padding": null,
      "right": null,
      "top": null,
      "visibility": null,
      "width": null
     }
    },
    "831882be87be44a1b5343e2fd5f439b6": {
     "model_module": "@jupyter-widgets/controls",
     "model_module_version": "1.5.0",
     "model_name": "HTMLModel",
     "state": {
      "_dom_classes": [],
      "_model_module": "@jupyter-widgets/controls",
      "_model_module_version": "1.5.0",
      "_model_name": "HTMLModel",
      "_view_count": null,
      "_view_module": "@jupyter-widgets/controls",
      "_view_module_version": "1.5.0",
      "_view_name": "HTMLView",
      "description": "",
      "description_tooltip": null,
      "layout": "IPY_MODEL_9652511a13574bfebe686997f1539b15",
      "placeholder": "​",
      "style": "IPY_MODEL_12ea9af71b74477c8b3345639bd8c3bb",
      "value": " 88.0/88.0 [00:00&lt;00:00, 3.24kB/s]"
     }
    },
    "8829805b91154b73afaa050309305777": {
     "model_module": "@jupyter-widgets/base",
     "model_module_version": "1.2.0",
     "model_name": "LayoutModel",
     "state": {
      "_model_module": "@jupyter-widgets/base",
      "_model_module_version": "1.2.0",
      "_model_name": "LayoutModel",
      "_view_count": null,
      "_view_module": "@jupyter-widgets/base",
      "_view_module_version": "1.2.0",
      "_view_name": "LayoutView",
      "align_content": null,
      "align_items": null,
      "align_self": null,
      "border": null,
      "bottom": null,
      "display": null,
      "flex": null,
      "flex_flow": null,
      "grid_area": null,
      "grid_auto_columns": null,
      "grid_auto_flow": null,
      "grid_auto_rows": null,
      "grid_column": null,
      "grid_gap": null,
      "grid_row": null,
      "grid_template_areas": null,
      "grid_template_columns": null,
      "grid_template_rows": null,
      "height": null,
      "justify_content": null,
      "justify_items": null,
      "left": null,
      "margin": null,
      "max_height": null,
      "max_width": null,
      "min_height": null,
      "min_width": null,
      "object_fit": null,
      "object_position": null,
      "order": null,
      "overflow": null,
      "overflow_x": null,
      "overflow_y": null,
      "padding": null,
      "right": null,
      "top": null,
      "visibility": null,
      "width": null
     }
    },
    "8cf3aa4e4fa3480fb5db01ca3f95d578": {
     "model_module": "@jupyter-widgets/base",
     "model_module_version": "1.2.0",
     "model_name": "LayoutModel",
     "state": {
      "_model_module": "@jupyter-widgets/base",
      "_model_module_version": "1.2.0",
      "_model_name": "LayoutModel",
      "_view_count": null,
      "_view_module": "@jupyter-widgets/base",
      "_view_module_version": "1.2.0",
      "_view_name": "LayoutView",
      "align_content": null,
      "align_items": null,
      "align_self": null,
      "border": null,
      "bottom": null,
      "display": null,
      "flex": null,
      "flex_flow": null,
      "grid_area": null,
      "grid_auto_columns": null,
      "grid_auto_flow": null,
      "grid_auto_rows": null,
      "grid_column": null,
      "grid_gap": null,
      "grid_row": null,
      "grid_template_areas": null,
      "grid_template_columns": null,
      "grid_template_rows": null,
      "height": null,
      "justify_content": null,
      "justify_items": null,
      "left": null,
      "margin": null,
      "max_height": null,
      "max_width": null,
      "min_height": null,
      "min_width": null,
      "object_fit": null,
      "object_position": null,
      "order": null,
      "overflow": null,
      "overflow_x": null,
      "overflow_y": null,
      "padding": null,
      "right": null,
      "top": null,
      "visibility": null,
      "width": null
     }
    },
    "8d4fb1e9ec774dc6bb7adb9ab8548431": {
     "model_module": "@jupyter-widgets/base",
     "model_module_version": "1.2.0",
     "model_name": "LayoutModel",
     "state": {
      "_model_module": "@jupyter-widgets/base",
      "_model_module_version": "1.2.0",
      "_model_name": "LayoutModel",
      "_view_count": null,
      "_view_module": "@jupyter-widgets/base",
      "_view_module_version": "1.2.0",
      "_view_name": "LayoutView",
      "align_content": null,
      "align_items": null,
      "align_self": null,
      "border": null,
      "bottom": null,
      "display": null,
      "flex": null,
      "flex_flow": null,
      "grid_area": null,
      "grid_auto_columns": null,
      "grid_auto_flow": null,
      "grid_auto_rows": null,
      "grid_column": null,
      "grid_gap": null,
      "grid_row": null,
      "grid_template_areas": null,
      "grid_template_columns": null,
      "grid_template_rows": null,
      "height": null,
      "justify_content": null,
      "justify_items": null,
      "left": null,
      "margin": null,
      "max_height": null,
      "max_width": null,
      "min_height": null,
      "min_width": null,
      "object_fit": null,
      "object_position": null,
      "order": null,
      "overflow": null,
      "overflow_x": null,
      "overflow_y": null,
      "padding": null,
      "right": null,
      "top": null,
      "visibility": null,
      "width": null
     }
    },
    "8e6aa2e02e9743fd8488b9f6edc9fba2": {
     "model_module": "@jupyter-widgets/base",
     "model_module_version": "1.2.0",
     "model_name": "LayoutModel",
     "state": {
      "_model_module": "@jupyter-widgets/base",
      "_model_module_version": "1.2.0",
      "_model_name": "LayoutModel",
      "_view_count": null,
      "_view_module": "@jupyter-widgets/base",
      "_view_module_version": "1.2.0",
      "_view_name": "LayoutView",
      "align_content": null,
      "align_items": null,
      "align_self": null,
      "border": null,
      "bottom": null,
      "display": null,
      "flex": null,
      "flex_flow": null,
      "grid_area": null,
      "grid_auto_columns": null,
      "grid_auto_flow": null,
      "grid_auto_rows": null,
      "grid_column": null,
      "grid_gap": null,
      "grid_row": null,
      "grid_template_areas": null,
      "grid_template_columns": null,
      "grid_template_rows": null,
      "height": null,
      "justify_content": null,
      "justify_items": null,
      "left": null,
      "margin": null,
      "max_height": null,
      "max_width": null,
      "min_height": null,
      "min_width": null,
      "object_fit": null,
      "object_position": null,
      "order": null,
      "overflow": null,
      "overflow_x": null,
      "overflow_y": null,
      "padding": null,
      "right": null,
      "top": null,
      "visibility": null,
      "width": null
     }
    },
    "94c1990e6034419b9efe900c323c66c3": {
     "model_module": "@jupyter-widgets/controls",
     "model_module_version": "1.5.0",
     "model_name": "DescriptionStyleModel",
     "state": {
      "_model_module": "@jupyter-widgets/controls",
      "_model_module_version": "1.5.0",
      "_model_name": "DescriptionStyleModel",
      "_view_count": null,
      "_view_module": "@jupyter-widgets/base",
      "_view_module_version": "1.2.0",
      "_view_name": "StyleView",
      "description_width": ""
     }
    },
    "951c106900d14ea0b8f41977345e610d": {
     "model_module": "@jupyter-widgets/base",
     "model_module_version": "1.2.0",
     "model_name": "LayoutModel",
     "state": {
      "_model_module": "@jupyter-widgets/base",
      "_model_module_version": "1.2.0",
      "_model_name": "LayoutModel",
      "_view_count": null,
      "_view_module": "@jupyter-widgets/base",
      "_view_module_version": "1.2.0",
      "_view_name": "LayoutView",
      "align_content": null,
      "align_items": null,
      "align_self": null,
      "border": null,
      "bottom": null,
      "display": null,
      "flex": null,
      "flex_flow": null,
      "grid_area": null,
      "grid_auto_columns": null,
      "grid_auto_flow": null,
      "grid_auto_rows": null,
      "grid_column": null,
      "grid_gap": null,
      "grid_row": null,
      "grid_template_areas": null,
      "grid_template_columns": null,
      "grid_template_rows": null,
      "height": null,
      "justify_content": null,
      "justify_items": null,
      "left": null,
      "margin": null,
      "max_height": null,
      "max_width": null,
      "min_height": null,
      "min_width": null,
      "object_fit": null,
      "object_position": null,
      "order": null,
      "overflow": null,
      "overflow_x": null,
      "overflow_y": null,
      "padding": null,
      "right": null,
      "top": null,
      "visibility": null,
      "width": null
     }
    },
    "95b7a158d81c4a0199d2b1722a83803b": {
     "model_module": "@jupyter-widgets/base",
     "model_module_version": "1.2.0",
     "model_name": "LayoutModel",
     "state": {
      "_model_module": "@jupyter-widgets/base",
      "_model_module_version": "1.2.0",
      "_model_name": "LayoutModel",
      "_view_count": null,
      "_view_module": "@jupyter-widgets/base",
      "_view_module_version": "1.2.0",
      "_view_name": "LayoutView",
      "align_content": null,
      "align_items": null,
      "align_self": null,
      "border": null,
      "bottom": null,
      "display": null,
      "flex": null,
      "flex_flow": null,
      "grid_area": null,
      "grid_auto_columns": null,
      "grid_auto_flow": null,
      "grid_auto_rows": null,
      "grid_column": null,
      "grid_gap": null,
      "grid_row": null,
      "grid_template_areas": null,
      "grid_template_columns": null,
      "grid_template_rows": null,
      "height": null,
      "justify_content": null,
      "justify_items": null,
      "left": null,
      "margin": null,
      "max_height": null,
      "max_width": null,
      "min_height": null,
      "min_width": null,
      "object_fit": null,
      "object_position": null,
      "order": null,
      "overflow": null,
      "overflow_x": null,
      "overflow_y": null,
      "padding": null,
      "right": null,
      "top": null,
      "visibility": null,
      "width": null
     }
    },
    "960ea3181be64aebb819de6ea21e8725": {
     "model_module": "@jupyter-widgets/controls",
     "model_module_version": "1.5.0",
     "model_name": "HBoxModel",
     "state": {
      "_dom_classes": [],
      "_model_module": "@jupyter-widgets/controls",
      "_model_module_version": "1.5.0",
      "_model_name": "HBoxModel",
      "_view_count": null,
      "_view_module": "@jupyter-widgets/controls",
      "_view_module_version": "1.5.0",
      "_view_name": "HBoxView",
      "box_style": "",
      "children": [
       "IPY_MODEL_fdf41896f526407d9f20c35dc3742f89",
       "IPY_MODEL_e289f9cda35e4cd783ddb74b0ff82375",
       "IPY_MODEL_76b9271a9822407ab9f0c3ed97d7d819"
      ],
      "layout": "IPY_MODEL_44f5058fc8794956a8428ca9ddc06c5c"
     }
    },
    "9652511a13574bfebe686997f1539b15": {
     "model_module": "@jupyter-widgets/base",
     "model_module_version": "1.2.0",
     "model_name": "LayoutModel",
     "state": {
      "_model_module": "@jupyter-widgets/base",
      "_model_module_version": "1.2.0",
      "_model_name": "LayoutModel",
      "_view_count": null,
      "_view_module": "@jupyter-widgets/base",
      "_view_module_version": "1.2.0",
      "_view_name": "LayoutView",
      "align_content": null,
      "align_items": null,
      "align_self": null,
      "border": null,
      "bottom": null,
      "display": null,
      "flex": null,
      "flex_flow": null,
      "grid_area": null,
      "grid_auto_columns": null,
      "grid_auto_flow": null,
      "grid_auto_rows": null,
      "grid_column": null,
      "grid_gap": null,
      "grid_row": null,
      "grid_template_areas": null,
      "grid_template_columns": null,
      "grid_template_rows": null,
      "height": null,
      "justify_content": null,
      "justify_items": null,
      "left": null,
      "margin": null,
      "max_height": null,
      "max_width": null,
      "min_height": null,
      "min_width": null,
      "object_fit": null,
      "object_position": null,
      "order": null,
      "overflow": null,
      "overflow_x": null,
      "overflow_y": null,
      "padding": null,
      "right": null,
      "top": null,
      "visibility": null,
      "width": null
     }
    },
    "9baadaef783a42a3a5e51795d57706f4": {
     "model_module": "@jupyter-widgets/base",
     "model_module_version": "1.2.0",
     "model_name": "LayoutModel",
     "state": {
      "_model_module": "@jupyter-widgets/base",
      "_model_module_version": "1.2.0",
      "_model_name": "LayoutModel",
      "_view_count": null,
      "_view_module": "@jupyter-widgets/base",
      "_view_module_version": "1.2.0",
      "_view_name": "LayoutView",
      "align_content": null,
      "align_items": null,
      "align_self": null,
      "border": null,
      "bottom": null,
      "display": null,
      "flex": null,
      "flex_flow": null,
      "grid_area": null,
      "grid_auto_columns": null,
      "grid_auto_flow": null,
      "grid_auto_rows": null,
      "grid_column": null,
      "grid_gap": null,
      "grid_row": null,
      "grid_template_areas": null,
      "grid_template_columns": null,
      "grid_template_rows": null,
      "height": null,
      "justify_content": null,
      "justify_items": null,
      "left": null,
      "margin": null,
      "max_height": null,
      "max_width": null,
      "min_height": null,
      "min_width": null,
      "object_fit": null,
      "object_position": null,
      "order": null,
      "overflow": null,
      "overflow_x": null,
      "overflow_y": null,
      "padding": null,
      "right": null,
      "top": null,
      "visibility": null,
      "width": null
     }
    },
    "9c32ed5d6e0a407aa0c306a4410d0fa2": {
     "model_module": "@jupyter-widgets/base",
     "model_module_version": "1.2.0",
     "model_name": "LayoutModel",
     "state": {
      "_model_module": "@jupyter-widgets/base",
      "_model_module_version": "1.2.0",
      "_model_name": "LayoutModel",
      "_view_count": null,
      "_view_module": "@jupyter-widgets/base",
      "_view_module_version": "1.2.0",
      "_view_name": "LayoutView",
      "align_content": null,
      "align_items": null,
      "align_self": null,
      "border": null,
      "bottom": null,
      "display": null,
      "flex": null,
      "flex_flow": null,
      "grid_area": null,
      "grid_auto_columns": null,
      "grid_auto_flow": null,
      "grid_auto_rows": null,
      "grid_column": null,
      "grid_gap": null,
      "grid_row": null,
      "grid_template_areas": null,
      "grid_template_columns": null,
      "grid_template_rows": null,
      "height": null,
      "justify_content": null,
      "justify_items": null,
      "left": null,
      "margin": null,
      "max_height": null,
      "max_width": null,
      "min_height": null,
      "min_width": null,
      "object_fit": null,
      "object_position": null,
      "order": null,
      "overflow": null,
      "overflow_x": null,
      "overflow_y": null,
      "padding": null,
      "right": null,
      "top": null,
      "visibility": null,
      "width": null
     }
    },
    "9d80f5ab9f924cc487145ecae4b76d1a": {
     "model_module": "@jupyter-widgets/controls",
     "model_module_version": "1.5.0",
     "model_name": "HTMLModel",
     "state": {
      "_dom_classes": [],
      "_model_module": "@jupyter-widgets/controls",
      "_model_module_version": "1.5.0",
      "_model_name": "HTMLModel",
      "_view_count": null,
      "_view_module": "@jupyter-widgets/controls",
      "_view_module_version": "1.5.0",
      "_view_name": "HTMLView",
      "description": "",
      "description_tooltip": null,
      "layout": "IPY_MODEL_3ac5b60afda54e698248e9416423edab",
      "placeholder": "​",
      "style": "IPY_MODEL_0e578056e46b4da69251a0146f7b113f",
      "value": " 2.28G/2.28G [00:53&lt;00:00, 51.5MB/s]"
     }
    },
    "a0c6c0c3443e4f2d85d2333f692cc73a": {
     "model_module": "@jupyter-widgets/base",
     "model_module_version": "1.2.0",
     "model_name": "LayoutModel",
     "state": {
      "_model_module": "@jupyter-widgets/base",
      "_model_module_version": "1.2.0",
      "_model_name": "LayoutModel",
      "_view_count": null,
      "_view_module": "@jupyter-widgets/base",
      "_view_module_version": "1.2.0",
      "_view_name": "LayoutView",
      "align_content": null,
      "align_items": null,
      "align_self": null,
      "border": null,
      "bottom": null,
      "display": null,
      "flex": null,
      "flex_flow": null,
      "grid_area": null,
      "grid_auto_columns": null,
      "grid_auto_flow": null,
      "grid_auto_rows": null,
      "grid_column": null,
      "grid_gap": null,
      "grid_row": null,
      "grid_template_areas": null,
      "grid_template_columns": null,
      "grid_template_rows": null,
      "height": null,
      "justify_content": null,
      "justify_items": null,
      "left": null,
      "margin": null,
      "max_height": null,
      "max_width": null,
      "min_height": null,
      "min_width": null,
      "object_fit": null,
      "object_position": null,
      "order": null,
      "overflow": null,
      "overflow_x": null,
      "overflow_y": null,
      "padding": null,
      "right": null,
      "top": null,
      "visibility": null,
      "width": null
     }
    },
    "a15e66d58cfd443984f8e9cb4d7727ee": {
     "model_module": "@jupyter-widgets/controls",
     "model_module_version": "1.5.0",
     "model_name": "FloatProgressModel",
     "state": {
      "_dom_classes": [],
      "_model_module": "@jupyter-widgets/controls",
      "_model_module_version": "1.5.0",
      "_model_name": "FloatProgressModel",
      "_view_count": null,
      "_view_module": "@jupyter-widgets/controls",
      "_view_module_version": "1.5.0",
      "_view_name": "ProgressView",
      "bar_style": "success",
      "description": "",
      "description_tooltip": null,
      "layout": "IPY_MODEL_1d3a366bf60d4fdea5a1d1b0a8a2fce6",
      "max": 88,
      "min": 0,
      "orientation": "horizontal",
      "style": "IPY_MODEL_e2eb10395edc41a893c1647a4a361cd6",
      "value": 88
     }
    },
    "a2c91c993af4442aa1fc3eefbd59651a": {
     "model_module": "@jupyter-widgets/controls",
     "model_module_version": "1.5.0",
     "model_name": "ProgressStyleModel",
     "state": {
      "_model_module": "@jupyter-widgets/controls",
      "_model_module_version": "1.5.0",
      "_model_name": "ProgressStyleModel",
      "_view_count": null,
      "_view_module": "@jupyter-widgets/base",
      "_view_module_version": "1.2.0",
      "_view_name": "StyleView",
      "bar_color": null,
      "description_width": ""
     }
    },
    "a49f45b5baac4019bf775439ca6fa54d": {
     "model_module": "@jupyter-widgets/base",
     "model_module_version": "1.2.0",
     "model_name": "LayoutModel",
     "state": {
      "_model_module": "@jupyter-widgets/base",
      "_model_module_version": "1.2.0",
      "_model_name": "LayoutModel",
      "_view_count": null,
      "_view_module": "@jupyter-widgets/base",
      "_view_module_version": "1.2.0",
      "_view_name": "LayoutView",
      "align_content": null,
      "align_items": null,
      "align_self": null,
      "border": null,
      "bottom": null,
      "display": null,
      "flex": null,
      "flex_flow": null,
      "grid_area": null,
      "grid_auto_columns": null,
      "grid_auto_flow": null,
      "grid_auto_rows": null,
      "grid_column": null,
      "grid_gap": null,
      "grid_row": null,
      "grid_template_areas": null,
      "grid_template_columns": null,
      "grid_template_rows": null,
      "height": null,
      "justify_content": null,
      "justify_items": null,
      "left": null,
      "margin": null,
      "max_height": null,
      "max_width": null,
      "min_height": null,
      "min_width": null,
      "object_fit": null,
      "object_position": null,
      "order": null,
      "overflow": null,
      "overflow_x": null,
      "overflow_y": null,
      "padding": null,
      "right": null,
      "top": null,
      "visibility": null,
      "width": null
     }
    },
    "a4bba2d6bb7a43e084dcd290a8f418b5": {
     "model_module": "@jupyter-widgets/controls",
     "model_module_version": "1.5.0",
     "model_name": "FloatProgressModel",
     "state": {
      "_dom_classes": [],
      "_model_module": "@jupyter-widgets/controls",
      "_model_module_version": "1.5.0",
      "_model_name": "FloatProgressModel",
      "_view_count": null,
      "_view_module": "@jupyter-widgets/controls",
      "_view_module_version": "1.5.0",
      "_view_name": "ProgressView",
      "bar_style": "success",
      "description": "",
      "description_tooltip": null,
      "layout": "IPY_MODEL_464bb290c51d45d68d29bec268b0f90e",
      "max": 65,
      "min": 0,
      "orientation": "horizontal",
      "style": "IPY_MODEL_ee3f43e0221a44118010a37912b6574c",
      "value": 65
     }
    },
    "a7f8bbaa80604f77aa332db3e0477a62": {
     "model_module": "@jupyter-widgets/controls",
     "model_module_version": "1.5.0",
     "model_name": "FloatProgressModel",
     "state": {
      "_dom_classes": [],
      "_model_module": "@jupyter-widgets/controls",
      "_model_module_version": "1.5.0",
      "_model_name": "FloatProgressModel",
      "_view_count": null,
      "_view_module": "@jupyter-widgets/controls",
      "_view_module_version": "1.5.0",
      "_view_name": "ProgressView",
      "bar_style": "success",
      "description": "",
      "description_tooltip": null,
      "layout": "IPY_MODEL_4832cf81dbd54b78816766e57f5b6325",
      "max": 791656,
      "min": 0,
      "orientation": "horizontal",
      "style": "IPY_MODEL_1180f7a202054e96b29be676e6d196aa",
      "value": 791656
     }
    },
    "a8cda5eff16e46c68a1c3fea5635d5ad": {
     "model_module": "@jupyter-widgets/base",
     "model_module_version": "1.2.0",
     "model_name": "LayoutModel",
     "state": {
      "_model_module": "@jupyter-widgets/base",
      "_model_module_version": "1.2.0",
      "_model_name": "LayoutModel",
      "_view_count": null,
      "_view_module": "@jupyter-widgets/base",
      "_view_module_version": "1.2.0",
      "_view_name": "LayoutView",
      "align_content": null,
      "align_items": null,
      "align_self": null,
      "border": null,
      "bottom": null,
      "display": null,
      "flex": null,
      "flex_flow": null,
      "grid_area": null,
      "grid_auto_columns": null,
      "grid_auto_flow": null,
      "grid_auto_rows": null,
      "grid_column": null,
      "grid_gap": null,
      "grid_row": null,
      "grid_template_areas": null,
      "grid_template_columns": null,
      "grid_template_rows": null,
      "height": null,
      "justify_content": null,
      "justify_items": null,
      "left": null,
      "margin": null,
      "max_height": null,
      "max_width": null,
      "min_height": null,
      "min_width": null,
      "object_fit": null,
      "object_position": null,
      "order": null,
      "overflow": null,
      "overflow_x": null,
      "overflow_y": null,
      "padding": null,
      "right": null,
      "top": null,
      "visibility": null,
      "width": null
     }
    },
    "ab50ea2ad8254de782dd7bcf6a7a0d04": {
     "model_module": "@jupyter-widgets/controls",
     "model_module_version": "1.5.0",
     "model_name": "DescriptionStyleModel",
     "state": {
      "_model_module": "@jupyter-widgets/controls",
      "_model_module_version": "1.5.0",
      "_model_name": "DescriptionStyleModel",
      "_view_count": null,
      "_view_module": "@jupyter-widgets/base",
      "_view_module_version": "1.2.0",
      "_view_name": "StyleView",
      "description_width": ""
     }
    },
    "b0c5c49a71b84f7ba017810a608353ea": {
     "model_module": "@jupyter-widgets/base",
     "model_module_version": "1.2.0",
     "model_name": "LayoutModel",
     "state": {
      "_model_module": "@jupyter-widgets/base",
      "_model_module_version": "1.2.0",
      "_model_name": "LayoutModel",
      "_view_count": null,
      "_view_module": "@jupyter-widgets/base",
      "_view_module_version": "1.2.0",
      "_view_name": "LayoutView",
      "align_content": null,
      "align_items": null,
      "align_self": null,
      "border": null,
      "bottom": null,
      "display": null,
      "flex": null,
      "flex_flow": null,
      "grid_area": null,
      "grid_auto_columns": null,
      "grid_auto_flow": null,
      "grid_auto_rows": null,
      "grid_column": null,
      "grid_gap": null,
      "grid_row": null,
      "grid_template_areas": null,
      "grid_template_columns": null,
      "grid_template_rows": null,
      "height": null,
      "justify_content": null,
      "justify_items": null,
      "left": null,
      "margin": null,
      "max_height": null,
      "max_width": null,
      "min_height": null,
      "min_width": null,
      "object_fit": null,
      "object_position": null,
      "order": null,
      "overflow": null,
      "overflow_x": null,
      "overflow_y": null,
      "padding": null,
      "right": null,
      "top": null,
      "visibility": null,
      "width": null
     }
    },
    "b14a7edf59af4cd6b9869ca6a1211117": {
     "model_module": "@jupyter-widgets/base",
     "model_module_version": "1.2.0",
     "model_name": "LayoutModel",
     "state": {
      "_model_module": "@jupyter-widgets/base",
      "_model_module_version": "1.2.0",
      "_model_name": "LayoutModel",
      "_view_count": null,
      "_view_module": "@jupyter-widgets/base",
      "_view_module_version": "1.2.0",
      "_view_name": "LayoutView",
      "align_content": null,
      "align_items": null,
      "align_self": null,
      "border": null,
      "bottom": null,
      "display": null,
      "flex": null,
      "flex_flow": null,
      "grid_area": null,
      "grid_auto_columns": null,
      "grid_auto_flow": null,
      "grid_auto_rows": null,
      "grid_column": null,
      "grid_gap": null,
      "grid_row": null,
      "grid_template_areas": null,
      "grid_template_columns": null,
      "grid_template_rows": null,
      "height": null,
      "justify_content": null,
      "justify_items": null,
      "left": null,
      "margin": null,
      "max_height": null,
      "max_width": null,
      "min_height": null,
      "min_width": null,
      "object_fit": null,
      "object_position": null,
      "order": null,
      "overflow": null,
      "overflow_x": null,
      "overflow_y": null,
      "padding": null,
      "right": null,
      "top": null,
      "visibility": null,
      "width": null
     }
    },
    "b16aab12c4f84277bbdfb15d60c43147": {
     "model_module": "@jupyter-widgets/base",
     "model_module_version": "1.2.0",
     "model_name": "LayoutModel",
     "state": {
      "_model_module": "@jupyter-widgets/base",
      "_model_module_version": "1.2.0",
      "_model_name": "LayoutModel",
      "_view_count": null,
      "_view_module": "@jupyter-widgets/base",
      "_view_module_version": "1.2.0",
      "_view_name": "LayoutView",
      "align_content": null,
      "align_items": null,
      "align_self": null,
      "border": null,
      "bottom": null,
      "display": null,
      "flex": null,
      "flex_flow": null,
      "grid_area": null,
      "grid_auto_columns": null,
      "grid_auto_flow": null,
      "grid_auto_rows": null,
      "grid_column": null,
      "grid_gap": null,
      "grid_row": null,
      "grid_template_areas": null,
      "grid_template_columns": null,
      "grid_template_rows": null,
      "height": null,
      "justify_content": null,
      "justify_items": null,
      "left": null,
      "margin": null,
      "max_height": null,
      "max_width": null,
      "min_height": null,
      "min_width": null,
      "object_fit": null,
      "object_position": null,
      "order": null,
      "overflow": null,
      "overflow_x": null,
      "overflow_y": null,
      "padding": null,
      "right": null,
      "top": null,
      "visibility": null,
      "width": null
     }
    },
    "b1c3b65295fd4a22ae96ab2912fc0abf": {
     "model_module": "@jupyter-widgets/controls",
     "model_module_version": "1.5.0",
     "model_name": "HTMLModel",
     "state": {
      "_dom_classes": [],
      "_model_module": "@jupyter-widgets/controls",
      "_model_module_version": "1.5.0",
      "_model_name": "HTMLModel",
      "_view_count": null,
      "_view_module": "@jupyter-widgets/controls",
      "_view_module_version": "1.5.0",
      "_view_name": "HTMLView",
      "description": "",
      "description_tooltip": null,
      "layout": "IPY_MODEL_546def1aae7f48c2ae189e52b1067bea",
      "placeholder": "​",
      "style": "IPY_MODEL_103b22a1fe0949ce851df013d05d1d67",
      "value": " 1.12k/1.12k [00:00&lt;00:00, 38.6kB/s]"
     }
    },
    "b4503cf67f4e4c0e93eb13252b608a3c": {
     "model_module": "@jupyter-widgets/controls",
     "model_module_version": "1.5.0",
     "model_name": "HTMLModel",
     "state": {
      "_dom_classes": [],
      "_model_module": "@jupyter-widgets/controls",
      "_model_module_version": "1.5.0",
      "_model_name": "HTMLModel",
      "_view_count": null,
      "_view_module": "@jupyter-widgets/controls",
      "_view_module_version": "1.5.0",
      "_view_name": "HTMLView",
      "description": "",
      "description_tooltip": null,
      "layout": "IPY_MODEL_1ad281ae8521407c89d18b6ee4e9bb43",
      "placeholder": "​",
      "style": "IPY_MODEL_710bf9e376784313a383578b487846df",
      "value": "Downloading (…)cial_tokens_map.json: 100%"
     }
    },
    "b581db63cbd345da9b2e46111eb37c97": {
     "model_module": "@jupyter-widgets/controls",
     "model_module_version": "1.5.0",
     "model_name": "DescriptionStyleModel",
     "state": {
      "_model_module": "@jupyter-widgets/controls",
      "_model_module_version": "1.5.0",
      "_model_name": "DescriptionStyleModel",
      "_view_count": null,
      "_view_module": "@jupyter-widgets/base",
      "_view_module_version": "1.2.0",
      "_view_name": "StyleView",
      "description_width": ""
     }
    },
    "bc71e26dd72c43f19f37de59591432c3": {
     "model_module": "@jupyter-widgets/base",
     "model_module_version": "1.2.0",
     "model_name": "LayoutModel",
     "state": {
      "_model_module": "@jupyter-widgets/base",
      "_model_module_version": "1.2.0",
      "_model_name": "LayoutModel",
      "_view_count": null,
      "_view_module": "@jupyter-widgets/base",
      "_view_module_version": "1.2.0",
      "_view_name": "LayoutView",
      "align_content": null,
      "align_items": null,
      "align_self": null,
      "border": null,
      "bottom": null,
      "display": null,
      "flex": null,
      "flex_flow": null,
      "grid_area": null,
      "grid_auto_columns": null,
      "grid_auto_flow": null,
      "grid_auto_rows": null,
      "grid_column": null,
      "grid_gap": null,
      "grid_row": null,
      "grid_template_areas": null,
      "grid_template_columns": null,
      "grid_template_rows": null,
      "height": null,
      "justify_content": null,
      "justify_items": null,
      "left": null,
      "margin": null,
      "max_height": null,
      "max_width": null,
      "min_height": null,
      "min_width": null,
      "object_fit": null,
      "object_position": null,
      "order": null,
      "overflow": null,
      "overflow_x": null,
      "overflow_y": null,
      "padding": null,
      "right": null,
      "top": null,
      "visibility": null,
      "width": null
     }
    },
    "bef2feb8bbde4f7fb4a7a585fcbe8a8d": {
     "model_module": "@jupyter-widgets/controls",
     "model_module_version": "1.5.0",
     "model_name": "HTMLModel",
     "state": {
      "_dom_classes": [],
      "_model_module": "@jupyter-widgets/controls",
      "_model_module_version": "1.5.0",
      "_model_name": "HTMLModel",
      "_view_count": null,
      "_view_module": "@jupyter-widgets/controls",
      "_view_module_version": "1.5.0",
      "_view_name": "HTMLView",
      "description": "",
      "description_tooltip": null,
      "layout": "IPY_MODEL_75484201a2f44da7801d3595b647dc2a",
      "placeholder": "​",
      "style": "IPY_MODEL_d6e66e7b8a0a49b495f2d3ccd79c9b54",
      "value": " 6.27k/6.27k [00:00&lt;00:00, 258kB/s]"
     }
    },
    "c15d073c2ece4cde83fae3c878b1c5fb": {
     "model_module": "@jupyter-widgets/base",
     "model_module_version": "1.2.0",
     "model_name": "LayoutModel",
     "state": {
      "_model_module": "@jupyter-widgets/base",
      "_model_module_version": "1.2.0",
      "_model_name": "LayoutModel",
      "_view_count": null,
      "_view_module": "@jupyter-widgets/base",
      "_view_module_version": "1.2.0",
      "_view_name": "LayoutView",
      "align_content": null,
      "align_items": null,
      "align_self": null,
      "border": null,
      "bottom": null,
      "display": null,
      "flex": null,
      "flex_flow": null,
      "grid_area": null,
      "grid_auto_columns": null,
      "grid_auto_flow": null,
      "grid_auto_rows": null,
      "grid_column": null,
      "grid_gap": null,
      "grid_row": null,
      "grid_template_areas": null,
      "grid_template_columns": null,
      "grid_template_rows": null,
      "height": null,
      "justify_content": null,
      "justify_items": null,
      "left": null,
      "margin": null,
      "max_height": null,
      "max_width": null,
      "min_height": null,
      "min_width": null,
      "object_fit": null,
      "object_position": null,
      "order": null,
      "overflow": null,
      "overflow_x": null,
      "overflow_y": null,
      "padding": null,
      "right": null,
      "top": null,
      "visibility": null,
      "width": null
     }
    },
    "c2812e195b174c95bf56811c5054e31a": {
     "model_module": "@jupyter-widgets/base",
     "model_module_version": "1.2.0",
     "model_name": "LayoutModel",
     "state": {
      "_model_module": "@jupyter-widgets/base",
      "_model_module_version": "1.2.0",
      "_model_name": "LayoutModel",
      "_view_count": null,
      "_view_module": "@jupyter-widgets/base",
      "_view_module_version": "1.2.0",
      "_view_name": "LayoutView",
      "align_content": null,
      "align_items": null,
      "align_self": null,
      "border": null,
      "bottom": null,
      "display": null,
      "flex": null,
      "flex_flow": null,
      "grid_area": null,
      "grid_auto_columns": null,
      "grid_auto_flow": null,
      "grid_auto_rows": null,
      "grid_column": null,
      "grid_gap": null,
      "grid_row": null,
      "grid_template_areas": null,
      "grid_template_columns": null,
      "grid_template_rows": null,
      "height": null,
      "justify_content": null,
      "justify_items": null,
      "left": null,
      "margin": null,
      "max_height": null,
      "max_width": null,
      "min_height": null,
      "min_width": null,
      "object_fit": null,
      "object_position": null,
      "order": null,
      "overflow": null,
      "overflow_x": null,
      "overflow_y": null,
      "padding": null,
      "right": null,
      "top": null,
      "visibility": null,
      "width": null
     }
    },
    "c411dc3b553e469e8065064318ffca25": {
     "model_module": "@jupyter-widgets/controls",
     "model_module_version": "1.5.0",
     "model_name": "HBoxModel",
     "state": {
      "_dom_classes": [],
      "_model_module": "@jupyter-widgets/controls",
      "_model_module_version": "1.5.0",
      "_model_name": "HBoxModel",
      "_view_count": null,
      "_view_module": "@jupyter-widgets/controls",
      "_view_module_version": "1.5.0",
      "_view_name": "HBoxView",
      "box_style": "",
      "children": [
       "IPY_MODEL_1b62088d67c645949aa5dab4925ec6ad",
       "IPY_MODEL_f988ccaf6afa40a3bdea7e4a91269806",
       "IPY_MODEL_f1166cffa1b844deb2af68a6e0b6e4b1"
      ],
      "layout": "IPY_MODEL_8829805b91154b73afaa050309305777"
     }
    },
    "c58384d3722e40b6828e29c98a6244f3": {
     "model_module": "@jupyter-widgets/controls",
     "model_module_version": "1.5.0",
     "model_name": "ProgressStyleModel",
     "state": {
      "_model_module": "@jupyter-widgets/controls",
      "_model_module_version": "1.5.0",
      "_model_name": "ProgressStyleModel",
      "_view_count": null,
      "_view_module": "@jupyter-widgets/base",
      "_view_module_version": "1.2.0",
      "_view_name": "StyleView",
      "bar_color": null,
      "description_width": ""
     }
    },
    "ca30b603a55b43f7b294746913ef5fb7": {
     "model_module": "@jupyter-widgets/controls",
     "model_module_version": "1.5.0",
     "model_name": "DescriptionStyleModel",
     "state": {
      "_model_module": "@jupyter-widgets/controls",
      "_model_module_version": "1.5.0",
      "_model_name": "DescriptionStyleModel",
      "_view_count": null,
      "_view_module": "@jupyter-widgets/base",
      "_view_module_version": "1.2.0",
      "_view_name": "StyleView",
      "description_width": ""
     }
    },
    "ca53d418b94e4caf893f10cb508d86c0": {
     "model_module": "@jupyter-widgets/controls",
     "model_module_version": "1.5.0",
     "model_name": "HTMLModel",
     "state": {
      "_dom_classes": [],
      "_model_module": "@jupyter-widgets/controls",
      "_model_module_version": "1.5.0",
      "_model_name": "HTMLModel",
      "_view_count": null,
      "_view_module": "@jupyter-widgets/controls",
      "_view_module_version": "1.5.0",
      "_view_name": "HTMLView",
      "description": "",
      "description_tooltip": null,
      "layout": "IPY_MODEL_b16aab12c4f84277bbdfb15d60c43147",
      "placeholder": "​",
      "style": "IPY_MODEL_f32cd421bdc04ce3abd95d286258be14",
      "value": "Downloading (…)ve/main/spiece.model: 100%"
     }
    },
    "cb358eccde1f4bbc8d5f6ac93275f401": {
     "model_module": "@jupyter-widgets/controls",
     "model_module_version": "1.5.0",
     "model_name": "HBoxModel",
     "state": {
      "_dom_classes": [],
      "_model_module": "@jupyter-widgets/controls",
      "_model_module_version": "1.5.0",
      "_model_name": "HBoxModel",
      "_view_count": null,
      "_view_module": "@jupyter-widgets/controls",
      "_view_module_version": "1.5.0",
      "_view_name": "HBoxView",
      "box_style": "",
      "children": [
       "IPY_MODEL_648f386240b24d828955e2deaa238465",
       "IPY_MODEL_a15e66d58cfd443984f8e9cb4d7727ee",
       "IPY_MODEL_831882be87be44a1b5343e2fd5f439b6"
      ],
      "layout": "IPY_MODEL_656b0b61c2394539bfbe77acb0efd371"
     }
    },
    "ceeb2e0997c4453799c3e9cab0fe8077": {
     "model_module": "@jupyter-widgets/controls",
     "model_module_version": "1.5.0",
     "model_name": "HTMLModel",
     "state": {
      "_dom_classes": [],
      "_model_module": "@jupyter-widgets/controls",
      "_model_module_version": "1.5.0",
      "_model_name": "HTMLModel",
      "_view_count": null,
      "_view_module": "@jupyter-widgets/controls",
      "_view_module_version": "1.5.0",
      "_view_name": "HTMLView",
      "description": "",
      "description_tooltip": null,
      "layout": "IPY_MODEL_a8cda5eff16e46c68a1c3fea5635d5ad",
      "placeholder": "​",
      "style": "IPY_MODEL_739138a2d9de4f3db72bfe7bb150692b",
      "value": " 65.0/65.0 [00:00&lt;00:00, 2.46kB/s]"
     }
    },
    "d0a4591b1f2f4538a833de739d0c873b": {
     "model_module": "@jupyter-widgets/base",
     "model_module_version": "1.2.0",
     "model_name": "LayoutModel",
     "state": {
      "_model_module": "@jupyter-widgets/base",
      "_model_module_version": "1.2.0",
      "_model_name": "LayoutModel",
      "_view_count": null,
      "_view_module": "@jupyter-widgets/base",
      "_view_module_version": "1.2.0",
      "_view_name": "LayoutView",
      "align_content": null,
      "align_items": null,
      "align_self": null,
      "border": null,
      "bottom": null,
      "display": null,
      "flex": null,
      "flex_flow": null,
      "grid_area": null,
      "grid_auto_columns": null,
      "grid_auto_flow": null,
      "grid_auto_rows": null,
      "grid_column": null,
      "grid_gap": null,
      "grid_row": null,
      "grid_template_areas": null,
      "grid_template_columns": null,
      "grid_template_rows": null,
      "height": null,
      "justify_content": null,
      "justify_items": null,
      "left": null,
      "margin": null,
      "max_height": null,
      "max_width": null,
      "min_height": null,
      "min_width": null,
      "object_fit": null,
      "object_position": null,
      "order": null,
      "overflow": null,
      "overflow_x": null,
      "overflow_y": null,
      "padding": null,
      "right": null,
      "top": null,
      "visibility": null,
      "width": null
     }
    },
    "d18fdc17ada643498962b068957e61a4": {
     "model_module": "@jupyter-widgets/controls",
     "model_module_version": "1.5.0",
     "model_name": "FloatProgressModel",
     "state": {
      "_dom_classes": [],
      "_model_module": "@jupyter-widgets/controls",
      "_model_module_version": "1.5.0",
      "_model_name": "FloatProgressModel",
      "_view_count": null,
      "_view_module": "@jupyter-widgets/controls",
      "_view_module_version": "1.5.0",
      "_view_name": "ProgressView",
      "bar_style": "success",
      "description": "",
      "description_tooltip": null,
      "layout": "IPY_MODEL_a0c6c0c3443e4f2d85d2333f692cc73a",
      "max": 2275327883,
      "min": 0,
      "orientation": "horizontal",
      "style": "IPY_MODEL_5039835bd0084a51912bb1a12a958faa",
      "value": 2275327883
     }
    },
    "d28a35ceb30a454fae8593017bfa9a98": {
     "model_module": "@jupyter-widgets/controls",
     "model_module_version": "1.5.0",
     "model_name": "HTMLModel",
     "state": {
      "_dom_classes": [],
      "_model_module": "@jupyter-widgets/controls",
      "_model_module_version": "1.5.0",
      "_model_name": "HTMLModel",
      "_view_count": null,
      "_view_module": "@jupyter-widgets/controls",
      "_view_module_version": "1.5.0",
      "_view_name": "HTMLView",
      "description": "",
      "description_tooltip": null,
      "layout": "IPY_MODEL_629fbe09bd9e435faa3e877c5cc90002",
      "placeholder": "​",
      "style": "IPY_MODEL_d7c93df9700944838d001fa1f9872f8f",
      "value": " 1.91M/1.91M [00:00&lt;00:00, 9.37MB/s]"
     }
    },
    "d28a664d7b1a43678fdbdbc2815d781d": {
     "model_module": "@jupyter-widgets/base",
     "model_module_version": "1.2.0",
     "model_name": "LayoutModel",
     "state": {
      "_model_module": "@jupyter-widgets/base",
      "_model_module_version": "1.2.0",
      "_model_name": "LayoutModel",
      "_view_count": null,
      "_view_module": "@jupyter-widgets/base",
      "_view_module_version": "1.2.0",
      "_view_name": "LayoutView",
      "align_content": null,
      "align_items": null,
      "align_self": null,
      "border": null,
      "bottom": null,
      "display": null,
      "flex": null,
      "flex_flow": null,
      "grid_area": null,
      "grid_auto_columns": null,
      "grid_auto_flow": null,
      "grid_auto_rows": null,
      "grid_column": null,
      "grid_gap": null,
      "grid_row": null,
      "grid_template_areas": null,
      "grid_template_columns": null,
      "grid_template_rows": null,
      "height": null,
      "justify_content": null,
      "justify_items": null,
      "left": null,
      "margin": null,
      "max_height": null,
      "max_width": null,
      "min_height": null,
      "min_width": null,
      "object_fit": null,
      "object_position": null,
      "order": null,
      "overflow": null,
      "overflow_x": null,
      "overflow_y": null,
      "padding": null,
      "right": null,
      "top": null,
      "visibility": null,
      "width": null
     }
    },
    "d2d7a69fb0de4e7eb6dcdbc94fb8dc38": {
     "model_module": "@jupyter-widgets/base",
     "model_module_version": "1.2.0",
     "model_name": "LayoutModel",
     "state": {
      "_model_module": "@jupyter-widgets/base",
      "_model_module_version": "1.2.0",
      "_model_name": "LayoutModel",
      "_view_count": null,
      "_view_module": "@jupyter-widgets/base",
      "_view_module_version": "1.2.0",
      "_view_name": "LayoutView",
      "align_content": null,
      "align_items": null,
      "align_self": null,
      "border": null,
      "bottom": null,
      "display": null,
      "flex": null,
      "flex_flow": null,
      "grid_area": null,
      "grid_auto_columns": null,
      "grid_auto_flow": null,
      "grid_auto_rows": null,
      "grid_column": null,
      "grid_gap": null,
      "grid_row": null,
      "grid_template_areas": null,
      "grid_template_columns": null,
      "grid_template_rows": null,
      "height": null,
      "justify_content": null,
      "justify_items": null,
      "left": null,
      "margin": null,
      "max_height": null,
      "max_width": null,
      "min_height": null,
      "min_width": null,
      "object_fit": null,
      "object_position": null,
      "order": null,
      "overflow": null,
      "overflow_x": null,
      "overflow_y": null,
      "padding": null,
      "right": null,
      "top": null,
      "visibility": null,
      "width": null
     }
    },
    "d6e66e7b8a0a49b495f2d3ccd79c9b54": {
     "model_module": "@jupyter-widgets/controls",
     "model_module_version": "1.5.0",
     "model_name": "DescriptionStyleModel",
     "state": {
      "_model_module": "@jupyter-widgets/controls",
      "_model_module_version": "1.5.0",
      "_model_name": "DescriptionStyleModel",
      "_view_count": null,
      "_view_module": "@jupyter-widgets/base",
      "_view_module_version": "1.2.0",
      "_view_name": "StyleView",
      "description_width": ""
     }
    },
    "d72d974832d54382830a63ec8facca02": {
     "model_module": "@jupyter-widgets/controls",
     "model_module_version": "1.5.0",
     "model_name": "DescriptionStyleModel",
     "state": {
      "_model_module": "@jupyter-widgets/controls",
      "_model_module_version": "1.5.0",
      "_model_name": "DescriptionStyleModel",
      "_view_count": null,
      "_view_module": "@jupyter-widgets/base",
      "_view_module_version": "1.2.0",
      "_view_name": "StyleView",
      "description_width": ""
     }
    },
    "d768aff6bb1c459da4045fe9c88a0714": {
     "model_module": "@jupyter-widgets/base",
     "model_module_version": "1.2.0",
     "model_name": "LayoutModel",
     "state": {
      "_model_module": "@jupyter-widgets/base",
      "_model_module_version": "1.2.0",
      "_model_name": "LayoutModel",
      "_view_count": null,
      "_view_module": "@jupyter-widgets/base",
      "_view_module_version": "1.2.0",
      "_view_name": "LayoutView",
      "align_content": null,
      "align_items": null,
      "align_self": null,
      "border": null,
      "bottom": null,
      "display": null,
      "flex": null,
      "flex_flow": null,
      "grid_area": null,
      "grid_auto_columns": null,
      "grid_auto_flow": null,
      "grid_auto_rows": null,
      "grid_column": null,
      "grid_gap": null,
      "grid_row": null,
      "grid_template_areas": null,
      "grid_template_columns": null,
      "grid_template_rows": null,
      "height": null,
      "justify_content": null,
      "justify_items": null,
      "left": null,
      "margin": null,
      "max_height": null,
      "max_width": null,
      "min_height": null,
      "min_width": null,
      "object_fit": null,
      "object_position": null,
      "order": null,
      "overflow": null,
      "overflow_x": null,
      "overflow_y": null,
      "padding": null,
      "right": null,
      "top": null,
      "visibility": null,
      "width": null
     }
    },
    "d7c93df9700944838d001fa1f9872f8f": {
     "model_module": "@jupyter-widgets/controls",
     "model_module_version": "1.5.0",
     "model_name": "DescriptionStyleModel",
     "state": {
      "_model_module": "@jupyter-widgets/controls",
      "_model_module_version": "1.5.0",
      "_model_name": "DescriptionStyleModel",
      "_view_count": null,
      "_view_module": "@jupyter-widgets/base",
      "_view_module_version": "1.2.0",
      "_view_name": "StyleView",
      "description_width": ""
     }
    },
    "d809b096b7344d7ba074aa633520f67a": {
     "model_module": "@jupyter-widgets/controls",
     "model_module_version": "1.5.0",
     "model_name": "DescriptionStyleModel",
     "state": {
      "_model_module": "@jupyter-widgets/controls",
      "_model_module_version": "1.5.0",
      "_model_name": "DescriptionStyleModel",
      "_view_count": null,
      "_view_module": "@jupyter-widgets/base",
      "_view_module_version": "1.2.0",
      "_view_name": "StyleView",
      "description_width": ""
     }
    },
    "d84bc17d0fe244acadebeaf917196da0": {
     "model_module": "@jupyter-widgets/controls",
     "model_module_version": "1.5.0",
     "model_name": "DescriptionStyleModel",
     "state": {
      "_model_module": "@jupyter-widgets/controls",
      "_model_module_version": "1.5.0",
      "_model_name": "DescriptionStyleModel",
      "_view_count": null,
      "_view_module": "@jupyter-widgets/base",
      "_view_module_version": "1.2.0",
      "_view_name": "StyleView",
      "description_width": ""
     }
    },
    "d9f63bfebc9742948f3aef1a8710357c": {
     "model_module": "@jupyter-widgets/base",
     "model_module_version": "1.2.0",
     "model_name": "LayoutModel",
     "state": {
      "_model_module": "@jupyter-widgets/base",
      "_model_module_version": "1.2.0",
      "_model_name": "LayoutModel",
      "_view_count": null,
      "_view_module": "@jupyter-widgets/base",
      "_view_module_version": "1.2.0",
      "_view_name": "LayoutView",
      "align_content": null,
      "align_items": null,
      "align_self": null,
      "border": null,
      "bottom": null,
      "display": null,
      "flex": null,
      "flex_flow": null,
      "grid_area": null,
      "grid_auto_columns": null,
      "grid_auto_flow": null,
      "grid_auto_rows": null,
      "grid_column": null,
      "grid_gap": null,
      "grid_row": null,
      "grid_template_areas": null,
      "grid_template_columns": null,
      "grid_template_rows": null,
      "height": null,
      "justify_content": null,
      "justify_items": null,
      "left": null,
      "margin": null,
      "max_height": null,
      "max_width": null,
      "min_height": null,
      "min_width": null,
      "object_fit": null,
      "object_position": null,
      "order": null,
      "overflow": null,
      "overflow_x": null,
      "overflow_y": null,
      "padding": null,
      "right": null,
      "top": null,
      "visibility": null,
      "width": null
     }
    },
    "dcbf31199f6f4ea5b5203072afc7c660": {
     "model_module": "@jupyter-widgets/controls",
     "model_module_version": "1.5.0",
     "model_name": "HTMLModel",
     "state": {
      "_dom_classes": [],
      "_model_module": "@jupyter-widgets/controls",
      "_model_module_version": "1.5.0",
      "_model_name": "HTMLModel",
      "_view_count": null,
      "_view_module": "@jupyter-widgets/controls",
      "_view_module_version": "1.5.0",
      "_view_name": "HTMLView",
      "description": "",
      "description_tooltip": null,
      "layout": "IPY_MODEL_951c106900d14ea0b8f41977345e610d",
      "placeholder": "​",
      "style": "IPY_MODEL_b581db63cbd345da9b2e46111eb37c97",
      "value": "Downloading builder script: 100%"
     }
    },
    "ddcef414cf36466c92a511846daec1e1": {
     "model_module": "@jupyter-widgets/base",
     "model_module_version": "1.2.0",
     "model_name": "LayoutModel",
     "state": {
      "_model_module": "@jupyter-widgets/base",
      "_model_module_version": "1.2.0",
      "_model_name": "LayoutModel",
      "_view_count": null,
      "_view_module": "@jupyter-widgets/base",
      "_view_module_version": "1.2.0",
      "_view_name": "LayoutView",
      "align_content": null,
      "align_items": null,
      "align_self": null,
      "border": null,
      "bottom": null,
      "display": null,
      "flex": null,
      "flex_flow": null,
      "grid_area": null,
      "grid_auto_columns": null,
      "grid_auto_flow": null,
      "grid_auto_rows": null,
      "grid_column": null,
      "grid_gap": null,
      "grid_row": null,
      "grid_template_areas": null,
      "grid_template_columns": null,
      "grid_template_rows": null,
      "height": null,
      "justify_content": null,
      "justify_items": null,
      "left": null,
      "margin": null,
      "max_height": null,
      "max_width": null,
      "min_height": null,
      "min_width": null,
      "object_fit": null,
      "object_position": null,
      "order": null,
      "overflow": null,
      "overflow_x": null,
      "overflow_y": null,
      "padding": null,
      "right": null,
      "top": null,
      "visibility": null,
      "width": null
     }
    },
    "e289f9cda35e4cd783ddb74b0ff82375": {
     "model_module": "@jupyter-widgets/controls",
     "model_module_version": "1.5.0",
     "model_name": "FloatProgressModel",
     "state": {
      "_dom_classes": [],
      "_model_module": "@jupyter-widgets/controls",
      "_model_module_version": "1.5.0",
      "_model_name": "FloatProgressModel",
      "_view_count": null,
      "_view_module": "@jupyter-widgets/controls",
      "_view_module_version": "1.5.0",
      "_view_name": "ProgressView",
      "bar_style": "success",
      "description": "",
      "description_tooltip": null,
      "layout": "IPY_MODEL_a49f45b5baac4019bf775439ca6fa54d",
      "max": 1208,
      "min": 0,
      "orientation": "horizontal",
      "style": "IPY_MODEL_a2c91c993af4442aa1fc3eefbd59651a",
      "value": 1208
     }
    },
    "e2eb10395edc41a893c1647a4a361cd6": {
     "model_module": "@jupyter-widgets/controls",
     "model_module_version": "1.5.0",
     "model_name": "ProgressStyleModel",
     "state": {
      "_model_module": "@jupyter-widgets/controls",
      "_model_module_version": "1.5.0",
      "_model_name": "ProgressStyleModel",
      "_view_count": null,
      "_view_module": "@jupyter-widgets/base",
      "_view_module_version": "1.2.0",
      "_view_name": "StyleView",
      "bar_color": null,
      "description_width": ""
     }
    },
    "e3e546fd09704bc788a791350f61a8e0": {
     "model_module": "@jupyter-widgets/controls",
     "model_module_version": "1.5.0",
     "model_name": "HBoxModel",
     "state": {
      "_dom_classes": [],
      "_model_module": "@jupyter-widgets/controls",
      "_model_module_version": "1.5.0",
      "_model_name": "HBoxModel",
      "_view_count": null,
      "_view_module": "@jupyter-widgets/controls",
      "_view_module_version": "1.5.0",
      "_view_name": "HBoxView",
      "box_style": "",
      "children": [
       "IPY_MODEL_669ac6ddf900466486c2faff63d8898c",
       "IPY_MODEL_2edd9a26c36945ebb8cc33972af496cd",
       "IPY_MODEL_e6f30f97d6ff42cc884dbb464c7969d0"
      ],
      "layout": "IPY_MODEL_2514195ac95d4181afcabe197861068b"
     }
    },
    "e6f30f97d6ff42cc884dbb464c7969d0": {
     "model_module": "@jupyter-widgets/controls",
     "model_module_version": "1.5.0",
     "model_name": "HTMLModel",
     "state": {
      "_dom_classes": [],
      "_model_module": "@jupyter-widgets/controls",
      "_model_module_version": "1.5.0",
      "_model_name": "HTMLModel",
      "_view_count": null,
      "_view_module": "@jupyter-widgets/controls",
      "_view_module_version": "1.5.0",
      "_view_name": "HTMLView",
      "description": "",
      "description_tooltip": null,
      "layout": "IPY_MODEL_9c32ed5d6e0a407aa0c306a4410d0fa2",
      "placeholder": "​",
      "style": "IPY_MODEL_485015da79684256be43c75a1cf01966",
      "value": " 892M/892M [00:07&lt;00:00, 120MB/s]"
     }
    },
    "e7504cab44f442df860ed34739ced0db": {
     "model_module": "@jupyter-widgets/controls",
     "model_module_version": "1.5.0",
     "model_name": "HBoxModel",
     "state": {
      "_dom_classes": [],
      "_model_module": "@jupyter-widgets/controls",
      "_model_module_version": "1.5.0",
      "_model_name": "HBoxModel",
      "_view_count": null,
      "_view_module": "@jupyter-widgets/controls",
      "_view_module_version": "1.5.0",
      "_view_name": "HBoxView",
      "box_style": "",
      "children": [
       "IPY_MODEL_2247119016c440668f363b5857596a0a",
       "IPY_MODEL_f1b256d2eedb418895f5919ea89252e0",
       "IPY_MODEL_7c0ec7f4b0774123933ec959122665ce"
      ],
      "layout": "IPY_MODEL_7ffe93a700b24f189a0739a2154eb5ba"
     }
    },
    "e7a1b4dfc0d04682b7dd0dbf970da6d9": {
     "model_module": "@jupyter-widgets/controls",
     "model_module_version": "1.5.0",
     "model_name": "FloatProgressModel",
     "state": {
      "_dom_classes": [],
      "_model_module": "@jupyter-widgets/controls",
      "_model_module_version": "1.5.0",
      "_model_name": "FloatProgressModel",
      "_view_count": null,
      "_view_module": "@jupyter-widgets/controls",
      "_view_module_version": "1.5.0",
      "_view_name": "ProgressView",
      "bar_style": "success",
      "description": "",
      "description_tooltip": null,
      "layout": "IPY_MODEL_d9f63bfebc9742948f3aef1a8710357c",
      "max": 1912529,
      "min": 0,
      "orientation": "horizontal",
      "style": "IPY_MODEL_756318c8f0fd49069cd7635b17f7f168",
      "value": 1912529
     }
    },
    "e8169982e2c8441bafd699e19b340a00": {
     "model_module": "@jupyter-widgets/controls",
     "model_module_version": "1.5.0",
     "model_name": "DescriptionStyleModel",
     "state": {
      "_model_module": "@jupyter-widgets/controls",
      "_model_module_version": "1.5.0",
      "_model_name": "DescriptionStyleModel",
      "_view_count": null,
      "_view_module": "@jupyter-widgets/base",
      "_view_module_version": "1.2.0",
      "_view_name": "StyleView",
      "description_width": ""
     }
    },
    "e8f1419ce7c14f7998903674dd22024e": {
     "model_module": "@jupyter-widgets/controls",
     "model_module_version": "1.5.0",
     "model_name": "HTMLModel",
     "state": {
      "_dom_classes": [],
      "_model_module": "@jupyter-widgets/controls",
      "_model_module_version": "1.5.0",
      "_model_name": "HTMLModel",
      "_view_count": null,
      "_view_module": "@jupyter-widgets/controls",
      "_view_module_version": "1.5.0",
      "_view_name": "HTMLView",
      "description": "",
      "description_tooltip": null,
      "layout": "IPY_MODEL_1c93c6887fbe425fbbc07ec1501ce91e",
      "placeholder": "​",
      "style": "IPY_MODEL_4e31fa7e86924da08e2bfb05794e99aa",
      "value": "Downloading (…)ve/main/spiece.model: 100%"
     }
    },
    "ecd0fcb30a6d4a4e93ee8cf8caa45fc9": {
     "model_module": "@jupyter-widgets/controls",
     "model_module_version": "1.5.0",
     "model_name": "HBoxModel",
     "state": {
      "_dom_classes": [],
      "_model_module": "@jupyter-widgets/controls",
      "_model_module_version": "1.5.0",
      "_model_name": "HBoxModel",
      "_view_count": null,
      "_view_module": "@jupyter-widgets/controls",
      "_view_module_version": "1.5.0",
      "_view_name": "HBoxView",
      "box_style": "",
      "children": [
       "IPY_MODEL_ca53d418b94e4caf893f10cb508d86c0",
       "IPY_MODEL_a7f8bbaa80604f77aa332db3e0477a62",
       "IPY_MODEL_5c9d306c880147299dab19c1e785f792"
      ],
      "layout": "IPY_MODEL_2447714557d14573b2763ab34d1c1e39"
     }
    },
    "ee3f43e0221a44118010a37912b6574c": {
     "model_module": "@jupyter-widgets/controls",
     "model_module_version": "1.5.0",
     "model_name": "ProgressStyleModel",
     "state": {
      "_model_module": "@jupyter-widgets/controls",
      "_model_module_version": "1.5.0",
      "_model_name": "ProgressStyleModel",
      "_view_count": null,
      "_view_module": "@jupyter-widgets/base",
      "_view_module_version": "1.2.0",
      "_view_name": "StyleView",
      "bar_color": null,
      "description_width": ""
     }
    },
    "f1166cffa1b844deb2af68a6e0b6e4b1": {
     "model_module": "@jupyter-widgets/controls",
     "model_module_version": "1.5.0",
     "model_name": "HTMLModel",
     "state": {
      "_dom_classes": [],
      "_model_module": "@jupyter-widgets/controls",
      "_model_module_version": "1.5.0",
      "_model_name": "HTMLModel",
      "_view_count": null,
      "_view_module": "@jupyter-widgets/controls",
      "_view_module_version": "1.5.0",
      "_view_name": "HTMLView",
      "description": "",
      "description_tooltip": null,
      "layout": "IPY_MODEL_6a9616699803464a8442c9c6e0b626e1",
      "placeholder": "​",
      "style": "IPY_MODEL_ab50ea2ad8254de782dd7bcf6a7a0d04",
      "value": " 87.0/87.0 [00:00&lt;00:00, 3.21kB/s]"
     }
    },
    "f1b256d2eedb418895f5919ea89252e0": {
     "model_module": "@jupyter-widgets/controls",
     "model_module_version": "1.5.0",
     "model_name": "FloatProgressModel",
     "state": {
      "_dom_classes": [],
      "_model_module": "@jupyter-widgets/controls",
      "_model_module_version": "1.5.0",
      "_model_name": "FloatProgressModel",
      "_view_count": null,
      "_view_module": "@jupyter-widgets/controls",
      "_view_module_version": "1.5.0",
      "_view_name": "ProgressView",
      "bar_style": "success",
      "description": "",
      "description_tooltip": null,
      "layout": "IPY_MODEL_d768aff6bb1c459da4045fe9c88a0714",
      "max": 259,
      "min": 0,
      "orientation": "horizontal",
      "style": "IPY_MODEL_24110a18d8cc40e1ad3ab4a44ddb5530",
      "value": 259
     }
    },
    "f2afa23324074ead825abf9f1c12ab71": {
     "model_module": "@jupyter-widgets/controls",
     "model_module_version": "1.5.0",
     "model_name": "HTMLModel",
     "state": {
      "_dom_classes": [],
      "_model_module": "@jupyter-widgets/controls",
      "_model_module_version": "1.5.0",
      "_model_name": "HTMLModel",
      "_view_count": null,
      "_view_module": "@jupyter-widgets/controls",
      "_view_module_version": "1.5.0",
      "_view_name": "HTMLView",
      "description": "",
      "description_tooltip": null,
      "layout": "IPY_MODEL_5d30ab6db0834ba79de0c7fdd274f673",
      "placeholder": "​",
      "style": "IPY_MODEL_94c1990e6034419b9efe900c323c66c3",
      "value": "Downloading (…)&quot;pytorch_model.bin&quot;;: 100%"
     }
    },
    "f2b30cd19c7744659111bad4a81aa6bd": {
     "model_module": "@jupyter-widgets/controls",
     "model_module_version": "1.5.0",
     "model_name": "DescriptionStyleModel",
     "state": {
      "_model_module": "@jupyter-widgets/controls",
      "_model_module_version": "1.5.0",
      "_model_name": "DescriptionStyleModel",
      "_view_count": null,
      "_view_module": "@jupyter-widgets/base",
      "_view_module_version": "1.2.0",
      "_view_name": "StyleView",
      "description_width": ""
     }
    },
    "f2c6e8c5634b40beadac4a6a7a633005": {
     "model_module": "@jupyter-widgets/controls",
     "model_module_version": "1.5.0",
     "model_name": "DescriptionStyleModel",
     "state": {
      "_model_module": "@jupyter-widgets/controls",
      "_model_module_version": "1.5.0",
      "_model_name": "DescriptionStyleModel",
      "_view_count": null,
      "_view_module": "@jupyter-widgets/base",
      "_view_module_version": "1.2.0",
      "_view_name": "StyleView",
      "description_width": ""
     }
    },
    "f32cd421bdc04ce3abd95d286258be14": {
     "model_module": "@jupyter-widgets/controls",
     "model_module_version": "1.5.0",
     "model_name": "DescriptionStyleModel",
     "state": {
      "_model_module": "@jupyter-widgets/controls",
      "_model_module_version": "1.5.0",
      "_model_name": "DescriptionStyleModel",
      "_view_count": null,
      "_view_module": "@jupyter-widgets/base",
      "_view_module_version": "1.2.0",
      "_view_name": "StyleView",
      "description_width": ""
     }
    },
    "f39af3d82c944db0b4fa773a703de606": {
     "model_module": "@jupyter-widgets/base",
     "model_module_version": "1.2.0",
     "model_name": "LayoutModel",
     "state": {
      "_model_module": "@jupyter-widgets/base",
      "_model_module_version": "1.2.0",
      "_model_name": "LayoutModel",
      "_view_count": null,
      "_view_module": "@jupyter-widgets/base",
      "_view_module_version": "1.2.0",
      "_view_name": "LayoutView",
      "align_content": null,
      "align_items": null,
      "align_self": null,
      "border": null,
      "bottom": null,
      "display": null,
      "flex": null,
      "flex_flow": null,
      "grid_area": null,
      "grid_auto_columns": null,
      "grid_auto_flow": null,
      "grid_auto_rows": null,
      "grid_column": null,
      "grid_gap": null,
      "grid_row": null,
      "grid_template_areas": null,
      "grid_template_columns": null,
      "grid_template_rows": null,
      "height": null,
      "justify_content": null,
      "justify_items": null,
      "left": null,
      "margin": null,
      "max_height": null,
      "max_width": null,
      "min_height": null,
      "min_width": null,
      "object_fit": null,
      "object_position": null,
      "order": null,
      "overflow": null,
      "overflow_x": null,
      "overflow_y": null,
      "padding": null,
      "right": null,
      "top": null,
      "visibility": null,
      "width": null
     }
    },
    "f88d820366ea4205b73a01b787c7497f": {
     "model_module": "@jupyter-widgets/controls",
     "model_module_version": "1.5.0",
     "model_name": "HTMLModel",
     "state": {
      "_dom_classes": [],
      "_model_module": "@jupyter-widgets/controls",
      "_model_module_version": "1.5.0",
      "_model_name": "HTMLModel",
      "_view_count": null,
      "_view_module": "@jupyter-widgets/controls",
      "_view_module_version": "1.5.0",
      "_view_name": "HTMLView",
      "description": "",
      "description_tooltip": null,
      "layout": "IPY_MODEL_45cbb8fe700d4988bdb85c4155dd7268",
      "placeholder": "​",
      "style": "IPY_MODEL_f2c6e8c5634b40beadac4a6a7a633005",
      "value": "Downloading (…)neration_config.json: 100%"
     }
    },
    "f9152823c04a4998a4f53fb9dbe3d19e": {
     "model_module": "@jupyter-widgets/controls",
     "model_module_version": "1.5.0",
     "model_name": "HTMLModel",
     "state": {
      "_dom_classes": [],
      "_model_module": "@jupyter-widgets/controls",
      "_model_module_version": "1.5.0",
      "_model_name": "HTMLModel",
      "_view_count": null,
      "_view_module": "@jupyter-widgets/controls",
      "_view_module_version": "1.5.0",
      "_view_name": "HTMLView",
      "description": "",
      "description_tooltip": null,
      "layout": "IPY_MODEL_c15d073c2ece4cde83fae3c878b1c5fb",
      "placeholder": "​",
      "style": "IPY_MODEL_4c6fc49bc8b44c60a47b3a041928c4cb",
      "value": " 65.0/65.0 [00:00&lt;00:00, 2.86kB/s]"
     }
    },
    "f988ccaf6afa40a3bdea7e4a91269806": {
     "model_module": "@jupyter-widgets/controls",
     "model_module_version": "1.5.0",
     "model_name": "FloatProgressModel",
     "state": {
      "_dom_classes": [],
      "_model_module": "@jupyter-widgets/controls",
      "_model_module_version": "1.5.0",
      "_model_name": "FloatProgressModel",
      "_view_count": null,
      "_view_module": "@jupyter-widgets/controls",
      "_view_module_version": "1.5.0",
      "_view_name": "ProgressView",
      "bar_style": "success",
      "description": "",
      "description_tooltip": null,
      "layout": "IPY_MODEL_bc71e26dd72c43f19f37de59591432c3",
      "max": 87,
      "min": 0,
      "orientation": "horizontal",
      "style": "IPY_MODEL_6e69e479dde44d2ea4bde6eda1264523",
      "value": 87
     }
    },
    "f9ec7c8e832e482aa84e085118008fe7": {
     "model_module": "@jupyter-widgets/controls",
     "model_module_version": "1.5.0",
     "model_name": "HTMLModel",
     "state": {
      "_dom_classes": [],
      "_model_module": "@jupyter-widgets/controls",
      "_model_module_version": "1.5.0",
      "_model_name": "HTMLModel",
      "_view_count": null,
      "_view_module": "@jupyter-widgets/controls",
      "_view_module_version": "1.5.0",
      "_view_name": "HTMLView",
      "description": "",
      "description_tooltip": null,
      "layout": "IPY_MODEL_79d7c83d7961458394e5b8cc8d63d1e9",
      "placeholder": "​",
      "style": "IPY_MODEL_28e6afaaa45a432dbcbd3f628ee4104e",
      "value": " 147/147 [00:00&lt;00:00, 5.46kB/s]"
     }
    },
    "fdf41896f526407d9f20c35dc3742f89": {
     "model_module": "@jupyter-widgets/controls",
     "model_module_version": "1.5.0",
     "model_name": "HTMLModel",
     "state": {
      "_dom_classes": [],
      "_model_module": "@jupyter-widgets/controls",
      "_model_module_version": "1.5.0",
      "_model_name": "HTMLModel",
      "_view_count": null,
      "_view_module": "@jupyter-widgets/controls",
      "_view_module_version": "1.5.0",
      "_view_name": "HTMLView",
      "description": "",
      "description_tooltip": null,
      "layout": "IPY_MODEL_43e27a7e9e1e4378be0520ef47a3734a",
      "placeholder": "​",
      "style": "IPY_MODEL_d84bc17d0fe244acadebeaf917196da0",
      "value": "Downloading (…)lve/main/config.json: 100%"
     }
    },
    "fea28d3215af4df2846eeb885ccb6a3e": {
     "model_module": "@jupyter-widgets/controls",
     "model_module_version": "1.5.0",
     "model_name": "DescriptionStyleModel",
     "state": {
      "_model_module": "@jupyter-widgets/controls",
      "_model_module_version": "1.5.0",
      "_model_name": "DescriptionStyleModel",
      "_view_count": null,
      "_view_module": "@jupyter-widgets/base",
      "_view_module_version": "1.2.0",
      "_view_name": "StyleView",
      "description_width": ""
     }
    }
   }
  }
 },
 "nbformat": 4,
 "nbformat_minor": 1
}
